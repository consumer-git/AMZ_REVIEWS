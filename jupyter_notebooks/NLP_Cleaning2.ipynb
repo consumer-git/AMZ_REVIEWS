{
  "nbformat": 4,
  "nbformat_minor": 0,
  "metadata": {
    "colab": {
      "name": "NLP_Cleaning2.ipynb",
      "provenance": [],
      "collapsed_sections": []
    },
    "kernelspec": {
      "name": "python3",
      "display_name": "Python 3"
    },
    "language_info": {
      "name": "python"
    }
  },
  "cells": [
    {
      "cell_type": "code",
      "metadata": {
        "id": "QCBN0iLfTL5n"
      },
      "source": [
        "import pandas as pd \n",
        "import numpy as np \n"
      ],
      "execution_count": null,
      "outputs": []
    },
    {
      "cell_type": "code",
      "metadata": {
        "colab": {
          "base_uri": "https://localhost:8080/"
        },
        "id": "UZRWfjq2TjL4",
        "outputId": "25984aa6-ebba-4346-bf62-15a414a73110"
      },
      "source": [
        "df=pd.read_csv('/content/drive/MyDrive/CAPSTONE_DATA/clean3.csv')"
      ],
      "execution_count": null,
      "outputs": [
        {
          "output_type": "stream",
          "text": [
            "/usr/local/lib/python3.7/dist-packages/IPython/core/interactiveshell.py:2718: DtypeWarning: Columns (11,17) have mixed types.Specify dtype option on import or set low_memory=False.\n",
            "  interactivity=interactivity, compiler=compiler, result=result)\n"
          ],
          "name": "stderr"
        }
      ]
    },
    {
      "cell_type": "code",
      "metadata": {
        "colab": {
          "base_uri": "https://localhost:8080/",
          "height": 284
        },
        "id": "r0m9UxfATm0x",
        "outputId": "ad20421a-9b6c-4403-aca1-b27d823613df"
      },
      "source": [
        "df.head(2)"
      ],
      "execution_count": null,
      "outputs": [
        {
          "output_type": "execute_result",
          "data": {
            "text/html": [
              "<div>\n",
              "<style scoped>\n",
              "    .dataframe tbody tr th:only-of-type {\n",
              "        vertical-align: middle;\n",
              "    }\n",
              "\n",
              "    .dataframe tbody tr th {\n",
              "        vertical-align: top;\n",
              "    }\n",
              "\n",
              "    .dataframe thead th {\n",
              "        text-align: right;\n",
              "    }\n",
              "</style>\n",
              "<table border=\"1\" class=\"dataframe\">\n",
              "  <thead>\n",
              "    <tr style=\"text-align: right;\">\n",
              "      <th></th>\n",
              "      <th>Unnamed: 0</th>\n",
              "      <th>overall</th>\n",
              "      <th>verified</th>\n",
              "      <th>reviewerID</th>\n",
              "      <th>asin</th>\n",
              "      <th>reviewerName</th>\n",
              "      <th>reviewText</th>\n",
              "      <th>summary</th>\n",
              "      <th>review_sentiment</th>\n",
              "      <th>Date&amp;Time</th>\n",
              "      <th>category</th>\n",
              "      <th>tech1</th>\n",
              "      <th>description</th>\n",
              "      <th>fit</th>\n",
              "      <th>title</th>\n",
              "      <th>also_buy</th>\n",
              "      <th>image_meta</th>\n",
              "      <th>tech2</th>\n",
              "      <th>brand</th>\n",
              "      <th>feature</th>\n",
              "      <th>also_view</th>\n",
              "      <th>details</th>\n",
              "      <th>main_cat</th>\n",
              "      <th>similar_item</th>\n",
              "      <th>date</th>\n",
              "      <th>price</th>\n",
              "      <th>no_of_viewed_items</th>\n",
              "    </tr>\n",
              "  </thead>\n",
              "  <tbody>\n",
              "    <tr>\n",
              "      <th>0</th>\n",
              "      <td>566</td>\n",
              "      <td>4.0</td>\n",
              "      <td>False</td>\n",
              "      <td>A1F9Z42CFF9IAY</td>\n",
              "      <td>B00063DKVC</td>\n",
              "      <td>phototristan</td>\n",
              "      <td>The Sidekick 2 has a better form factor than t...</td>\n",
              "      <td>Better than all the alternatives</td>\n",
              "      <td>POSITIVE</td>\n",
              "      <td>2004-10-06</td>\n",
              "      <td>['Cell Phones &amp; Accessories', 'Cell Phones', '...</td>\n",
              "      <td>NaN</td>\n",
              "      <td>['The latest phone features, like an integrate...</td>\n",
              "      <td>NaN</td>\n",
              "      <td>T-MOBILE SIDEKICK II</td>\n",
              "      <td>[]</td>\n",
              "      <td>['https://images-na.ssl-images-amazon.com/imag...</td>\n",
              "      <td>NaN</td>\n",
              "      <td>NaN</td>\n",
              "      <td>[]</td>\n",
              "      <td>['B00NSRC4Y2', 'B00J1SMJ06', 'B00J7ZKSPQ', 'B0...</td>\n",
              "      <td>{}</td>\n",
              "      <td>Cell Phones &amp; Accessories</td>\n",
              "      <td>class=\"a-bordered a-horizontal-stripes  a-spa...</td>\n",
              "      <td>NaN</td>\n",
              "      <td>NaN</td>\n",
              "      <td>20</td>\n",
              "    </tr>\n",
              "    <tr>\n",
              "      <th>1</th>\n",
              "      <td>567</td>\n",
              "      <td>2.0</td>\n",
              "      <td>False</td>\n",
              "      <td>A5JLAU2ARJ0BO</td>\n",
              "      <td>B00063DKVC</td>\n",
              "      <td>Old-and-Wise</td>\n",
              "      <td>Sidekick II is meant to be your one-stop-shop ...</td>\n",
              "      <td>It's the service, stupid</td>\n",
              "      <td>NEGATIVE</td>\n",
              "      <td>2004-10-05</td>\n",
              "      <td>['Cell Phones &amp; Accessories', 'Cell Phones', '...</td>\n",
              "      <td>NaN</td>\n",
              "      <td>['The latest phone features, like an integrate...</td>\n",
              "      <td>NaN</td>\n",
              "      <td>T-MOBILE SIDEKICK II</td>\n",
              "      <td>[]</td>\n",
              "      <td>['https://images-na.ssl-images-amazon.com/imag...</td>\n",
              "      <td>NaN</td>\n",
              "      <td>NaN</td>\n",
              "      <td>[]</td>\n",
              "      <td>['B00NSRC4Y2', 'B00J1SMJ06', 'B00J7ZKSPQ', 'B0...</td>\n",
              "      <td>{}</td>\n",
              "      <td>Cell Phones &amp; Accessories</td>\n",
              "      <td>class=\"a-bordered a-horizontal-stripes  a-spa...</td>\n",
              "      <td>NaN</td>\n",
              "      <td>NaN</td>\n",
              "      <td>20</td>\n",
              "    </tr>\n",
              "  </tbody>\n",
              "</table>\n",
              "</div>"
            ],
            "text/plain": [
              "   Unnamed: 0  overall  verified  ... date price no_of_viewed_items\n",
              "0         566      4.0     False  ...  NaN   NaN                 20\n",
              "1         567      2.0     False  ...  NaN   NaN                 20\n",
              "\n",
              "[2 rows x 27 columns]"
            ]
          },
          "metadata": {
            "tags": []
          },
          "execution_count": 58
        }
      ]
    },
    {
      "cell_type": "code",
      "metadata": {
        "id": "McHoHxlrUC28"
      },
      "source": [
        "import re \n",
        "#df['description'].str.lower()\n",
        "#df['description'].str.extract('([a-z]*)', expand=True)\n",
        "#df.description.replace('['', ', regex=True).astype(str)\n",
        "#df_f02['rnk']=df_f02['rank'].str.extract('([0-9]*,[0-9]*,[0-9]*)', expand=False)\n",
        "df.drop(columns=['description','fit','also_buy','image_meta','tech2','tech2','also_view','details'],inplace=True)"
      ],
      "execution_count": null,
      "outputs": []
    },
    {
      "cell_type": "code",
      "metadata": {
        "colab": {
          "base_uri": "https://localhost:8080/"
        },
        "id": "luD9dOTuXxOO",
        "outputId": "1ebe72f8-39fb-4a10-e6a2-82b8004ec4db"
      },
      "source": [
        "df.reviewText"
      ],
      "execution_count": null,
      "outputs": [
        {
          "output_type": "execute_result",
          "data": {
            "text/plain": [
              "0        The Sidekick 2 has a better form factor than t...\n",
              "1        Sidekick II is meant to be your one-stop-shop ...\n",
              "2        Pro's:\\n\\nVery easy to use.\\n\\nQwerty keyboard...\n",
              "3        First, let me just say to those who bash this ...\n",
              "4        I started out with the sidekick color switched...\n",
              "                               ...                        \n",
              "62070    The phone was stolen could not activate at all...\n",
              "62071                                                 good\n",
              "62072    I purchased two of them and had so many proble...\n",
              "62073                                            excelente\n",
              "62074    This is a great Smartphone for someone who's n...\n",
              "Name: reviewText, Length: 62075, dtype: object"
            ]
          },
          "metadata": {
            "tags": []
          },
          "execution_count": 60
        }
      ]
    },
    {
      "cell_type": "code",
      "metadata": {
        "id": "fY0kOADab_ux"
      },
      "source": [
        "import string \n",
        "remove=string.punctuation"
      ],
      "execution_count": null,
      "outputs": []
    },
    {
      "cell_type": "code",
      "metadata": {
        "id": "i9UgI9iocKzg"
      },
      "source": [
        "df['Date&Time']=pd.to_datetime(df['Date&Time'])"
      ],
      "execution_count": null,
      "outputs": []
    },
    {
      "cell_type": "code",
      "metadata": {
        "id": "gUoqv7lldXXX"
      },
      "source": [
        "df.rename(columns = {'Date&Time':'Datetime'}, inplace = True)"
      ],
      "execution_count": null,
      "outputs": []
    },
    {
      "cell_type": "code",
      "metadata": {
        "id": "BoM-ZJPTdqdk"
      },
      "source": [
        "# clean summary column \n",
        "\n",
        "import re\n",
        "def clean_tweet(tweet):\n",
        "    return ' '.join(re.sub('(@[A-Za-z0-9]+)|([^0-9A-Za-z \\t])|(\\w+:\\/\\/\\S+)|([RT])', ' ', str(tweet).lower()).split())\n",
        "\n",
        "  "
      ],
      "execution_count": null,
      "outputs": []
    },
    {
      "cell_type": "code",
      "metadata": {
        "colab": {
          "base_uri": "https://localhost:8080/",
          "height": 383
        },
        "id": "4wfTGF_PeF1b",
        "outputId": "758addee-f6c5-40cd-b7bc-157bd24b94af"
      },
      "source": [
        "df['CleanSummary'] = df['summary'].apply(lambda x : clean_tweet(x))\n",
        "df.head(3)  "
      ],
      "execution_count": null,
      "outputs": [
        {
          "output_type": "execute_result",
          "data": {
            "text/html": [
              "<div>\n",
              "<style scoped>\n",
              "    .dataframe tbody tr th:only-of-type {\n",
              "        vertical-align: middle;\n",
              "    }\n",
              "\n",
              "    .dataframe tbody tr th {\n",
              "        vertical-align: top;\n",
              "    }\n",
              "\n",
              "    .dataframe thead th {\n",
              "        text-align: right;\n",
              "    }\n",
              "</style>\n",
              "<table border=\"1\" class=\"dataframe\">\n",
              "  <thead>\n",
              "    <tr style=\"text-align: right;\">\n",
              "      <th></th>\n",
              "      <th>Unnamed: 0</th>\n",
              "      <th>overall</th>\n",
              "      <th>verified</th>\n",
              "      <th>reviewerID</th>\n",
              "      <th>asin</th>\n",
              "      <th>reviewerName</th>\n",
              "      <th>reviewText</th>\n",
              "      <th>summary</th>\n",
              "      <th>review_sentiment</th>\n",
              "      <th>Datetime</th>\n",
              "      <th>category</th>\n",
              "      <th>tech1</th>\n",
              "      <th>title</th>\n",
              "      <th>brand</th>\n",
              "      <th>feature</th>\n",
              "      <th>main_cat</th>\n",
              "      <th>similar_item</th>\n",
              "      <th>date</th>\n",
              "      <th>price</th>\n",
              "      <th>no_of_viewed_items</th>\n",
              "      <th>CleanSummary</th>\n",
              "    </tr>\n",
              "  </thead>\n",
              "  <tbody>\n",
              "    <tr>\n",
              "      <th>0</th>\n",
              "      <td>566</td>\n",
              "      <td>4.0</td>\n",
              "      <td>False</td>\n",
              "      <td>A1F9Z42CFF9IAY</td>\n",
              "      <td>B00063DKVC</td>\n",
              "      <td>phototristan</td>\n",
              "      <td>The Sidekick 2 has a better form factor than t...</td>\n",
              "      <td>Better than all the alternatives</td>\n",
              "      <td>POSITIVE</td>\n",
              "      <td>2004-10-06</td>\n",
              "      <td>['Cell Phones &amp; Accessories', 'Cell Phones', '...</td>\n",
              "      <td>NaN</td>\n",
              "      <td>T-MOBILE SIDEKICK II</td>\n",
              "      <td>NaN</td>\n",
              "      <td>[]</td>\n",
              "      <td>Cell Phones &amp; Accessories</td>\n",
              "      <td>class=\"a-bordered a-horizontal-stripes  a-spa...</td>\n",
              "      <td>NaN</td>\n",
              "      <td>NaN</td>\n",
              "      <td>20</td>\n",
              "      <td>better than all the alternatives</td>\n",
              "    </tr>\n",
              "    <tr>\n",
              "      <th>1</th>\n",
              "      <td>567</td>\n",
              "      <td>2.0</td>\n",
              "      <td>False</td>\n",
              "      <td>A5JLAU2ARJ0BO</td>\n",
              "      <td>B00063DKVC</td>\n",
              "      <td>Old-and-Wise</td>\n",
              "      <td>Sidekick II is meant to be your one-stop-shop ...</td>\n",
              "      <td>It's the service, stupid</td>\n",
              "      <td>NEGATIVE</td>\n",
              "      <td>2004-10-05</td>\n",
              "      <td>['Cell Phones &amp; Accessories', 'Cell Phones', '...</td>\n",
              "      <td>NaN</td>\n",
              "      <td>T-MOBILE SIDEKICK II</td>\n",
              "      <td>NaN</td>\n",
              "      <td>[]</td>\n",
              "      <td>Cell Phones &amp; Accessories</td>\n",
              "      <td>class=\"a-bordered a-horizontal-stripes  a-spa...</td>\n",
              "      <td>NaN</td>\n",
              "      <td>NaN</td>\n",
              "      <td>20</td>\n",
              "      <td>it s the service stupid</td>\n",
              "    </tr>\n",
              "    <tr>\n",
              "      <th>2</th>\n",
              "      <td>568</td>\n",
              "      <td>5.0</td>\n",
              "      <td>False</td>\n",
              "      <td>A339F4I8GBN3H3</td>\n",
              "      <td>B00063DKVC</td>\n",
              "      <td>LaughingLion</td>\n",
              "      <td>Pro's:\\n\\nVery easy to use.\\n\\nQwerty keyboard...</td>\n",
              "      <td>Okay, only 4.5 stars</td>\n",
              "      <td>POSITIVE</td>\n",
              "      <td>2005-12-17</td>\n",
              "      <td>['Cell Phones &amp; Accessories', 'Cell Phones', '...</td>\n",
              "      <td>NaN</td>\n",
              "      <td>T-MOBILE SIDEKICK II</td>\n",
              "      <td>NaN</td>\n",
              "      <td>[]</td>\n",
              "      <td>Cell Phones &amp; Accessories</td>\n",
              "      <td>class=\"a-bordered a-horizontal-stripes  a-spa...</td>\n",
              "      <td>NaN</td>\n",
              "      <td>NaN</td>\n",
              "      <td>20</td>\n",
              "      <td>okay only 4 5 stars</td>\n",
              "    </tr>\n",
              "  </tbody>\n",
              "</table>\n",
              "</div>"
            ],
            "text/plain": [
              "   Unnamed: 0  overall  ...  no_of_viewed_items                      CleanSummary\n",
              "0         566      4.0  ...                  20  better than all the alternatives\n",
              "1         567      2.0  ...                  20           it s the service stupid\n",
              "2         568      5.0  ...                  20               okay only 4 5 stars\n",
              "\n",
              "[3 rows x 21 columns]"
            ]
          },
          "metadata": {
            "tags": []
          },
          "execution_count": 65
        }
      ]
    },
    {
      "cell_type": "code",
      "metadata": {
        "id": "38Re0dq9e8w0"
      },
      "source": [
        "df.drop(columns=['description','fit','also_buy','image_meta','tech2','tech2','also_view','details'],inplace=True)\n",
        "df.to_csv('tab_start.csv')"
      ],
      "execution_count": null,
      "outputs": []
    }
  ]
}