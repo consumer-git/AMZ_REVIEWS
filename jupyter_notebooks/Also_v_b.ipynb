{
  "nbformat": 4,
  "nbformat_minor": 0,
  "metadata": {
    "colab": {
      "name": "Also_v_b.ipynb",
      "provenance": [],
      "collapsed_sections": []
    },
    "kernelspec": {
      "display_name": "Python 3",
      "name": "python3"
    },
    "language_info": {
      "name": "python"
    }
  },
  "cells": [
    {
      "cell_type": "code",
      "metadata": {
        "colab": {
          "base_uri": "https://localhost:8080/"
        },
        "id": "QByt3QUhU5Gf",
        "outputId": "df0b0f07-c9c6-40e2-ecd1-a84e7a132e58"
      },
      "source": [
        "from google.colab import drive\n",
        "drive.mount('/content/d')"
      ],
      "execution_count": null,
      "outputs": [
        {
          "output_type": "stream",
          "text": [
            "Drive already mounted at /content/d; to attempt to forcibly remount, call drive.mount(\"/content/d\", force_remount=True).\n"
          ],
          "name": "stdout"
        }
      ]
    },
    {
      "cell_type": "code",
      "metadata": {
        "id": "AkxIOni3VKE6"
      },
      "source": [
        "import numpy as np \n",
        "import pandas as pd "
      ],
      "execution_count": null,
      "outputs": []
    },
    {
      "cell_type": "code",
      "metadata": {
        "id": "REm3895bVKIh"
      },
      "source": [
        "df_VP=pd.read_csv('/content/d/MyDrive/CAPSTONE_DATA/CLEAN2.csv')"
      ],
      "execution_count": null,
      "outputs": []
    },
    {
      "cell_type": "code",
      "metadata": {
        "id": "CS4yAxTTVbex"
      },
      "source": [
        "f1=df_VP[['asin','also_view','also_buy','brand']]\n",
        "# df_VP.loc[[f1]]\n",
        "d10=f1.copy()"
      ],
      "execution_count": null,
      "outputs": []
    },
    {
      "cell_type": "code",
      "metadata": {
        "id": "793kPxkAWZGi"
      },
      "source": [
        "d10=pd.DataFrame(d10)"
      ],
      "execution_count": null,
      "outputs": []
    },
    {
      "cell_type": "code",
      "metadata": {
        "id": "0C8-w48XWer4"
      },
      "source": [
        "also_viewed_list=' '.join(d10['also_view'])\n"
      ],
      "execution_count": null,
      "outputs": []
    },
    {
      "cell_type": "code",
      "metadata": {
        "id": "5PdJPNp9W0Sz"
      },
      "source": [
        "also_viewed_list=also_viewed_list.split(',')"
      ],
      "execution_count": null,
      "outputs": []
    },
    {
      "cell_type": "code",
      "metadata": {
        "id": "VBeuPeF0YBBY"
      },
      "source": [
        "#fin_list_ofviewed_asins=list(enumerate(also_viewed_list))\n",
        "#fin_list_ofviewed_asins=also_viewed_list.count(also_viewed_list)\n",
        "from itertools import combinations\n",
        "from collections import Counter\n",
        "\n",
        "count = Counter()\n",
        "\n",
        "x=Counter(also_viewed_list)\n",
        "\n"
      ],
      "execution_count": null,
      "outputs": []
    },
    {
      "cell_type": "code",
      "metadata": {
        "id": "t8lcuhjYbgTp"
      },
      "source": [
        "# for i in x.elements():\n",
        "#     print( \"% s : % s\" % (i, x[i]), end =\"\\n\")"
      ],
      "execution_count": null,
      "outputs": []
    },
    {
      "cell_type": "code",
      "metadata": {
        "colab": {
          "base_uri": "https://localhost:8080/"
        },
        "id": "JHINHiFIbgWv",
        "outputId": "dc7899d4-09d6-472f-9e21-e9b0f53eeeba"
      },
      "source": [
        "#most common Also viewed ASINS\n",
        "\n",
        "for row in df_VP['also_view']:\n",
        "    row_list = row.split(',')\n",
        "    count.update(Counter(combinations(row_list, 2)))\n",
        "\n",
        "for key,value in count.most_common(10):\n",
        "    print(key, value)"
      ],
      "execution_count": null,
      "outputs": [
        {
          "output_type": "stream",
          "text": [
            "(\" 'B01NB1SXMZ'\", \" 'B079J5VWWK'\") 2055\n",
            "(\" 'B079J5VWWK'\", \" 'B07JZCFFQR'\") 1919\n",
            "(\" 'B01GQWT4SE'\", \" 'B079J5VWWK'\") 1910\n",
            "(\" 'B00S3FEOAG'\", \" 'B079J5VWWK'\") 1890\n",
            "(\" 'B01NB1SXMZ'\", \" 'B07JZCFFQR'\") 1815\n",
            "(\" 'B017JOXG2I'\", \" 'B072N6BD9V'\") 1723\n",
            "(\" 'B01GQWT4SE'\", \" 'B072N6BD9V'\") 1691\n",
            "(\" 'B017JOXG2I'\", \" 'B07JZCFFQR'\") 1691\n",
            "(\" 'B01GQWT4SE'\", \" 'B07C2CVRN2'\") 1677\n",
            "(\" 'B072N6BD9V'\", \" 'B0747WWP4D'\") 1665\n"
          ],
          "name": "stdout"
        }
      ]
    },
    {
      "cell_type": "code",
      "metadata": {
        "id": "-PEzstM9dqv6"
      },
      "source": [
        "top_viewed_df=pd.DataFrame(count.most_common(10),columns=['also_viewed','Counts'])"
      ],
      "execution_count": null,
      "outputs": []
    },
    {
      "cell_type": "code",
      "metadata": {
        "colab": {
          "base_uri": "https://localhost:8080/"
        },
        "id": "_qo8fALncfj5",
        "outputId": "e6dd90c2-12c4-4bcd-9c33-bba21ebed8b8"
      },
      "source": [
        "#most common Also bought ASINS\n",
        "\n",
        "for row in df_VP['also_buy']:\n",
        "    row_list = row.split(',')\n",
        "    count.update(Counter(combinations(row_list, 2)))\n",
        "\n",
        "for key,value in count.most_common(10):\n",
        "    print(key, value)"
      ],
      "execution_count": null,
      "outputs": [
        {
          "output_type": "stream",
          "text": [
            "(\" 'B01FS0AAZG'\", \" 'B076MM5LM7'\") 2606\n",
            "(\" 'B017A59580'\", \" 'B01KXJ70YQ'\") 2324\n",
            "(\" 'B01GQWT4SE'\", \" 'B072N6BD9V'\") 2308\n",
            "(\" 'B01KXJ70YQ'\", \" 'B00K15Q2B0'\") 2304\n",
            "(\" 'B017A59580'\", \" 'B00NMWYA36'\") 2250\n",
            "(\" 'B079J5VWWK'\", \" 'B079J4PYXN'\") 2171\n",
            "(\" 'B01FS0AAZG'\", \" 'B072N6BD9V'\") 2146\n",
            "(\" 'B01KXJ70YQ'\", \" 'B00NMWYA36'\") 2121\n",
            "(\" 'B01GQWT4SE'\", \" 'B079J5VWWK'\") 2086\n",
            "(\" 'B079J5VWWK'\", \" 'B07JZCFFQR'\") 2067\n"
          ],
          "name": "stdout"
        }
      ]
    },
    {
      "cell_type": "code",
      "metadata": {
        "id": "-MdyAsWAcfr5"
      },
      "source": [
        "top_bought_df=pd.DataFrame(count.most_common(10),columns=['Also_Bought','Counts'])"
      ],
      "execution_count": null,
      "outputs": []
    },
    {
      "cell_type": "code",
      "metadata": {
        "colab": {
          "base_uri": "https://localhost:8080/"
        },
        "id": "pRDWjQRPedQb",
        "outputId": "e7bfceba-d83a-47c0-cbdf-153647f274f5"
      },
      "source": [
        "n=df_VP[\"asin\"].str.contains('B017JOXG2I')\n",
        "df_VP['brand'].loc[n][:5]"
      ],
      "execution_count": null,
      "outputs": [
        {
          "output_type": "execute_result",
          "data": {
            "text/plain": [
              "22131    ZTE\n",
              "22132    ZTE\n",
              "22133    ZTE\n",
              "22134    ZTE\n",
              "22135    ZTE\n",
              "Name: brand, dtype: object"
            ]
          },
          "metadata": {
            "tags": []
          },
          "execution_count": 40
        }
      ]
    },
    {
      "cell_type": "code",
      "metadata": {
        "colab": {
          "base_uri": "https://localhost:8080/"
        },
        "id": "QzVfqxtzedV_",
        "outputId": "3fde3903-f480-4a32-a3ba-99ce5755caae"
      },
      "source": [
        "df_VP['brand'].unique()"
      ],
      "execution_count": null,
      "outputs": [
        {
          "output_type": "execute_result",
          "data": {
            "text/plain": [
              "array(['BlackBerry', 'Sony', 'HTC', 'Samsung', 'LG', 'Nokia', 'Polaroid',\n",
              "       'Kyocera', 'Huawei', 'ZTE', 'Pantech', 'Motorola', 'AT&T',\n",
              "       'T-Mobile', 'Microsoft', 'ZTE USA', 'BLU', 'RCA', 'Alcatel',\n",
              "       'Apple', 'DOOGEE', 'FreedomPop', 'Casio', 'Coolpad', 'Peirui', nan,\n",
              "       'Caterpillar', 'Padgene', 'Tracfone', 'Asus', 'Hipipooo',\n",
              "       'OnePlus', 'SKY Devices', 'NUU', 'Google', 'Sanyo', 'Sudroid',\n",
              "       'CT-Miami LLC', 'iGearPro', 'inDigi', 'LGIC', 'ASUS',\n",
              "       'Samsung Korea', 'F FORITO', 'Fsmart', 'SoonerSoft Electronics',\n",
              "       'GreatCall', 'Kocaso', 'Risio', 'Cell.', 'MOTCB',\n",
              "       'TRACFONE WIRELESS, INC.', 'NEC'], dtype=object)"
            ]
          },
          "metadata": {
            "tags": []
          },
          "execution_count": 41
        }
      ]
    },
    {
      "cell_type": "code",
      "metadata": {
        "id": "QQqAVpMkedZA"
      },
      "source": [
        "#most common Also bought ASINS\n",
        "\n",
        "for row in df_VP['also_buy']:\n",
        "    row_list = row.split(',')\n",
        "    count.update(Counter(combinations(row_list, 1)))\n",
        "\n",
        "for key,value in count.most_common(10):\n",
        "    d=dict(count.most_common(10))\n",
        "df10 = pd.DataFrame(data=d, index=[0])\n",
        "df10.to_excel('alsobought.xlsx')\n"
      ],
      "execution_count": null,
      "outputs": []
    },
    {
      "cell_type": "code",
      "metadata": {
        "id": "W6I8sPN_lp1F"
      },
      "source": [
        "#most common Also viewed ASINS\n",
        "\n",
        "for row in df_VP['also_view']:\n",
        "    row_list = row.split(',')\n",
        "    count.update(Counter(combinations(row_list, 1)))\n",
        "\n",
        "for key,value in count.most_common(10):\n",
        "    d=dict(count.most_common(10))\n",
        "df11 = pd.DataFrame(data=d, index=[0])\n",
        "df11.to_excel('alsoviewed.xlsx')"
      ],
      "execution_count": null,
      "outputs": []
    },
    {
      "cell_type": "code",
      "metadata": {
        "id": "3FXqqzhxl9rv"
      },
      "source": [
        "u_dict=dict(zip(df_VP.brand,df_VP.asin))\n",
        "df12 = pd.DataFrame(data=u_dict, index=[0])\n",
        "df12.to_excel('asins_brands.xlsx')"
      ],
      "execution_count": null,
      "outputs": []
    }
  ]
}