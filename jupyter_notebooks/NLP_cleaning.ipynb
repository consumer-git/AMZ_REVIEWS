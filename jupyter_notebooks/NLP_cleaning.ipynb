{
  "nbformat": 4,
  "nbformat_minor": 0,
  "metadata": {
    "colab": {
      "name": "NLP_cleaning.ipynb",
      "provenance": [],
      "collapsed_sections": []
    },
    "kernelspec": {
      "display_name": "Python 3",
      "language": "python",
      "name": "python3"
    },
    "language_info": {
      "codemirror_mode": {
        "name": "ipython",
        "version": 3
      },
      "file_extension": ".py",
      "mimetype": "text/x-python",
      "name": "python",
      "nbconvert_exporter": "python",
      "pygments_lexer": "ipython3",
      "version": "3.7.4"
    }
  },
  "cells": [
    {
      "cell_type": "code",
      "metadata": {
        "colab": {
          "base_uri": "https://localhost:8080/"
        },
        "id": "unJD3R6P4c_R",
        "outputId": "3fb56c27-1a09-4c2f-ec92-fd6df20d5b77"
      },
      "source": [
        "from google.colab import drive\n",
        "drive.mount('/content/d')"
      ],
      "execution_count": 96,
      "outputs": [
        {
          "output_type": "stream",
          "text": [
            "Drive already mounted at /content/d; to attempt to forcibly remount, call drive.mount(\"/content/d\", force_remount=True).\n"
          ],
          "name": "stdout"
        }
      ]
    },
    {
      "cell_type": "code",
      "metadata": {
        "id": "kHkrvf5V_GJ_"
      },
      "source": [
        "import pandas as pd\n",
        "import numpy as np"
      ],
      "execution_count": 97,
      "outputs": []
    },
    {
      "cell_type": "markdown",
      "metadata": {
        "id": "ET15XVQDM0L4"
      },
      "source": [
        "# Reading the  data\n",
        "\n"
      ]
    },
    {
      "cell_type": "code",
      "metadata": {
        "id": "nkUb-G5Q7LqS"
      },
      "source": [
        "# Reading the meta data\n",
        "# importing libraries\n",
        "\n",
        "import gzip\n",
        "import shutil\n",
        "\n",
        "# #Path to the meta data zip file. 'sentiment_analysis' is the folder name under 'My Drive'\n",
        "path1 = '/content/d/MyDrive/CAPSTONE_DATA/meta_Cell_Phones_and_Accessories.json.gz'\n",
        "\n",
        "\n",
        "\n",
        "# # Path to meta data .json file\n",
        "path2 = '/content/d/MyDrive/CAPSTONE_DATA/meta_Cell_Phones_and_Accessories.json'\n",
        "\n",
        "# Unzipping the meta data file\n",
        "with gzip.open(path1, 'rb') as f_in:\n",
        "    with open(path2, 'wb') as f_out:\n",
        "        shutil.copyfileobj(f_in, f_out)"
      ],
      "execution_count": 98,
      "outputs": []
    },
    {
      "cell_type": "code",
      "metadata": {
        "colab": {
          "background_save": true
        },
        "id": "FtnsAi2v7TpI"
      },
      "source": [
        "# # Reading the unzipped meta data into a Python list. The result will be a list of dictionaries. \n",
        "import json\n",
        "\n",
        "# # Empty list to store the dictonaries\n",
        "phonemetadata = []\n",
        "\n",
        "# # Reading the dictionaries in the json file and appending it to the list phonemetadata[]\n",
        "with open(path2, 'r') as f:\n",
        "    for line in f:\n",
        "        phonemetadata.append(json.loads(line))"
      ],
      "execution_count": null,
      "outputs": []
    },
    {
      "cell_type": "code",
      "metadata": {
        "colab": {
          "background_save": true
        },
        "id": "i7K99Fg0kozW"
      },
      "source": [
        "# Getting the number of entries in the phonemetadata list\n",
        "len(phonemetadata)"
      ],
      "execution_count": null,
      "outputs": []
    },
    {
      "cell_type": "code",
      "metadata": {
        "colab": {
          "background_save": true
        },
        "id": "uokikHfJOZBi"
      },
      "source": [
        "#converting the list phonemetadata into a data frame\n",
        "df_meta=pd.DataFrame(phonemetadata)\n"
      ],
      "execution_count": null,
      "outputs": []
    },
    {
      "cell_type": "code",
      "metadata": {
        "colab": {
          "background_save": true
        },
        "id": "_ZCzsuLuOeJx"
      },
      "source": [
        "#Reading the .csv file of the phone data into a dataframe\n",
        "\n",
        "df_phonedata = pd.read_csv('/content/d/MyDrive/CAPSTONE_DATA/Cell_Phones_and_Accessories_5.csv')\n",
        "\n"
      ],
      "execution_count": null,
      "outputs": []
    },
    {
      "cell_type": "code",
      "metadata": {
        "colab": {
          "background_save": true
        },
        "id": "7MtZtNRSnXla"
      },
      "source": [
        "df_phonedata.head(5)"
      ],
      "execution_count": null,
      "outputs": []
    },
    {
      "cell_type": "code",
      "metadata": {
        "colab": {
          "background_save": true
        },
        "id": "GPJeswmgy6BM"
      },
      "source": [
        "# pd.read_csv('Cell_Phones_and_Accessories_5.csv', dtype={'overall': 'float', 'verified': 'Bool', 'reviewerID': 'Bool','asin': 'Bool','verified': 'Bool','verified': 'Bool','verified': 'Bool','verified': 'Bool','verified': 'Bool',  })"
      ],
      "execution_count": null,
      "outputs": []
    },
    {
      "cell_type": "code",
      "metadata": {
        "colab": {
          "background_save": true
        },
        "id": "cCjjt_PImkA8"
      },
      "source": [
        "len(df_phonedata)"
      ],
      "execution_count": null,
      "outputs": []
    },
    {
      "cell_type": "code",
      "metadata": {
        "colab": {
          "background_save": true
        },
        "id": "DCG--pUBjBvN"
      },
      "source": [
        "df_meta.head(2)"
      ],
      "execution_count": null,
      "outputs": []
    },
    {
      "cell_type": "code",
      "metadata": {
        "colab": {
          "background_save": true
        },
        "id": "Hi__utZuVkrO"
      },
      "source": [
        "df_meta.shape"
      ],
      "execution_count": null,
      "outputs": []
    },
    {
      "cell_type": "code",
      "metadata": {
        "colab": {
          "background_save": true
        },
        "id": "B4CFD-XOVmN4"
      },
      "source": [
        "df_meta.drop_duplicates(subset =\"asin\",keep=False,inplace=True)"
      ],
      "execution_count": null,
      "outputs": []
    },
    {
      "cell_type": "code",
      "metadata": {
        "colab": {
          "background_save": true
        },
        "id": "zu7VueHUVxyw"
      },
      "source": [
        "df_meta.shape"
      ],
      "execution_count": null,
      "outputs": []
    },
    {
      "cell_type": "markdown",
      "metadata": {
        "id": "-RUKzZgE5cv1"
      },
      "source": [
        "# Data pre-processing\n",
        "\n"
      ]
    },
    {
      "cell_type": "code",
      "metadata": {
        "colab": {
          "background_save": true
        },
        "id": "8jHXp1OyI9wq"
      },
      "source": [
        "# Converting unix review time to date-time format\n",
        "\n",
        "#Transforming unixReview time to date time format\n",
        "from datetime import datetime, timedelta\n",
        "df_phonedata['Date&Time'] = df_phonedata['unixReviewTime'].apply(lambda d: (datetime.fromtimestamp(d) - timedelta(hours=2)).strftime('%Y-%m-%d'))\n"
      ],
      "execution_count": null,
      "outputs": []
    },
    {
      "cell_type": "code",
      "metadata": {
        "colab": {
          "background_save": true
        },
        "id": "4CMqDpOA8Imn"
      },
      "source": [
        "df_phonedata.drop(['unixReviewTime'], axis = 1, inplace=True)"
      ],
      "execution_count": null,
      "outputs": []
    },
    {
      "cell_type": "code",
      "metadata": {
        "colab": {
          "background_save": true
        },
        "id": "fNAsCsr08Ir0"
      },
      "source": [
        "#joining dfs on 'asin' \n",
        "df_f01=df_phonedata.merge(df_meta, left_on='asin', right_on='asin', suffixes=('_data', '_meta'))"
      ],
      "execution_count": null,
      "outputs": []
    },
    {
      "cell_type": "code",
      "metadata": {
        "colab": {
          "background_save": true
        },
        "id": "ZQlFMl9E8Iu4"
      },
      "source": [
        "df_f01.head(1)"
      ],
      "execution_count": null,
      "outputs": []
    },
    {
      "cell_type": "code",
      "metadata": {
        "colab": {
          "background_save": true
        },
        "id": "f0h2fao3zVcx"
      },
      "source": [
        "from collections import Counter\n",
        "\n",
        "cat=[]\n",
        "for i in df_f01['category'].str[2]: \n",
        "  cat.append(i)\n",
        "\n",
        "uni=[]\n",
        "for k in cat:\n",
        "  if k not in uni:\n",
        "    uni.append(k)\n",
        "print(uni)    \n",
        "\n",
        "\n",
        "# the two major categories of cell phones are \n",
        "#Carrier Cell Phones\n",
        "#Unlocked Cell Phones. "
      ],
      "execution_count": null,
      "outputs": []
    },
    {
      "cell_type": "code",
      "metadata": {
        "colab": {
          "background_save": true
        },
        "id": "S9FeQrKp0gtQ"
      },
      "source": [
        ""
      ],
      "execution_count": null,
      "outputs": []
    },
    {
      "cell_type": "code",
      "metadata": {
        "colab": {
          "background_save": true
        },
        "id": "as4lPDhs0gwW"
      },
      "source": [
        ""
      ],
      "execution_count": null,
      "outputs": []
    },
    {
      "cell_type": "code",
      "metadata": {
        "colab": {
          "background_save": true
        },
        "id": "L-qtmi4H8Ix9"
      },
      "source": [
        "def findstr(x):\n",
        "  for l in x: \n",
        "    if l=='Unlocked Cell Phones' or l=='Carrier Cell Phones': \n",
        "      return l \n",
        "\n"
      ],
      "execution_count": null,
      "outputs": []
    },
    {
      "cell_type": "markdown",
      "metadata": {
        "id": "WBCThFg9jBvO"
      },
      "source": [
        "# EDA"
      ]
    },
    {
      "cell_type": "code",
      "metadata": {
        "colab": {
          "background_save": true
        },
        "id": "OdClaKFTjBvP"
      },
      "source": [
        "f1=df_f01['category'].str[2]=='Unlocked Cell Phones' \n",
        "f2=df_f01['category'].str[2]=='Carrier Cell Phones' \n"
      ],
      "execution_count": null,
      "outputs": []
    },
    {
      "cell_type": "code",
      "metadata": {
        "colab": {
          "background_save": true
        },
        "id": "2hylD9S1LV_T"
      },
      "source": [
        "#creating filtered df on above parameters \n",
        "\n",
        "dfok=df_f01.loc[f1 | f2]"
      ],
      "execution_count": null,
      "outputs": []
    },
    {
      "cell_type": "code",
      "metadata": {
        "colab": {
          "background_save": true
        },
        "id": "yHP_93DoLWBd"
      },
      "source": [
        "len(dfok) \n",
        "df_f02=dfok.copy()  #working database for further analysis "
      ],
      "execution_count": null,
      "outputs": []
    },
    {
      "cell_type": "code",
      "metadata": {
        "colab": {
          "background_save": true
        },
        "id": "DBz-BhGaLWD0"
      },
      "source": [
        "df_f02.head(2)\n",
        "\n"
      ],
      "execution_count": null,
      "outputs": []
    },
    {
      "cell_type": "markdown",
      "metadata": {
        "id": "b1tWjHvaVt61"
      },
      "source": [
        ""
      ]
    },
    {
      "cell_type": "code",
      "metadata": {
        "colab": {
          "background_save": true
        },
        "id": "rNQL95_BjBvP"
      },
      "source": [
        "df_f02['style'].value_counts()"
      ],
      "execution_count": null,
      "outputs": []
    },
    {
      "cell_type": "code",
      "metadata": {
        "colab": {
          "background_save": true
        },
        "id": "3X8j-P3HbqBt"
      },
      "source": [
        "df_f02['style'].isnull().sum()"
      ],
      "execution_count": null,
      "outputs": []
    },
    {
      "cell_type": "code",
      "metadata": {
        "colab": {
          "background_save": true
        },
        "id": "9HxpxKHt2_ZO"
      },
      "source": [
        "\n",
        "df_f02['rank'] = df_f02['rank'].astype(str)"
      ],
      "execution_count": null,
      "outputs": []
    },
    {
      "cell_type": "markdown",
      "metadata": {
        "id": "NaXW4cVLAwHz"
      },
      "source": [
        ""
      ]
    },
    {
      "cell_type": "code",
      "metadata": {
        "colab": {
          "background_save": true
        },
        "id": "wlHZYXXvF7JY"
      },
      "source": [
        "df_f02['rank']"
      ],
      "execution_count": null,
      "outputs": []
    },
    {
      "cell_type": "code",
      "metadata": {
        "colab": {
          "background_save": true
        },
        "id": "RO4TXWSRiwLi"
      },
      "source": [
        "#cleaning rank comumn \n",
        "df_f02['rnk']=df_f02['rank'].str.extract('([0-9]*,[0-9]*,[0-9]*)', expand=False)\n"
      ],
      "execution_count": null,
      "outputs": []
    },
    {
      "cell_type": "code",
      "metadata": {
        "colab": {
          "background_save": true
        },
        "id": "B436xqBtpMc-"
      },
      "source": [
        "df_f02.head(2)"
      ],
      "execution_count": null,
      "outputs": []
    },
    {
      "cell_type": "code",
      "metadata": {
        "colab": {
          "background_save": true
        },
        "id": "fEVBaK2cqXhx"
      },
      "source": [
        "#extracting number of viewed items \n",
        "emp=[]\n",
        "for i in df_f02['also_view']:\n",
        "  emp.append(len(i))\n",
        "\n",
        "\n",
        "df_f02['no_of_viewed_items']=emp\n",
        "\n"
      ],
      "execution_count": null,
      "outputs": []
    },
    {
      "cell_type": "code",
      "metadata": {
        "colab": {
          "background_save": true
        },
        "id": "Q7B6P8SVsdLI"
      },
      "source": [
        "df_f02.no_of_viewed_items"
      ],
      "execution_count": null,
      "outputs": []
    },
    {
      "cell_type": "code",
      "metadata": {
        "colab": {
          "background_save": true
        },
        "id": "AAOOcfulus7M"
      },
      "source": [
        "df_f02.drop(columns=['rank'],inplace=True)"
      ],
      "execution_count": null,
      "outputs": []
    },
    {
      "cell_type": "code",
      "metadata": {
        "colab": {
          "background_save": true
        },
        "id": "8w8R5udnu9-9"
      },
      "source": [
        "df_f02.head(1)"
      ],
      "execution_count": null,
      "outputs": []
    },
    {
      "cell_type": "code",
      "metadata": {
        "colab": {
          "background_save": true
        },
        "id": "yKmX5y2V_jxq"
      },
      "source": [
        "df_meta.head(2)"
      ],
      "execution_count": null,
      "outputs": []
    },
    {
      "cell_type": "code",
      "metadata": {
        "colab": {
          "background_save": true
        },
        "id": "n4qyWgpUASi6"
      },
      "source": [
        "#zipping dictionary of asins and products for later analysis \n",
        "asins_and_products=dict(zip(df_meta.asin,df_meta.brand))"
      ],
      "execution_count": null,
      "outputs": []
    },
    {
      "cell_type": "code",
      "metadata": {
        "colab": {
          "background_save": true
        },
        "id": "c9gC_5boASs3"
      },
      "source": [
        "df_f02.isnull().sum()/len(df_f02)"
      ],
      "execution_count": null,
      "outputs": []
    },
    {
      "cell_type": "code",
      "metadata": {
        "colab": {
          "background_save": true
        },
        "id": "SEm6KDWGTOyR"
      },
      "source": [
        "df_f02.drop(columns=['style','vote','image_data','rnk'],inplace=True)"
      ],
      "execution_count": null,
      "outputs": []
    },
    {
      "cell_type": "code",
      "metadata": {
        "colab": {
          "background_save": true
        },
        "id": "NuQJFRQYUDCP"
      },
      "source": [
        "df_f02.shape"
      ],
      "execution_count": null,
      "outputs": []
    },
    {
      "cell_type": "code",
      "metadata": {
        "colab": {
          "background_save": true
        },
        "id": "6n62G4z_TO3y"
      },
      "source": [
        "#cleaning price col\n",
        "df_f02['price']=df_f02['price'].str.extract('([0-9]{1,}.[0-9]{1,})', expand=False)\n"
      ],
      "execution_count": null,
      "outputs": []
    },
    {
      "cell_type": "code",
      "metadata": {
        "colab": {
          "background_save": true
        },
        "id": "EeFUIqi7a-s3"
      },
      "source": [
        "# filling na values of price with 0 \n",
        "\n",
        "df_f02['price'] = (\n",
        "    df_f02['price'].fillna(0)\n",
        "    .astype(float)\n",
        "    \n",
        "    .where(df_f02['price'].notnull())\n",
        ")"
      ],
      "execution_count": null,
      "outputs": []
    },
    {
      "cell_type": "code",
      "metadata": {
        "colab": {
          "background_save": true
        },
        "id": "jhTMpQCzUooX"
      },
      "source": [
        "df_f02.drop(columns=['reviewerName','tech1','description','fit','also_buy','also_view','image_meta','tech2','details','date'],inplace=True)"
      ],
      "execution_count": null,
      "outputs": []
    },
    {
      "cell_type": "code",
      "metadata": {
        "colab": {
          "background_save": true
        },
        "id": "h7fQNOLnTO67"
      },
      "source": [
        "#cleaning for further analysis \n",
        "df_f02.to_csv('clean4.csv')"
      ],
      "execution_count": null,
      "outputs": []
    }
  ]
}