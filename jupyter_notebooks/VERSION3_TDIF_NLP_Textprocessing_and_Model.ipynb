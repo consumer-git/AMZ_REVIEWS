{
  "nbformat": 4,
  "nbformat_minor": 0,
  "metadata": {
    "celltoolbar": "Raw Cell Format",
    "kernelspec": {
      "display_name": "Python 3",
      "language": "python",
      "name": "python3"
    },
    "language_info": {
      "codemirror_mode": {
        "name": "ipython",
        "version": 3
      },
      "file_extension": ".py",
      "mimetype": "text/x-python",
      "name": "python",
      "nbconvert_exporter": "python",
      "pygments_lexer": "ipython3",
      "version": "3.7.6"
    },
    "colab": {
      "name": "VERSION3_TDIF_NLP_Textprocessing_and_Model.ipynb",
      "provenance": [],
      "collapsed_sections": []
    }
  },
  "cells": [
    {
      "cell_type": "code",
      "metadata": {
        "id": "h51A_ANzwVSW"
      },
      "source": [
        "import numpy as np \n",
        "import pandas as pd \n",
        "import warnings\n",
        "#warnings.filterwarnings('ignore')\n",
        "from nltk.corpus import words \n"
      ],
      "execution_count": 1,
      "outputs": []
    },
    {
      "cell_type": "code",
      "metadata": {
        "colab": {
          "base_uri": "https://localhost:8080/"
        },
        "id": "Njy9sLt6wtQk",
        "outputId": "45ed8f65-27fc-490f-dd1c-65d91a5c0aa8"
      },
      "source": [
        "from google.colab import drive\n",
        "drive.mount('/content/drive')"
      ],
      "execution_count": 2,
      "outputs": [
        {
          "output_type": "stream",
          "text": [
            "Drive already mounted at /content/drive; to attempt to forcibly remount, call drive.mount(\"/content/drive\", force_remount=True).\n"
          ],
          "name": "stdout"
        }
      ]
    },
    {
      "cell_type": "code",
      "metadata": {
        "id": "v2SyDKvsw3jP"
      },
      "source": [
        "# set_nb_theme('chesterish')\n",
        "df=pd.read_csv('/content/drive/MyDrive/CAPSTONE_DATA/CLEAN2.csv')"
      ],
      "execution_count": 3,
      "outputs": []
    },
    {
      "cell_type": "code",
      "metadata": {
        "colab": {
          "base_uri": "https://localhost:8080/"
        },
        "id": "lFwcXScnwVSa",
        "outputId": "70594b01-90d1-4ff6-92b4-6bbd5b933045"
      },
      "source": [
        "df.info()"
      ],
      "execution_count": 4,
      "outputs": [
        {
          "output_type": "stream",
          "text": [
            "<class 'pandas.core.frame.DataFrame'>\n",
            "RangeIndex: 28252 entries, 0 to 28251\n",
            "Data columns (total 20 columns):\n",
            " #   Column              Non-Null Count  Dtype  \n",
            "---  ------              --------------  -----  \n",
            " 0   Unnamed: 0          28252 non-null  int64  \n",
            " 1   overall             28252 non-null  float64\n",
            " 2   verified            28252 non-null  bool   \n",
            " 3   reviewerID          28252 non-null  object \n",
            " 4   asin                28252 non-null  object \n",
            " 5   reviewerName        28248 non-null  object \n",
            " 6   reviewText          28232 non-null  object \n",
            " 7   summary             28246 non-null  object \n",
            " 8   review_sentiment    28252 non-null  object \n",
            " 9   Date&Time           28252 non-null  object \n",
            " 10  fit                 0 non-null      float64\n",
            " 11  title               28252 non-null  object \n",
            " 12  also_buy            28252 non-null  object \n",
            " 13  brand               28233 non-null  object \n",
            " 14  also_view           28252 non-null  object \n",
            " 15  details             28252 non-null  object \n",
            " 16  main_cat            28252 non-null  object \n",
            " 17  price               28252 non-null  float64\n",
            " 18  no_of_viewed_items  28252 non-null  int64  \n",
            " 19  category_edit       28252 non-null  object \n",
            "dtypes: bool(1), float64(3), int64(2), object(14)\n",
            "memory usage: 4.1+ MB\n"
          ],
          "name": "stdout"
        }
      ]
    },
    {
      "cell_type": "code",
      "metadata": {
        "colab": {
          "base_uri": "https://localhost:8080/"
        },
        "id": "oGLvVFmRwVSb",
        "outputId": "69fe623a-8bcf-4e77-be5f-a6b7c5919c56"
      },
      "source": [
        "df.isnull().sum()/len(df)"
      ],
      "execution_count": 5,
      "outputs": [
        {
          "output_type": "execute_result",
          "data": {
            "text/plain": [
              "Unnamed: 0            0.000000\n",
              "overall               0.000000\n",
              "verified              0.000000\n",
              "reviewerID            0.000000\n",
              "asin                  0.000000\n",
              "reviewerName          0.000142\n",
              "reviewText            0.000708\n",
              "summary               0.000212\n",
              "review_sentiment      0.000000\n",
              "Date&Time             0.000000\n",
              "fit                   1.000000\n",
              "title                 0.000000\n",
              "also_buy              0.000000\n",
              "brand                 0.000673\n",
              "also_view             0.000000\n",
              "details               0.000000\n",
              "main_cat              0.000000\n",
              "price                 0.000000\n",
              "no_of_viewed_items    0.000000\n",
              "category_edit         0.000000\n",
              "dtype: float64"
            ]
          },
          "metadata": {
            "tags": []
          },
          "execution_count": 5
        }
      ]
    },
    {
      "cell_type": "code",
      "metadata": {
        "colab": {
          "base_uri": "https://localhost:8080/"
        },
        "id": "bENz7w_YwVSc",
        "outputId": "b977d21e-e5ae-48f3-9cde-77710e49823e"
      },
      "source": [
        "df.isnull().sum()"
      ],
      "execution_count": 6,
      "outputs": [
        {
          "output_type": "execute_result",
          "data": {
            "text/plain": [
              "Unnamed: 0                0\n",
              "overall                   0\n",
              "verified                  0\n",
              "reviewerID                0\n",
              "asin                      0\n",
              "reviewerName              4\n",
              "reviewText               20\n",
              "summary                   6\n",
              "review_sentiment          0\n",
              "Date&Time                 0\n",
              "fit                   28252\n",
              "title                     0\n",
              "also_buy                  0\n",
              "brand                    19\n",
              "also_view                 0\n",
              "details                   0\n",
              "main_cat                  0\n",
              "price                     0\n",
              "no_of_viewed_items        0\n",
              "category_edit             0\n",
              "dtype: int64"
            ]
          },
          "metadata": {
            "tags": []
          },
          "execution_count": 6
        }
      ]
    },
    {
      "cell_type": "code",
      "metadata": {
        "colab": {
          "base_uri": "https://localhost:8080/"
        },
        "id": "_VaDdDGVwVSc",
        "outputId": "1dc8bb33-609d-4f44-e423-097288b75cd0"
      },
      "source": [
        "df.reviewText"
      ],
      "execution_count": 7,
      "outputs": [
        {
          "output_type": "execute_result",
          "data": {
            "text/plain": [
              "0        Ok, Admittedly I'm an old school BlackBerry fa...\n",
              "1                                                 Excelent\n",
              "2                                                Excelente\n",
              "3                                                  exellet\n",
              "4                                                     bien\n",
              "                               ...                        \n",
              "28247                              best android experience\n",
              "28248    Doesn't have a front camera and the one it doe...\n",
              "28249    This is the phone that finally liberated me fr...\n",
              "28250            Bought for grandparents...they love it...\n",
              "28251    Bought as a cheap second phone to my iPhone. C...\n",
              "Name: reviewText, Length: 28252, dtype: object"
            ]
          },
          "metadata": {
            "tags": []
          },
          "execution_count": 7
        }
      ]
    },
    {
      "cell_type": "code",
      "metadata": {
        "colab": {
          "base_uri": "https://localhost:8080/"
        },
        "id": "VVEnSp_gqEFR",
        "outputId": "e4ca6bae-296d-4dd6-e4d3-64550827976d"
      },
      "source": [
        "df.summary"
      ],
      "execution_count": 8,
      "outputs": [
        {
          "output_type": "execute_result",
          "data": {
            "text/plain": [
              "0        Still a reliable and great quality pure Phone ...\n",
              "1                                               Five Stars\n",
              "2                                               Five Stars\n",
              "3                                               Five Stars\n",
              "4                                               Five Stars\n",
              "                               ...                        \n",
              "28247                                           Five Stars\n",
              "28248                                            Just okay\n",
              "28249    Ported my MagicJack number to this phone & I L...\n",
              "28250                                        they love it.\n",
              "28251                                      Serves My Needs\n",
              "Name: summary, Length: 28252, dtype: object"
            ]
          },
          "metadata": {
            "tags": []
          },
          "execution_count": 8
        }
      ]
    },
    {
      "cell_type": "code",
      "metadata": {
        "colab": {
          "base_uri": "https://localhost:8080/"
        },
        "id": "0JrDA_OcwVSd",
        "outputId": "a1e51bf8-e42c-4d28-b90d-1f2a0333dcdf"
      },
      "source": [
        "df.shape"
      ],
      "execution_count": 9,
      "outputs": [
        {
          "output_type": "execute_result",
          "data": {
            "text/plain": [
              "(28252, 20)"
            ]
          },
          "metadata": {
            "tags": []
          },
          "execution_count": 9
        }
      ]
    },
    {
      "cell_type": "code",
      "metadata": {
        "colab": {
          "base_uri": "https://localhost:8080/",
          "height": 485
        },
        "id": "qJU94pwLwVSd",
        "outputId": "30bd044e-c782-4329-fb70-c0c5f2b18b93"
      },
      "source": [
        "df.head(3)"
      ],
      "execution_count": 10,
      "outputs": [
        {
          "output_type": "execute_result",
          "data": {
            "text/html": [
              "<div>\n",
              "<style scoped>\n",
              "    .dataframe tbody tr th:only-of-type {\n",
              "        vertical-align: middle;\n",
              "    }\n",
              "\n",
              "    .dataframe tbody tr th {\n",
              "        vertical-align: top;\n",
              "    }\n",
              "\n",
              "    .dataframe thead th {\n",
              "        text-align: right;\n",
              "    }\n",
              "</style>\n",
              "<table border=\"1\" class=\"dataframe\">\n",
              "  <thead>\n",
              "    <tr style=\"text-align: right;\">\n",
              "      <th></th>\n",
              "      <th>Unnamed: 0</th>\n",
              "      <th>overall</th>\n",
              "      <th>verified</th>\n",
              "      <th>reviewerID</th>\n",
              "      <th>asin</th>\n",
              "      <th>reviewerName</th>\n",
              "      <th>reviewText</th>\n",
              "      <th>summary</th>\n",
              "      <th>review_sentiment</th>\n",
              "      <th>Date&amp;Time</th>\n",
              "      <th>fit</th>\n",
              "      <th>title</th>\n",
              "      <th>also_buy</th>\n",
              "      <th>brand</th>\n",
              "      <th>also_view</th>\n",
              "      <th>details</th>\n",
              "      <th>main_cat</th>\n",
              "      <th>price</th>\n",
              "      <th>no_of_viewed_items</th>\n",
              "      <th>category_edit</th>\n",
              "    </tr>\n",
              "  </thead>\n",
              "  <tbody>\n",
              "    <tr>\n",
              "      <th>0</th>\n",
              "      <td>123466</td>\n",
              "      <td>5.0</td>\n",
              "      <td>True</td>\n",
              "      <td>ADOHFXBIZM51J</td>\n",
              "      <td>B0078ZZ6RM</td>\n",
              "      <td>JCraig3k</td>\n",
              "      <td>Ok, Admittedly I'm an old school BlackBerry fa...</td>\n",
              "      <td>Still a reliable and great quality pure Phone ...</td>\n",
              "      <td>POSITIVE</td>\n",
              "      <td>2016-08-24</td>\n",
              "      <td>NaN</td>\n",
              "      <td>Blackberry Curve 9360 Unlocked Quad-Band 3G GS...</td>\n",
              "      <td>['B005JS4U18', 'B0079N707M', 'B004G8QNDA', 'B0...</td>\n",
              "      <td>BlackBerry</td>\n",
              "      <td>['B00Q1U31VI', 'B004G8QNDA', 'B005SNNE1Q', 'B0...</td>\n",
              "      <td>{}</td>\n",
              "      <td>Cell Phones &amp; Accessories</td>\n",
              "      <td>22.9</td>\n",
              "      <td>59</td>\n",
              "      <td>Unlocked Cell Phones</td>\n",
              "    </tr>\n",
              "    <tr>\n",
              "      <th>1</th>\n",
              "      <td>123467</td>\n",
              "      <td>5.0</td>\n",
              "      <td>True</td>\n",
              "      <td>A21YUVYTG51KQ3</td>\n",
              "      <td>B0078ZZ6RM</td>\n",
              "      <td>Emerson Ortega</td>\n",
              "      <td>Excelent</td>\n",
              "      <td>Five Stars</td>\n",
              "      <td>NEGATIVE</td>\n",
              "      <td>2016-05-07</td>\n",
              "      <td>NaN</td>\n",
              "      <td>Blackberry Curve 9360 Unlocked Quad-Band 3G GS...</td>\n",
              "      <td>['B005JS4U18', 'B0079N707M', 'B004G8QNDA', 'B0...</td>\n",
              "      <td>BlackBerry</td>\n",
              "      <td>['B00Q1U31VI', 'B004G8QNDA', 'B005SNNE1Q', 'B0...</td>\n",
              "      <td>{}</td>\n",
              "      <td>Cell Phones &amp; Accessories</td>\n",
              "      <td>22.9</td>\n",
              "      <td>59</td>\n",
              "      <td>Unlocked Cell Phones</td>\n",
              "    </tr>\n",
              "    <tr>\n",
              "      <th>2</th>\n",
              "      <td>123548</td>\n",
              "      <td>5.0</td>\n",
              "      <td>True</td>\n",
              "      <td>A1N5OQZ7S1UIL2</td>\n",
              "      <td>B0078ZZ6RM</td>\n",
              "      <td>fonoteca</td>\n",
              "      <td>Excelente</td>\n",
              "      <td>Five Stars</td>\n",
              "      <td>NEGATIVE</td>\n",
              "      <td>2014-10-03</td>\n",
              "      <td>NaN</td>\n",
              "      <td>Blackberry Curve 9360 Unlocked Quad-Band 3G GS...</td>\n",
              "      <td>['B005JS4U18', 'B0079N707M', 'B004G8QNDA', 'B0...</td>\n",
              "      <td>BlackBerry</td>\n",
              "      <td>['B00Q1U31VI', 'B004G8QNDA', 'B005SNNE1Q', 'B0...</td>\n",
              "      <td>{}</td>\n",
              "      <td>Cell Phones &amp; Accessories</td>\n",
              "      <td>22.9</td>\n",
              "      <td>59</td>\n",
              "      <td>Unlocked Cell Phones</td>\n",
              "    </tr>\n",
              "  </tbody>\n",
              "</table>\n",
              "</div>"
            ],
            "text/plain": [
              "   Unnamed: 0  overall  ...  no_of_viewed_items         category_edit\n",
              "0      123466      5.0  ...                  59  Unlocked Cell Phones\n",
              "1      123467      5.0  ...                  59  Unlocked Cell Phones\n",
              "2      123548      5.0  ...                  59  Unlocked Cell Phones\n",
              "\n",
              "[3 rows x 20 columns]"
            ]
          },
          "metadata": {
            "tags": []
          },
          "execution_count": 10
        }
      ]
    },
    {
      "cell_type": "code",
      "metadata": {
        "id": "j331ZHAWwVSe"
      },
      "source": [
        "def OHE(x): \n",
        "    \n",
        "    if x=='POSITIVE':\n",
        "        return 1 \n",
        "    else: \n",
        "        return 0\n",
        "        \n",
        "        \n",
        "df['review_sentiment_OHE']=df['review_sentiment'].apply(lambda x: OHE(x))     \n",
        "\n"
      ],
      "execution_count": 11,
      "outputs": []
    },
    {
      "cell_type": "code",
      "metadata": {
        "id": "DNPDpGqNwVSe"
      },
      "source": [
        "df.review_sentiment_OHE.value_counts()\n",
        "df.drop(columns='review_sentiment',inplace=True)"
      ],
      "execution_count": 12,
      "outputs": []
    },
    {
      "cell_type": "code",
      "metadata": {
        "id": "BzafBDQ9wVSf"
      },
      "source": [
        "from nltk import FreqDist\n",
        "from nltk.corpus import stopwords\n",
        "import seaborn as sns\n",
        "%matplotlib inline\n",
        "import re"
      ],
      "execution_count": 13,
      "outputs": []
    },
    {
      "cell_type": "code",
      "metadata": {
        "id": "NpAcffT1cHmc"
      },
      "source": [
        ""
      ],
      "execution_count": 13,
      "outputs": []
    },
    {
      "cell_type": "markdown",
      "metadata": {
        "id": "0VqHBUi-dlwd"
      },
      "source": [
        ""
      ]
    },
    {
      "cell_type": "code",
      "metadata": {
        "id": "4C16JovAwVSf"
      },
      "source": [
        "# RE function to clean tweets #18976 columns #12440 columns\n",
        "import re\n",
        "# def clean_tweet(tweet):\n",
        "#     return ' '.join(re.sub('(@[A-Za-z0-9]+)|([^0-9A-Za-z \\t])|(\\w+:\\/\\/\\S+)|([RT]| (\\w*\\d+\\w*) )', ' ', str(tweet).lower()).split())\n",
        "import string \n",
        "\n",
        "def text_preproc(x):\n",
        "  x=str(x)\n",
        "  x = x.lower()\n",
        "  \n",
        "  \n",
        "  x = re.sub(r'https*\\S+', ' ', x)\n",
        "  x = re.sub(r'@\\S+', ' ', x)\n",
        "  x = re.sub(r'#\\S+', ' ', x)\n",
        "  x = re.sub(r'\\'\\w+', '', x)\n",
        "  x = re.sub('[%s]' % re.escape(string.punctuation), ' ', x)\n",
        "  x = re.sub(r'\\w*\\d+\\w*', '', x)\n",
        "  x = re.sub(r'\\s{2,}', ' ', x)\n",
        "  return x\n",
        "\n",
        "# df['clean_text'] = df.text.apply(text_preproc)    "
      ],
      "execution_count": 14,
      "outputs": []
    },
    {
      "cell_type": "code",
      "metadata": {
        "colab": {
          "base_uri": "https://localhost:8080/",
          "height": 485
        },
        "id": "s71wq_6MwVSf",
        "outputId": "d0bad420-c054-436d-9c0c-0fe0dcde0496"
      },
      "source": [
        "df['CleanText'] = df['reviewText'].apply(lambda x : text_preproc(x))\n",
        "df.head(3)"
      ],
      "execution_count": 15,
      "outputs": [
        {
          "output_type": "execute_result",
          "data": {
            "text/html": [
              "<div>\n",
              "<style scoped>\n",
              "    .dataframe tbody tr th:only-of-type {\n",
              "        vertical-align: middle;\n",
              "    }\n",
              "\n",
              "    .dataframe tbody tr th {\n",
              "        vertical-align: top;\n",
              "    }\n",
              "\n",
              "    .dataframe thead th {\n",
              "        text-align: right;\n",
              "    }\n",
              "</style>\n",
              "<table border=\"1\" class=\"dataframe\">\n",
              "  <thead>\n",
              "    <tr style=\"text-align: right;\">\n",
              "      <th></th>\n",
              "      <th>Unnamed: 0</th>\n",
              "      <th>overall</th>\n",
              "      <th>verified</th>\n",
              "      <th>reviewerID</th>\n",
              "      <th>asin</th>\n",
              "      <th>reviewerName</th>\n",
              "      <th>reviewText</th>\n",
              "      <th>summary</th>\n",
              "      <th>Date&amp;Time</th>\n",
              "      <th>fit</th>\n",
              "      <th>title</th>\n",
              "      <th>also_buy</th>\n",
              "      <th>brand</th>\n",
              "      <th>also_view</th>\n",
              "      <th>details</th>\n",
              "      <th>main_cat</th>\n",
              "      <th>price</th>\n",
              "      <th>no_of_viewed_items</th>\n",
              "      <th>category_edit</th>\n",
              "      <th>review_sentiment_OHE</th>\n",
              "      <th>CleanText</th>\n",
              "    </tr>\n",
              "  </thead>\n",
              "  <tbody>\n",
              "    <tr>\n",
              "      <th>0</th>\n",
              "      <td>123466</td>\n",
              "      <td>5.0</td>\n",
              "      <td>True</td>\n",
              "      <td>ADOHFXBIZM51J</td>\n",
              "      <td>B0078ZZ6RM</td>\n",
              "      <td>JCraig3k</td>\n",
              "      <td>Ok, Admittedly I'm an old school BlackBerry fa...</td>\n",
              "      <td>Still a reliable and great quality pure Phone ...</td>\n",
              "      <td>2016-08-24</td>\n",
              "      <td>NaN</td>\n",
              "      <td>Blackberry Curve 9360 Unlocked Quad-Band 3G GS...</td>\n",
              "      <td>['B005JS4U18', 'B0079N707M', 'B004G8QNDA', 'B0...</td>\n",
              "      <td>BlackBerry</td>\n",
              "      <td>['B00Q1U31VI', 'B004G8QNDA', 'B005SNNE1Q', 'B0...</td>\n",
              "      <td>{}</td>\n",
              "      <td>Cell Phones &amp; Accessories</td>\n",
              "      <td>22.9</td>\n",
              "      <td>59</td>\n",
              "      <td>Unlocked Cell Phones</td>\n",
              "      <td>1</td>\n",
              "      <td>ok admittedly i an old school blackberry fan a...</td>\n",
              "    </tr>\n",
              "    <tr>\n",
              "      <th>1</th>\n",
              "      <td>123467</td>\n",
              "      <td>5.0</td>\n",
              "      <td>True</td>\n",
              "      <td>A21YUVYTG51KQ3</td>\n",
              "      <td>B0078ZZ6RM</td>\n",
              "      <td>Emerson Ortega</td>\n",
              "      <td>Excelent</td>\n",
              "      <td>Five Stars</td>\n",
              "      <td>2016-05-07</td>\n",
              "      <td>NaN</td>\n",
              "      <td>Blackberry Curve 9360 Unlocked Quad-Band 3G GS...</td>\n",
              "      <td>['B005JS4U18', 'B0079N707M', 'B004G8QNDA', 'B0...</td>\n",
              "      <td>BlackBerry</td>\n",
              "      <td>['B00Q1U31VI', 'B004G8QNDA', 'B005SNNE1Q', 'B0...</td>\n",
              "      <td>{}</td>\n",
              "      <td>Cell Phones &amp; Accessories</td>\n",
              "      <td>22.9</td>\n",
              "      <td>59</td>\n",
              "      <td>Unlocked Cell Phones</td>\n",
              "      <td>0</td>\n",
              "      <td>excelent</td>\n",
              "    </tr>\n",
              "    <tr>\n",
              "      <th>2</th>\n",
              "      <td>123548</td>\n",
              "      <td>5.0</td>\n",
              "      <td>True</td>\n",
              "      <td>A1N5OQZ7S1UIL2</td>\n",
              "      <td>B0078ZZ6RM</td>\n",
              "      <td>fonoteca</td>\n",
              "      <td>Excelente</td>\n",
              "      <td>Five Stars</td>\n",
              "      <td>2014-10-03</td>\n",
              "      <td>NaN</td>\n",
              "      <td>Blackberry Curve 9360 Unlocked Quad-Band 3G GS...</td>\n",
              "      <td>['B005JS4U18', 'B0079N707M', 'B004G8QNDA', 'B0...</td>\n",
              "      <td>BlackBerry</td>\n",
              "      <td>['B00Q1U31VI', 'B004G8QNDA', 'B005SNNE1Q', 'B0...</td>\n",
              "      <td>{}</td>\n",
              "      <td>Cell Phones &amp; Accessories</td>\n",
              "      <td>22.9</td>\n",
              "      <td>59</td>\n",
              "      <td>Unlocked Cell Phones</td>\n",
              "      <td>0</td>\n",
              "      <td>excelente</td>\n",
              "    </tr>\n",
              "  </tbody>\n",
              "</table>\n",
              "</div>"
            ],
            "text/plain": [
              "   Unnamed: 0  ...                                          CleanText\n",
              "0      123466  ...  ok admittedly i an old school blackberry fan a...\n",
              "1      123467  ...                                           excelent\n",
              "2      123548  ...                                          excelente\n",
              "\n",
              "[3 rows x 21 columns]"
            ]
          },
          "metadata": {
            "tags": []
          },
          "execution_count": 15
        }
      ]
    },
    {
      "cell_type": "code",
      "metadata": {
        "id": "nWw6kCtowVSg"
      },
      "source": [
        "#stop_words\n",
        "#/Users/merrillsequeira/Documents/docs/UPGRAD_PGDDS_MODULES/MODULES_MAIN/REGEX_NLP_PRECAPSTONE/colab_notebook_history/stop_words_long.txt\n",
        "stop_wrds_upgrad=pd.read_csv(r'/content/drive/MyDrive/CAPSTONE_DATA/stop_words_long.txt', sep=\" \", header = None)\n",
        "stop_wrds_upgrad=stop_wrds_upgrad[0].to_list()"
      ],
      "execution_count": 16,
      "outputs": []
    },
    {
      "cell_type": "code",
      "metadata": {
        "id": "kU2EAH5MwVSg"
      },
      "source": [
        "from nltk.stem.porter import PorterStemmer\n",
        "from nltk.stem import WordNetLemmatizer\n",
        "\n",
        "stemmer = PorterStemmer()\n",
        "wordnet_lemmatizer = WordNetLemmatizer()\n",
        "\n",
        "# add stemming and lemmatisation in the preprocess function\n",
        "def preprocess(document, stem=True):\n",
        "    'changes document to lower case and removes stopwords'\n",
        "\n",
        "    # change sentence to lower case\n",
        "    document = document.lower()\n",
        "\n",
        "    # tokenize into words\n",
        "    words = word_tokenize(document)\n",
        "\n",
        "    # remove stop words\n",
        "    # words = [word for word in words if word not in stop_wrds_upgrad]\n",
        "    \n",
        "    # if stem:\n",
        "    #     words = [stemmer.stem(word) for word in words]\n",
        "    # else:\n",
        "    words = [wordnet_lemmatizer.lemmatize(word, pos='v') for word in words]\n",
        "\n",
        "    # join words to make sentence\n",
        "    document = \" \".join(words)\n",
        "    \n",
        "    return document"
      ],
      "execution_count": 17,
      "outputs": []
    },
    {
      "cell_type": "code",
      "metadata": {
        "id": "0TH7x8QOwVSh"
      },
      "source": [
        "#trial run with basic sentance \n",
        "\n",
        "sample_text = \"the great aim of education is not knowledge but action\"\n",
        "sample_words=sample_text.split()"
      ],
      "execution_count": 18,
      "outputs": []
    },
    {
      "cell_type": "code",
      "metadata": {
        "colab": {
          "base_uri": "https://localhost:8080/"
        },
        "id": "VsCt-dNLwVSh",
        "outputId": "ab722b6b-436e-4417-bfce-e36f60ed9027"
      },
      "source": [
        "sample_words = [word for word in sample_words if word not in stop_wrds_upgrad]\n",
        "print(sample_words)"
      ],
      "execution_count": 19,
      "outputs": [
        {
          "output_type": "stream",
          "text": [
            "['great', 'aim', 'education', 'not', 'knowledge', 'action']\n"
          ],
          "name": "stdout"
        }
      ]
    },
    {
      "cell_type": "code",
      "metadata": {
        "colab": {
          "base_uri": "https://localhost:8080/"
        },
        "id": "oaKS6PEZwVSh",
        "outputId": "057b96ac-a178-4d8a-abf6-e3f71656a98c"
      },
      "source": [
        "from nltk.tokenize import word_tokenize\n",
        "from nltk.corpus import stopwords\n",
        "from sklearn.feature_extraction.text import CountVectorizer\n",
        "import nltk \n",
        "from sklearn.feature_extraction.text import TfidfVectorizer\n",
        "nltk.download('wordnet')\n",
        "nltk.download('punkt')\n",
        "# stem messages\n",
        "messages = [preprocess(message) for message in df.CleanText]\n",
        "\n",
        "# bag of words model\n",
        "vectorizer = TfidfVectorizer()\n",
        "tfidf_model = vectorizer.fit_transform(messages)\n",
        "print(tfidf_model)  # returns the row number and column number of cells which have 1 as value"
      ],
      "execution_count": 20,
      "outputs": [
        {
          "output_type": "stream",
          "text": [
            "[nltk_data] Downloading package wordnet to /root/nltk_data...\n",
            "[nltk_data]   Package wordnet is already up-to-date!\n",
            "[nltk_data] Downloading package punkt to /root/nltk_data...\n",
            "[nltk_data]   Package punkt is already up-to-date!\n",
            "  (0, 2600)\t0.07508507867048392\n",
            "  (0, 17214)\t0.03784731086300751\n",
            "  (0, 808)\t0.03203856465896338\n",
            "  (0, 19453)\t0.04720186040855666\n",
            "  (0, 7218)\t0.028555174706364688\n",
            "  (0, 2458)\t0.025282622370335933\n",
            "  (0, 19592)\t0.02349530699345411\n",
            "  (0, 10482)\t0.04302441120911226\n",
            "  (0, 15127)\t0.040193654617791695\n",
            "  (0, 11084)\t0.040466554033606834\n",
            "  (0, 9107)\t0.057019576606055056\n",
            "  (0, 7781)\t0.05949341005708315\n",
            "  (0, 2272)\t0.03915945070866067\n",
            "  (0, 2440)\t0.028806392000019016\n",
            "  (0, 4198)\t0.04308758130910429\n",
            "  (0, 14183)\t0.05208879903544047\n",
            "  (0, 8846)\t0.053656143784520875\n",
            "  (0, 52)\t0.04559070048494596\n",
            "  (0, 373)\t0.037669130855352735\n",
            "  (0, 11714)\t0.04389512321885304\n",
            "  (0, 9921)\t0.04594635643529543\n",
            "  (0, 18227)\t0.03696265743704181\n",
            "  (0, 9979)\t0.026190241881993113\n",
            "  (0, 11310)\t0.042113802479348816\n",
            "  (0, 176)\t0.04687165849103556\n",
            "  :\t:\n",
            "  (28250, 2353)\t0.2627596407309675\n",
            "  (28250, 9979)\t0.2659195680680991\n",
            "  (28250, 17219)\t0.3029771692261997\n",
            "  (28250, 9060)\t0.16219403884359013\n",
            "  (28250, 6590)\t0.18836789583740654\n",
            "  (28251, 13557)\t0.31083288648220947\n",
            "  (28251, 2761)\t0.23275414648202622\n",
            "  (28251, 15183)\t0.33405090334227827\n",
            "  (28251, 1393)\t0.20794263023313547\n",
            "  (28251, 2694)\t0.30435129261092564\n",
            "  (28251, 15047)\t0.2301098123413692\n",
            "  (28251, 12080)\t0.2187746731031381\n",
            "  (28251, 8981)\t0.38653929406883564\n",
            "  (28251, 2353)\t0.1420505396888831\n",
            "  (28251, 18390)\t0.15566601487755502\n",
            "  (28251, 1044)\t0.2613917917334642\n",
            "  (28251, 1360)\t0.17094034880914127\n",
            "  (28251, 11510)\t0.23597511813243274\n",
            "  (28251, 17458)\t0.09756896427552932\n",
            "  (28251, 2338)\t0.11521018567662009\n",
            "  (28251, 11107)\t0.22386357758514433\n",
            "  (28251, 19061)\t0.16377592052389517\n",
            "  (28251, 12621)\t0.16097594957258674\n",
            "  (28251, 1573)\t0.08454561366851472\n",
            "  (28251, 683)\t0.145225719618336\n"
          ],
          "name": "stdout"
        }
      ]
    },
    {
      "cell_type": "code",
      "metadata": {
        "id": "jbbsxBtgwVSi",
        "colab": {
          "base_uri": "https://localhost:8080/"
        },
        "outputId": "20ddf590-8dca-44c2-a1c5-a30a5de3d979"
      },
      "source": [
        "print(tfidf_model.toarray())"
      ],
      "execution_count": 21,
      "outputs": [
        {
          "output_type": "stream",
          "text": [
            "[[0. 0. 0. ... 0. 0. 0.]\n",
            " [0. 0. 0. ... 0. 0. 0.]\n",
            " [0. 0. 0. ... 0. 0. 0.]\n",
            " ...\n",
            " [0. 0. 0. ... 0. 0. 0.]\n",
            " [0. 0. 0. ... 0. 0. 0.]\n",
            " [0. 0. 0. ... 0. 0. 0.]]\n"
          ],
          "name": "stdout"
        }
      ]
    },
    {
      "cell_type": "code",
      "metadata": {
        "colab": {
          "base_uri": "https://localhost:8080/",
          "height": 439
        },
        "id": "JKzI2e_k_0TR",
        "outputId": "40195ebf-9f8b-4524-bee1-c62e72f1a389"
      },
      "source": [
        "pd.DataFrame(tfidf_model.toarray(), columns = vectorizer.get_feature_names())"
      ],
      "execution_count": 22,
      "outputs": [
        {
          "output_type": "execute_result",
          "data": {
            "text/html": [
              "<div>\n",
              "<style scoped>\n",
              "    .dataframe tbody tr th:only-of-type {\n",
              "        vertical-align: middle;\n",
              "    }\n",
              "\n",
              "    .dataframe tbody tr th {\n",
              "        vertical-align: top;\n",
              "    }\n",
              "\n",
              "    .dataframe thead th {\n",
              "        text-align: right;\n",
              "    }\n",
              "</style>\n",
              "<table border=\"1\" class=\"dataframe\">\n",
              "  <thead>\n",
              "    <tr style=\"text-align: right;\">\n",
              "      <th></th>\n",
              "      <th>aa</th>\n",
              "      <th>aaa</th>\n",
              "      <th>aaaa</th>\n",
              "      <th>aaaaa</th>\n",
              "      <th>aac</th>\n",
              "      <th>aacute</th>\n",
              "      <th>aarrgghh</th>\n",
              "      <th>ab</th>\n",
              "      <th>aback</th>\n",
              "      <th>abad</th>\n",
              "      <th>abale</th>\n",
              "      <th>abandon</th>\n",
              "      <th>abble</th>\n",
              "      <th>abbreviate</th>\n",
              "      <th>abbreviations</th>\n",
              "      <th>abc</th>\n",
              "      <th>abd</th>\n",
              "      <th>abe</th>\n",
              "      <th>abhor</th>\n",
              "      <th>abiertas</th>\n",
              "      <th>abierto</th>\n",
              "      <th>abilities</th>\n",
              "      <th>ability</th>\n",
              "      <th>abit</th>\n",
              "      <th>abject</th>\n",
              "      <th>able</th>\n",
              "      <th>abm</th>\n",
              "      <th>abnormal</th>\n",
              "      <th>abnormally</th>\n",
              "      <th>aboard</th>\n",
              "      <th>abominable</th>\n",
              "      <th>abomination</th>\n",
              "      <th>abort</th>\n",
              "      <th>abou</th>\n",
              "      <th>abound</th>\n",
              "      <th>about</th>\n",
              "      <th>aboutique</th>\n",
              "      <th>above</th>\n",
              "      <th>abr</th>\n",
              "      <th>abraham</th>\n",
              "      <th>...</th>\n",
              "      <th>zenmotion</th>\n",
              "      <th>zenphone</th>\n",
              "      <th>zentalk</th>\n",
              "      <th>zenui</th>\n",
              "      <th>zenus</th>\n",
              "      <th>zenwatch</th>\n",
              "      <th>zero</th>\n",
              "      <th>zerolemmon</th>\n",
              "      <th>zerolemon</th>\n",
              "      <th>zilch</th>\n",
              "      <th>zillion</th>\n",
              "      <th>zillions</th>\n",
              "      <th>zilutec</th>\n",
              "      <th>zimbabwe</th>\n",
              "      <th>zing</th>\n",
              "      <th>zinio</th>\n",
              "      <th>zip</th>\n",
              "      <th>zippier</th>\n",
              "      <th>zippy</th>\n",
              "      <th>zl</th>\n",
              "      <th>zmax</th>\n",
              "      <th>zodium</th>\n",
              "      <th>zoe</th>\n",
              "      <th>zoho</th>\n",
              "      <th>zombie</th>\n",
              "      <th>zombies</th>\n",
              "      <th>zone</th>\n",
              "      <th>zoodle</th>\n",
              "      <th>zoom</th>\n",
              "      <th>zte</th>\n",
              "      <th>zuk</th>\n",
              "      <th>zune</th>\n",
              "      <th>zunehd</th>\n",
              "      <th>zunepass</th>\n",
              "      <th>zunes</th>\n",
              "      <th>zvoltz</th>\n",
              "      <th>zxcvbnm</th>\n",
              "      <th>zynga</th>\n",
              "      <th>zyxel</th>\n",
              "      <th>zzz</th>\n",
              "    </tr>\n",
              "  </thead>\n",
              "  <tbody>\n",
              "    <tr>\n",
              "      <th>0</th>\n",
              "      <td>0.0</td>\n",
              "      <td>0.0</td>\n",
              "      <td>0.0</td>\n",
              "      <td>0.0</td>\n",
              "      <td>0.0</td>\n",
              "      <td>0.0</td>\n",
              "      <td>0.0</td>\n",
              "      <td>0.0</td>\n",
              "      <td>0.0</td>\n",
              "      <td>0.0</td>\n",
              "      <td>0.0</td>\n",
              "      <td>0.0</td>\n",
              "      <td>0.0</td>\n",
              "      <td>0.0</td>\n",
              "      <td>0.0</td>\n",
              "      <td>0.0</td>\n",
              "      <td>0.0</td>\n",
              "      <td>0.0</td>\n",
              "      <td>0.0</td>\n",
              "      <td>0.0</td>\n",
              "      <td>0.0</td>\n",
              "      <td>0.0</td>\n",
              "      <td>0.0</td>\n",
              "      <td>0.0</td>\n",
              "      <td>0.0</td>\n",
              "      <td>0.000000</td>\n",
              "      <td>0.0</td>\n",
              "      <td>0.0</td>\n",
              "      <td>0.0</td>\n",
              "      <td>0.0</td>\n",
              "      <td>0.0</td>\n",
              "      <td>0.0</td>\n",
              "      <td>0.0</td>\n",
              "      <td>0.0</td>\n",
              "      <td>0.0</td>\n",
              "      <td>0.029194</td>\n",
              "      <td>0.0</td>\n",
              "      <td>0.0</td>\n",
              "      <td>0.0</td>\n",
              "      <td>0.0</td>\n",
              "      <td>...</td>\n",
              "      <td>0.0</td>\n",
              "      <td>0.0</td>\n",
              "      <td>0.0</td>\n",
              "      <td>0.0</td>\n",
              "      <td>0.0</td>\n",
              "      <td>0.0</td>\n",
              "      <td>0.0</td>\n",
              "      <td>0.0</td>\n",
              "      <td>0.0</td>\n",
              "      <td>0.0</td>\n",
              "      <td>0.0</td>\n",
              "      <td>0.0</td>\n",
              "      <td>0.0</td>\n",
              "      <td>0.0</td>\n",
              "      <td>0.0</td>\n",
              "      <td>0.0</td>\n",
              "      <td>0.0</td>\n",
              "      <td>0.0</td>\n",
              "      <td>0.0</td>\n",
              "      <td>0.0</td>\n",
              "      <td>0.0</td>\n",
              "      <td>0.0</td>\n",
              "      <td>0.0</td>\n",
              "      <td>0.0</td>\n",
              "      <td>0.0</td>\n",
              "      <td>0.0</td>\n",
              "      <td>0.0</td>\n",
              "      <td>0.0</td>\n",
              "      <td>0.0</td>\n",
              "      <td>0.0</td>\n",
              "      <td>0.0</td>\n",
              "      <td>0.0</td>\n",
              "      <td>0.0</td>\n",
              "      <td>0.0</td>\n",
              "      <td>0.0</td>\n",
              "      <td>0.0</td>\n",
              "      <td>0.0</td>\n",
              "      <td>0.0</td>\n",
              "      <td>0.0</td>\n",
              "      <td>0.0</td>\n",
              "    </tr>\n",
              "    <tr>\n",
              "      <th>1</th>\n",
              "      <td>0.0</td>\n",
              "      <td>0.0</td>\n",
              "      <td>0.0</td>\n",
              "      <td>0.0</td>\n",
              "      <td>0.0</td>\n",
              "      <td>0.0</td>\n",
              "      <td>0.0</td>\n",
              "      <td>0.0</td>\n",
              "      <td>0.0</td>\n",
              "      <td>0.0</td>\n",
              "      <td>0.0</td>\n",
              "      <td>0.0</td>\n",
              "      <td>0.0</td>\n",
              "      <td>0.0</td>\n",
              "      <td>0.0</td>\n",
              "      <td>0.0</td>\n",
              "      <td>0.0</td>\n",
              "      <td>0.0</td>\n",
              "      <td>0.0</td>\n",
              "      <td>0.0</td>\n",
              "      <td>0.0</td>\n",
              "      <td>0.0</td>\n",
              "      <td>0.0</td>\n",
              "      <td>0.0</td>\n",
              "      <td>0.0</td>\n",
              "      <td>0.000000</td>\n",
              "      <td>0.0</td>\n",
              "      <td>0.0</td>\n",
              "      <td>0.0</td>\n",
              "      <td>0.0</td>\n",
              "      <td>0.0</td>\n",
              "      <td>0.0</td>\n",
              "      <td>0.0</td>\n",
              "      <td>0.0</td>\n",
              "      <td>0.0</td>\n",
              "      <td>0.000000</td>\n",
              "      <td>0.0</td>\n",
              "      <td>0.0</td>\n",
              "      <td>0.0</td>\n",
              "      <td>0.0</td>\n",
              "      <td>...</td>\n",
              "      <td>0.0</td>\n",
              "      <td>0.0</td>\n",
              "      <td>0.0</td>\n",
              "      <td>0.0</td>\n",
              "      <td>0.0</td>\n",
              "      <td>0.0</td>\n",
              "      <td>0.0</td>\n",
              "      <td>0.0</td>\n",
              "      <td>0.0</td>\n",
              "      <td>0.0</td>\n",
              "      <td>0.0</td>\n",
              "      <td>0.0</td>\n",
              "      <td>0.0</td>\n",
              "      <td>0.0</td>\n",
              "      <td>0.0</td>\n",
              "      <td>0.0</td>\n",
              "      <td>0.0</td>\n",
              "      <td>0.0</td>\n",
              "      <td>0.0</td>\n",
              "      <td>0.0</td>\n",
              "      <td>0.0</td>\n",
              "      <td>0.0</td>\n",
              "      <td>0.0</td>\n",
              "      <td>0.0</td>\n",
              "      <td>0.0</td>\n",
              "      <td>0.0</td>\n",
              "      <td>0.0</td>\n",
              "      <td>0.0</td>\n",
              "      <td>0.0</td>\n",
              "      <td>0.0</td>\n",
              "      <td>0.0</td>\n",
              "      <td>0.0</td>\n",
              "      <td>0.0</td>\n",
              "      <td>0.0</td>\n",
              "      <td>0.0</td>\n",
              "      <td>0.0</td>\n",
              "      <td>0.0</td>\n",
              "      <td>0.0</td>\n",
              "      <td>0.0</td>\n",
              "      <td>0.0</td>\n",
              "    </tr>\n",
              "    <tr>\n",
              "      <th>2</th>\n",
              "      <td>0.0</td>\n",
              "      <td>0.0</td>\n",
              "      <td>0.0</td>\n",
              "      <td>0.0</td>\n",
              "      <td>0.0</td>\n",
              "      <td>0.0</td>\n",
              "      <td>0.0</td>\n",
              "      <td>0.0</td>\n",
              "      <td>0.0</td>\n",
              "      <td>0.0</td>\n",
              "      <td>0.0</td>\n",
              "      <td>0.0</td>\n",
              "      <td>0.0</td>\n",
              "      <td>0.0</td>\n",
              "      <td>0.0</td>\n",
              "      <td>0.0</td>\n",
              "      <td>0.0</td>\n",
              "      <td>0.0</td>\n",
              "      <td>0.0</td>\n",
              "      <td>0.0</td>\n",
              "      <td>0.0</td>\n",
              "      <td>0.0</td>\n",
              "      <td>0.0</td>\n",
              "      <td>0.0</td>\n",
              "      <td>0.0</td>\n",
              "      <td>0.000000</td>\n",
              "      <td>0.0</td>\n",
              "      <td>0.0</td>\n",
              "      <td>0.0</td>\n",
              "      <td>0.0</td>\n",
              "      <td>0.0</td>\n",
              "      <td>0.0</td>\n",
              "      <td>0.0</td>\n",
              "      <td>0.0</td>\n",
              "      <td>0.0</td>\n",
              "      <td>0.000000</td>\n",
              "      <td>0.0</td>\n",
              "      <td>0.0</td>\n",
              "      <td>0.0</td>\n",
              "      <td>0.0</td>\n",
              "      <td>...</td>\n",
              "      <td>0.0</td>\n",
              "      <td>0.0</td>\n",
              "      <td>0.0</td>\n",
              "      <td>0.0</td>\n",
              "      <td>0.0</td>\n",
              "      <td>0.0</td>\n",
              "      <td>0.0</td>\n",
              "      <td>0.0</td>\n",
              "      <td>0.0</td>\n",
              "      <td>0.0</td>\n",
              "      <td>0.0</td>\n",
              "      <td>0.0</td>\n",
              "      <td>0.0</td>\n",
              "      <td>0.0</td>\n",
              "      <td>0.0</td>\n",
              "      <td>0.0</td>\n",
              "      <td>0.0</td>\n",
              "      <td>0.0</td>\n",
              "      <td>0.0</td>\n",
              "      <td>0.0</td>\n",
              "      <td>0.0</td>\n",
              "      <td>0.0</td>\n",
              "      <td>0.0</td>\n",
              "      <td>0.0</td>\n",
              "      <td>0.0</td>\n",
              "      <td>0.0</td>\n",
              "      <td>0.0</td>\n",
              "      <td>0.0</td>\n",
              "      <td>0.0</td>\n",
              "      <td>0.0</td>\n",
              "      <td>0.0</td>\n",
              "      <td>0.0</td>\n",
              "      <td>0.0</td>\n",
              "      <td>0.0</td>\n",
              "      <td>0.0</td>\n",
              "      <td>0.0</td>\n",
              "      <td>0.0</td>\n",
              "      <td>0.0</td>\n",
              "      <td>0.0</td>\n",
              "      <td>0.0</td>\n",
              "    </tr>\n",
              "    <tr>\n",
              "      <th>3</th>\n",
              "      <td>0.0</td>\n",
              "      <td>0.0</td>\n",
              "      <td>0.0</td>\n",
              "      <td>0.0</td>\n",
              "      <td>0.0</td>\n",
              "      <td>0.0</td>\n",
              "      <td>0.0</td>\n",
              "      <td>0.0</td>\n",
              "      <td>0.0</td>\n",
              "      <td>0.0</td>\n",
              "      <td>0.0</td>\n",
              "      <td>0.0</td>\n",
              "      <td>0.0</td>\n",
              "      <td>0.0</td>\n",
              "      <td>0.0</td>\n",
              "      <td>0.0</td>\n",
              "      <td>0.0</td>\n",
              "      <td>0.0</td>\n",
              "      <td>0.0</td>\n",
              "      <td>0.0</td>\n",
              "      <td>0.0</td>\n",
              "      <td>0.0</td>\n",
              "      <td>0.0</td>\n",
              "      <td>0.0</td>\n",
              "      <td>0.0</td>\n",
              "      <td>0.000000</td>\n",
              "      <td>0.0</td>\n",
              "      <td>0.0</td>\n",
              "      <td>0.0</td>\n",
              "      <td>0.0</td>\n",
              "      <td>0.0</td>\n",
              "      <td>0.0</td>\n",
              "      <td>0.0</td>\n",
              "      <td>0.0</td>\n",
              "      <td>0.0</td>\n",
              "      <td>0.000000</td>\n",
              "      <td>0.0</td>\n",
              "      <td>0.0</td>\n",
              "      <td>0.0</td>\n",
              "      <td>0.0</td>\n",
              "      <td>...</td>\n",
              "      <td>0.0</td>\n",
              "      <td>0.0</td>\n",
              "      <td>0.0</td>\n",
              "      <td>0.0</td>\n",
              "      <td>0.0</td>\n",
              "      <td>0.0</td>\n",
              "      <td>0.0</td>\n",
              "      <td>0.0</td>\n",
              "      <td>0.0</td>\n",
              "      <td>0.0</td>\n",
              "      <td>0.0</td>\n",
              "      <td>0.0</td>\n",
              "      <td>0.0</td>\n",
              "      <td>0.0</td>\n",
              "      <td>0.0</td>\n",
              "      <td>0.0</td>\n",
              "      <td>0.0</td>\n",
              "      <td>0.0</td>\n",
              "      <td>0.0</td>\n",
              "      <td>0.0</td>\n",
              "      <td>0.0</td>\n",
              "      <td>0.0</td>\n",
              "      <td>0.0</td>\n",
              "      <td>0.0</td>\n",
              "      <td>0.0</td>\n",
              "      <td>0.0</td>\n",
              "      <td>0.0</td>\n",
              "      <td>0.0</td>\n",
              "      <td>0.0</td>\n",
              "      <td>0.0</td>\n",
              "      <td>0.0</td>\n",
              "      <td>0.0</td>\n",
              "      <td>0.0</td>\n",
              "      <td>0.0</td>\n",
              "      <td>0.0</td>\n",
              "      <td>0.0</td>\n",
              "      <td>0.0</td>\n",
              "      <td>0.0</td>\n",
              "      <td>0.0</td>\n",
              "      <td>0.0</td>\n",
              "    </tr>\n",
              "    <tr>\n",
              "      <th>4</th>\n",
              "      <td>0.0</td>\n",
              "      <td>0.0</td>\n",
              "      <td>0.0</td>\n",
              "      <td>0.0</td>\n",
              "      <td>0.0</td>\n",
              "      <td>0.0</td>\n",
              "      <td>0.0</td>\n",
              "      <td>0.0</td>\n",
              "      <td>0.0</td>\n",
              "      <td>0.0</td>\n",
              "      <td>0.0</td>\n",
              "      <td>0.0</td>\n",
              "      <td>0.0</td>\n",
              "      <td>0.0</td>\n",
              "      <td>0.0</td>\n",
              "      <td>0.0</td>\n",
              "      <td>0.0</td>\n",
              "      <td>0.0</td>\n",
              "      <td>0.0</td>\n",
              "      <td>0.0</td>\n",
              "      <td>0.0</td>\n",
              "      <td>0.0</td>\n",
              "      <td>0.0</td>\n",
              "      <td>0.0</td>\n",
              "      <td>0.0</td>\n",
              "      <td>0.000000</td>\n",
              "      <td>0.0</td>\n",
              "      <td>0.0</td>\n",
              "      <td>0.0</td>\n",
              "      <td>0.0</td>\n",
              "      <td>0.0</td>\n",
              "      <td>0.0</td>\n",
              "      <td>0.0</td>\n",
              "      <td>0.0</td>\n",
              "      <td>0.0</td>\n",
              "      <td>0.000000</td>\n",
              "      <td>0.0</td>\n",
              "      <td>0.0</td>\n",
              "      <td>0.0</td>\n",
              "      <td>0.0</td>\n",
              "      <td>...</td>\n",
              "      <td>0.0</td>\n",
              "      <td>0.0</td>\n",
              "      <td>0.0</td>\n",
              "      <td>0.0</td>\n",
              "      <td>0.0</td>\n",
              "      <td>0.0</td>\n",
              "      <td>0.0</td>\n",
              "      <td>0.0</td>\n",
              "      <td>0.0</td>\n",
              "      <td>0.0</td>\n",
              "      <td>0.0</td>\n",
              "      <td>0.0</td>\n",
              "      <td>0.0</td>\n",
              "      <td>0.0</td>\n",
              "      <td>0.0</td>\n",
              "      <td>0.0</td>\n",
              "      <td>0.0</td>\n",
              "      <td>0.0</td>\n",
              "      <td>0.0</td>\n",
              "      <td>0.0</td>\n",
              "      <td>0.0</td>\n",
              "      <td>0.0</td>\n",
              "      <td>0.0</td>\n",
              "      <td>0.0</td>\n",
              "      <td>0.0</td>\n",
              "      <td>0.0</td>\n",
              "      <td>0.0</td>\n",
              "      <td>0.0</td>\n",
              "      <td>0.0</td>\n",
              "      <td>0.0</td>\n",
              "      <td>0.0</td>\n",
              "      <td>0.0</td>\n",
              "      <td>0.0</td>\n",
              "      <td>0.0</td>\n",
              "      <td>0.0</td>\n",
              "      <td>0.0</td>\n",
              "      <td>0.0</td>\n",
              "      <td>0.0</td>\n",
              "      <td>0.0</td>\n",
              "      <td>0.0</td>\n",
              "    </tr>\n",
              "    <tr>\n",
              "      <th>...</th>\n",
              "      <td>...</td>\n",
              "      <td>...</td>\n",
              "      <td>...</td>\n",
              "      <td>...</td>\n",
              "      <td>...</td>\n",
              "      <td>...</td>\n",
              "      <td>...</td>\n",
              "      <td>...</td>\n",
              "      <td>...</td>\n",
              "      <td>...</td>\n",
              "      <td>...</td>\n",
              "      <td>...</td>\n",
              "      <td>...</td>\n",
              "      <td>...</td>\n",
              "      <td>...</td>\n",
              "      <td>...</td>\n",
              "      <td>...</td>\n",
              "      <td>...</td>\n",
              "      <td>...</td>\n",
              "      <td>...</td>\n",
              "      <td>...</td>\n",
              "      <td>...</td>\n",
              "      <td>...</td>\n",
              "      <td>...</td>\n",
              "      <td>...</td>\n",
              "      <td>...</td>\n",
              "      <td>...</td>\n",
              "      <td>...</td>\n",
              "      <td>...</td>\n",
              "      <td>...</td>\n",
              "      <td>...</td>\n",
              "      <td>...</td>\n",
              "      <td>...</td>\n",
              "      <td>...</td>\n",
              "      <td>...</td>\n",
              "      <td>...</td>\n",
              "      <td>...</td>\n",
              "      <td>...</td>\n",
              "      <td>...</td>\n",
              "      <td>...</td>\n",
              "      <td>...</td>\n",
              "      <td>...</td>\n",
              "      <td>...</td>\n",
              "      <td>...</td>\n",
              "      <td>...</td>\n",
              "      <td>...</td>\n",
              "      <td>...</td>\n",
              "      <td>...</td>\n",
              "      <td>...</td>\n",
              "      <td>...</td>\n",
              "      <td>...</td>\n",
              "      <td>...</td>\n",
              "      <td>...</td>\n",
              "      <td>...</td>\n",
              "      <td>...</td>\n",
              "      <td>...</td>\n",
              "      <td>...</td>\n",
              "      <td>...</td>\n",
              "      <td>...</td>\n",
              "      <td>...</td>\n",
              "      <td>...</td>\n",
              "      <td>...</td>\n",
              "      <td>...</td>\n",
              "      <td>...</td>\n",
              "      <td>...</td>\n",
              "      <td>...</td>\n",
              "      <td>...</td>\n",
              "      <td>...</td>\n",
              "      <td>...</td>\n",
              "      <td>...</td>\n",
              "      <td>...</td>\n",
              "      <td>...</td>\n",
              "      <td>...</td>\n",
              "      <td>...</td>\n",
              "      <td>...</td>\n",
              "      <td>...</td>\n",
              "      <td>...</td>\n",
              "      <td>...</td>\n",
              "      <td>...</td>\n",
              "      <td>...</td>\n",
              "      <td>...</td>\n",
              "    </tr>\n",
              "    <tr>\n",
              "      <th>28247</th>\n",
              "      <td>0.0</td>\n",
              "      <td>0.0</td>\n",
              "      <td>0.0</td>\n",
              "      <td>0.0</td>\n",
              "      <td>0.0</td>\n",
              "      <td>0.0</td>\n",
              "      <td>0.0</td>\n",
              "      <td>0.0</td>\n",
              "      <td>0.0</td>\n",
              "      <td>0.0</td>\n",
              "      <td>0.0</td>\n",
              "      <td>0.0</td>\n",
              "      <td>0.0</td>\n",
              "      <td>0.0</td>\n",
              "      <td>0.0</td>\n",
              "      <td>0.0</td>\n",
              "      <td>0.0</td>\n",
              "      <td>0.0</td>\n",
              "      <td>0.0</td>\n",
              "      <td>0.0</td>\n",
              "      <td>0.0</td>\n",
              "      <td>0.0</td>\n",
              "      <td>0.0</td>\n",
              "      <td>0.0</td>\n",
              "      <td>0.0</td>\n",
              "      <td>0.000000</td>\n",
              "      <td>0.0</td>\n",
              "      <td>0.0</td>\n",
              "      <td>0.0</td>\n",
              "      <td>0.0</td>\n",
              "      <td>0.0</td>\n",
              "      <td>0.0</td>\n",
              "      <td>0.0</td>\n",
              "      <td>0.0</td>\n",
              "      <td>0.0</td>\n",
              "      <td>0.000000</td>\n",
              "      <td>0.0</td>\n",
              "      <td>0.0</td>\n",
              "      <td>0.0</td>\n",
              "      <td>0.0</td>\n",
              "      <td>...</td>\n",
              "      <td>0.0</td>\n",
              "      <td>0.0</td>\n",
              "      <td>0.0</td>\n",
              "      <td>0.0</td>\n",
              "      <td>0.0</td>\n",
              "      <td>0.0</td>\n",
              "      <td>0.0</td>\n",
              "      <td>0.0</td>\n",
              "      <td>0.0</td>\n",
              "      <td>0.0</td>\n",
              "      <td>0.0</td>\n",
              "      <td>0.0</td>\n",
              "      <td>0.0</td>\n",
              "      <td>0.0</td>\n",
              "      <td>0.0</td>\n",
              "      <td>0.0</td>\n",
              "      <td>0.0</td>\n",
              "      <td>0.0</td>\n",
              "      <td>0.0</td>\n",
              "      <td>0.0</td>\n",
              "      <td>0.0</td>\n",
              "      <td>0.0</td>\n",
              "      <td>0.0</td>\n",
              "      <td>0.0</td>\n",
              "      <td>0.0</td>\n",
              "      <td>0.0</td>\n",
              "      <td>0.0</td>\n",
              "      <td>0.0</td>\n",
              "      <td>0.0</td>\n",
              "      <td>0.0</td>\n",
              "      <td>0.0</td>\n",
              "      <td>0.0</td>\n",
              "      <td>0.0</td>\n",
              "      <td>0.0</td>\n",
              "      <td>0.0</td>\n",
              "      <td>0.0</td>\n",
              "      <td>0.0</td>\n",
              "      <td>0.0</td>\n",
              "      <td>0.0</td>\n",
              "      <td>0.0</td>\n",
              "    </tr>\n",
              "    <tr>\n",
              "      <th>28248</th>\n",
              "      <td>0.0</td>\n",
              "      <td>0.0</td>\n",
              "      <td>0.0</td>\n",
              "      <td>0.0</td>\n",
              "      <td>0.0</td>\n",
              "      <td>0.0</td>\n",
              "      <td>0.0</td>\n",
              "      <td>0.0</td>\n",
              "      <td>0.0</td>\n",
              "      <td>0.0</td>\n",
              "      <td>0.0</td>\n",
              "      <td>0.0</td>\n",
              "      <td>0.0</td>\n",
              "      <td>0.0</td>\n",
              "      <td>0.0</td>\n",
              "      <td>0.0</td>\n",
              "      <td>0.0</td>\n",
              "      <td>0.0</td>\n",
              "      <td>0.0</td>\n",
              "      <td>0.0</td>\n",
              "      <td>0.0</td>\n",
              "      <td>0.0</td>\n",
              "      <td>0.0</td>\n",
              "      <td>0.0</td>\n",
              "      <td>0.0</td>\n",
              "      <td>0.000000</td>\n",
              "      <td>0.0</td>\n",
              "      <td>0.0</td>\n",
              "      <td>0.0</td>\n",
              "      <td>0.0</td>\n",
              "      <td>0.0</td>\n",
              "      <td>0.0</td>\n",
              "      <td>0.0</td>\n",
              "      <td>0.0</td>\n",
              "      <td>0.0</td>\n",
              "      <td>0.000000</td>\n",
              "      <td>0.0</td>\n",
              "      <td>0.0</td>\n",
              "      <td>0.0</td>\n",
              "      <td>0.0</td>\n",
              "      <td>...</td>\n",
              "      <td>0.0</td>\n",
              "      <td>0.0</td>\n",
              "      <td>0.0</td>\n",
              "      <td>0.0</td>\n",
              "      <td>0.0</td>\n",
              "      <td>0.0</td>\n",
              "      <td>0.0</td>\n",
              "      <td>0.0</td>\n",
              "      <td>0.0</td>\n",
              "      <td>0.0</td>\n",
              "      <td>0.0</td>\n",
              "      <td>0.0</td>\n",
              "      <td>0.0</td>\n",
              "      <td>0.0</td>\n",
              "      <td>0.0</td>\n",
              "      <td>0.0</td>\n",
              "      <td>0.0</td>\n",
              "      <td>0.0</td>\n",
              "      <td>0.0</td>\n",
              "      <td>0.0</td>\n",
              "      <td>0.0</td>\n",
              "      <td>0.0</td>\n",
              "      <td>0.0</td>\n",
              "      <td>0.0</td>\n",
              "      <td>0.0</td>\n",
              "      <td>0.0</td>\n",
              "      <td>0.0</td>\n",
              "      <td>0.0</td>\n",
              "      <td>0.0</td>\n",
              "      <td>0.0</td>\n",
              "      <td>0.0</td>\n",
              "      <td>0.0</td>\n",
              "      <td>0.0</td>\n",
              "      <td>0.0</td>\n",
              "      <td>0.0</td>\n",
              "      <td>0.0</td>\n",
              "      <td>0.0</td>\n",
              "      <td>0.0</td>\n",
              "      <td>0.0</td>\n",
              "      <td>0.0</td>\n",
              "    </tr>\n",
              "    <tr>\n",
              "      <th>28249</th>\n",
              "      <td>0.0</td>\n",
              "      <td>0.0</td>\n",
              "      <td>0.0</td>\n",
              "      <td>0.0</td>\n",
              "      <td>0.0</td>\n",
              "      <td>0.0</td>\n",
              "      <td>0.0</td>\n",
              "      <td>0.0</td>\n",
              "      <td>0.0</td>\n",
              "      <td>0.0</td>\n",
              "      <td>0.0</td>\n",
              "      <td>0.0</td>\n",
              "      <td>0.0</td>\n",
              "      <td>0.0</td>\n",
              "      <td>0.0</td>\n",
              "      <td>0.0</td>\n",
              "      <td>0.0</td>\n",
              "      <td>0.0</td>\n",
              "      <td>0.0</td>\n",
              "      <td>0.0</td>\n",
              "      <td>0.0</td>\n",
              "      <td>0.0</td>\n",
              "      <td>0.0</td>\n",
              "      <td>0.0</td>\n",
              "      <td>0.0</td>\n",
              "      <td>0.041614</td>\n",
              "      <td>0.0</td>\n",
              "      <td>0.0</td>\n",
              "      <td>0.0</td>\n",
              "      <td>0.0</td>\n",
              "      <td>0.0</td>\n",
              "      <td>0.0</td>\n",
              "      <td>0.0</td>\n",
              "      <td>0.0</td>\n",
              "      <td>0.0</td>\n",
              "      <td>0.061903</td>\n",
              "      <td>0.0</td>\n",
              "      <td>0.0</td>\n",
              "      <td>0.0</td>\n",
              "      <td>0.0</td>\n",
              "      <td>...</td>\n",
              "      <td>0.0</td>\n",
              "      <td>0.0</td>\n",
              "      <td>0.0</td>\n",
              "      <td>0.0</td>\n",
              "      <td>0.0</td>\n",
              "      <td>0.0</td>\n",
              "      <td>0.0</td>\n",
              "      <td>0.0</td>\n",
              "      <td>0.0</td>\n",
              "      <td>0.0</td>\n",
              "      <td>0.0</td>\n",
              "      <td>0.0</td>\n",
              "      <td>0.0</td>\n",
              "      <td>0.0</td>\n",
              "      <td>0.0</td>\n",
              "      <td>0.0</td>\n",
              "      <td>0.0</td>\n",
              "      <td>0.0</td>\n",
              "      <td>0.0</td>\n",
              "      <td>0.0</td>\n",
              "      <td>0.0</td>\n",
              "      <td>0.0</td>\n",
              "      <td>0.0</td>\n",
              "      <td>0.0</td>\n",
              "      <td>0.0</td>\n",
              "      <td>0.0</td>\n",
              "      <td>0.0</td>\n",
              "      <td>0.0</td>\n",
              "      <td>0.0</td>\n",
              "      <td>0.0</td>\n",
              "      <td>0.0</td>\n",
              "      <td>0.0</td>\n",
              "      <td>0.0</td>\n",
              "      <td>0.0</td>\n",
              "      <td>0.0</td>\n",
              "      <td>0.0</td>\n",
              "      <td>0.0</td>\n",
              "      <td>0.0</td>\n",
              "      <td>0.0</td>\n",
              "      <td>0.0</td>\n",
              "    </tr>\n",
              "    <tr>\n",
              "      <th>28250</th>\n",
              "      <td>0.0</td>\n",
              "      <td>0.0</td>\n",
              "      <td>0.0</td>\n",
              "      <td>0.0</td>\n",
              "      <td>0.0</td>\n",
              "      <td>0.0</td>\n",
              "      <td>0.0</td>\n",
              "      <td>0.0</td>\n",
              "      <td>0.0</td>\n",
              "      <td>0.0</td>\n",
              "      <td>0.0</td>\n",
              "      <td>0.0</td>\n",
              "      <td>0.0</td>\n",
              "      <td>0.0</td>\n",
              "      <td>0.0</td>\n",
              "      <td>0.0</td>\n",
              "      <td>0.0</td>\n",
              "      <td>0.0</td>\n",
              "      <td>0.0</td>\n",
              "      <td>0.0</td>\n",
              "      <td>0.0</td>\n",
              "      <td>0.0</td>\n",
              "      <td>0.0</td>\n",
              "      <td>0.0</td>\n",
              "      <td>0.0</td>\n",
              "      <td>0.000000</td>\n",
              "      <td>0.0</td>\n",
              "      <td>0.0</td>\n",
              "      <td>0.0</td>\n",
              "      <td>0.0</td>\n",
              "      <td>0.0</td>\n",
              "      <td>0.0</td>\n",
              "      <td>0.0</td>\n",
              "      <td>0.0</td>\n",
              "      <td>0.0</td>\n",
              "      <td>0.000000</td>\n",
              "      <td>0.0</td>\n",
              "      <td>0.0</td>\n",
              "      <td>0.0</td>\n",
              "      <td>0.0</td>\n",
              "      <td>...</td>\n",
              "      <td>0.0</td>\n",
              "      <td>0.0</td>\n",
              "      <td>0.0</td>\n",
              "      <td>0.0</td>\n",
              "      <td>0.0</td>\n",
              "      <td>0.0</td>\n",
              "      <td>0.0</td>\n",
              "      <td>0.0</td>\n",
              "      <td>0.0</td>\n",
              "      <td>0.0</td>\n",
              "      <td>0.0</td>\n",
              "      <td>0.0</td>\n",
              "      <td>0.0</td>\n",
              "      <td>0.0</td>\n",
              "      <td>0.0</td>\n",
              "      <td>0.0</td>\n",
              "      <td>0.0</td>\n",
              "      <td>0.0</td>\n",
              "      <td>0.0</td>\n",
              "      <td>0.0</td>\n",
              "      <td>0.0</td>\n",
              "      <td>0.0</td>\n",
              "      <td>0.0</td>\n",
              "      <td>0.0</td>\n",
              "      <td>0.0</td>\n",
              "      <td>0.0</td>\n",
              "      <td>0.0</td>\n",
              "      <td>0.0</td>\n",
              "      <td>0.0</td>\n",
              "      <td>0.0</td>\n",
              "      <td>0.0</td>\n",
              "      <td>0.0</td>\n",
              "      <td>0.0</td>\n",
              "      <td>0.0</td>\n",
              "      <td>0.0</td>\n",
              "      <td>0.0</td>\n",
              "      <td>0.0</td>\n",
              "      <td>0.0</td>\n",
              "      <td>0.0</td>\n",
              "      <td>0.0</td>\n",
              "    </tr>\n",
              "    <tr>\n",
              "      <th>28251</th>\n",
              "      <td>0.0</td>\n",
              "      <td>0.0</td>\n",
              "      <td>0.0</td>\n",
              "      <td>0.0</td>\n",
              "      <td>0.0</td>\n",
              "      <td>0.0</td>\n",
              "      <td>0.0</td>\n",
              "      <td>0.0</td>\n",
              "      <td>0.0</td>\n",
              "      <td>0.0</td>\n",
              "      <td>0.0</td>\n",
              "      <td>0.0</td>\n",
              "      <td>0.0</td>\n",
              "      <td>0.0</td>\n",
              "      <td>0.0</td>\n",
              "      <td>0.0</td>\n",
              "      <td>0.0</td>\n",
              "      <td>0.0</td>\n",
              "      <td>0.0</td>\n",
              "      <td>0.0</td>\n",
              "      <td>0.0</td>\n",
              "      <td>0.0</td>\n",
              "      <td>0.0</td>\n",
              "      <td>0.0</td>\n",
              "      <td>0.0</td>\n",
              "      <td>0.000000</td>\n",
              "      <td>0.0</td>\n",
              "      <td>0.0</td>\n",
              "      <td>0.0</td>\n",
              "      <td>0.0</td>\n",
              "      <td>0.0</td>\n",
              "      <td>0.0</td>\n",
              "      <td>0.0</td>\n",
              "      <td>0.0</td>\n",
              "      <td>0.0</td>\n",
              "      <td>0.000000</td>\n",
              "      <td>0.0</td>\n",
              "      <td>0.0</td>\n",
              "      <td>0.0</td>\n",
              "      <td>0.0</td>\n",
              "      <td>...</td>\n",
              "      <td>0.0</td>\n",
              "      <td>0.0</td>\n",
              "      <td>0.0</td>\n",
              "      <td>0.0</td>\n",
              "      <td>0.0</td>\n",
              "      <td>0.0</td>\n",
              "      <td>0.0</td>\n",
              "      <td>0.0</td>\n",
              "      <td>0.0</td>\n",
              "      <td>0.0</td>\n",
              "      <td>0.0</td>\n",
              "      <td>0.0</td>\n",
              "      <td>0.0</td>\n",
              "      <td>0.0</td>\n",
              "      <td>0.0</td>\n",
              "      <td>0.0</td>\n",
              "      <td>0.0</td>\n",
              "      <td>0.0</td>\n",
              "      <td>0.0</td>\n",
              "      <td>0.0</td>\n",
              "      <td>0.0</td>\n",
              "      <td>0.0</td>\n",
              "      <td>0.0</td>\n",
              "      <td>0.0</td>\n",
              "      <td>0.0</td>\n",
              "      <td>0.0</td>\n",
              "      <td>0.0</td>\n",
              "      <td>0.0</td>\n",
              "      <td>0.0</td>\n",
              "      <td>0.0</td>\n",
              "      <td>0.0</td>\n",
              "      <td>0.0</td>\n",
              "      <td>0.0</td>\n",
              "      <td>0.0</td>\n",
              "      <td>0.0</td>\n",
              "      <td>0.0</td>\n",
              "      <td>0.0</td>\n",
              "      <td>0.0</td>\n",
              "      <td>0.0</td>\n",
              "      <td>0.0</td>\n",
              "    </tr>\n",
              "  </tbody>\n",
              "</table>\n",
              "<p>28252 rows × 19689 columns</p>\n",
              "</div>"
            ],
            "text/plain": [
              "        aa  aaa  aaaa  aaaaa  aac  ...  zvoltz  zxcvbnm  zynga  zyxel  zzz\n",
              "0      0.0  0.0   0.0    0.0  0.0  ...     0.0      0.0    0.0    0.0  0.0\n",
              "1      0.0  0.0   0.0    0.0  0.0  ...     0.0      0.0    0.0    0.0  0.0\n",
              "2      0.0  0.0   0.0    0.0  0.0  ...     0.0      0.0    0.0    0.0  0.0\n",
              "3      0.0  0.0   0.0    0.0  0.0  ...     0.0      0.0    0.0    0.0  0.0\n",
              "4      0.0  0.0   0.0    0.0  0.0  ...     0.0      0.0    0.0    0.0  0.0\n",
              "...    ...  ...   ...    ...  ...  ...     ...      ...    ...    ...  ...\n",
              "28247  0.0  0.0   0.0    0.0  0.0  ...     0.0      0.0    0.0    0.0  0.0\n",
              "28248  0.0  0.0   0.0    0.0  0.0  ...     0.0      0.0    0.0    0.0  0.0\n",
              "28249  0.0  0.0   0.0    0.0  0.0  ...     0.0      0.0    0.0    0.0  0.0\n",
              "28250  0.0  0.0   0.0    0.0  0.0  ...     0.0      0.0    0.0    0.0  0.0\n",
              "28251  0.0  0.0   0.0    0.0  0.0  ...     0.0      0.0    0.0    0.0  0.0\n",
              "\n",
              "[28252 rows x 19689 columns]"
            ]
          },
          "metadata": {
            "tags": []
          },
          "execution_count": 22
        }
      ]
    },
    {
      "cell_type": "code",
      "metadata": {
        "colab": {
          "base_uri": "https://localhost:8080/"
        },
        "id": "wvLzK8vE_-Pb",
        "outputId": "43b6cee6-a742-4320-938b-3c28e8bccd1a"
      },
      "source": [
        "print(vectorizer.get_feature_names())"
      ],
      "execution_count": 23,
      "outputs": [
        {
          "output_type": "stream",
          "text": [
            "['aa', 'aaa', 'aaaa', 'aaaaa', 'aac', 'aacute', 'aarrgghh', 'ab', 'aback', 'abad', 'abale', 'abandon', 'abble', 'abbreviate', 'abbreviations', 'abc', 'abd', 'abe', 'abhor', 'abiertas', 'abierto', 'abilities', 'ability', 'abit', 'abject', 'able', 'abm', 'abnormal', 'abnormally', 'aboard', 'abominable', 'abomination', 'abort', 'abou', 'abound', 'about', 'aboutique', 'above', 'abr', 'abraham', 'abrams', 'abrasive', 'abrasives', 'abreast', 'abroad', 'abrupt', 'abruptly', 'absence', 'absent', 'absolsutely', 'absolute', 'absoluted', 'absolutely', 'absolutley', 'absolutly', 'absorb', 'absorbent', 'absorption', 'absorptive', 'absoulty', 'abstain', 'abstract', 'absurd', 'absurdity', 'absurdly', 'abt', 'abundance', 'abundant', 'abuse', 'abuser', 'abusive', 'abvious', 'abysmal', 'abysmally', 'ac', 'aca', 'acabado', 'acabados', 'academic', 'acalendar', 'acar', 'acativated', 'acc', 'accecssable', 'accelerate', 'acceleration', 'accelerator', 'accelerometer', 'accend', 'accent', 'accept', 'acceptable', 'acceptably', 'acceptance', 'acceptible', 'acces', 'acceso', 'accesories', 'accesorios', 'accesory', 'access', 'accessable', 'accessibility', 'accessible', 'accessories', 'accessorising', 'accessory', 'accident', 'accidental', 'accidentall', 'accidentally', 'accidentaly', 'accidently', 'accidents', 'acclaim', 'acclimate', 'accolade', 'accolades', 'accommodate', 'accomodating', 'accompany', 'accomplish', 'accord', 'accordance', 'accordingly', 'account', 'accountability', 'accountable', 'accountlike', 'accout', 'accross', 'acct', 'accumulate', 'accumulation', 'accuracy', 'accurate', 'accurately', 'accusatory', 'accuse', 'accustom', 'accuweather', 'ace', 'acend', 'acept', 'aceptable', 'acer', 'acers', 'acfepted', 'ache', 'acheivements', 'achieve', 'achievement', 'achievements', 'achievment', 'achilles', 'acid', 'acknowledge', 'acordada', 'acordadon', 'acorde', 'acostumbrare', 'acquaint', 'acquaintances', 'acquire', 'acquisition', 'acrd', 'acrobat', 'acrobate', 'acroos', 'across', 'acsesorios', 'act', 'action', 'actionpie', 'actiontec', 'activar', 'activate', 'activation', 'activations', 'activator', 'active', 'actively', 'actives', 'activesync', 'activia', 'activily', 'activist', 'activities', 'activity', 'acto', 'actors', 'actresses', 'actual', 'actuality', 'actualization', 'actually', 'actuallyvery', 'actualy', 'actuation', 'acually', 'acurate', 'acute', 'acutel', 'acutely', 'acutomatically', 'ad', 'ada', 'adabter', 'adam', 'adamant', 'adapt', 'adaptable', 'adaptation', 'adaptations', 'adapter', 'adapters', 'adaptive', 'adaptor', 'adaptors', 'adata', 'adaway', 'adays', 'adb', 'adblock', 'add', 'addable', 'addendum', 'addict', 'addiction', 'addictive', 'addition', 'additional', 'additionally', 'additionals', 'additions', 'addon', 'addons', 'address', 'addressbook', 'addy', 'adem', 'ademas', 'adems', 'adeno', 'adept', 'adequate', 'adequately', 'adhere', 'adhesive', 'adicionalmente', 'adidas', 'adirondacks', 'aditional', 'aditions', 'adjacent', 'adjust', 'adjustability', 'adjustable', 'adjuster', 'adjustment', 'adjustments', 'adjutizes', 'admin', 'administer', 'administrater', 'administrator', 'administrators', 'admirable', 'admirably', 'admiral', 'admiration', 'admire', 'admirer', 'admission', 'admit', 'admittedly', 'adn', 'adobe', 'adont', 'adopt', 'adoptable', 'adopter', 'adopters', 'adoption', 'adoptive', 'adorable', 'adore', 'adownloader', 'adquate', 'adquiridad', 'adreno', 'adroid', 'ads', 'adult', 'adultos', 'adults', 'adv', 'advance', 'advancement', 'advancements', 'advantage', 'advantageous', 'advatages', 'advent', 'adventure', 'adventurer', 'adventurous', 'adverse', 'advert', 'advertiesed', 'advertise', 'advertisement', 'advertisements', 'advertiser', 'advertisment', 'advertize', 'advice', 'adviced', 'advisable', 'advise', 'advisor', 'advisories', 'advocate', 'advuse', 'adw', 'adware', 'ae', 'aer', 'aero', 'aesthetic', 'aesthetically', 'aesthetics', 'aethetically', 'af', 'afaik', 'afar', 'afe', 'afeter', 'affair', 'affect', 'affection', 'affiliate', 'affiliation', 'affiliations', 'affine', 'affinity', 'affirm', 'affix', 'afford', 'affordability', 'affordable', 'affp', 'afghanistan', 'aficionado', 'aficionados', 'afloat', 'afore', 'aforementioned', 'afraid', 'africa', 'african', 'aftee', 'aftemarket', 'after', 'afterall', 'afterlight', 'aftermarket', 'afternoon', 'afterthought', 'afterthoughts', 'afterward', 'afterwards', 'afther', 'again', 'against', 'againt', 'age', 'ageis', 'agency', 'agenda', 'agent', 'agents', 'aggravate', 'aggravatingly', 'aggravation', 'aggregate', 'aggregation', 'aggresive', 'aggressive', 'aggressively', 'aggressiveness', 'aggrevated', 'agil', 'agile', 'agin', 'agnostic', 'ago', 'agonize', 'agonizingly', 'agony', 'agps', 'agradecido', 'agree', 'agreeable', 'agreement', 'agregar', 'agressive', 'agua', 'agusta', 'ah', 'ahead', 'ahem', 'ahh', 'ahhh', 'ahmed', 'ahold', 'aholic', 'ahora', 'ahorafunciona', 'ahppy', 'ahs', 'ai', 'aid', 'aide', 'aiff', 'aiko', 'aim', 'aimlessly', 'aimo', 'aimportar', 'ain', 'aint', 'aio', 'air', 'airbags', 'airbnb', 'airborne', 'aircraft', 'airdroid', 'airline', 'airplane', 'airplay', 'airport', 'airports', 'airrave', 'airstrike', 'airtech', 'airtel', 'airtight', 'airtime', 'airvent', 'airview', 'airvoice', 'airwaves', 'aisle', 'aiways', 'aj', 'ajpd', 'ajustado', 'ajustes', 'ak', 'aka', 'akg', 'akin', 'akron', 'akrutosync', 'akward', 'akwnowedges', 'al', 'ala', 'alac', 'alacrity', 'aladdinsane', 'alarm', 'alarmingly', 'alas', 'alaska', 'alawys', 'albany', 'albeit', 'alberto', 'album', 'albums', 'alcaltec', 'alcaltel', 'alcatel', 'alcatels', 'alcatraz', 'alcohol', 'aldiko', 'aleady', 'alec', 'aleman', 'alert', 'alex', 'alexa', 'alexander', 'alfanumeric', 'alfred', 'algo', 'algorithm', 'algorithms', 'alguien', 'algun', 'algunas', 'alias', 'aliases', 'aliasing', 'alicia', 'alien', 'alienate', 'alienware', 'align', 'alignment', 'alike', 'alil', 'aliminium', 'alittle', 'alive', 'all', 'allege', 'allegedly', 'allegiance', 'allen', 'allergic', 'alleviate', 'alley', 'alll', 'allllll', 'allllllll', 'allocate', 'allocation', 'allot', 'allotments', 'allover', 'allow', 'allowance', 'alloy', 'allplay', 'allrecipes', 'allrounder', 'alls', 'allshare', 'alltel', 'alltogether', 'allude', 'allure', 'allways', 'ally', 'almighty', 'almoed', 'almos', 'almost', 'alndthe', 'alo', 'alone', 'along', 'alongside', 'alongwith', 'alot', 'aloud', 'alows', 'alpha', 'alphabet', 'alphabetical', 'alphabetically', 'alphabetize', 'alphanumeric', 'alpine', 'alps', 'already', 'alreay', 'alright', 'alrrededor', 'alsdo', 'also', 'alsoo', 'alsticulo', 'altamente', 'alter', 'alternate', 'alternately', 'alternative', 'alternatively', 'alternatives', 'altho', 'although', 'althought', 'altimeter', 'altitude', 'alto', 'altogether', 'altruistically', 'aluminium', 'aluminum', 'alwaus', 'alway', 'always', 'alwayson', 'alzheimer', 'ama', 'amable', 'amaizing', 'amalgamation', 'amall', 'amaloid', 'amateur', 'amateurish', 'amateurs', 'amaxing', 'amazaing', 'amazaon', 'amaze', 'amazeballs', 'amazegps', 'amazement', 'amazingly', 'amazingness', 'amazment', 'amazon', 'amazoners', 'amazonoholic', 'amazons', 'amazonsmile', 'amazonwireless', 'amber', 'ambidextrous', 'ambience', 'ambient', 'ambiguous', 'ambition', 'ambitious', 'ambivalent', 'ambulance', 'amd', 'ame', 'ameliorate', 'amend', 'amendment', 'amenities', 'amenviousand', 'america', 'american', 'americana', 'americano', 'americanos', 'americans', 'americas', 'amex', 'amfilm', 'amid', 'amidst', 'amigo', 'amigos', 'amisleading', 'amiss', 'amistosa', 'amloed', 'amoeled', 'amold', 'amoled', 'amoleds', 'among', 'amongst', 'amost', 'amoung', 'amount', 'amp', 'amped', 'amperage', 'amph', 'ample', 'ampliamente', 'amplifier', 'amplify', 'amply', 'amps', 'amr', 'amuse', 'amusement', 'amz', 'amzer', 'amzon', 'an', 'anaheim', 'anal', 'analog', 'analogs', 'analogy', 'analysis', 'analyst', 'analyze', 'analyzer', 'analyzers', 'anamation', 'anandtech', 'ancestors', 'ancestry', 'anchor', 'ancient', 'ancillary', 'and', 'andcapps', 'anddd', 'ande', 'andi', 'andoid', 'andorid', 'andreas', 'andrew', 'andrid', 'andriod', 'andriods', 'androd', 'androi', 'android', 'androidcentral', 'androiddrawer', 'androides', 'androidforums', 'androidify', 'androidos', 'androids', 'androidtm', 'androidwear', 'androig', 'androind', 'andropen', 'ands', 'andthis', 'andthrilled', 'andy', 'anemic', 'anew', 'angel', 'angeles', 'angels', 'anger', 'angi', 'angle', 'angola', 'angreat', 'angroid', 'angry', 'angrybird', 'anguish', 'angular', 'animal', 'animales', 'animals', 'animate', 'animation', 'animations', 'anime', 'anker', 'ankle', 'anna', 'annihilate', 'anniversary', 'annnnd', 'annnoyed', 'announce', 'announcement', 'announcements', 'announcer', 'annoy', 'annoyance', 'annoyances', 'annoyin', 'annoyingly', 'annoyng', 'anntes', 'annual', 'annually', 'annyoing', 'anodize', 'anoing', 'anomalies', 'anomaly', 'another', 'anothers', 'anounced', 'anoying', 'anroid', 'ans', 'answer', 'ant', 'ante', 'anteannas', 'antenna', 'antennae', 'antennagate', 'antennas', 'anther', 'anthing', 'anti', 'anticipate', 'anticipation', 'antiquate', 'antique', 'antishake', 'antivirus', 'antutu', 'anuncia', 'anway', 'anxiety', 'anxious', 'anxiously', 'any', 'anybody', 'anyconnect', 'anydamage', 'anyday', 'anyhoo', 'anyhow', 'anymore', 'anyone', 'anyones', 'anyother', 'anyplace', 'anything', 'anythingseveral', 'anytime', 'anyting', 'anyway', 'anyways', 'anywhere', 'anywho', 'ao', 'aod', 'aok', 'aokp', 'aol', 'aos', 'aosp', 'ap', 'apaga', 'apago', 'apart', 'apartment', 'ape', 'apenas', 'apepars', 'aperature', 'aperture', 'apex', 'aphalt', 'api', 'apiece', 'apitode', 'apk', 'apkpure', 'apks', 'aplicacins', 'aplicaciones', 'aplicatinons', 'aplications', 'apn', 'apns', 'apo', 'apollo', 'apologetic', 'apologies', 'apologize', 'apology', 'apon', 'apostrophe', 'app', 'appal', 'appalachian', 'apparent', 'apparently', 'appart', 'appcenter', 'appcentric', 'appdrawer', 'appeal', 'appear', 'appearance', 'appearances', 'appearingto', 'appease', 'apped', 'appel', 'appellation', 'append', 'apperature', 'applaud', 'applause', 'apple', 'applealing', 'applebee', 'applecare', 'apples', 'applet', 'appletv', 'applewebkit', 'appliance', 'appliances', 'applicable', 'applicaiton', 'application', 'applications', 'applicatons', 'applicator', 'applictions', 'apply', 'appmrg', 'appoint', 'appointment', 'appointments', 'appples', 'appreciable', 'appreciate', 'appreciation', 'appreciative', 'apprehension', 'apprehensions', 'apprehensive', 'apprently', 'appriciate', 'approach', 'appropriate', 'appropriately', 'approval', 'approve', 'approx', 'approximate', 'approximately', 'apps', 'appstore', 'appts', 'appworld', 'apr', 'apreciate', 'apreciated', 'april', 'aprovechen', 'aprox', 'aprx', 'aps', 'apt', 'aptly', 'aptoide', 'aptx', 'apwars', 'apx', 'aqbout', 'aqu', 'aqua', 'aquamail', 'aquos', 'ar', 'arab', 'arabia', 'arabic', 'arbitrarily', 'arbitrary', 'arc', 'arch', 'archaic', 'archer', 'archie', 'architects', 'architectural', 'architecture', 'archive', 'archos', 'arcrylic', 'ardent', 'arduieno', 'area', 'areas', 'aren', 'arena', 'arent', 'areser', 'arg', 'argentina', 'argh', 'arguable', 'arguably', 'argue', 'argument', 'arguments', 'aria', 'aric', 'arise', 'arived', 'arizona', 'arkon', 'arlington', 'arm', 'armband', 'armor', 'armorbox', 'armorsuit', 'armour', 'arnt', 'around', 'arounds', 'aroung', 'arp', 'arrange', 'arrangemen', 'arrangement', 'arrangements', 'array', 'arrears', 'arreglo', 'arreliable', 'arrepentiran', 'arrester', 'arrgggghhhhhh', 'arrival', 'arrive', 'arrogance', 'arrogant', 'arround', 'arrow', 'arrows', 'ars', 'arsenal', 'arstechnica', 'art', 'artculo', 'artculos', 'arthritis', 'artic', 'article', 'articulo', 'artifact', 'artifacting', 'artifacts', 'artificial', 'artificially', 'artis', 'artist', 'artistic', 'artists', 'artlessly', 'artrage', 'arts', 'artwork', 'as', 'asain', 'asap', 'asca', 'ascend', 'ascendmate', 'ascertain', 'ascetically', 'ascetics', 'ash', 'asha', 'ashame', 'ashamed', 'ashphalut', 'asi', 'asia', 'asian', 'asianglobo', 'aside', 'asides', 'asimov', 'asin', 'asinine', 'ask', 'askziggy', 'asleep', 'aso', 'asombroso', 'asome', 'aspec', 'aspect', 'aspects', 'asphalt', 'asphault', 'aspire', 'ass', 'assay', 'assed', 'assemble', 'assembly', 'asses', 'assess', 'assessable', 'assessment', 'assessments', 'assessory', 'asset', 'assets', 'asside', 'assign', 'assignable', 'assignment', 'assist', 'assistance', 'assistant', 'assistants', 'assistive', 'assmooth', 'assness', 'associate', 'assortment', 'assume', 'assumption', 'assurance', 'assurances', 'assure', 'assuredly', 'asthetic', 'astonish', 'astound', 'astoundingly', 'astro', 'astronomically', 'astronomy', 'astute', 'asu', 'asurion', 'asus', 'aswell', 'asylum', 'asynchronous', 'at', 'atari', 'atat', 'atc', 'atch', 'aten', 'atencin', 'atentamente', 'atentio', 'atention', 'atenttion', 'aterm', 'athother', 'atimes', 'ativ', 'atix', 'atk', 'atlanta', 'atlas', 'atlast', 'atleast', 'atm', 'atnt', 'atom', 'atomic', 'atool', 'atractive', 'atraves', 'atrium', 'atrix', 'atrocious', 'ats', 'att', 'attach', 'attachment', 'attachments', 'attacjed', 'attack', 'attain', 'attatchment', 'attcustomercare', 'attemping', 'attempt', 'attend', 'attendant', 'attendants', 'attention', 'attentive', 'attentively', 'attest', 'attic', 'attitude', 'attitudes', 'attmept', 'attorney', 'attract', 'attraction', 'attractions', 'attractive', 'attractor', 'attribute', 'atts', 'attune', 'atv', 'auction', 'audacity', 'audfonos', 'audia', 'audible', 'audibly', 'audience', 'audiences', 'audifonos', 'audio', 'audiobook', 'audiobooks', 'audiofx', 'audiophile', 'audiophiles', 'audios', 'audiotechnica', 'audiphone', 'auditory', 'aug', 'augment', 'augur', 'august', 'aukey', 'aun', 'aunque', 'aunt', 'aura', 'auriculares', 'austin', 'australia', 'australian', 'authenicating', 'authenitc', 'authentic', 'authenticate', 'authentication', 'authenticator', 'authenticity', 'author', 'authorise', 'authorities', 'authority', 'authorization', 'authorize', 'autistic', 'auto', 'autobahn', 'autobrightness', 'autocompletar', 'autocomplete', 'autoconnects', 'autocorrect', 'autocorrection', 'autocorrects', 'autodesk', 'autofills', 'autofocus', 'autofocusing', 'autoload', 'autoloaders', 'autolock', 'automagic', 'automagically', 'automate', 'automatic', 'automatically', 'automaticlly', 'automatico', 'automation', 'automobile', 'autonomy', 'autopay', 'autoreset', 'autorotate', 'autorotation', 'autostart', 'autostarting', 'autosync', 'autumn', 'aux', 'av', 'avail', 'availability', 'available', 'availablity', 'availble', 'availible', 'availlable', 'avalable', 'avaliable', 'avalible', 'avalon', 'avant', 'avants', 'avast', 'avatar', 'avchd', 'aveces', 'avenue', 'aver', 'average', 'averagely', 'averge', 'avertised', 'avg', 'avi', 'aviate', 'aviation', 'avid', 'aviv', 'avl', 'avls', 'avoid', 'avoidable', 'avoidance', 'avrcp', 'avrpc', 'await', 'awake', 'awaken', 'award', 'aware', 'awash', 'away', 'aways', 'awe', 'aweeeesome', 'aweful', 'aweseome', 'awesoem', 'awesom', 'awesome', 'awesomely', 'awesomeness', 'awesone', 'awful', 'awfull', 'awfully', 'awhile', 'awidget', 'awkward', 'awkwardly', 'awkwardness', 'awnsered', 'awry', 'aws', 'awsome', 'awsomeness', 'awsomw', 'aww', 'awww', 'awwww', 'axel', 'axim', 'axis', 'axon', 'axxon', 'ay', 'ayear', 'ayer', 'ayude', 'ayway', 'az', 'azus', 'azz', 'baaajillion', 'baby', 'babysitter', 'bacation', 'bach', 'back', 'backbeat', 'backberry', 'backbone', 'backcountry', 'backcover', 'backdoor', 'backdrop', 'backend', 'backfire', 'backflip', 'backgroud', 'background', 'backlight', 'backlighting', 'backlights', 'backlit', 'backordered', 'backpack', 'backpackers', 'backpedal', 'backplate', 'backround', 'backside', 'backspace', 'backstory', 'backup', 'backups', 'backward', 'backwards', 'backyard', 'bacon', 'bact', 'bad', 'badass', 'badboy', 'baddddd', 'baddie', 'badge', 'badland', 'badly', 'badness', 'badoo', 'bads', 'bae', 'baffle', 'bag', 'baggy', 'bagillion', 'bah', 'bahamas', 'baidu', 'bail', 'bait', 'baja', 'bajar', 'bajara', 'bajo', 'bake', 'balance', 'balck', 'balcony', 'bali', 'balistic', 'balk', 'balky', 'ball', 'baller', 'ballers', 'ballin', 'ballistic', 'ballistics', 'balloon', 'ballpark', 'baloney', 'baltimore', 'balzing', 'bam', 'bamboo', 'bammm', 'ban', 'bananas', 'bananassss', 'band', 'bandage', 'bandas', 'bandh', 'bandits', 'bandwagon', 'bandwidth', 'bandwidthits', 'bandwidths', 'bandwith', 'bane', 'bang', 'bangalore', 'bank', 'bankrupt', 'bankruptcy', 'banner', 'banter', 'bar', 'barack', 'barato', 'barbados', 'barcelona', 'barcode', 'barcodes', 'bare', 'barebone', 'barebones', 'barely', 'barest', 'barf', 'bargain', 'bargin', 'baritone', 'barley', 'barn', 'barnacle', 'barnes', 'barometer', 'barometric', 'barrage', 'barrel', 'barren', 'barrier', 'barriers', 'barries', 'barry', 'bartenders', 'base', 'baseball', 'baseband', 'baseline', 'basement', 'bash', 'basi', 'basic', 'basically', 'basicamente', 'basicly', 'basicness', 'basics', 'basis', 'bask', 'basketball', 'bass', 'bassy', 'bassyie', 'bast', 'bastante', 'basura', 'bat', 'batch', 'bately', 'batera', 'bateria', 'baterie', 'bateries', 'baterry', 'batery', 'bath', 'bathroom', 'bathtub', 'baton', 'batry', 'batsh', 'batt', 'battary', 'batter', 'batterie', 'batteries', 'batterlife', 'batterry', 'battery', 'batteryhave', 'batterylife', 'batteryou', 'batterys', 'battey', 'battle', 'battrey', 'batttery', 'batty', 'bay', 'bayshine', 'bb', 'bbb', 'bbc', 'bberries', 'bberry', 'bbery', 'bbm', 'bbmessenger', 'bbming', 'bbos', 'bbry', 'bbs', 'bbuy', 'bbw', 'bbx', 'bby', 'bc', 'bcause', 'bck', 'bckp', 'bcuz', 'bd', 'bday', 'bds', 'bdsj', 'bdu', 'be', 'beable', 'beach', 'beacon', 'beacuse', 'bead', 'beam', 'beamer', 'bean', 'bear', 'bearable', 'bearer', 'beast', 'beastly', 'beat', 'beater', 'beatiful', 'beatifull', 'beatsaudio', 'beattie', 'beatutiful', 'beatyfull', 'beauties', 'beautiful', 'beautifull', 'beautifully', 'beautifuly', 'beautify', 'beautifyl', 'beauty', 'beautyful', 'beaver', 'bebuzz', 'bebuzzed', 'bec', 'becasue', 'becausae', 'because', 'becaused', 'becausr', 'beckon', 'become', 'becuase', 'becuse', 'bed', 'bedroom', 'bedrooms', 'bedside', 'bedtime', 'bee', 'beee', 'beef', 'beefier', 'beefy', 'beem', 'beep', 'beer', 'beermoney', 'beetle', 'beets', 'befo', 'befoe', 'befor', 'before', 'beforehand', 'beg', 'begginer', 'begin', 'beginner', 'beginners', 'begrudge', 'begrudgingly', 'beguile', 'behalf', 'behave', 'behavior', 'behaviors', 'behaviour', 'behemoth', 'behemoths', 'behind', 'behold', 'beholder', 'beholders', 'behoove', 'beijing', 'bein', 'bejewel', 'belabor', 'belated', 'belatedly', 'beleive', 'belief', 'believable', 'believe', 'believer', 'belittle', 'belive', 'belives', 'belize', 'belkin', 'bell', 'belle', 'bellevue', 'bellisimo', 'bellow', 'belmar', 'belong', 'beloved', 'below', 'belowm', 'belt', 'bemaps', 'bemoan', 'ben', 'bench', 'benchmark', 'benchmarked', 'benchmarking', 'benchmarks', 'bend', 'bendable', 'bendgate', 'bendy', 'beneath', 'beneficial', 'benefit', 'benign', 'benjamin', 'benjamins', 'benn', 'bennedict', 'bentoben', 'benz', 'beoutifull', 'ber', 'berceuse', 'berry', 'berserk', 'berzerk', 'beside', 'besides', 'besil', 'besils', 'best', 'bestbu', 'bestbuy', 'besure', 'besy', 'bet', 'beta', 'beter', 'betray', 'bette', 'better', 'bettery', 'bettet', 'betty', 'between', 'beuatiful', 'beutiful', 'bevel', 'bew', 'beware', 'bewilder', 'bewilderment', 'beyond', 'beyondpod', 'beyonf', 'bezel', 'bezeled', 'bezeless', 'bezelless', 'bezels', 'bezzel', 'bf', 'bff', 'bg', 'bgn', 'bgr', 'bias', 'biat', 'bibbyelectronics', 'bible', 'bicause', 'bicycle', 'biem', 'bien', 'big', 'biger', 'bigger', 'biggest', 'biggie', 'biggies', 'biggy', 'bight', 'bigness', 'bigots', 'bihh', 'biiger', 'bike', 'bikering', 'bill', 'billboard', 'billfold', 'billguard', 'billion', 'billions', 'bin', 'bind', 'bing', 'binge', 'bingo', 'bingtube', 'bio', 'biodegradable', 'biometic', 'biometric', 'biometrics', 'bionic', 'biosport', 'bird', 'birght', 'birick', 'birth', 'birthday', 'birthdays', 'bis', 'biscuits', 'bistro', 'bitch', 'bite', 'bitel', 'biters', 'bitmojis', 'bitrate', 'bits', 'bitter', 'bittorrent', 'bitty', 'biz', 'bizarre', 'biznes', 'bj', 'bl', 'bla', 'blablabla', 'blacberry', 'black', 'blackbeery', 'blackberry', 'blackbery', 'blackbox', 'blacker', 'blackest', 'blackfriday', 'blackjack', 'blacklight', 'blacklist', 'blackmail', 'blackmart', 'blackness', 'blackout', 'blade', 'blades', 'blah', 'blame', 'bland', 'blank', 'blanket', 'blaotware', 'blare', 'blason', 'blasphemy', 'blast', 'blaster', 'blatant', 'blatantly', 'blaze', 'blazers', 'blazingly', 'ble', 'blech', 'bleed', 'bleep', 'bleh', 'blemish', 'blend', 'bless', 'blind', 'blindingly', 'blindly', 'bling', 'blingy', 'blink', 'blinker', 'blinkfeed', 'blinkie', 'blinq', 'blip', 'blips', 'bliss', 'blister', 'blitz', 'blkberry', 'bloat', 'bloatware', 'bloatwares', 'block', 'blockade', 'blockage', 'blockbuster', 'blocker', 'blockiness', 'blockish', 'blockit', 'blog', 'blogger', 'bloggers', 'blogging', 'blonde', 'blood', 'bloodsucking', 'bloody', 'bloom', 'bloomin', 'bloop', 'blooping', 'bloops', 'bloopy', 'bloqueado', 'bloqued', 'blot', 'blotch', 'blotchy', 'bloteware', 'blow', 'blowiing', 'blowingly', 'blowse', 'blu', 'blue', 'bluegrass', 'blueish', 'bluemail', 'blueprint', 'bluer', 'bluescreened', 'bluetekusa', 'bluetooh', 'bluetooht', 'bluetooth', 'bluetoothing', 'bluetoothless', 'bluettoth', 'bluish', 'blunder', 'blunt', 'blur', 'bluray', 'blurb', 'blurriness', 'blurry', 'blury', 'blus', 'blush', 'blutek', 'blutekusa', 'blutooth', 'bmm', 'bmobile', 'bmw', 'bn', 'board', 'boarder', 'boarders', 'boast', 'boat', 'boatload', 'boatware', 'bob', 'bobble', 'bobby', 'bobsled', 'bode', 'bodega', 'body', 'bodygaurdz', 'bodyglove', 'bofa', 'bog', 'bogged', 'bogging', 'boggle', 'bogglingly', 'boggs', 'boght', 'bogo', 'bogota', 'bogus', 'boil', 'boingo', 'boink', 'bokeh', 'bold', 'bolder', 'boldness', 'bolds', 'bolse', 'bolster', 'bolt', 'bom', 'bomb', 'bombard', 'bonafide', 'bonanza', 'bond', 'bone', 'bonitas', 'bonito', 'bonkers', 'bonus', 'bonuses', 'boo', 'boob', 'book', 'booker', 'booklet', 'booklets', 'booklike', 'bookmark', 'bookmarked', 'bookmarks', 'bookworm', 'boom', 'boombox', 'boomer', 'boomiuudsteteurzye', 'boomsound', 'boon', 'boondocks', 'boone', 'boonies', 'booo', 'boooooo', 'booredatwork', 'boost', 'booster', 'boosters', 'boostmobile', 'boot', 'booth', 'bootleg', 'bootload', 'bootloader', 'bootloaders', 'bootlock', 'bootloop', 'bootlooping', 'bootloops', 'bootup', 'bopugth', 'boramy', 'border', 'borderless', 'borderline', 'bore', 'boredom', 'borescope', 'borrosas', 'borrow', 'borthday', 'bos', 'bose', 'bosom', 'boss', 'bossytexaschick', 'boston', 'bot', 'botanical', 'botch', 'both', 'bother', 'bothersome', 'bots', 'bottle', 'bottleneck', 'bottocks', 'bottom', 'bottome', 'bottomline', 'bottommost', 'bottomthat', 'bottons', 'bough', 'boughten', 'boughthere', 'bougth', 'boulevard', 'bounce', 'bouncy', 'bound', 'boundary', 'bouquet', 'bout', 'bouth', 'boutht', 'bouts', 'bouygues', 'bowels', 'box', 'boxwave', 'boxy', 'boy', 'boyd', 'boyfriend', 'boyfriends', 'boys', 'bpr', 'brace', 'bracket', 'bradford', 'brag', 'braggin', 'brah', 'braille', 'brain', 'brainer', 'brainier', 'brainwavz', 'brake', 'braketron', 'bran', 'branch', 'brand', 'brandest', 'brandon', 'brasil', 'brass', 'brave', 'bravia', 'bravo', 'brazil', 'breack', 'bread', 'breadbox', 'breadth', 'break', 'breakable', 'breakage', 'breakdown', 'breaker', 'breakers', 'breakfast', 'breakffast', 'breakout', 'breakthrough', 'breakup', 'breakups', 'breast', 'breath', 'breathe', 'breather', 'breathraking', 'breaths', 'breathtaking', 'breed', 'breeeze', 'breeze', 'breezy', 'brethren', 'breve', 'breveda', 'brevity', 'brew', 'brian', 'bribe', 'brick', 'bricked', 'bricker', 'bricking', 'bricks', 'bridal', 'bride', 'bridge', 'brief', 'briefcase', 'briefly', 'brigade', 'brigadier', 'bright', 'brighten', 'brighter', 'brightess', 'brightest', 'brighthouse', 'brightly', 'brightness', 'brightpoint', 'brights', 'brightspot', 'brilliance', 'brilliant', 'brilliantly', 'brillosa', 'brim', 'bring', 'britain', 'britax', 'brite', 'british', 'brittle', 'bro', 'broad', 'broadband', 'broadbands', 'broadcast', 'broadcasters', 'broaden', 'broader', 'broadly', 'brocen', 'brochure', 'brodeur', 'brodit', 'broked', 'brokes', 'brooklyn', 'broomstick', 'brother', 'brothers', 'brougth', 'browed', 'browing', 'browings', 'brown', 'brows', 'browse', 'browser', 'browsers', 'browswer', 'brr', 'bruce', 'bruise', 'brunch', 'brunt', 'brush', 'brutal', 'brutality', 'brutalize', 'brutally', 'brute', 'bryant', 'bs', 'bsck', 'bsi', 'bsico', 'bsplayer', 'bt', 'btc', 'btw', 'bu', 'buana', 'bubble', 'buck', 'buckeroo', 'bucket', 'buckle', 'bucs', 'bud', 'buddha', 'buddies', 'buddy', 'budge', 'budget', 'budgies', 'budokai', 'buen', 'buena', 'buenas', 'buenisimo', 'bueno', 'buenos', 'buensimo', 'buenunisimo', 'buff', 'buffer', 'bug', 'bugatti', 'bugdroid', 'buget', 'bugfixes', 'bugger', 'buggier', 'buggiest', 'bugginess', 'buggy', 'bugit', 'buhite', 'build', 'builder', 'builders', 'buildup', 'builtin', 'buisness', 'buit', 'buity', 'bul', 'bulb', 'bulge', 'bulgy', 'bulit', 'bulk', 'bulkier', 'bulkiness', 'bulky', 'bulkyness', 'bull', 'bullcrap', 'bulldozer', 'bullet', 'bulletin', 'bulletproof', 'bullish', 'bullsh', 'bullshit', 'bully', 'bum', 'bumble', 'bummer', 'bump', 'bumper', 'bumpers', 'bumpy', 'bunch', 'bundle', 'bunk', 'bunker', 'bunny', 'bur', 'burden', 'burdensome', 'bureau', 'burger', 'burgess', 'burglary', 'burgundy', 'burn', 'burner', 'burp', 'burr', 'burro', 'burst', 'burt', 'bury', 'bus', 'buscando', 'bush', 'business', 'businesses', 'businesslike', 'businessmen', 'bussiness', 'bust', 'busy', 'but', 'butcher', 'butouden', 'buts', 'butt', 'butter', 'butterfingers', 'butterfly', 'buttery', 'buttocks', 'buttom', 'button', 'buttonless', 'buuuut', 'bux', 'buy', 'buyer', 'buyers', 'buyng', 'buyout', 'buyspry', 'buzz', 'buzzkill', 'buzztime', 'buzzword', 'bv', 'bw', 'by', 'bye', 'bygones', 'byo', 'byod', 'byop', 'bypass', 'byproduct', 'byte', 'bytes', 'ca', 'cab', 'cabeza', 'cabin', 'cabinda', 'cabinet', 'cabinets', 'cable', 'cablebox', 'cablet', 'cabt', 'cac', 'caca', 'cache', 'cacophony', 'cada', 'cads', 'caem', 'cafeteria', 'caja', 'caka', 'cake', 'cal', 'calamities', 'calander', 'calcuated', 'calculate', 'calculations', 'calculator', 'calculators', 'caldad', 'caldav', 'caledos', 'calendar', 'calender', 'calengoo', 'caliber', 'calibrate', 'calibration', 'calidad', 'california', 'call', 'callabor', 'callback', 'calledl', 'calledonly', 'callee', 'caller', 'callers', 'calliing', 'callme', 'callular', 'calm', 'calmly', 'calories', 'cam', 'cama', 'camara', 'cambiar', 'cambie', 'camcorder', 'camcorders', 'camein', 'camel', 'camer', 'camera', 'cameral', 'cameras', 'camerica', 'cammera', 'camo', 'camouflage', 'camp', 'campaign', 'campared', 'camper', 'campers', 'campfire', 'camrea', 'camrera', 'camry', 'cams', 'camscanner', 'can', 'canada', 'canadian', 'cancel', 'cancell', 'cancellation', 'cancer', 'canclled', 'candid', 'candidate', 'candidates', 'candle', 'candy', 'candybars', 'candyshell', 'canera', 'canmeras', 'cannibalize', 'cannnot', 'cannon', 'canon', 'cant', 'canvas', 'canyon', 'cap', 'capabalities', 'capabality', 'capabilities', 'capability', 'capabilty', 'capable', 'capacidad', 'capacitance', 'capacities', 'capacititve', 'capacitive', 'capacitor', 'capacitors', 'capacitve', 'capacity', 'capactivebutton', 'capacty', 'capcity', 'capibilities', 'capital', 'capitalization', 'capitalize', 'cappy', 'capstone', 'caption', 'captivate', 'capture', 'capuring', 'car', 'carabineer', 'caracas', 'caracteristics', 'caramel', 'caravan', 'carbage', 'carbon', 'carbonate', 'carcassone', 'carcassonne', 'card', 'cardboard', 'cardinal', 'cardio', 'care', 'career', 'carefree', 'careful', 'carefull', 'carefully', 'carefuly', 'caregiving', 'careless', 'carelessly', 'carelessness', 'caretaker', 'carga', 'cargador', 'cargar', 'cargarlo', 'cargo', 'caribbean', 'caribe', 'carl', 'carmra', 'carolina', 'carousel', 'carousels', 'carp', 'carpal', 'carpenter', 'carpet', 'carpl', 'carr', 'carriage', 'carrier', 'carrieriq', 'carriers', 'carring', 'carrrier', 'carry', 'carryover', 'cars', 'cart', 'cartainly', 'cartao', 'cartel', 'carter', 'cartoes', 'cartoon', 'cartoonish', 'cartoonishly', 'cartoony', 'cartwheel', 'carwash', 'casa', 'cascade', 'case', 'caseformers', 'caseology', 'caseone', 'cash', 'cashback', 'cashier', 'casio', 'cast', 'castrate', 'casual', 'casually', 'casualty', 'cat', 'catagory', 'catalina', 'catalog', 'cataracts', 'catastrophic', 'catch', 'catchy', 'categories', 'categorize', 'category', 'categorys', 'cater', 'cathartic', 'cathedral', 'catphones', 'catt', 'cattle', 'causal', 'cause', 'causual', 'caution', 'cautionary', 'cautious', 'cave', 'caveat', 'caveats', 'caveman', 'cavern', 'cayman', 'caz', 'cbd', 'cbr', 'cbs', 'cc', 'ccd', 'cclors', 'ccmobileweb', 'ccs', 'cd', 'cdma', 'cdp', 'cds', 'ce', 'cease', 'ceiling', 'cel', 'celeb', 'celebrate', 'celebrities', 'cell', 'cellarer', 'cellcow', 'cellet', 'cellever', 'cellphone', 'cellphonedom', 'cellphonekings', 'cellphones', 'cellpnone', 'cellpone', 'cellpphones', 'cells', 'cellspot', 'celltower', 'celltowers', 'celluar', 'cellular', 'cellulartradenins', 'cellunlocker', 'cellural', 'celphone', 'celphones', 'celsius', 'celular', 'celulares', 'cement', 'censor', 'censorship', 'cent', 'center', 'centeral', 'centimeters', 'central', 'centralize', 'centre', 'centric', 'centro', 'cents', 'centura', 'century', 'centurylink', 'ceo', 'ceos', 'ceramic', 'cerberus', 'cercano', 'ceremony', 'cero', 'cerritos', 'cert', 'certain', 'certainly', 'certains', 'certainty', 'certificate', 'certification', 'certifications', 'certify', 'ces', 'cetera', 'cfh', 'cha', 'chaarge', 'chafe', 'chager', 'chaging', 'chagrin', 'chain', 'chainsaw', 'chair', 'chalange', 'chalant', 'chalk', 'challenge', 'challenger', 'chamada', 'chamber', 'chameleon', 'chamfer', 'champ', 'champagne', 'champion', 'chance', 'chang', 'changable', 'change', 'changeable', 'changer', 'channel', 'chanrged', 'chaos', 'chaotic', 'chap', 'chapters', 'char', 'character', 'characteristic', 'characteristics', 'characterize', 'charched', 'charcoal', 'charge', 'chargeif', 'charger', 'chargers', 'charguer', 'charlie', 'charm', 'chart', 'charter', 'chase', 'chaser', 'chassis', 'chat', 'chaton', 'chatter', 'chatty', 'chd', 'cheap', 'cheaped', 'cheapen', 'cheaper', 'cheapest', 'cheapie', 'cheapies', 'cheapish', 'cheapist', 'cheaply', 'cheapness', 'cheapo', 'cheapos', 'cheappppppppy', 'cheapskate', 'cheapy', 'cheat', 'check', 'checkbook', 'checkbox', 'checker', 'checkerboard', 'checklist', 'checkmark', 'checkout', 'checkpoints', 'cheek', 'cheep', 'cheeper', 'cheer', 'cheery', 'cheese', 'cheesy', 'chemical', 'chemically', 'chemist', 'chemistry', 'chemo', 'chen', 'cherish', 'cherokee', 'cherry', 'chess', 'chest', 'chevere', 'chevre', 'chevrolet', 'chevron', 'chevy', 'chew', 'chic', 'chicago', 'chicagoland', 'chick', 'chicken', 'chicklet', 'chicks', 'chief', 'child', 'childhood', 'childish', 'childproof', 'children', 'childrens', 'childs', 'chile', 'chill', 'chime', 'chin', 'china', 'chine', 'chinese', 'chinesse', 'chino', 'chintzy', 'chip', 'chipet', 'chipset', 'chipsets', 'chk', 'chksdsk', 'chmod', 'chnged', 'chock', 'chocolate', 'choice', 'choices', 'choiice', 'choir', 'choise', 'choke', 'chomp', 'chooose', 'choose', 'choosen', 'chooser', 'choosy', 'chop', 'choppier', 'choppiness', 'choppy', 'chord', 'chore', 'chores', 'chraging', 'chris', 'christ', 'christmas', 'christopher', 'chrome', 'chromebook', 'chromecast', 'chronic', 'chronically', 'chronological', 'chronus', 'chrysler', 'chubbiestech', 'chubby', 'chuck', 'chuckle', 'chug', 'chula', 'chunk', 'chunkier', 'chunkiness', 'chunky', 'church', 'churn', 'cien', 'cigar', 'cigarette', 'cimo', 'cinch', 'cincinnati', 'cinco', 'cinderblock', 'cine', 'cinemagraph', 'cinematic', 'cingular', 'circa', 'circle', 'circuit', 'circuitry', 'circular', 'circulate', 'circulation', 'circulator', 'circumference', 'circumstance', 'circumstances', 'circumvent', 'circus', 'cisco', 'cise', 'citadel', 'cite', 'citibank', 'cities', 'citifield', 'citizen', 'citizens', 'citrix', 'citrus', 'city', 'civ', 'civic', 'civics', 'civilization', 'civilize', 'ckj', 'cl', 'cla', 'claim', 'clairvoyant', 'clam', 'clamor', 'clamour', 'clamp', 'clamshell', 'clamshells', 'clans', 'claramente', 'claras', 'clari', 'clarification', 'clarifications', 'clarify', 'clarity', 'clarivue', 'claro', 'clash', 'clasp', 'class', 'classic', 'classical', 'classically', 'classics', 'classier', 'classiest', 'classify', 'classiness', 'classy', 'claustrophobic', 'claw', 'cldnt', 'clean', 'cleaner', 'cleaners', 'cleanest', 'cleanliness', 'cleanse', 'cleanup', 'clear', 'clearance', 'clearblack', 'clearer', 'clearest', 'clearly', 'clearsound', 'cleartronix', 'clearview', 'clearwavz', 'clerk', 'cleveland', 'clever', 'cleverly', 'cli', 'clic', 'clich', 'click', 'clickable', 'clicker', 'clickin', 'clicky', 'client', 'cliente', 'clients', 'cliff', 'climate', 'climates', 'climb', 'climber', 'cling', 'clip', 'clipboard', 'clippers', 'clippings', 'cliq', 'clock', 'clockn', 'clockwise', 'clockwork', 'clockworkmod', 'clog', 'clone', 'close', 'closely', 'closeout', 'closer', 'closest', 'closet', 'closeup', 'closly', 'closure', 'cloth', 'clothe', 'cloths', 'cloud', 'cloudplayer', 'cloudy', 'clould', 'clout', 'clown', 'cloy', 'clr', 'cls', 'club', 'clue', 'clueless', 'clumsy', 'clunky', 'cluster', 'clutch', 'clutter', 'cluttery', 'cm', 'cmara', 'cmaras', 'cmda', 'cmdm', 'cmon', 'cmos', 'cn', 'cnet', 'cnn', 'cnsidering', 'co', 'coach', 'coal', 'coarse', 'coarser', 'coast', 'coastal', 'coaster', 'coat', 'cobalt', 'cobra', 'cobraro', 'coby', 'cock', 'cockeyed', 'cockroach', 'cocky', 'coco', 'cocoon', 'cod', 'code', 'codec', 'codecs', 'cof', 'coffee', 'coffer', 'coffin', 'cognition', 'coherence', 'coherent', 'cohesive', 'coil', 'coin', 'coincide', 'coincidence', 'coincidentally', 'cojerlo', 'coke', 'col', 'colbalts', 'cold', 'coldest', 'coldfustion', 'coleccion', 'collaboration', 'collapse', 'collar', 'colleague', 'colleagues', 'collect', 'collecter', 'collection', 'collections', 'collectively', 'collector', 'college', 'colleges', 'collor', 'collude', 'coloful', 'colombia', 'coloque', 'color', 'colorado', 'coloration', 'colorful', 'colorfully', 'colorless', 'colossal', 'colour', 'colourful', 'colr', 'columbia', 'columbus', 'column', 'columns', 'colums', 'com', 'comapny', 'comapred', 'comb', 'combat', 'combination', 'combinations', 'combine', 'combo', 'comcast', 'comdition', 'come', 'comeback', 'comebacks', 'comedy', 'comenc', 'comentarios', 'comenzar', 'comeout', 'comers', 'comet', 'comfort', 'comfortability', 'comfortable', 'comfortably', 'comfy', 'comic', 'comical', 'comically', 'comicon', 'comittee', 'comlaints', 'comm', 'comma', 'command', 'commander', 'commando', 'commen', 'commence', 'commend', 'commendable', 'commendably', 'commensurate', 'commensurately', 'comment', 'commentary', 'commenter', 'commenty', 'commerce', 'commercial', 'commercially', 'commercials', 'commericals', 'comming', 'commission', 'commit', 'commitment', 'commitments', 'commoditized', 'commodity', 'common', 'commonly', 'commonplace', 'commotion', 'comms', 'commucations', 'communciation', 'communicate', 'communication', 'communications', 'communicative', 'communicator', 'communist', 'communities', 'community', 'communtiy', 'commute', 'commuter', 'como', 'comodo', 'compability', 'compacido', 'compact', 'compactness', 'compacto', 'compain', 'compaints', 'compaired', 'compalcido', 'compania', 'companie', 'companion', 'company', 'companyname', 'comparable', 'comparables', 'comparably', 'comparacin', 'comparation', 'comparations', 'comparative', 'comparatively', 'comparators', 'compare', 'comparisions', 'comparison', 'comparisons', 'comparission', 'comparrison', 'comparsion', 'compart', 'compartment', 'compartmentalize', 'compartments', 'compass', 'compatability', 'compatable', 'compatibility', 'compatible', 'compatilbility', 'compativel', 'compay', 'compel', 'compensa', 'compensate', 'compensation', 'compere', 'compete', 'competence', 'competent', 'competidor', 'competition', 'competitions', 'competitive', 'competitively', 'competitor', 'competitors', 'compicate', 'compile', 'compiler', 'compinsated', 'compition', 'complacent', 'complacida', 'complaied', 'complain', 'complaint', 'complaints', 'complanes', 'complant', 'complare', 'complay', 'complement', 'complementary', 'complet', 'complete', 'completely', 'completion', 'completly', 'completo', 'complex', 'complexity', 'compliance', 'compliant', 'complicado', 'complicate', 'complication', 'complido', 'compliment', 'complimentary', 'comply', 'component', 'components', 'compose', 'composite', 'composition', 'compound', 'compr', 'compra', 'comprable', 'compractiblw', 'comprado', 'comprador', 'compral', 'compramises', 'comprando', 'comprar', 'compras', 'compre', 'comprehend', 'comprehensible', 'comprehension', 'comprehensive', 'compren', 'comprennnnnnnnn', 'comprensivo', 'compress', 'compression', 'comprise', 'compromise', 'compromisewindows', 'compulsive', 'computation', 'compute', 'computer', 'computers', 'comunicaran', 'comunicate', 'comunico', 'comuter', 'con', 'conaidering', 'concave', 'conceal', 'concede', 'conceivable', 'conceivably', 'conceive', 'concentrate', 'concept', 'concepts', 'concern', 'concert', 'concider', 'concise', 'concisely', 'conclude', 'conclusion', 'conclusions', 'conclussion', 'concord', 'concorde', 'concrete', 'concur', 'concurrent', 'concurrently', 'condciones', 'condemn', 'condense', 'condescend', 'condiciones', 'condictions', 'condidering', 'conditio', 'condition', 'conditional', 'conditioners', 'condo', 'condtion', 'conducive', 'conduct', 'conduit', 'cone', 'conect', 'conectarse', 'conected', 'conection', 'conectivity', 'conector', 'conexion', 'conexiones', 'conference', 'conferences', 'conferencing', 'confess', 'confiable', 'confiables', 'confianza', 'confidence', 'confident', 'confidently', 'config', 'configurable', 'configuration', 'configurations', 'configure', 'confindentally', 'confine', 'confirm', 'confirmation', 'confirmations', 'confiscate', 'conflate', 'conflict', 'conflictive', 'conform', 'conforme', 'confotable', 'confound', 'confront', 'confucing', 'confuse', 'confusingly', 'confusion', 'confy', 'conglomerate', 'conglomeration', 'congrats', 'congratulate', 'congratulation', 'congratulations', 'congress', 'conjecture', 'conjested', 'conjoin', 'conjunction', 'conk', 'conky', 'conlusion', 'conmigo', 'conmpletly', 'conn', 'conncted', 'connect', 'connectable', 'connectbot', 'connecticity', 'connectiivity', 'connection', 'connections', 'connectivity', 'connectivty', 'connector', 'connectors', 'connetion', 'connevtion', 'connnectivity', 'connoisseurs', 'connotation', 'conntections', 'conpany', 'conparable', 'conplaints', 'conponent', 'conquer', 'conscience', 'conscientiousness', 'conscious', 'consciousness', 'consecutive', 'consecutively', 'consensus', 'consequence', 'consequences', 'consequently', 'conservation', 'conservationist', 'conservative', 'conserve', 'conserver', 'conside', 'consider', 'considerable', 'considerably', 'consideration', 'considerations', 'consist', 'consistantly', 'consistency', 'consistenly', 'consistent', 'consistently', 'conslusion', 'consolation', 'console', 'consolidate', 'conspicuously', 'conspiracy', 'conspire', 'constanly', 'constant', 'constantly', 'constellation', 'constellations', 'constrain', 'constraint', 'constraints', 'constrict', 'construct', 'construction', 'constructionm', 'constructions', 'consult', 'consultant', 'consultation', 'consumable', 'consume', 'consumer', 'consumercellular', 'consumers', 'consummate', 'consumption', 'contact', 'contacta', 'contacten', 'contain', 'container', 'contana', 'contemplate', 'contemporary', 'contend', 'contender', 'contenders', 'content', 'contenta', 'contention', 'contento', 'conter', 'contest', 'context', 'contextual', 'contgract', 'contina', 'continent', 'continous', 'continously', 'continua', 'continual', 'continually', 'continuation', 'continue', 'continuiously', 'continuous', 'continuously', 'continuum', 'contodas', 'contort', 'contour', 'contra', 'contrack', 'contract', 'contractor', 'contractually', 'contradict', 'contradiction', 'contradictory', 'contraption', 'contrary', 'contras', 'contrast', 'contrasty', 'contratiempo', 'contribute', 'contribution', 'contributor', 'contrivance', 'control', 'controlabe', 'controller', 'controllers', 'controversial', 'controversy', 'contudente', 'conus', 'convencional', 'convenience', 'conveniences', 'convenient', 'conveniently', 'conveninece', 'convent', 'convention', 'conventional', 'conventions', 'convergence', 'conversation', 'conversations', 'converse', 'conversely', 'conversion', 'conversions', 'conversor', 'convert', 'converter', 'converters', 'convertible', 'convertidor', 'convertor', 'convey', 'convient', 'convince', 'convo', 'convolute', 'convos', 'convoy', 'convresation', 'cook', 'cookers', 'cookie', 'cookies', 'cookware', 'cool', 'cooler', 'coolers', 'coolest', 'coolness', 'coolpad', 'coolpix', 'cooperate', 'cooperation', 'cooperative', 'coordial', 'coordinate', 'coordinator', 'cop', 'cope', 'copiar', 'copilot', 'copious', 'coplaints', 'coporate', 'copper', 'copre', 'copters', 'copy', 'copycat', 'copymydata', 'copyright', 'copysung', 'cor', 'coral', 'cord', 'cordless', 'core', 'corey', 'corn', 'corner', 'cornerstone', 'corniness', 'corny', 'corolla', 'coronado', 'corp', 'corporate', 'corporation', 'corporations', 'corporative', 'correct', 'correctamente', 'correction', 'corrections', 'corrective', 'correctly', 'correlation', 'correo', 'correspond', 'correspondence', 'corridor', 'corriendo', 'corriente', 'corrosion', 'corrupt', 'corruption', 'cortana', 'cortanta', 'cortex', 'corvette', 'cos', 'cosas', 'cosmetic', 'cosmetically', 'cosmetics', 'cosmos', 'cosplay', 'cost', 'costa', 'costco', 'costly', 'costo', 'costumer', 'costumers', 'cot', 'cotton', 'couch', 'cough', 'could', 'couldn', 'couldnt', 'couldve', 'count', 'countdown', 'counter', 'counterfeit', 'counterintuitive', 'countermeasure', 'counterpart', 'counterparts', 'countertop', 'countetparts', 'counties', 'countless', 'countries', 'country', 'county', 'coup', 'couple', 'coupon', 'coupons', 'courage', 'courge', 'courier', 'couriers', 'course', 'court', 'courtana', 'courteous', 'courtesy', 'courteus', 'cousin', 'cousins', 'covenient', 'cover', 'coverage', 'coverred', 'coversacion', 'coverscould', 'covet', 'coving', 'cow', 'cowboys', 'cowhide', 'coworker', 'coworkers', 'cox', 'coz', 'cozi', 'cozmo', 'cpu', 'cpus', 'cr', 'crack', 'crackberry', 'cracker', 'crackey', 'crackle', 'crackly', 'crackthat', 'craddle', 'cradle', 'craft', 'crafters', 'craftsman', 'craftsmanchip', 'craftsmanship', 'crafty', 'craig', 'craigslist', 'cram', 'cramp', 'cranberry', 'crank', 'cranky', 'crap', 'crapload', 'crapola', 'crappiest', 'crapple', 'crappola', 'crappy', 'crapshoot', 'crapware', 'crapy', 'crash', 'crashers', 'crashy', 'crasing', 'crasy', 'crave', 'crawl', 'crawler', 'cray', 'craze', 'craziest', 'craziness', 'crazy', 'creak', 'creaky', 'cream', 'creamery', 'crear', 'crease', 'create', 'creation', 'creative', 'creatively', 'creativity', 'creator', 'creators', 'creature', 'cred', 'credentials', 'credibility', 'credible', 'credit', 'creditability', 'creditable', 'creek', 'creeks', 'creep', 'creepily', 'creepy', 'creo', 'crew', 'cri', 'crib', 'cricket', 'crickett', 'crickiet', 'crime', 'crimes', 'criminal', 'cringe', 'crinkle', 'crip', 'cripple', 'crisis', 'crisp', 'crisper', 'crisply', 'crispness', 'crispy', 'cristal', 'criteria', 'criterion', 'critic', 'critical', 'critically', 'criticism', 'criticisms', 'criticize', 'critics', 'critique', 'critter', 'crm', 'crme', 'cro', 'croak', 'crock', 'croft', 'cromecast', 'cronice', 'crook', 'crop', 'croquer', 'cross', 'crossover', 'crotona', 'crow', 'crowd', 'crown', 'crt', 'crucial', 'crud', 'crude', 'crudely', 'cruel', 'cruelty', 'cruft', 'crufty', 'cruise', 'cruiser', 'crumble', 'crummy', 'crumple', 'crunch', 'crunchyroll', 'crush', 'crusty', 'crutch', 'crutchfield', 'cruz', 'cruzer', 'cruzerlite', 'crv', 'cry', 'cryptic', 'crystal', 'crystaline', 'crystalline', 'crystals', 'cs', 'csc', 'cstn', 'ct', 'ctrl', 'cual', 'cualidad', 'cuality', 'cualquier', 'cualquiera', 'cuando', 'cuanto', 'cub', 'cuba', 'cubbiestech', 'cubbyhole', 'cube', 'cubefield', 'cubic', 'cubical', 'cubicle', 'cubicles', 'cuby', 'cucu', 'cud', 'cudos', 'cue', 'cuenta', 'cuento', 'cuff', 'cuidado', 'cull', 'culleton', 'culmination', 'culpa', 'culprit', 'culprits', 'cult', 'culture', 'cumber', 'cumberbatch', 'cumbersome', 'cummuter', 'cumple', 'cumpli', 'cumulative', 'cup', 'cupboard', 'cupcake', 'cupertino', 'cupholder', 'cuple', 'curb', 'cure', 'curios', 'curiosities', 'curiosity', 'curious', 'curiousity', 'curiousitystream', 'curiously', 'currant', 'currency', 'currenet', 'currenly', 'current', 'currentc', 'currently', 'currents', 'curse', 'cursive', 'cursor', 'cursory', 'curtain', 'curtsey', 'curvaceous', 'curvature', 'curve', 'curvetm', 'curvy', 'cus', 'cushion', 'cusomter', 'cuss', 'cust', 'custmoization', 'custody', 'custom', 'customability', 'customer', 'customers', 'customhouse', 'customisation', 'customise', 'customizability', 'customizable', 'customization', 'customizational', 'customizations', 'customize', 'customizeable', 'customs', 'custumer', 'custumizable', 'cut', 'cute', 'cuteness', 'cuter', 'cutie', 'cutoff', 'cutout', 'cutouts', 'cutted', 'cutter', 'cuurently', 'cuz', 'cv', 'cvs', 'cw', 'cxontento', 'cya', 'cyan', 'cyanmobile', 'cyanogen', 'cyanogenmod', 'cyber', 'cybermonday', 'cybersecurity', 'cyborg', 'cycle', 'cyclone', 'cyclops', 'cygnett', 'cynagenmod', 'cynical', 'cynogenmod', 'da', 'daaaaaaayyyyys', 'daaaaaays', 'daada', 'dab', 'dabble', 'dac', 'dacs', 'dad', 'daddy', 'dads', 'daemon', 'daffy', 'dail', 'daily', 'dainty', 'daisy', 'dakota', 'dale', 'dallas', 'dallors', 'dalvik', 'dam', 'damage', 'dame', 'damged', 'dammage', 'dammit', 'damn', 'damnit', 'damp', 'dampen', 'damper', 'dance', 'dandy', 'dang', 'danged', 'danger', 'dangerous', 'dangerously', 'dano', 'danse', 'danzig', 'dar', 'dare', 'dargadgetz', 'dark', 'darken', 'darker', 'darkest', 'darkness', 'darks', 'darle', 'darling', 'darn', 'darnn', 'darren', 'dart', 'das', 'dash', 'dashboard', 'dashclock', 'dashview', 'dasys', 'dat', 'data', 'database', 'databases', 'datasense', 'date', 'dateandtime', 'datebook', 'daugher', 'daught', 'daughter', 'daughters', 'daugther', 'daunt', 'dawn', 'day', 'daycare', 'dayli', 'daylight', 'days', 'daytime', 'daz', 'dazzle', 'db', 'dbest', 'dbm', 'dc', 'dcim', 'dd', 'ddr', 'de', 'dea', 'deactivate', 'dead', 'deadline', 'deadspots', 'deadzone', 'deaf', 'deafault', 'deal', 'dealbreaker', 'dealer', 'dealers', 'dealership', 'dealfisher', 'deally', 'deapoinmet', 'dear', 'dearest', 'dearly', 'dearth', 'death', 'deb', 'debacle', 'debatable', 'debate', 'debera', 'deberia', 'deberian', 'debit', 'debloat', 'debloated', 'debloating', 'debolvi', 'debris', 'debt', 'debug', 'debut', 'dec', 'deca', 'decade', 'decades', 'decalgirl', 'decals', 'decdide', 'deceadas', 'deceided', 'deceit', 'deceive', 'december', 'decembter', 'decency', 'decent', 'decently', 'decepcion', 'decepconado', 'deception', 'deceptive', 'deceptively', 'decia', 'decial', 'decibel', 'decibels', 'decide', 'decidedly', 'decider', 'decieved', 'decipher', 'decir', 'decision', 'decisions', 'decisive', 'deck', 'declaration', 'declare', 'decline', 'decode', 'decoder', 'decompose', 'deconstruction', 'decoration', 'decorative', 'decrease', 'dectuable', 'dedbating', 'dedicate', 'dedication', 'dedinitely', 'deduce', 'deduct', 'deductable', 'deductible', 'deduction', 'deduped', 'deem', 'deemo', 'deending', 'deep', 'deeper', 'deepfish', 'deeply', 'deeps', 'dees', 'deezer', 'def', 'deface', 'defacto', 'default', 'defauts', 'defeat', 'defect', 'defective', 'defector', 'defectuos', 'defectuoso', 'defenately', 'defend', 'defende', 'defender', 'defenders', 'defenetly', 'defenitely', 'defense', 'defensive', 'defer', 'deference', 'deff', 'deffects', 'deffinetely', 'deffinetly', 'defiantly', 'deficating', 'deficiencies', 'deficiency', 'deficit', 'deficits', 'defile', 'definately', 'definatly', 'define', 'definely', 'definently', 'definetely', 'definetly', 'definine', 'definite', 'definitely', 'definition', 'definitivamente', 'definitive', 'definitively', 'definity', 'definte', 'defintely', 'defintion', 'deform', 'defraud', 'defray', 'defunct', 'defuse', 'defy', 'degenerate', 'degeneration', 'degradation', 'degrade', 'degree', 'degrees', 'deisy', 'deivery', 'deja', 'dejaoffice', 'dejuice', 'del', 'dela', 'delaney', 'delay', 'deleated', 'deletable', 'delete', 'deletion', 'deletions', 'delevery', 'deliberate', 'deliberately', 'deliberation', 'delicate', 'deliciousness', 'delight', 'delightful', 'delightfully', 'deliriously', 'deliver', 'deliverance', 'deliverd', 'deliverer', 'deliveries', 'deliverry', 'delivery', 'dell', 'delta', 'deluxe', 'delve', 'demaciado', 'demand', 'demerits', 'demise', 'demo', 'demographic', 'demographics', 'demolish', 'demomm', 'demon', 'demons', 'demonstrate', 'demonstrations', 'demoralize', 'demur', 'denfender', 'denial', 'denim', 'denoising', 'denote', 'dens', 'dense', 'densely', 'denser', 'densities', 'density', 'dent', 'dentist', 'denver', 'deny', 'depart', 'department', 'departments', 'departure', 'depend', 'dependability', 'dependable', 'dependencies', 'dependent', 'dependind', 'depertment', 'depict', 'deplete', 'depletion', 'deplorable', 'deploy', 'deployment', 'deposit', 'depot', 'deprecate', 'depreciate', 'depreciation', 'depress', 'depressingly', 'depressions', 'deprive', 'dept', 'depth', 'depths', 'derive', 'desactivar', 'desbloqueado', 'desbloquedo', 'descent', 'desconectado', 'describe', 'describeb', 'describi', 'describio', 'describled', 'describtion', 'descripcion', 'descriped', 'descriprion', 'descript', 'description', 'descriptions', 'descritas', 'descrito', 'desctibrd', 'descuesto', 'desde', 'deseada', 'deselected', 'desensitize', 'deseo', 'desert', 'deserve', 'design', 'designate', 'designation', 'designedsize', 'designer', 'designers', 'desin', 'desing', 'desirability', 'desirable', 'desire', 'desk', 'desktop', 'desktops', 'desktopview', 'despair', 'desparate', 'desperate', 'desperately', 'desperation', 'despise', 'despite', 'desprestigia', 'desprit', 'desribed', 'desrves', 'destination', 'destinations', 'destine', 'destino', 'destiny', 'destoration', 'destroy', 'destruction', 'destructive', 'detach', 'detachable', 'detail', 'detain', 'detalle', 'detalles', 'detect', 'detectable', 'detectd', 'detection', 'detective', 'detector', 'deter', 'deteriorate', 'deterioration', 'determine', 'deterrent', 'detest', 'dethrone', 'detract', 'detraction', 'detractor', 'detractors', 'detriment', 'detrimental', 'detroit', 'dev', 'devalue', 'devastate', 'deve', 'develop', 'develope', 'developer', 'developers', 'development', 'developments', 'device', 'devices', 'devicet', 'devil', 'devilcase', 'devious', 'devise', 'devision', 'devlce', 'devoid', 'devolver', 'devolverlo', 'devopled', 'devote', 'devotee', 'devour', 'devs', 'dew', 'dexterity', 'dexterous', 'dfx', 'dhl', 'di', 'dia', 'diabed', 'diagnose', 'diagnosis', 'diagnostic', 'diagnostics', 'diagonal', 'diagonally', 'diagram', 'dial', 'dialee', 'dialer', 'dialler', 'dialog', 'dialogue', 'dialpad', 'dialup', 'diameter', 'diamond', 'diana', 'diary', 'dias', 'dicapac', 'dice', 'dicen', 'dicindome', 'dictate', 'dictation', 'dictionary', 'diddly', 'diden', 'dident', 'didht', 'didn', 'didnt', 'didplays', 'die', 'diego', 'diehard', 'diehards', 'diesel', 'dif', 'difcil', 'diference', 'diferent', 'diffcult', 'differ', 'difference', 'differences', 'different', 'differential', 'differentiate', 'differentiator', 'differentiators', 'differently', 'differents', 'differnet', 'differnt', 'difficult', 'difficulties', 'difficulty', 'diffrent', 'dig', 'digest', 'digg', 'digicam', 'digicel', 'digit', 'digital', 'digitally', 'digitel', 'digitelllllllll', 'digitelllllllllsolo', 'digitelmuy', 'digitial', 'digitize', 'digitizer', 'digitizers', 'digits', 'dignity', 'digress', 'dijeron', 'dilema', 'dilemma', 'diligence', 'diligent', 'diligently', 'dim', 'dime', 'dimension', 'dimensional', 'dimensionally', 'diminish', 'diminutive', 'dimly', 'dimm', 'dimmable', 'dimmer', 'dimmest', 'dimple', 'dimwit', 'din', 'dindnt', 'dinero', 'ding', 'dink', 'dinky', 'dinner', 'dinosaur', 'dint', 'diode', 'dip', 'dire', 'direccion', 'direct', 'directconnect', 'direction', 'directional', 'directions', 'directives', 'directly', 'director', 'directories', 'directory', 'directoy', 'directv', 'dirt', 'dirts', 'dirty', 'dis', 'disabilities', 'disability', 'disable', 'disadvantage', 'disagree', 'disagreement', 'disapoint', 'disapointed', 'disapointing', 'disappear', 'disappoint', 'disappointingly', 'disappointment', 'disappointments', 'disapppinted', 'disassemble', 'disassembly', 'disaster', 'disasters', 'disastrous', 'disastrously', 'disbelief', 'disc', 'discapacitados', 'discard', 'discern', 'discernable', 'discernible', 'discernibly', 'discharge', 'disciple', 'disclaim', 'disclaimer', 'disclaimers', 'disclamier', 'disclose', 'disclosure', 'disclosures', 'discolor', 'discoloration', 'discomfort', 'disconcert', 'disconect', 'disconnect', 'discontinue', 'discord', 'discount', 'discountelectronics', 'discountwireless', 'discourage', 'discover', 'discoveries', 'discovershop', 'discovery', 'discreet', 'discreetly', 'discrepancies', 'discrepancy', 'discrete', 'discretion', 'discribe', 'discribed', 'discribs', 'discriminate', 'discription', 'discuss', 'discussion', 'discussions', 'disdain', 'disease', 'disenchant', 'disengage', 'diseo', 'disgrace', 'disgruntle', 'disgust', 'dish', 'dishearten', 'dishonest', 'dishwasher', 'disillusion', 'disincline', 'disjoint', 'disk', 'dislike', 'dismal', 'dismantle', 'dismay', 'dismiss', 'dismount', 'disney', 'disorder', 'disorganize', 'dispaly', 'disparity', 'dispatch', 'dispatcher', 'dispite', 'displace', 'displacement', 'display', 'displayer', 'displaymate', 'displease', 'displeasure', 'dispointments', 'disposable', 'disposal', 'dispose', 'dispute', 'disqualify', 'disregard', 'disrespectful', 'disrupt', 'disruption', 'disruptive', 'diss', 'dissapared', 'dissapoint', 'dissapointed', 'dissapointing', 'dissapointment', 'dissaponinted', 'dissappoint', 'dissappointed', 'dissappointment', 'dissatisfaction', 'dissatisfy', 'dissect', 'dissemble', 'disseminate', 'dissent', 'dissipate', 'dissipation', 'dissuade', 'dist', 'distance', 'distant', 'distend', 'distinct', 'distinction', 'distinctions', 'distinctive', 'distinctively', 'distinctly', 'distinguish', 'distinguishable', 'distort', 'distortion', 'distortions', 'distract', 'distraction', 'distractions', 'distress', 'distribute', 'distribution', 'distributions', 'distributor', 'distributors', 'distro', 'distrust', 'disturb', 'ditch', 'dither', 'ditributon', 'ditto', 'div', 'diva', 'dive', 'diverse', 'diversity', 'divice', 'divide', 'division', 'divorce', 'divx', 'diy', 'diying', 'diztronic', 'dizzy', 'dji', 'dl', 'dlink', 'dll', 'dlls', 'dln', 'dlna', 'dna', 'dng', 'dnla', 'dns', 'do', 'doa', 'doable', 'doble', 'doc', 'dock', 'docomo', 'docs', 'docstogo', 'doctor', 'document', 'documentary', 'documentation', 'docx', 'dodge', 'doe', 'doenst', 'doent', 'doers', 'doesent', 'doesn', 'doesnt', 'dog', 'doggedness', 'doggie', 'doh', 'doily', 'dok', 'dolalr', 'dolby', 'dollar', 'dollars', 'dollrs', 'dolor', 'dolphin', 'domain', 'domains', 'domark', 'domestic', 'domestically', 'dominance', 'dominant', 'dominate', 'dominican', 'dominicana', 'don', 'donate', 'donation', 'dongel', 'dongle', 'dongles', 'donot', 'donovan', 'dont', 'donuts', 'doo', 'dooblou', 'doodle', 'doomsday', 'dooooooo', 'door', 'doornail', 'doors', 'doorstep', 'dope', 'dork', 'dormant', 'dorothy', 'dosage', 'dose', 'dosesnt', 'dosnt', 'dot', 'doube', 'doubl', 'double', 'doubletime', 'doubletwist', 'doublewide', 'doubly', 'doubt', 'doubters', 'doubtful', 'doubtlessly', 'doug', 'dough', 'dought', 'dowbload', 'dowloaded', 'down', 'downcast', 'downclocking', 'downer', 'downfall', 'downfalls', 'downgrade', 'downhill', 'downling', 'download', 'downloadable', 'downloader', 'downplay', 'downright', 'downside', 'downsides', 'downsize', 'downstream', 'downtime', 'downtown', 'downvoting', 'downward', 'downwards', 'dowsnt', 'doxmark', 'doy', 'doze', 'dozen', 'dozens', 'dp', 'dpi', 'dplidn', 'dqw', 'dr', 'drab', 'draconian', 'draft', 'draftsman', 'drag', 'draggin', 'dragon', 'dragons', 'dragontrail', 'drain', 'drainage', 'drainers', 'dram', 'drama', 'dramatic', 'dramatically', 'drape', 'drastic', 'drastically', 'drat', 'draw', 'drawback', 'drawbacks', 'drawer', 'dre', 'dread', 'dreadful', 'dreadfully', 'dream', 'dreamship', 'dreamy', 'dreary', 'drectly', 'dreem', 'drekitech', 'dremel', 'dress', 'dresser', 'drier', 'drift', 'drill', 'drink', 'driod', 'drip', 'drive', 'drivemode', 'driver', 'driverless', 'drivermode', 'drivers', 'driveway', 'drm', 'droid', 'droide', 'droider', 'droids', 'droidx', 'drone', 'drool', 'droooooiiid', 'droop', 'drop', 'dropbox', 'dropdown', 'dropian', 'droplet', 'droplets', 'dropoff', 'dropout', 'dropper', 'dropsy', 'droves', 'drown', 'drug', 'drum', 'dry', 'dryer', 'drywall', 'ds', 'dsd', 'dsl', 'dslr', 'dsp', 'dsys', 'dt', 'dtac', 'dtek', 'dtmf', 'dtudebt', 'dual', 'dually', 'dualpro', 'duals', 'duarble', 'dub', 'dubai', 'dubious', 'dublin', 'ducati', 'duck', 'duckduckgo', 'duckface', 'dud', 'dude', 'dudoso', 'due', 'duel', 'duff', 'duh', 'duing', 'dula', 'dule', 'dull', 'dully', 'dumb', 'dumbed', 'dumbest', 'dumbphone', 'dumbphones', 'dumbs', 'dummy', 'dump', 'dun', 'dungeon', 'dunk', 'dunkin', 'dunno', 'duo', 'duocore', 'duolingo', 'duopolies', 'duopoly', 'duos', 'duosuit', 'dupe', 'duper', 'duplex', 'duplicate', 'duplication', 'duplications', 'dur', 'dura', 'durability', 'durable', 'durably', 'duracell', 'duramat', 'duranle', 'durante', 'durantes', 'durar', 'duraron', 'duration', 'durations', 'dure', 'duress', 'durible', 'during', 'durng', 'dusk', 'dust', 'dustproof', 'duties', 'dutifully', 'duty', 'dvd', 'dvds', 'dvix', 'dvp', 'dvr', 'dwarf', 'dwell', 'dwellers', 'dwindle', 'dwnld', 'dwnload', 'dx', 'dxomark', 'dye', 'dynamic', 'dynamically', 'dynamite', 'dynatac', 'dysfunction', 'dysfunctional', 'dytona', 'ea', 'eaac', 'each', 'eacute', 'eadio', 'eager', 'eagerly', 'eagle', 'eap', 'ear', 'earbud', 'earbuds', 'earlier', 'early', 'earn', 'earphone', 'earphones', 'earpiece', 'earpieces', 'earplug', 'ears', 'earth', 'eartips', 'ease', 'easier', 'easiest', 'easily', 'easiness', 'easist', 'east', 'eastern', 'easy', 'easyer', 'easyhome', 'easylly', 'easytether', 'eat', 'eater', 'eaves', 'eaxctly', 'eay', 'eazy', 'ebacuse', 'ebay', 'ebaying', 'ebb', 'ebook', 'ebooks', 'ebuddy', 'ec', 'ecelente', 'ecellent', 'ecellular', 'ecen', 'echar', 'echo', 'eclair', 'eclipse', 'eco', 'ecobee', 'econmico', 'economic', 'economical', 'economically', 'economics', 'economist', 'economy', 'ecosystem', 'ecosystems', 'ecpected', 'ecpreince', 'ecsfb', 'ecstatic', 'ect', 'ecuador', 'ecxelente', 'ecxellent', 'ed', 'edc', 'edeitin', 'edge', 'edgey', 'edgy', 'edifice', 'edit', 'editable', 'edith', 'edition', 'editions', 'editor', 'editorial', 'editors', 'edness', 'edr', 'edsel', 'educate', 'education', 'educational', 'educationally', 'eeeeek', 'eek', 'eescalated', 'eeww', 'eexelente', 'efc', 'effecient', 'effect', 'effective', 'effectively', 'effectiveness', 'effector', 'efficacy', 'efficiency', 'efficient', 'efficiently', 'effort', 'effortless', 'effortlessly', 'efforts', 'efs', 'eft', 'eg', 'egde', 'egdes', 'egg', 'egger', 'ego', 'egregious', 'egregiously', 'egypt', 'eh', 'ehen', 'ehh', 'ehhh', 'ehhhhh', 'eight', 'eighteen', 'eighties', 'eis', 'eith', 'either', 'eject', 'ejectable', 'ejection', 'ekings', 'el', 'elaborate', 'elaborately', 'elaboration', 'elad', 'elago', 'elas', 'elc', 'elder', 'elderly', 'elect', 'electric', 'electrical', 'electrify', 'electromagnetic', 'electromagnetism', 'electromech', 'electronic', 'electronically', 'electronics', 'electrons', 'elegance', 'elegant', 'elegantly', 'elegent', 'elegui', 'element', 'elementalx', 'elements', 'elephant', 'eles', 'elevate', 'elevator', 'eligibility', 'eligibilty', 'eligible', 'eliminate', 'elimination', 'elite', 'elitist', 'elligeant', 'ellipsis', 'ello', 'ellos', 'elongate', 'elop', 'eloquent', 'eloquently', 'elph', 'els', 'else', 'elses', 'elsewhere', 'elude', 'eluga', 'em', 'email', 'emailer', 'emanate', 'embarased', 'embarasses', 'embarassing', 'embargo', 'embark', 'embarrasing', 'embarrass', 'embarrassingly', 'embarrassment', 'embed', 'embellish', 'emblem', 'embrace', 'emerge', 'emergence', 'emergencies', 'emergency', 'emergent', 'emerson', 'emf', 'emi', 'emials', 'emigration', 'eminem', 'eminent', 'eminently', 'emirates', 'emission', 'emit', 'emitidas', 'emitido', 'emitter', 'emmc', 'emoji', 'emojis', 'emoticon', 'emoticons', 'emotion', 'emotional', 'emotions', 'emotionui', 'empacado', 'empaque', 'empaquetado', 'empece', 'empez', 'empezar', 'emphasis', 'emphasize', 'emphatically', 'empire', 'empires', 'employ', 'employee', 'employees', 'employer', 'employment', 'empresa', 'emptor', 'empty', 'ems', 'emsure', 'emtube', 'emui', 'emulate', 'emulation', 'emulator', 'emulators', 'en', 'enable', 'enact', 'enamor', 'enamore', 'encantado', 'encantop', 'encase', 'encenderlo', 'enchant', 'encircle', 'enclose', 'enclosures', 'encode', 'encomienda', 'encompass', 'encontr', 'encontraba', 'encounted', 'encounter', 'encourage', 'encredible', 'encrypt', 'encryption', 'encryted', 'end', 'endanger', 'endeavor', 'ender', 'endless', 'endlessly', 'endomondo', 'endorse', 'endorsement', 'endurance', 'endure', 'enemy', 'energizer', 'energy', 'eney', 'enforce', 'engaar', 'engadget', 'engage', 'engagement', 'engine', 'engineer', 'engines', 'england', 'english', 'engrave', 'engulf', 'enhance', 'enhancement', 'enhancements', 'enhancer', 'enigmatic', 'enirely', 'enjoy', 'enjoyable', 'enjoyment', 'enlarge', 'enlighten', 'enlongated', 'enoght', 'enormous', 'enormously', 'enough', 'enought', 'enpass', 'enquire', 'enquiry', 'enrich', 'enrol', 'enroll', 'enslave', 'ensue', 'ensure', 'entanglement', 'entel', 'entender', 'entensity', 'enter', 'enterprise', 'enterprises', 'entertain', 'entertainment', 'enthusiasm', 'enthusiast', 'enthusiastic', 'enthusiasts', 'entice', 'entienda', 'entiendo', 'entire', 'entirely', 'entirety', 'entitle', 'entre', 'entrega', 'entregado', 'entrench', 'entrepreneur', 'entries', 'entrust', 'entry', 'entune', 'enuff', 'env', 'envelop', 'envelope', 'envi', 'enviado', 'envian', 'envidiarle', 'envien', 'envio', 'envious', 'enviroments', 'environment', 'environments', 'envo', 'envoltura', 'envoy', 'envy', 'enymore', 'eos', 'ep', 'epect', 'epic', 'epiphany', 'episode', 'episodes', 'epitome', 'epocrates', 'epoxy', 'epub', 'eq', 'equal', 'equalizer', 'equalizers', 'equally', 'equate', 'equation', 'equator', 'equi', 'equilibrium', 'equiments', 'equip', 'equipment', 'equipo', 'equipos', 'equivalent', 'equivalently', 'equivalents', 'equivolent', 'er', 'era', 'eradicate', 'eralier', 'erase', 'eraser', 'eratic', 'eratically', 'ereader', 'ereaders', 'ereading', 'eres', 'ergo', 'ergonomic', 'ergonomically', 'ergonomics', 'erica', 'ericcson', 'erickson', 'ericson', 'ericsson', 'eriksson', 'eris', 'erm', 'erode', 'err', 'errands', 'erratic', 'erratically', 'error', 'errors', 'errr', 'errror', 'es', 'esas', 'escalate', 'escalation', 'escalations', 'escalet', 'escaneo', 'escape', 'escelent', 'eschew', 'escort', 'escriba', 'escribir', 'escribo', 'ese', 'esily', 'esin', 'esn', 'eso', 'esoteric', 'esp', 'espanol', 'espansion', 'espaol', 'espcially', 'especally', 'especativas', 'especial', 'especiallly', 'especially', 'especialy', 'especific', 'especificacin', 'especificaciones', 'especificado', 'especificar', 'especificated', 'espect', 'espectacular', 'espected', 'espeficicaciones', 'espera', 'esperaba', 'esperada', 'esperado', 'esperando', 'esperanza', 'esperaria', 'espero', 'esplicasion', 'espn', 'espooteam', 'esprcially', 'esq', 'esque', 'ess', 'essay', 'essence', 'essential', 'essentially', 'essentials', 'essentislly', 'essex', 'esspecially', 'est', 'esta', 'estaba', 'estabilizador', 'establecen', 'establecido', 'establish', 'establishments', 'estado', 'estafa', 'estafado', 'estafador', 'estafadores', 'estamos', 'estan', 'estate', 'este', 'esteem', 'esthetic', 'esthetically', 'estilo', 'estimado', 'estimate', 'estimation', 'estipuladas', 'estipulado', 'estipulo', 'esto', 'estore', 'estos', 'estoy', 'estrellas', 'estuve', 'esy', 'et', 'eta', 'etc', 'etcetera', 'etch', 'eternal', 'eternity', 'etf', 'ether', 'ethereal', 'ethernet', 'ethical', 'ethics', 'etimes', 'etire', 'eton', 'etrade', 'eu', 'eucharistie', 'euro', 'europe', 'european', 'europeans', 'europhone', 'ev', 'evail', 'evaluate', 'evaluation', 'evaluations', 'evaluators', 'evangelize', 'evanston', 'evaporate', 'evdo', 'eve', 'eveeeer', 'even', 'evenly', 'evenon', 'event', 'events', 'eventual', 'eventually', 'ever', 'everday', 'everithing', 'evern', 'evernote', 'everrrr', 'everrthing', 'everthing', 'evertime', 'every', 'everybody', 'everyday', 'everydayteq', 'everynight', 'everyone', 'everyones', 'everyonyone', 'everyrthing', 'everythig', 'everythign', 'everything', 'everythingme', 'everythingq', 'everythings', 'everythjng', 'everytime', 'everyway', 'everywhere', 'evet', 'evey', 'eveything', 'evidence', 'evident', 'evidently', 'evil', 'evils', 'evita', 'evo', 'evocel', 'evolution', 'evolutionary', 'evolve', 'evrythingl', 'evweytime', 'eweather', 'ex', 'exacerbate', 'exact', 'exactly', 'exageration', 'exaggerate', 'exaggeration', 'exalt', 'examination', 'examine', 'example', 'examples', 'exams', 'exasperate', 'exasperation', 'exc', 'exceed', 'exceedingly', 'excel', 'excelect', 'excelen', 'excelenete', 'excelent', 'excelente', 'excelentee', 'excelenteee', 'excelenteexcelente', 'excelentemete', 'excelentes', 'excelents', 'excelentt', 'excelete', 'excellant', 'excellen', 'excellence', 'excellenet', 'excellent', 'excellente', 'excellently', 'excellentno', 'excellents', 'excellet', 'excelletemt', 'excellevery', 'excelllent', 'excellnt', 'excellt', 'excelnete', 'excelnte', 'excenlet', 'except', 'exception', 'exceptional', 'exceptionally', 'exceptions', 'excerpt', 'excess', 'excessive', 'excessively', 'exchage', 'exchangable', 'exchange', 'exchangeable', 'excite', 'excitedly', 'excitement', 'exclamation', 'exclammation', 'exclent', 'exclente', 'exclenteee', 'excllent', 'exclude', 'exclusion', 'exclusive', 'exclusively', 'exclusives', 'exclusivity', 'excpet', 'excruciatingly', 'excuse', 'exec', 'execelent', 'execelente', 'execellent', 'exect', 'executable', 'execute', 'execution', 'executive', 'executives', 'exelemte', 'exelent', 'exelente', 'exelentes', 'exelle', 'exellent', 'exellet', 'exemplary', 'exemplify', 'exempt', 'exemption', 'exercise', 'exert', 'exfat', 'exhaust', 'exhaustive', 'exhibit', 'exhibitii', 'exhilarate', 'exhorbitant', 'exist', 'existant', 'existence', 'existent', 'exit', 'exito', 'exlusive', 'exmor', 'exorbitant', 'exorcism', 'exotic', 'exp', 'expand', 'expandability', 'expandabiltiy', 'expandable', 'expandibility', 'expandible', 'expandle', 'expansion', 'expansive', 'expansys', 'expat', 'expceted', 'expeced', 'expecially', 'expect', 'expectancy', 'expectantly', 'expectation', 'expectations', 'expectativa', 'expectativas', 'expectef', 'expectet', 'expediency', 'expedient', 'expedite', 'expend', 'expendable', 'expenditure', 'expense', 'expensiv', 'expensive', 'experenice', 'experia', 'experiece', 'experience', 'experiment', 'experimental', 'experince', 'expernsive', 'expert', 'expertiment', 'expertise', 'expertize', 'experts', 'expesnsive', 'expetations', 'expiration', 'expire', 'explain', 'explanation', 'explanations', 'explanatory', 'explaning', 'explicaciones', 'explicit', 'explicitly', 'explode', 'exploit', 'exploration', 'explore', 'explorer', 'explosion', 'explosions', 'exponentially', 'export', 'expose', 'exposure', 'exposures', 'expound', 'exprece', 'express', 'expression', 'expressly', 'exquisite', 'exselente', 'exspected', 'exspensive', 'ext', 'extant', 'extars', 'extend', 'extendable', 'extender', 'extension', 'extensions', 'extensive', 'extensively', 'extent', 'extentions', 'exterior', 'exteriors', 'externa', 'external', 'externalisation', 'externally', 'extervtor', 'extgps', 'extinct', 'exting', 'extort', 'extra', 'extract', 'extraction', 'extraible', 'extraneous', 'extranjero', 'extraordinarily', 'extraordinary', 'extras', 'extravert', 'extream', 'extreamily', 'extreme', 'extremely', 'extremes', 'extremly', 'extremo', 'extrordinary', 'extsd', 'extsdcard', 'exude', 'exvelente', 'exynos', 'eye', 'eyeball', 'eyebrow', 'eyelashes', 'eyepiece', 'eyesight', 'eyestrain', 'eyxnos', 'ez', 'fa', 'faaaaaaarr', 'fab', 'fabled', 'fabric', 'fabrica', 'fabricar', 'fabrication', 'fabulous', 'fabulously', 'facade', 'face', 'facebook', 'facebooking', 'facebooks', 'facebootk', 'facecial', 'facelift', 'faceplanted', 'faceplate', 'faceted', 'facetime', 'facial', 'facil', 'facilities', 'facility', 'facino', 'facny', 'fact', 'facter', 'facto', 'factoid', 'factor', 'factory', 'facts', 'factual', 'factually', 'faculties', 'fad', 'fade', 'fahrenheit', 'fail', 'failure', 'failures', 'faint', 'faintly', 'fair', 'fairless', 'fairly', 'fairness', 'faith', 'faithful', 'faithfully', 'faje', 'fake', 'fakers', 'falcon', 'fall', 'falla', 'fallas', 'fallin', 'fallout', 'false', 'falsely', 'falsificado', 'falta', 'faltaron', 'faltas', 'fam', 'fame', 'famed', 'familarize', 'familiar', 'familiarity', 'familiarization', 'familiarize', 'families', 'familiy', 'family', 'familyfarm', 'famous', 'famously', 'fan', 'fanatic', 'fanatics', 'fanboy', 'fanboys', 'fancier', 'fanciest', 'fancy', 'fandango', 'fanduel', 'fangirl', 'fangled', 'fanny', 'fantastic', 'fantastically', 'fantasy', 'fantatstic', 'faq', 'faqs', 'far', 'farce', 'fare', 'fargo', 'farm', 'farmiliar', 'fart', 'farther', 'farthest', 'fascinante', 'fascinate', 'fascination', 'fashion', 'fashionable', 'fashsion', 'fasrer', 'fasst', 'fast', 'fastboot', 'fasten', 'faster', 'fastest', 'fastly', 'fastreboot', 'fat', 'fatal', 'fate', 'father', 'fathom', 'fatigue', 'fatten', 'fatter', 'faucet', 'faukt', 'faulse', 'fault', 'faultly', 'faulty', 'faux', 'fav', 'fave', 'faves', 'favor', 'favorable', 'favorably', 'favorite', 'favorited', 'favorites', 'favoritre', 'favour', 'favourite', 'favourites', 'fax', 'fayer', 'fayetteville', 'faze', 'fb', 'fbi', 'fbreader', 'fc', 'fcc', 'fcil', 'fcs', 'fe', 'feable', 'feactures', 'fear', 'fearful', 'fearless', 'fearlessly', 'feasable', 'feasible', 'feat', 'featers', 'feather', 'featherweight', 'featuer', 'feature', 'featureless', 'featurs', 'feautre', 'feautres', 'feautures', 'feb', 'february', 'febuary', 'fec', 'fecha', 'federal', 'fedex', 'fee', 'feeble', 'feed', 'feedback', 'feedbacks', 'feeder', 'feel', 'feet', 'feew', 'feint', 'feita', 'fel', 'felicidades', 'felicito', 'felicitos', 'feliz', 'fell', 'fellow', 'felt', 'female', 'fence', 'fend', 'feom', 'ferrari', 'ferris', 'fester', 'festive', 'festures', 'fetch', 'fetish', 'fetures', 'feud', 'few', 'fewer', 'fexex', 'ff', 'ffc', 'ffffffff', 'fgs', 'fgstrading', 'fhd', 'fhe', 'fhone', 'fhotoroom', 'fi', 'fianc', 'fiance', 'fiancee', 'fiasco', 'fiber', 'fickle', 'fiction', 'fiddle', 'fiddly', 'fidelity', 'fidget', 'field', 'fience', 'fiend', 'fiends', 'fierce', 'fiercely', 'fiery', 'fiestacellphones', 'fiestacellphonestx', 'fifa', 'fifteen', 'fifth', 'fifty', 'fig', 'fight', 'fighter', 'figo', 'figuratively', 'figure', 'fiio', 'file', 'filemanager', 'filemate', 'filename', 'filesystem', 'filetransfer', 'filipino', 'fill', 'film', 'filter', 'filthy', 'fin', 'fina', 'finagle', 'final', 'finale', 'finalize', 'finally', 'finaly', 'finance', 'financee', 'financial', 'financially', 'find', 'finder', 'findmymobile', 'findout', 'fine', 'finely', 'fineprint', 'finer', 'finesse', 'finest', 'fing', 'finger', 'fingernail', 'fingernails', 'fingerprint', 'fingerprinter', 'fingertip', 'fingertips', 'finicky', 'finish', 'finite', 'finland', 'finnally', 'finnaly', 'finnicky', 'finnish', 'fino', 'fios', 'fir', 'fire', 'firechat', 'firefly', 'firefox', 'firendly', 'firephone', 'firepower', 'firewall', 'fireware', 'firewire', 'firm', 'firmly', 'firmware', 'firmwares', 'firmwrare', 'firs', 'firsrt', 'first', 'firstly', 'firts', 'fis', 'fischer', 'fish', 'fishbone', 'fisher', 'fishy', 'fist', 'fists', 'fit', 'fitbit', 'fitbitone', 'fitment', 'fitness', 'fitnesspal', 'five', 'fix', 'fixable', 'fixer', 'fizz', 'fjjgig', 'fl', 'flabbergast', 'flac', 'flack', 'flacs', 'flag', 'flaghip', 'flagship', 'flagships', 'flagshship', 'flah', 'flail', 'flair', 'flak', 'flake', 'flakey', 'flaky', 'flame', 'flank', 'flap', 'flappy', 'flapship', 'flare', 'flash', 'flashback', 'flashcards', 'flashight', 'flashled', 'flashless', 'flashligh', 'flashlight', 'flashlights', 'flashy', 'flask', 'flat', 'flatbed', 'flathead', 'flatly', 'flatscreen', 'flatter', 'flattery', 'flaunt', 'flautin', 'flavor', 'flaw', 'flawless', 'flawlessay', 'flawlessly', 'fledgling', 'fleet', 'fleksy', 'flesh', 'fleshy', 'flex', 'flexability', 'flexibility', 'flexible', 'flexsmart', 'flick', 'flicker', 'flickr', 'flier', 'flight', 'flimsier', 'flimsiest', 'flimsiness', 'flimsy', 'flinch', 'fling', 'flip', 'flipboard', 'flipbook', 'flipe', 'flipout', 'flipphones', 'flippin', 'flipshot', 'flipside', 'flirt', 'flixster', 'float', 'floater', 'flood', 'floofy', 'floor', 'flop', 'floppies', 'flor', 'florence', 'florescent', 'florida', 'flossy', 'flounder', 'flourish', 'flow', 'flower', 'flowery', 'flowy', 'floyd', 'fluck', 'fluctuate', 'fluctuation', 'fluency', 'fluent', 'fluently', 'fluff', 'fluffier', 'fluid', 'fluidity', 'fluidly', 'fluidness', 'fluke', 'fluorescent', 'flurescent', 'flush', 'flutter', 'flux', 'flv', 'fly', 'flyer', 'flygrip', 'fm', 'fn', 'fnaf', 'fo', 'foam', 'foamy', 'focal', 'focus', 'fog', 'foil', 'foist', 'fold', 'folder', 'folders', 'folio', 'folk', 'folks', 'follow', 'follower', 'followers', 'followup', 'follwing', 'fom', 'fonctions', 'fond', 'fondle', 'fondly', 'fone', 'foneguru', 'fono', 'font', 'fonts', 'foo', 'food', 'foods', 'foodspotting', 'fool', 'foolhardy', 'foolish', 'foolishly', 'foolproof', 'foot', 'footage', 'football', 'foothold', 'footnote', 'footprint', 'for', 'foray', 'forbid', 'force', 'forcecloses', 'forceful', 'forcibly', 'ford', 'fore', 'forecast', 'foreclose', 'forefathers', 'forefront', 'forego', 'foreground', 'foreheads', 'foreign', 'foremost', 'foresee', 'foreseeable', 'forester', 'forethought', 'forever', 'forevermore', 'forewarn', 'forfeit', 'forget', 'forgetful', 'forgettable', 'forgive', 'forgiveable', 'forgo', 'fork', 'form', 'formal', 'formally', 'formals', 'formas', 'format', 'formations', 'former', 'formerly', 'formfactor', 'formidable', 'formula', 'formulaic', 'formulate', 'foros', 'forr', 'forsee', 'forseeable', 'fort', 'forte', 'forth', 'forthcoming', 'forthly', 'forthright', 'fortify', 'fortnight', 'fortunate', 'fortunately', 'fortune', 'forty', 'forum', 'forums', 'forward', 'forwarder', 'fosman', 'fosmon', 'fota', 'foto', 'fotor', 'fotos', 'foul', 'found', 'founder', 'four', 'fourquare', 'fours', 'foursquare', 'fourteen', 'fourth', 'fourthly', 'foward', 'fown', 'fox', 'foxfi', 'fp', 'fps', 'fr', 'frackin', 'fraction', 'fracture', 'fragile', 'fragility', 'fragment', 'fragmentation', 'frailty', 'frakin', 'frakkin', 'frame', 'framerate', 'framework', 'france', 'francisco', 'frank', 'frankfurt', 'frankly', 'franquis', 'frantically', 'fraud', 'frauds', 'fraudsters', 'fraudulent', 'fray', 'fre', 'freak', 'freaken', 'freakin', 'freakishly', 'freakn', 'freaky', 'freatures', 'freckle', 'frecuencies', 'frecuent', 'frecuently', 'free', 'freebees', 'freebie', 'freebies', 'freecell', 'freedom', 'freedompop', 'freehand', 'freely', 'freemiums', 'freenav', 'freeplay', 'freeso', 'freestyle', 'freeware', 'freeway', 'freeways', 'freeze', 'freezer', 'freezining', 'freight', 'french', 'frendly', 'frends', 'frenemies', 'freq', 'frequeceny', 'frequencies', 'frequency', 'frequent', 'frequently', 'fresh', 'fresher', 'freshly', 'freshness', 'fret', 'frey', 'frickin', 'friction', 'frictionless', 'friday', 'fridge', 'fridy', 'friend', 'friendcaster', 'friendlessness', 'friendlier', 'friendliness', 'friendly', 'friends', 'friendstream', 'frig', 'friggin', 'frigging', 'frighten', 'frik', 'friken', 'frikinbitch', 'frill', 'frills', 'fring', 'fringe', 'fringer', 'frisbee', 'frist', 'fritz', 'frivolous', 'frizz', 'frm', 'fro', 'frog', 'from', 'fromage', 'frome', 'frommetro', 'frommy', 'fromthis', 'fron', 'front', 'frontal', 'frontier', 'frontrunner', 'froont', 'frost', 'froyo', 'frozing', 'frp', 'frugal', 'fruit', 'fruitful', 'fruity', 'frunt', 'frustracin', 'frustrate', 'frustratingly', 'frustration', 'frustrations', 'fruthermore', 'fry', 'fsg', 'ft', 'ftc', 'ftiendly', 'ftp', 'fts', 'ftt', 'ftw', 'fuchsia', 'fuction', 'fuctionality', 'fuctioning', 'fud', 'fue', 'fuel', 'fugheddaboutit', 'fuji', 'fujifilm', 'ful', 'fulfil', 'fulfill', 'fulfillment', 'full', 'fuller', 'fullest', 'fullfiled', 'fullfilled', 'fullfledge', 'fullhd', 'fully', 'fumble', 'fumbly', 'fume', 'fun', 'funcationality', 'funciana', 'funcioan', 'funcion', 'funciona', 'funcionabilidad', 'funcional', 'funcionalidad', 'funcionamiento', 'funcionan', 'funcionas', 'funcione', 'funciones', 'funciono', 'funciton', 'function', 'functionable', 'functionailty', 'functional', 'functionalities', 'functionality', 'functionally', 'fund', 'fundamental', 'fundamentally', 'fundamentals', 'funeral', 'funkiness', 'funky', 'funmunke', 'funnin', 'funny', 'funsiona', 'funtcion', 'funtion', 'funtional', 'funtionality', 'funtions', 'furb', 'furball', 'furious', 'furnace', 'furniture', 'furry', 'further', 'furthermore', 'furthest', 'fury', 'fuse', 'fusion', 'fuss', 'fussier', 'fussy', 'fustrating', 'fustration', 'futher', 'futuras', 'future', 'futures', 'futuristic', 'futuro', 'futz', 'fuze', 'fuzz', 'fuzziness', 'fuzzy', 'fv', 'fw', 'fwd', 'fwiw', 'fx', 'fyi', 'ga', 'gab', 'gabillion', 'gacias', 'gadget', 'gadgets', 'gadgety', 'gag', 'gaga', 'gah', 'gahhh', 'gain', 'gal', 'galacy', 'galasy', 'galax', 'galaxies', 'galaxy', 'galaxys', 'galazy', 'gallaxy', 'galleries', 'gallery', 'galore', 'gals', 'galveston', 'galxy', 'gamble', 'gambler', 'game', 'gameboy', 'gamechanger', 'gamecube', 'gamepad', 'gameplay', 'gamer', 'gamers', 'gamestop', 'gamma', 'gamut', 'gangbusters', 'gap', 'gapps', 'gar', 'garage', 'garanta', 'garantee', 'garanty', 'garb', 'garbage', 'garbageware', 'garble', 'garden', 'gareth', 'gargantuan', 'garish', 'garman', 'garment', 'garmin', 'garminfone', 'garner', 'garnet', 'gary', 'gas', 'gasbuddy', 'gash', 'gasket', 'gaskets', 'gasoline', 'gasp', 'gastar', 'gat', 'gate', 'gateway', 'gather', 'gaudy', 'gauge', 'gaves', 'gaveup', 'gawd', 'gay', 'gaze', 'gazelle', 'gazillion', 'gb', 'gboard', 'gbp', 'gbs', 'gbyte', 'gchat', 'gd', 'gdocs', 'gdr', 'gear', 'geatly', 'gee', 'geek', 'geekbench', 'geeks', 'geeky', 'geez', 'geezer', 'gel', 'gell', 'gem', 'gemini', 'gems', 'gen', 'genealogy', 'general', 'generally', 'generate', 'generation', 'generational', 'generations', 'generetion', 'generic', 'generosity', 'generous', 'genesis', 'genial', 'genie', 'genious', 'genius', 'genre', 'genres', 'gente', 'gentle', 'gentleman', 'gentlemen', 'gentlest', 'gently', 'genuine', 'genuinely', 'genuinity', 'geo', 'geocaching', 'geographic', 'geography', 'geolocation', 'george', 'georgeta', 'georgia', 'geotag', 'geotagging', 'geriatrics', 'german', 'germane', 'germans', 'germany', 'germaphobe', 'germophobe', 'gesture', 'get', 'gethuawei', 'getn', 'getter', 'gettigng', 'gettin', 'gf', 'gflex', 'gfs', 'gggg', 'ggl', 'ggland', 'ggod', 'ghana', 'ghost', 'ghostek', 'ghz', 'gi', 'giant', 'giants', 'gibabyte', 'gibberish', 'gid', 'giddy', 'gif', 'gifs', 'gift', 'giftable', 'giftcard', 'gifter', 'gig', 'gigabit', 'gigabyte', 'gigabytes', 'gigahertz', 'gigantic', 'giganticon', 'gigas', 'giggle', 'gigs', 'gim', 'gimicky', 'gimics', 'gimmic', 'gimmick', 'gimmicks', 'gimmicky', 'ginger', 'gingerbread', 'gingerly', 'ginormous', 'gire', 'girl', 'girlfiend', 'girlfreind', 'girlfriend', 'girlfriends', 'girls', 'girly', 'girth', 'gist', 'git', 'gitgo', 'give', 'giveaway', 'giveaways', 'giver', 'gives', 'givt', 'givti', 'gizillon', 'gizmo', 'gizmodo', 'gizmos', 'gl', 'glaad', 'glacier', 'glad', 'gladly', 'glam', 'glamorous', 'glance', 'glare', 'glaringly', 'glas', 'glass', 'glassy', 'gleam', 'glean', 'glich', 'gliches', 'glide', 'glider', 'glimmer', 'glimpse', 'glisten', 'glitch', 'glitched', 'glitches', 'glitchey', 'glitchie', 'glitchier', 'glitching', 'glitchy', 'glitchyness', 'glitz', 'glitzy', 'glob', 'global', 'globally', 'globalsat', 'glockenspiel', 'glonass', 'glorify', 'glorious', 'gloriously', 'glory', 'gloss', 'glossier', 'glossy', 'glove', 'gloves', 'glow', 'glowy', 'gltiched', 'glue', 'glut', 'glyde', 'glympse', 'glyn', 'glyphcache', 'gm', 'gma', 'gmail', 'gmails', 'gmal', 'gmaps', 'gmbh', 'gms', 'gn', 'gnash', 'gnex', 'gnote', 'go', 'goal', 'goals', 'gobble', 'gobs', 'gocare', 'god', 'godd', 'goddaughter', 'godfathers', 'godlike', 'gods', 'godsend', 'godspeed', 'goer', 'goet', 'goggle', 'gogh', 'gogo', 'gogole', 'gogroove', 'goin', 'gold', 'golden', 'goldilocks', 'golf', 'goliath', 'golly', 'gon', 'gong', 'gonig', 'gonner', 'goo', 'goob', 'goobgle', 'good', 'goodby', 'goodbye', 'goodcellas', 'gooddd', 'goodereader', 'goodgood', 'goodies', 'goodld', 'goodlink', 'goodluck', 'goodness', 'goodnight', 'goodphone', 'goods', 'goodwill', 'gooey', 'goof', 'goofy', 'goog', 'google', 'googleless', 'googlen', 'googleplay', 'googletalk', 'googlevoice', 'googley', 'gool', 'goon', 'goood', 'gooood', 'goooodddd', 'gooooooooood', 'gooroovster', 'goos', 'gophone', 'gophones', 'gopro', 'gore', 'gorgeous', 'gorgeously', 'gorgeousness', 'gorgous', 'gorila', 'gorilla', 'gorillaglass', 'gorillas', 'gorning', 'gorrila', 'gorrilla', 'gosh', 'gospel', 'gossip', 'gotcha', 'gotchas', 'gotham', 'goto', 'gots', 'gotton', 'goty', 'gouge', 'govern', 'government', 'governor', 'govoice', 'govt', 'gp', 'gpad', 'gpe', 'gpf', 'gplay', 'gpod', 'gpro', 'gprs', 'gps', 'gpser', 'gpsone', 'gpt', 'gpu', 'gpus', 'gq', 'gr', 'grab', 'grabber', 'grace', 'gracefully', 'graceous', 'gracia', 'gracias', 'gracious', 'graciously', 'graciousness', 'grad', 'gradable', 'gradations', 'grade', 'grader', 'gradient', 'gradually', 'graduate', 'graduation', 'graet', 'grafittied', 'graham', 'grain', 'grainier', 'graininess', 'grainy', 'gram', 'grambut', 'gramma', 'grammar', 'grammer', 'grampa', 'gramps', 'grams', 'gran', 'grand', 'grandad', 'grandaughter', 'grandchild', 'grandchildren', 'granddaughter', 'grande', 'grandfather', 'grandfathered', 'grandkid', 'grandkids', 'grandma', 'grandmaw', 'grandmother', 'grandpa', 'grandparent', 'grandparents', 'grandson', 'grandsons', 'granite', 'granny', 'grant', 'grantee', 'granular', 'grape', 'grapevine', 'graph', 'graphic', 'graphical', 'graphically', 'graphics', 'graphite', 'grasp', 'grass', 'grat', 'grate', 'grateful', 'gratify', 'gratuitous', 'grave', 'gravitate', 'gravity', 'gravy', 'gray', 'grayish', 'grayscale', 'grayware', 'graze', 'grear', 'greart', 'grease', 'greastest', 'greasy', 'great', 'greatb', 'greatcall', 'greatcalls', 'greate', 'greater', 'greatest', 'greatgrandmother', 'greatl', 'greatly', 'greatness', 'greatt', 'greattt', 'greed', 'greek', 'green', 'greenify', 'greenish', 'greet', 'grenify', 'grerat', 'gretest', 'grey', 'grid', 'gridlock', 'grief', 'grievance', 'grievances', 'griffin', 'grill', 'grille', 'grim', 'grimace', 'grime', 'grimy', 'grind', 'grinnell', 'grip', 'gripe', 'gripie', 'grippable', 'grippier', 'grippiness', 'grippy', 'grit', 'gritty', 'gro', 'groan', 'groceries', 'grocery', 'groomer', 'groove', 'grooveip', 'groovy', 'grope', 'gross', 'grossly', 'grottiness', 'grouch', 'groufie', 'ground', 'groundbreaking', 'groundspeak', 'group', 'groupfie', 'groupme', 'groupon', 'grouse', 'grow', 'growl', 'grownup', 'grreat', 'grrr', 'grrreat', 'grrrr', 'grrrrr', 'grrrrrrrrr', 'grrrrrrrrrrrrrrrrrrrrrrrrrrrrrrrrrr', 'grt', 'grueling', 'gruesome', 'grumble', 'grunt', 'gs', 'gsam', 'gsii', 'gsiii', 'gskill', 'gsm', 'gsmarena', 'gsmheros', 'gsx', 'gt', 'gta', 'gtalk', 'gtd', 'gte', 'gtx', 'guam', 'guarante', 'guarantee', 'guard', 'guardian', 'guatemala', 'guay', 'gud', 'guerrero', 'guerrilla', 'guess', 'guest', 'guests', 'gui', 'guidance', 'guide', 'guidelines', 'guilt', 'guilty', 'guinea', 'guise', 'guitar', 'gulf', 'gulp', 'gum', 'gumball', 'gun', 'gung', 'gunmetal', 'guru', 'gush', 'gusta', 'gusto', 'gut', 'gutted', 'guy', 'guyana', 'guzzle', 'guzzlers', 'gv', 'gwbeat', 'gym', 'gymnastics', 'gyp', 'gyptian', 'gyro', 'gyroscope', 'gyroscopic', 'gz', 'ha', 'haappy', 'habit', 'habitual', 'habitually', 'hacen', 'hacer', 'hack', 'hacker', 'hackers', 'hadand', 'hade', 'hadn', 'hadnt', 'hae', 'hago', 'hah', 'haha', 'hahah', 'hahaha', 'hahahaha', 'hahahahahaha', 'hail', 'hair', 'hairball', 'hairline', 'hairs', 'hairy', 'haissky', 'haiti', 'hakuna', 'half', 'halfway', 'hall', 'hallelujah', 'hallmark', 'hallow', 'halls', 'hallway', 'halo', 'halt', 'halve', 'hamables', 'hamilton', 'hammer', 'hamper', 'hampshire', 'hampton', 'hamptons', 'hamstring', 'hancom', 'hand', 'handbag', 'handbags', 'handbook', 'handbrake', 'handcent', 'handedly', 'handelled', 'hander', 'handers', 'handfree', 'handful', 'handheld', 'handhelds', 'handicap', 'handier', 'handily', 'handle', 'handlebar', 'handly', 'handmade', 'handoff', 'handset', 'handsets', 'handsfree', 'handside', 'handsome', 'handwrite', 'handwriten', 'handwritten', 'handy', 'handyman', 'hang', 'hangout', 'hangouts', 'hangover', 'hangups', 'hannah', 'hanndy', 'haphazard', 'haphazardly', 'happen', 'happend', 'happended', 'happier', 'happiest', 'happily', 'happiness', 'happpy', 'happt', 'happy', 'haptic', 'haptics', 'hapy', 'harangue', 'harassment', 'hard', 'hardbutton', 'hardbuttons', 'hardcase', 'hardcoded', 'hardcore', 'harddrive', 'harden', 'harder', 'hardest', 'hardkey', 'hardley', 'hardline', 'hardly', 'hardness', 'hardship', 'hardward', 'hardware', 'hardwares', 'hardway', 'hardwired', 'hardwood', 'hardworking', 'hardy', 'hare', 'harebrained', 'harkar', 'harm', 'harman', 'harmankardon', 'harmattan', 'harmful', 'harmless', 'harmon', 'harmonia', 'harmony', 'harness', 'harp', 'harrassing', 'harry', 'harsh', 'harsher', 'harshest', 'harshly', 'hasa', 'hash', 'hasn', 'hasnt', 'hasselblad', 'hasselfree', 'hassle', 'hasslefreecell', 'hasta', 'hasten', 'hastle', 'haswell', 'hat', 'hatch', 'hate', 'hateful', 'hater', 'haters', 'hatred', 'haul', 'haunt', 'hauwai', 'hauwei', 'hav', 'hava', 'have', 'haven', 'havent', 'havnt', 'havoc', 'havr', 'havs', 'hawaii', 'hawk', 'haxsync', 'hay', 'haywire', 'hazard', 'haze', 'hazy', 'hbo', 'hbogo', 'hbs', 'hd', 'hdd', 'hdmi', 'hdr', 'hdspa', 'hdtv', 'hdx', 'he', 'head', 'headace', 'headache', 'headaches', 'header', 'headers', 'headest', 'headline', 'headliner', 'headphone', 'headphones', 'headpiece', 'headpone', 'headroom', 'headset', 'headsets', 'headunit', 'heal', 'health', 'healthy', 'heap', 'hear', 'hearken', 'heart', 'heartache', 'heartbeat', 'heartbleed', 'heartbreak', 'heartbroken', 'heartburn', 'heartedly', 'hearten', 'hearthstone', 'hearts', 'heat', 'heave', 'heavely', 'heaven', 'heavens', 'heaver', 'heavier', 'heaviest', 'heavily', 'heaviness', 'heavy', 'heavyly', 'heavyweight', 'heavyweights', 'hebrew', 'hecho', 'heck', 'heckuva', 'hectic', 'hedwig', 'heed', 'heehee', 'heel', 'heft', 'heftier', 'heftiness', 'hefty', 'heh', 'hehe', 'hehehehehehe', 'hehhehe', 'height', 'heightmakes', 'heights', 'heinlein', 'heinous', 'helen', 'helicopter', 'helio', 'helium', 'helix', 'hell', 'hella', 'hellaciously', 'hellbent', 'hello', 'hellspawn', 'helluva', 'helmet', 'help', 'helpblog', 'helper', 'helpers', 'helpful', 'helpfull', 'helpfuness', 'helpless', 'helplessly', 'hem', 'hemisphere', 'hemorrhage', 'hence', 'henchmen', 'hend', 'heptic', 'her', 'herald', 'here', 'herein', 'heres', 'hereto', 'heritage', 'hermes', 'hermoso', 'hero', 'heroes', 'hers', 'herself', 'hes', 'hesh', 'hesistant', 'hesitant', 'hesitantly', 'hesitate', 'hesitation', 'hesitations', 'heuristic', 'hevier', 'hevy', 'hew', 'hexa', 'hexacore', 'hexagon', 'hey', 'heywire', 'hh', 'hhgg', 'hhh', 'hhi', 'hi', 'hiawei', 'hiba', 'hibernate', 'hibernation', 'hic', 'hiccup', 'hice', 'hick', 'hickup', 'hickups', 'hico', 'hicup', 'hide', 'hideous', 'hideously', 'hidro', 'hierarchies', 'hierarchy', 'hifi', 'higer', 'high', 'highend', 'higher', 'highest', 'highky', 'highlands', 'highlight', 'highly', 'highs', 'highspeed', 'highway', 'highways', 'higly', 'hihg', 'hijack', 'hike', 'hikers', 'hilarious', 'hilariously', 'hill', 'hillside', 'hilt', 'him', 'himself', 'hind', 'hinder', 'hindge', 'hindrance', 'hindsight', 'hindu', 'hines', 'hinge', 'hinglish', 'hinky', 'hint', 'hip', 'hiper', 'hipri', 'hipstamatic', 'hipster', 'hipsters', 'hire', 'his', 'hiss', 'hissy', 'histograms', 'historical', 'historically', 'histories', 'history', 'hit', 'hitch', 'hitman', 'hitter', 'hitters', 'hiwever', 'hk', 'hmm', 'hmmm', 'hmmmm', 'hmr', 'ho', 'hoard', 'hoarder', 'hoax', 'hobbies', 'hobble', 'hobby', 'hobbyist', 'hoc', 'hockey', 'hoe', 'hog', 'hogar', 'hogger', 'hoggers', 'hokey', 'hola', 'hold', 'holdability', 'holder', 'holders', 'holdout', 'holdouts', 'hole', 'holiday', 'holistic', 'hollow', 'holly', 'holster', 'holstered', 'holstering', 'holsters', 'holy', 'home', 'homeless', 'homepage', 'homer', 'homerun', 'homescreen', 'homescreens', 'hometown', 'homework', 'honda', 'honduras', 'hone', 'honeslty', 'honest', 'honestly', 'honestreview', 'honesty', 'honey', 'honeycomb', 'honeymoon', 'hong', 'hongkong', 'honkin', 'honolulu', 'honor', 'hoo', 'hood', 'hoodie', 'hook', 'hookup', 'hookups', 'hooooot', 'hoop', 'hooray', 'hoot', 'hooters', 'hop', 'hope', 'hopeful', 'hopefully', 'hopeless', 'hopeoufully', 'hopper', 'horde', 'horesepower', 'horible', 'horizon', 'horizontal', 'horizontally', 'horn', 'horny', 'horrendous', 'horrendously', 'horriable', 'horrible', 'horribleness', 'horribly', 'horrid', 'horrific', 'horrify', 'horror', 'horse', 'horsepower', 'hose', 'hospital', 'hospitalize', 'host', 'hostage', 'hostile', 'hostpot', 'hot', 'hotcakes', 'hotel', 'hotels', 'hotkey', 'hotknot', 'hotmail', 'hotplate', 'hotpots', 'hotrod', 'hots', 'hotsport', 'hotspot', 'hotspots', 'hotspotting', 'hott', 'hotter', 'hottest', 'hough', 'hound', 'hour', 'hourly', 'hours', 'house', 'household', 'households', 'housemate', 'houston', 'houw', 'hover', 'how', 'howard', 'howerver', 'however', 'howl', 'howmuch', 'hows', 'hp', 'hq', 'hr', 'hrc', 'hreat', 'href', 'hrs', 'hs', 'hsdpa', 'hsi', 'hsn', 'hsp', 'hspa', 'hspd', 'hspda', 'hsupa', 'htc', 'htcdev', 'htcs', 'html', 'htpc', 'hts', 'http', 'htv', 'huamuwei', 'huawai', 'huaway', 'huawei', 'huaweii', 'hub', 'hubby', 'hubbys', 'hubo', 'hubs', 'hue', 'hug', 'huge', 'hugely', 'hugger', 'huggers', 'hugh', 'huh', 'huiwei', 'hullomail', 'hulu', 'hum', 'human', 'humana', 'humanity', 'humanly', 'humans', 'humble', 'humid', 'humidity', 'hummingbird', 'humor', 'humorous', 'hump', 'humungous', 'humungus', 'hundered', 'hundred', 'hundreds', 'hunger', 'hungry', 'hunk', 'hunt', 'hurdle', 'hurrah', 'hurricane', 'hurricanes', 'hurry', 'hurt', 'husband', 'huse', 'hustle', 'huwawei', 'huwei', 'hv', 'hve', 'hvnt', 'hw', 'hybird', 'hybrid', 'hybridy', 'hydrid', 'hydro', 'hydrophobic', 'hynix', 'hype', 'hyper', 'hyperband', 'hyperdrive', 'hyperion', 'hyperlinks', 'hypersensitive', 'hyperspace', 'hypnotize', 'hypocrite', 'hyrdo', 'hyro', 'hz', 'ia', 'iacoco', 'iacute', 'iam', 'ian', 'ibasso', 'ibjust', 'iblason', 'iblazr', 'ibm', 'ibolt', 'ibook', 'ibotta', 'ibought', 'ibuypower', 'ic', 'icalendar', 'icarez', 'icc', 'ice', 'iceberg', 'icecream', 'icellsolution', 'icellusa', 'icloud', 'icon', 'iconia', 'iconic', 'iconography', 'icons', 'icontrolpad', 'icp', 'icq', 'icruiser', 'ics', 'id', 'idaho', 'idc', 'idea', 'ideal', 'ideally', 'ideals', 'idear', 'ideas', 'ideea', 'idem', 'identical', 'identically', 'identification', 'identify', 'identity', 'ideological', 'ideologies', 'idevice', 'idevices', 'idiomain', 'idioms', 'idiosyncrasies', 'idiosyncratic', 'idiot', 'idiotic', 'idiots', 'idk', 'idle', 'ido', 'idol', 'idols', 'ids', 'ie', 'iem', 'iems', 'ies', 'iexcl', 'iexpensive', 'if', 'iffy', 'iffyit', 'ifixit', 'iflop', 'ifound', 'ifriggin', 'ifruit', 'ifs', 'ig', 'ign', 'ignite', 'ignorable', 'ignorance', 'ignorant', 'ignore', 'igottech', 'igual', 'ihad', 'ihearradio', 'iheart', 'iheartradio', 'iho', 'ihome', 'ihop', 'ihype', 'ii', 'iif', 'iight', 'iii', 'iike', 'iirc', 'iit', 'ik', 'ike', 'il', 'ilemming', 'ill', 'illegal', 'illegally', 'illiterate', 'illuminate', 'illumination', 'illumishield', 'illusion', 'illusive', 'illustrate', 'illustrations', 'illustrator', 'ilomilo', 'ilybb', 'im', 'ima', 'imac', 'imacs', 'image', 'imagen', 'imagery', 'imaginable', 'imagination', 'imaginative', 'imagine', 'imap', 'imbed', 'imcredible', 'imdb', 'ime', 'imea', 'imediashare', 'imediate', 'imei', 'imeis', 'imessage', 'imessages', 'img', 'imho', 'imitate', 'imitation', 'imma', 'immaculate', 'immaterial', 'immature', 'immeasurable', 'immediate', 'immediately', 'immediatly', 'immense', 'immensely', 'immensly', 'immerse', 'immersion', 'immersive', 'immobile', 'imo', 'imovie', 'impact', 'impair', 'impairments', 'impartial', 'impassioned', 'impatient', 'impatiently', 'impecable', 'impeccable', 'impedance', 'impede', 'impediment', 'impend', 'imperative', 'imperceptible', 'imperfect', 'imperfection', 'imperfections', 'impetus', 'implement', 'implementation', 'implementations', 'implication', 'implode', 'implosion', 'imply', 'import', 'importance', 'important', 'importantly', 'importer', 'imposable', 'impose', 'imposible', 'impositions', 'impossible', 'impossibly', 'impotanto', 'impoverish', 'impractical', 'imprecable', 'imprecindile', 'imprecise', 'imprerative', 'impresin', 'impresive', 'impress', 'impression', 'impressions', 'impressive', 'impressively', 'imprint', 'impromptu', 'improperly', 'improve', 'improvement', 'improvements', 'improvise', 'improvmnt', 'imprressions', 'impulse', 'imput', 'ims', 'imsa', 'imwas', 'imx', 'in', 'inability', 'inaccessible', 'inaccuracies', 'inaccurate', 'inactive', 'inactivity', 'inadequacies', 'inadequate', 'inadvertanely', 'inadvertantly', 'inadvertent', 'inadvertently', 'inane', 'inanimate', 'inappropriate', 'inappropriately', 'inasmuch', 'inaudibility', 'inaudible', 'inaugurate', 'inbetween', 'inboard', 'inbound', 'inbox', 'inboxes', 'inbuilt', 'inc', 'incadove', 'incandescent', 'incantation', 'incapable', 'incarnation', 'incase', 'incentive', 'incentives', 'inception', 'incessant', 'incessantly', 'incg', 'inch', 'inche', 'incher', 'incident', 'incidentally', 'incidently', 'incidents', 'incipio', 'incite', 'incl', 'incldues', 'inclement', 'inclination', 'incline', 'includded', 'include', 'includedare', 'inclue', 'incluida', 'incluided', 'inclusion', 'inclusive', 'incognito', 'incoherent', 'income', 'incoming', 'incomming', 'incomparable', 'incompatable', 'incompatibilities', 'incompatibility', 'incompatible', 'incompetence', 'incompetent', 'incomplete', 'incomprehensible', 'inconceivable', 'inconformidad', 'inconsistencies', 'inconsistency', 'inconsistent', 'inconsistently', 'inconspicuous', 'inconvenience', 'inconvenient', 'inconvenientes', 'inconveniently', 'inconvienience', 'inconvinience', 'incorporate', 'incorrect', 'incorrectly', 'incourage', 'incrase', 'increadable', 'increase', 'increasingly', 'incred', 'incredible', 'incredibles', 'incredibly', 'increditible', 'increment', 'incremental', 'incrementally', 'incur', 'indebted', 'indecent', 'indeed', 'indefinately', 'indefinitely', 'indent', 'indentation', 'independence', 'independent', 'independently', 'indespensible', 'indestructable', 'indestructible', 'index', 'india', 'indian', 'indica', 'indicada', 'indicado', 'indicando', 'indicate', 'indication', 'indications', 'indicative', 'indicator', 'indicators', 'indict', 'indie', 'indies', 'indifference', 'indigenous', 'indigent', 'indignity', 'indirect', 'indispensable', 'indisputably', 'indistinguishable', 'individual', 'individualisation', 'individualistic', 'individually', 'individuals', 'indo', 'indoctrination', 'indonesia', 'indoor', 'indoors', 'induce', 'induction', 'inductive', 'indulgence', 'industrial', 'industries', 'industructable', 'industry', 'indy', 'ine', 'inefficiencies', 'inefficient', 'inept', 'ineptitude', 'inert', 'inertia', 'inertial', 'inevitable', 'inevitably', 'inexcusable', 'inexpensive', 'inexpensively', 'inexperienced', 'inexplicable', 'inexplicably', 'infact', 'infamous', 'infant', 'infect', 'inferior', 'infernal', 'inferno', 'infiltration', 'infinite', 'infinitely', 'infinity', 'infirmed', 'inflate', 'inflict', 'inflight', 'influence', 'info', 'infomationally', 'infored', 'inform', 'information', 'informational', 'informative', 'informo', 'infra', 'infrared', 'infrastructure', 'infrequent', 'infrequently', 'infuriate', 'infuriatingly', 'infuriation', 'infuse', 'ing', 'ingeniero', 'ingenious', 'ingeniously', 'ingles', 'ingress', 'ingresser', 'inherent', 'inherently', 'inheritance', 'inhibit', 'inhumane', 'iniital', 'initial', 'initialization', 'initialize', 'initiall', 'initially', 'initiate', 'initiation', 'initiative', 'inject', 'injuries', 'injury', 'injustice', 'ink', 'inky', 'inlaw', 'inlcuded', 'inline', 'inlove', 'inloveeeee', 'inmediately', 'inmejorable', 'innards', 'innate', 'innefective', 'inner', 'innnovated', 'innocuous', 'innovatative', 'innovate', 'innovation', 'innovations', 'innovative', 'innovator', 'innuendo', 'innumerable', 'inocencio', 'inop', 'inoperable', 'inopportune', 'inordinate', 'inovation', 'inplus', 'input', 'inputted', 'inputting', 'inquire', 'inquiries', 'inquiry', 'inquisitive', 'inroads', 'ins', 'insalled', 'insane', 'insanely', 'insecure', 'insensitive', 'insert', 'insertion', 'inset', 'inside', 'insider', 'insides', 'insidious', 'insight', 'insights', 'insignia', 'insignificant', 'insignificantly', 'insist', 'insomnia', 'inspect', 'inspection', 'inspiration', 'inspire', 'insta', 'instability', 'instade', 'instagram', 'instagraming', 'instal', 'install', 'installable', 'installation', 'installations', 'installer', 'installment', 'installments', 'instance', 'instant', 'instantaneous', 'instantaneously', 'instantly', 'instead', 'insted', 'instigate', 'instinct', 'instinctively', 'instincts', 'institute', 'institution', 'instrucciones', 'instruct', 'instruction', 'instructional', 'instructions', 'instrument', 'instuctions', 'insufficient', 'insulate', 'insulation', 'insulative', 'insult', 'insultingly', 'insurance', 'insure', 'insurrance', 'int', 'intact', 'intagrates', 'intagreates', 'intake', 'intal', 'intead', 'inteface', 'integral', 'integrate', 'integration', 'integretion', 'integrity', 'intel', 'inteligente', 'intelligence', 'intelligent', 'intelligently', 'intelligibility', 'intelos', 'intels', 'intend', 'intense', 'intensity', 'intensive', 'intensively', 'intent', 'intention', 'intentional', 'intentionally', 'intentions', 'intentos', 'intents', 'inter', 'interact', 'interaction', 'interactions', 'interactive', 'intercept', 'interchange', 'interchangeable', 'interconnectivity', 'interest', 'interestingly', 'interface', 'interfaces', 'interfaz', 'interfere', 'interference', 'intergrate', 'intergrated', 'interim', 'interior', 'intermediate', 'intermitent', 'intermitente', 'intermittenly', 'intermittent', 'intermittently', 'interms', 'intern', 'interna', 'internacional', 'internal', 'internally', 'internals', 'internation', 'international', 'internationally', 'internayional', 'interner', 'internet', 'interneting', 'interoperability', 'interpolate', 'interpret', 'interpretation', 'interpreter', 'interrupt', 'interruption', 'interruptions', 'intersections', 'interstate', 'interupt', 'interval', 'intervals', 'intervene', 'intervention', 'interview', 'interwebs', 'interworking', 'intetersted', 'intimidate', 'intl', 'into', 'intoi', 'intolerable', 'intolerably', 'intorelable', 'intown', 'intra', 'intranet', 'intranets', 'intrepid', 'intrested', 'intrigue', 'intro', 'introduce', 'introduction', 'introductions', 'introductory', 'introductry', 'intruders', 'intrusion', 'intrusive', 'intrusiveness', 'intuition', 'intuititve', 'intuitive', 'intuitively', 'intune', 'intuos', 'inundate', 'invade', 'invaders', 'invalid', 'invaluable', 'invariable', 'invariably', 'invasion', 'invasions', 'invasive', 'invent', 'invention', 'inventor', 'inventory', 'inversione', 'inversment', 'invesigating', 'invest', 'investigate', 'investigation', 'investigators', 'investment', 'investments', 'investor', 'invincible', 'invisible', 'invisibleshield', 'invisishield', 'invite', 'invocations', 'invoice', 'invoke', 'involve', 'involvement', 'inward', 'io', 'iodize', 'ion', 'ionic', 'ior', 'ios', 'iost', 'iota', 'iottie', 'iow', 'iowa', 'ip', 'ipad', 'ipads', 'ipaky', 'ipaq', 'ipcam', 'ipdate', 'iphantom', 'iphoe', 'iphone', 'iphoneduck', 'iphoneographer', 'iphoner', 'iphones', 'iphonese', 'iphonies', 'iphoone', 'iphoto', 'iphotos', 'iphun', 'ipnone', 'ipod', 'ipods', 'ipone', 'ipro', 'ips', 'iq', 'iqshield', 'ir', 'iraq', 'irc', 'ireland', 'iris', 'irish', 'iriver', 'irk', 'iron', 'ironically', 'ironman', 'irony', 'irradiate', 'irrational', 'irregular', 'irregularities', 'irrelevancy', 'irrelevant', 'irremovable', 'irreparably', 'irresistible', 'irrespective', 'irresponsible', 'irretrievably', 'irritant', 'irritate', 'irritatingly', 'irritation', 'irritations', 'irulu', 'irving', 'isch', 'isd', 'isee', 'ish', 'isheep', 'isight', 'isis', 'islamic', 'island', 'islands', 'isles', 'isn', 'isnot', 'isnt', 'iso', 'isolate', 'isongs', 'isp', 'israel', 'israeli', 'isroaming', 'isse', 'isses', 'issie', 'issue', 'ist', 'isuues', 'isync', 'isyncr', 'it', 'ita', 'italian', 'italy', 'itch', 'itd', 'itegalcare', 'item', 'itemize', 'items', 'iten', 'iterate', 'iteration', 'iterations', 'ith', 'ithe', 'ithink', 'itineraries', 'iting', 'itll', 'itmedium', 'itouch', 'its', 'itself', 'itsl', 'itsn', 'itss', 'itsy', 'itty', 'itune', 'itunes', 'itupdate', 'itwith', 'ity', 'iv', 'ive', 'ivona', 'ivory', 'iwireless', 'iwork', 'iwould', 'ix', 'ize', 'ja', 'jabber', 'jabra', 'jac', 'jack', 'jacka', 'jackass', 'jacket', 'jackin', 'jackpot', 'jacksonville', 'jacuzzi', 'jade', 'jaden', 'jag', 'jail', 'jailbreak', 'jailbreaker', 'jailbreaking', 'jailbroke', 'jailbroken', 'jam', 'jamaica', 'jan', 'jane', 'janet', 'janky', 'january', 'japan', 'japanese', 'jar', 'jargon', 'jargons', 'jason', 'java', 'javelin', 'javtja', 'jaw', 'jawbone', 'jay', 'jaybird', 'jazz', 'jazzier', 'jb', 'jbl', 'je', 'jeally', 'jealous', 'jean', 'jeans', 'jeddah', 'jeep', 'jeeze', 'jeff', 'jelley', 'jello', 'jelly', 'jellybean', 'jelous', 'jennifer', 'jerk', 'jerky', 'jerrie', 'jersey', 'jest', 'jesus', 'jet', 'jetaudio', 'jewel', 'jewelquest', 'jewelry', 'jig', 'jiggly', 'jillion', 'jimmie', 'jimmy', 'jingle', 'jinx', 'jist', 'jitter', 'jitterbug', 'jittering', 'jitters', 'jittertouch', 'jittery', 'jj', 'jk', 'jmo', 'jnfo', 'job', 'jobsite', 'jockey', 'joe', 'joes', 'joetestedthat', 'jog', 'john', 'johns', 'joikuspot', 'join', 'joint', 'joke', 'jokingly', 'jolly', 'jonb', 'jones', 'jonesing', 'joopapa', 'jose', 'joseph', 'josh', 'jostle', 'jot', 'joto', 'journal', 'journalist', 'journalists', 'journey', 'journeyman', 'jovenes', 'joy', 'joycell', 'joycells', 'joyful', 'joyous', 'joyously', 'jpeg', 'jpegs', 'jpg', 'jr', 'jt', 'jts', 'juan', 'judge', 'judgement', 'judgment', 'judgments', 'juegos', 'jugar', 'juggle', 'juice', 'juiced', 'juicedefender', 'juicepack', 'juicer', 'juices', 'juicy', 'juke', 'jukeboxes', 'jul', 'julie', 'july', 'jumble', 'jumbo', 'jump', 'jumpy', 'jun', 'june', 'jungle', 'junior', 'junk', 'junker', 'junkie', 'junkies', 'junkware', 'junky', 'juno', 'jupiter', 'jury', 'jus', 'just', 'justafax', 'justice', 'justifiable', 'justification', 'justify', 'justintv', 'justo', 'jut', 'juust', 'juxtaposer', 'jv', 'jvc', 'jw', 'jx', 'kai', 'kaio', 'kakao', 'kaleidoscope', 'kamando', 'kanex', 'kanga', 'kapaver', 'kaput', 'karate', 'kardon', 'karma', 'kaspersky', 'kat', 'kata', 'katrina', 'kayak', 'kazillion', 'kb', 'kbps', 'kde', 'keeep', 'keen', 'keep', 'keeper', 'keester', 'kendra', 'kenwood', 'kenya', 'kernal', 'kerne', 'kernel', 'kernels', 'kevlar', 'kew', 'kewl', 'kewler', 'key', 'keyboar', 'keyboard', 'keyboards', 'keychain', 'keyeacera', 'keygaurd', 'keyguard', 'keynote', 'keyone', 'keypad', 'keypads', 'keypoints', 'keypress', 'keyring', 'keystroke', 'keyword', 'keywords', 'kfc', 'kg', 'khaki', 'khakis', 'khe', 'kia', 'kial', 'kiask', 'kick', 'kickbacks', 'kicker', 'kickstand', 'kickstands', 'kid', 'kiddies', 'kiddo', 'kiddos', 'kidmode', 'kidney', 'kidscorner', 'kies', 'kik', 'kikat', 'kikkat', 'kill', 'killer', 'killers', 'kilobit', 'kilobyte', 'kilometers', 'kilt', 'kim', 'kind', 'kinda', 'kindda', 'kinder', 'kindle', 'kindly', 'kinds', 'king', 'kingoroot', 'kingroot', 'kings', 'kingsoft', 'kingston', 'kink', 'kiosk', 'kiosks', 'kip', 'kirf', 'kirin', 'kis', 'kiss', 'kit', 'kitchen', 'kitkat', 'kitten', 'kitty', 'kitv', 'kiut', 'kiwi', 'kk', 'kkkkk', 'klife', 'klipsch', 'kludge', 'kludged', 'kludgy', 'klutz', 'km', 'kmart', 'knee', 'kneed', 'knees', 'knick', 'knicks', 'knife', 'knifeco', 'knight', 'knit', 'knives', 'knob', 'knock', 'knockoff', 'knockoffs', 'knockon', 'know', 'knowi', 'knowingly', 'knowledge', 'knowledgeable', 'knox', 'knuckle', 'knw', 'kobe', 'kodak', 'kodi', 'koh', 'koi', 'kombat', 'kong', 'konqueror', 'kool', 'korea', 'korean', 'koreans', 'koriano', 'kown', 'kpn', 'krait', 'krazors', 'kristin', 'kristine', 'kroger', 'ktml', 'kudo', 'kudos', 'kuwait', 'kx', 'ky', 'kyle', 'kyocera', 'kyoceras', 'kyrocera', 'kyrstin', 'la', 'laaaaag', 'lab', 'label', 'lable', 'labled', 'labor', 'laborious', 'labs', 'lace', 'lack', 'lackadaisical', 'lackluster', 'lacklustre', 'lad', 'ladder', 'lade', 'ladies', 'lados', 'lady', 'ladybugs', 'lag', 'lagest', 'lagfixes', 'lagg', 'laggard', 'laggggg', 'laggs', 'laggy', 'lague', 'lagy', 'lake', 'lam', 'lamb', 'lame', 'lameness', 'lament', 'lamentablemente', 'lamp', 'lan', 'lana', 'land', 'landline', 'landlines', 'landmark', 'landscape', 'landscope', 'lane', 'lanes', 'language', 'languages', 'languague', 'languid', 'lanny', 'lanyard', 'lap', 'lapdock', 'lapse', 'laptop', 'laptops', 'lara', 'larg', 'large', 'largely', 'largeness', 'larger', 'larges', 'largest', 'largish', 'las', 'laser', 'lasers', 'last', 'laste', 'lasters', 'lastest', 'lastimosamente', 'lastly', 'lastpass', 'latam', 'latch', 'late', 'lately', 'latency', 'latengo', 'later', 'laterz', 'latest', 'latge', 'latin', 'latitude', 'latter', 'lauch', 'laud', 'laugh', 'laughable', 'laughably', 'launch', 'launcher', 'launcherpro', 'launchers', 'laundry', 'lauren', 'lava', 'lavish', 'law', 'lawn', 'lawnmower', 'lawrence', 'laws', 'lawsuit', 'lawsuites', 'lawyer', 'lawyers', 'lay', 'layer', 'layman', 'laymen', 'laymens', 'layout', 'layouts', 'layperson', 'lazer', 'lazy', 'lb', 'lbs', 'lcd', 'lcds', 'le', 'lead', 'leader', 'leaders', 'leadership', 'leadville', 'leaf', 'league', 'leak', 'leakage', 'lean', 'leaner', 'leap', 'leapfrog', 'learing', 'learn', 'learner', 'leary', 'lease', 'least', 'leather', 'leatherette', 'leathery', 'leauges', 'leave', 'lecture', 'leds', 'lee', 'leech', 'leeco', 'leef', 'leery', 'leeway', 'leftie', 'leftover', 'leftovers', 'leftwards', 'leg', 'legable', 'legacy', 'legal', 'legalize', 'legally', 'legend', 'legendary', 'legends', 'leggy', 'legibility', 'legible', 'legit', 'legitimate', 'legitimately', 'legitimize', 'lego', 'legs', 'leisure', 'leisurely', 'lemming', 'lemon', 'lemons', 'lemurs', 'lend', 'lenght', 'length', 'lengthly', 'lengths', 'lengthy', 'lenguaje', 'lenient', 'lenovo', 'lenovorola', 'lens', 'lense', 'lenses', 'leo', 'leon', 'lepad', 'ler', 'les', 'leslieann', 'less', 'lessen', 'lesser', 'lesson', 'lessons', 'lessor', 'lest', 'let', 'letdown', 'letdowns', 'letter', 'letterbox', 'level', 'lever', 'leverage', 'levis', 'levy', 'lexar', 'lexus', 'lf', 'lg', 'lgall', 'lgeoo', 'lgip', 'lgs', 'lh', 'li', 'liability', 'liable', 'liar', 'liberacion', 'liberado', 'liberate', 'liberation', 'liberty', 'libraries', 'library', 'libreoffice', 'libro', 'libya', 'license', 'lick', 'lickety', 'lid', 'lie', 'liers', 'lieu', 'lieying', 'life', 'lifecycle', 'lifehacker', 'lifeless', 'lifelike', 'lifeline', 'lifepan', 'lifeproof', 'liferpoof', 'lifers', 'lifesaver', 'lifesavers', 'lifespan', 'lifestyle', 'lifestyles', 'lifetime', 'lift', 'light', 'lightely', 'lighten', 'lighter', 'lightest', 'lightflow', 'lighthouse', 'lightly', 'lightness', 'lightning', 'lightroom', 'lightweight', 'lightweightness', 'lightyears', 'ligth', 'liiife', 'liiifeee', 'liitle', 'like', 'likednokia', 'likely', 'liken', 'liket', 'likethe', 'likewise', 'likley', 'lil', 'lillipop', 'limb', 'limbo', 'lime', 'limelight', 'limit', 'limitation', 'limitations', 'limiter', 'limitless', 'lincoln', 'line', 'linea', 'lineage', 'lineageos', 'linear', 'liner', 'lineup', 'ling', 'linger', 'lingo', 'link', 'linkage', 'linkedin', 'linoleum', 'lint', 'linux', 'lion', 'lip', 'lipo', 'lipped', 'lipstick', 'liquid', 'liquidate', 'liquidator', 'liquidskin', 'liquidy', 'lisa', 'list', 'lista', 'listeing', 'listen', 'listenable', 'listener', 'listeners', 'listenning', 'listern', 'lite', 'literal', 'literally', 'literature', 'litereally', 'literly', 'lithe', 'lithium', 'litlle', 'litmus', 'litter', 'litterally', 'litterly', 'little', 'littnonnonart', 'livable', 'live', 'liveable', 'livelier', 'lively', 'livemesh', 'liverado', 'livesight', 'livestage', 'livetile', 'livetv', 'livid', 'lk', 'lkll', 'll', 'llama', 'llamada', 'llamadas', 'llc', 'lleg', 'llega', 'llegada', 'llegado', 'llegan', 'llegara', 'llego', 'llegue', 'llevarlo', 'llevo', 'lll', 'llook', 'lmao', 'lmited', 'ln', 'lnea', 'lo', 'load', 'loader', 'loaders', 'loan', 'loaner', 'loathe', 'loathsome', 'loaves', 'lobal', 'lobby', 'lobe', 'local', 'locale', 'locales', 'localize', 'locally', 'locate', 'location', 'locations', 'lock', 'lockdown', 'locker', 'lockers', 'lockout', 'lockscreen', 'lockup', 'lockups', 'loco', 'lofty', 'log', 'loger', 'logger', 'loggers', 'logic', 'logical', 'logically', 'login', 'logins', 'logistics', 'logitech', 'logmein', 'logo', 'logon', 'logos', 'loing', 'loki', 'lol', 'lolipop', 'lolli', 'lollipop', 'lollipops', 'lollypop', 'london', 'lone', 'long', 'longer', 'longest', 'longevity', 'longgggg', 'longshot', 'longtime', 'lonnnngg', 'lonnnnnngggg', 'look', 'looker', 'lookign', 'lookin', 'lookn', 'lookout', 'looksjust', 'lookup', 'loom', 'loon', 'loooking', 'looonnnggg', 'loooong', 'looooong', 'looooove', 'looove', 'looovve', 'loop', 'loophole', 'loose', 'loosely', 'loosen', 'looser', 'loosless', 'lopsided', 'lord', 'los', 'lose', 'losers', 'losint', 'loss', 'losses', 'lossless', 'lossy', 'lot', 'lottery', 'lotus', 'lou', 'loud', 'louder', 'loudest', 'loudly', 'loudness', 'loudspeaker', 'loudspeakers', 'lough', 'lound', 'lounge', 'lousey', 'lousy', 'love', 'loveable', 'lovechild', 'loveeb', 'loveit', 'lovely', 'lover', 'lovers', 'lovin', 'lovingly', 'low', 'lowcost', 'lowend', 'lower', 'lowercase', 'lowest', 'lowlight', 'lowlights', 'lowly', 'loyal', 'loyalist', 'loyalists', 'loyalty', 'loyatly', 'lp', 'lpcm', 'lsame', 'lsot', 'lssted', 'lstima', 'lte', 'lteode', 'ltr', 'luce', 'lucia', 'lucid', 'luck', 'lucked', 'luckily', 'lucky', 'lucrative', 'ludicrous', 'luego', 'lug', 'luge', 'luke', 'luma', 'lumai', 'lumen', 'lumia', 'lumian', 'lumias', 'lumina', 'luminescence', 'luminosity', 'lumix', 'lump', 'luna', 'lunch', 'luncher', 'lunchtime', 'lurch', 'lure', 'lurk', 'lush', 'lust', 'luster', 'luv', 'luvs', 'luvvitt', 'lux', 'luxurious', 'luxury', 'lve', 'lves', 'ly', 'lye', 'lyft', 'lync', 'lynwwod', 'lytro', 'ma', 'maap', 'maax', 'mabey', 'maby', 'mabye', 'mac', 'macabre', 'macbook', 'macbooks', 'mace', 'mach', 'machime', 'machine', 'machinery', 'maching', 'machinist', 'macintosh', 'mack', 'macro', 'macros', 'macs', 'macular', 'macy', 'mad', 'madam', 'madden', 'madison', 'madness', 'maemo', 'mag', 'magaria', 'magazine', 'magazines', 'magellan', 'magentic', 'magic', 'magical', 'magically', 'magicjack', 'magicleap', 'magnalium', 'magnector', 'magnesium', 'magnet', 'magnetic', 'magnetica', 'magnetometer', 'magnets', 'magnific', 'magnification', 'magnificence', 'magnificent', 'magnificently', 'magnifier', 'magnify', 'magnometer', 'magnuson', 'magpul', 'magtron', 'mah', 'mahs', 'mail', 'mailapp', 'mailbox', 'mailboxes', 'mailboxex', 'mailer', 'mailman', 'mailprint', 'maimang', 'main', 'mainboard', 'maine', 'mainly', 'mainstay', 'mainstream', 'maintain', 'maintenance', 'majestic', 'majesty', 'majicjack', 'major', 'majority', 'majorly', 'make', 'maken', 'makeover', 'maker', 'makers', 'makeshift', 'maket', 'makeup', 'mal', 'mala', 'malaga', 'malas', 'malaysia', 'male', 'malfuction', 'malfuctions', 'malfunction', 'mali', 'malibu', 'malicimo', 'malicious', 'malisimo', 'mall', 'malo', 'malone', 'maloooooooooooooo', 'malos', 'malware', 'malwarebytes', 'malwsre', 'mama', 'mame', 'mammoth', 'man', 'manage', 'manageable', 'management', 'manager', 'managers', 'manchas', 'mandan', 'mandarin', 'mandate', 'mandatory', 'mande', 'mandrex', 'mane', 'manejar', 'maneuver', 'mangeable', 'mangle', 'mango', 'manhattan', 'manicure', 'manifestation', 'manila', 'manipulate', 'manipulation', 'manly', 'mannequins', 'manner', 'mantle', 'manual', 'manually', 'manuals', 'manuel', 'manuever', 'manufactoring', 'manufactory', 'manufactrer', 'manufacture', 'manufacturer', 'manufactureres', 'manufacturers', 'manufaturer', 'many', 'manything', 'map', 'mapdroyd', 'mapmyrun', 'mapmyworkout', 'mapquest', 'maquina', 'mar', 'marathon', 'marauders', 'maravilla', 'maravilloso', 'marble', 'marca', 'march', 'mare', 'margin', 'marginal', 'marginally', 'margins', 'marhmallow', 'mario', 'maritime', 'mark', 'markdown', 'markedly', 'marker', 'market', 'marketin', 'marketplace', 'markup', 'marlon', 'marm', 'maroon', 'marquee', 'marriage', 'marry', 'marsh', 'marshmallow', 'marshmellow', 'marsmellow', 'mart', 'martirio', 'marvel', 'marvelous', 'maryland', 'mas', 'masculine', 'mash', 'mask', 'mass', 'massage', 'massive', 'massively', 'master', 'mastercard', 'masterdeals', 'masterful', 'masterly', 'mastermind', 'masterpiece', 'mastery', 'mat', 'match', 'matchbook', 'mate', 'matereal', 'material', 'materialize', 'materials', 'math', 'mathematical', 'maths', 'matic', 'matinee', 'matrix', 'matte', 'matter', 'mature', 'maturity', 'mau', 'maven', 'mavic', 'max', 'maxboost', 'maxed', 'maxi', 'maximise', 'maximize', 'maximum', 'maximus', 'maxing', 'maxthon', 'maxx', 'may', 'maybe', 'maybne', 'mayhap', 'mayor', 'mayora', 'mayra', 'mazda', 'maze', 'mazon', 'mb', 'mbp', 'mbps', 'mbs', 'mc', 'mcafee', 'mcaffe', 'mcc', 'mcdonald', 'mcrosd', 'mda', 'mdl', 'mdr', 'me', 'meager', 'meaio', 'meal', 'mean', 'meander', 'meaner', 'meaningful', 'meaningless', 'meantime', 'meanwhile', 'meany', 'measly', 'measurable', 'measurably', 'measure', 'measurement', 'measurements', 'meat', 'mechanic', 'mechanical', 'mechanically', 'mechanics', 'mechanism', 'mechanisms', 'med', 'medai', 'medal', 'medcoach', 'meddle', 'media', 'mediabridge', 'mediamonkey', 'medianet', 'mediapad', 'medias', 'mediate', 'mediatek', 'medical', 'medication', 'medications', 'medicine', 'mediea', 'medio', 'mediocre', 'mediocrely', 'mediocrity', 'mediterranean', 'medium', 'mediums', 'medley', 'medscape', 'meebo', 'meeeeee', 'meego', 'meekly', 'meenova', 'meescan', 'meet', 'meetme', 'meg', 'mega', 'megabit', 'megabits', 'megabytes', 'megacommerce', 'megapixel', 'megapixels', 'megapxls', 'megs', 'meh', 'mei', 'meid', 'meida', 'mejor', 'mejores', 'melkco', 'mellow', 'melodies', 'melody', 'melt', 'mem', 'member', 'members', 'membership', 'membrane', 'memeory', 'memes', 'memmory', 'memo', 'memorable', 'memoria', 'memorial', 'memories', 'memorize', 'memory', 'memorystick', 'memos', 'memphis', 'memroy', 'memu', 'men', 'menas', 'meno', 'menos', 'mens', 'mensa', 'mensaje', 'mensajes', 'ment', 'mentality', 'mentally', 'mente', 'mentio', 'mention', 'mentoined', 'menu', 'menues', 'menuing', 'menus', 'meny', 'meow', 'mep', 'meparce', 'mepaytoomuchfora', 'mepd', 'mercancia', 'mercedes', 'merchandise', 'merchant', 'merchants', 'mercy', 'mere', 'merely', 'merge', 'merger', 'merit', 'merry', 'mes', 'meses', 'mesg', 'mesh', 'mesmerize', 'mess', 'message', 'messanger', 'messege', 'messenger', 'messengers', 'messenging', 'messily', 'messy', 'metadata', 'metal', 'metalic', 'metallic', 'metaphor', 'meter', 'method', 'methods', 'methot', 'meticulously', 'metido', 'meto', 'metric', 'metro', 'metropcs', 'metropolitan', 'metropos', 'mettings', 'mexapixels', 'mexican', 'mexico', 'mf', 'mfe', 'mfg', 'mfgs', 'mfr', 'mfrs', 'mg', 'mh', 'mhh', 'mhl', 'mhy', 'mhz', 'mi', 'mia', 'miami', 'miata', 'mibile', 'mic', 'mice', 'mich', 'michelle', 'michigan', 'mickey', 'micosd', 'micre', 'micrisd', 'micro', 'microcard', 'microcell', 'microcontrollers', 'microfiber', 'microft', 'microhdmi', 'micromanagement', 'micromax', 'micron', 'microphone', 'microphones', 'microprocessor', 'micros', 'microscope', 'microscopic', 'microsd', 'microsdhc', 'microsds', 'microsdxc', 'microsfot', 'microsim', 'microsims', 'microsoft', 'microsofts', 'microusb', 'microwave', 'mics', 'mid', 'midday', 'middle', 'midern', 'midgrade', 'midi', 'midlevel', 'midlin', 'midnight', 'midp', 'midpriced', 'midrange', 'mids', 'midst', 'midway', 'midwest', 'mie', 'mierda', 'miff', 'mifi', 'might', 'mightily', 'mighty', 'mightytext', 'migraine', 'migrate', 'migration', 'migrations', 'mike', 'mikes', 'mil', 'milage', 'milano', 'mild', 'mildly', 'mile', 'mileage', 'mileiq', 'miles', 'milestone', 'mili', 'milisecond', 'military', 'militaryshield', 'milk', 'mill', 'mille', 'millenials', 'millennium', 'miller', 'milliampere', 'millimeter', 'millimeters', 'million', 'millions', 'millionth', 'millisecond', 'milliseconds', 'milspec', 'mime', 'mimic', 'mimo', 'min', 'minature', 'mind', 'mindblowing', 'mindblown', 'minden', 'mindful', 'mindless', 'mindlessly', 'mine', 'minecraft', 'minefields', 'miner', 'mineral', 'minesweeper', 'ming', 'mini', 'miniature', 'miniaturize', 'minimal', 'minimalism', 'minimalist', 'minimalistic', 'minimize', 'minimum', 'minimun', 'minion', 'minis', 'miniscule', 'minisd', 'ministry', 'minisuite', 'minitab', 'minitues', 'miniusb', 'minivan', 'minneapolis', 'minor', 'minority', 'minorly', 'mins', 'mint', 'mintues', 'minumum', 'minus', 'minuses', 'minute', 'minutes', 'minutos', 'miracast', 'miracle', 'miracles', 'miraculous', 'miraculously', 'miraecomm', 'mirage', 'miravision', 'mirco', 'mircosd', 'mircrosd', 'mire', 'mireo', 'miricale', 'miricast', 'mirow', 'mirror', 'mirrorless', 'mis', 'misadvertised', 'misbehave', 'misc', 'miscellaneous', 'mischief', 'miscommunication', 'misconceptions', 'misdeal', 'miser', 'miserable', 'miserably', 'miserbly', 'misery', 'misfit', 'misfortune', 'misgive', 'misguide', 'mishap', 'misinformation', 'misinterpret', 'misjudge', 'misjudgment', 'mislabeled', 'mislabelled', 'mislay', 'mislead', 'misma', 'mismatch', 'mismo', 'mismos', 'misplace', 'misplacement', 'misremember', 'misrepresent', 'misrepresentation', 'miss', 'misship', 'missiles', 'mission', 'misspell', 'missplaced', 'missteps', 'missus', 'missy', 'mist', 'mistake', 'mistakenly', 'mister', 'mistreat', 'mistype', 'mistyping', 'misunderstand', 'misuse', 'mite', 'mitigate', 'mitt', 'miui', 'mix', 'mixer', 'mixmusic', 'mixradio', 'mj', 'mkbhd', 'mkv', 'mkvs', 'mlb', 'mls', 'mm', 'mmails', 'mmc', 'mmi', 'mmm', 'mmmmmmm', 'mmmmmmmmmmmmmmmmmmm', 'mmo', 'mms', 'mmsc', 'mnc', 'mne', 'mnimal', 'mnvo', 'mnvos', 'mo', 'moab', 'moan', 'mob', 'mobc', 'mobi', 'mobil', 'mobile', 'mobilepc', 'mobiles', 'mobilevoip', 'mobility', 'mobilr', 'moble', 'moblie', 'moblle', 'mobogenie', 'mocha', 'mock', 'mocrosoft', 'mod', 'moda', 'modality', 'modded', 'modder', 'moddin', 'modding', 'mode', 'moded', 'model', 'modelo', 'modelsand', 'modem', 'modems', 'moderate', 'moderately', 'moderaten', 'modern', 'modes', 'modest', 'modestly', 'modification', 'modifications', 'modify', 'modo', 'mods', 'modular', 'module', 'modules', 'moe', 'moga', 'moir', 'moist', 'moistier', 'moisture', 'mol', 'molasses', 'mold', 'molest', 'molowakane', 'mom', 'moment', 'momentarily', 'momentary', 'momento', 'moments', 'momma', 'momment', 'mommy', 'momnths', 'moms', 'mon', 'monaural', 'monday', 'monemto', 'monetization', 'money', 'moneyour', 'moneys', 'mongolian', 'monies', 'moniker', 'monitor', 'monkey', 'mono', 'monochrome', 'monocle', 'monolithic', 'monophonic', 'monopolistic', 'monopoly', 'monster', 'monsters', 'monstrosity', 'monstrous', 'montana', 'month', 'monther', 'monthly', 'months', 'monthy', 'mood', 'moods', 'moon', 'mooncase', 'moonlight', 'moonrise', 'moore', 'moot', 'mop', 'mope', 'moper', 'mophie', 'mor', 'moral', 'mordeerate', 'more', 'moreover', 'moreso', 'morning', 'moron', 'moronically', 'morons', 'morrison', 'mortal', 'mortar', 'mortgage', 'mortify', 'mortplayer', 'mos', 'moscow', 'mosh', 'moss', 'most', 'mostly', 'mote', 'motel', 'moterola', 'moth', 'mother', 'motherboard', 'motherboards', 'mothership', 'moths', 'motion', 'motivate', 'motivation', 'motivations', 'motly', 'moto', 'motoassist', 'motoblunder', 'motoblur', 'motog', 'motoq', 'motor', 'motoral', 'motorcycle', 'motorhead', 'motorize', 'motorla', 'motoroi', 'motorola', 'motorolas', 'motorolla', 'motorolo', 'motos', 'motox', 'motto', 'mould', 'mount', 'mountain', 'mountainous', 'mountains', 'mourn', 'mouse', 'mouth', 'mouthpiece', 'movable', 'move', 'moveable', 'moveapptosd', 'movel', 'movement', 'movements', 'mover', 'movi', 'movie', 'movies', 'moviestar', 'movil', 'movile', 'moviles', 'movilnet', 'movistar', 'movistart', 'mow', 'moxie', 'mozilla', 'mozo', 'mp', 'mpap', 'mpeg', 'mpg', 'mph', 'mpix', 'mpixeal', 'mpixel', 'mpixels', 'mpow', 'mpr', 'mps', 'mpt', 'mpx', 'mr', 'mri', 'mrida', 'mrs', 'ms', 'msc', 'msd', 'msecure', 'msft', 'msg', 'msger', 'msgs', 'msie', 'msn', 'msnbc', 'msrp', 'mssging', 'mst', 'mstechify', 'msw', 'mswp', 'msy', 'msync', 'mt', 'mth', 'mths', 'mtn', 'mtp', 'mu', 'muc', 'much', 'muchas', 'mucho', 'muchs', 'muchthen', 'muck', 'mud', 'muddle', 'muddy', 'muerto', 'muestra', 'muffin', 'muffle', 'mug', 'mugen', 'muggings', 'muiltie', 'muisc', 'muliple', 'mulit', 'mult', 'multi', 'multicolor', 'multicolored', 'multicore', 'multifunction', 'multifunctional', 'multimeda', 'multimedia', 'multimillion', 'multiple', 'multiples', 'multiply', 'multipoint', 'multipurpose', 'multiselect', 'multitask', 'multitasked', 'multitasker', 'multitasking', 'multitasks', 'multitouch', 'multitouching', 'multitude', 'multiview', 'multiwindow', 'multy', 'mum', 'mumbler', 'mumbly', 'mumbo', 'munchkin', 'munchkins', 'mundane', 'munia', 'murder', 'murderer', 'murphy', 'murse', 'muscle', 'museum', 'mush', 'mushy', 'music', 'musical', 'musician', 'musicx', 'must', 'mustang', 'musts', 'mute', 'muti', 'mutilate', 'mutilation', 'mutitasking', 'mutli', 'mutually', 'muve', 'muy', 'mvil', 'mviles', 'mvno', 'mvnos', 'mvp', 'mx', 'mxplayer', 'my', 'myaccount', 'myaddy', 'myat', 'mybackup', 'mycalendar', 'mydle', 'mydlink', 'myfamily', 'myfiles', 'myfitnesspal', 'mygreat', 'myh', 'myphone', 'myradar', 'myriad', 'myself', 'mysms', 'mysnapinstafacegram', 'mysound', 'myspace', 'mysterious', 'mysteriously', 'mystery', 'mystify', 'mysyms', 'myth', 'mythical', 'mytouch', 'mytube', 'myverizon', 'mywireless', 'mywit', 'myyahoo', 'na', 'naah', 'nab', 'nad', 'nada', 'naff', 'nag', 'nah', 'nahkary', 'nail', 'naive', 'naka', 'naked', 'nam', 'name', 'namecard', 'nameless', 'namely', 'nan', 'nana', 'nand', 'nandroid', 'nanny', 'nano', 'nanosim', 'nap', 'napoleon', 'narcissistic', 'narfed', 'narita', 'narrative', 'narrator', 'narrow', 'narrower', 'naruto', 'nary', 'nascar', 'nasty', 'natch', 'natcom', 'nation', 'national', 'nations', 'nationwide', 'native', 'natively', 'natural', 'naturally', 'naturalness', 'nature', 'naught', 'naughty', 'nauseate', 'nauseum', 'nautical', 'nav', 'nave', 'navegar', 'navegate', 'navel', 'navfree', 'navi', 'navigable', 'navigate', 'navigation', 'navigational', 'navigations', 'navigator', 'navigon', 'navteq', 'navy', 'naw', 'nay', 'naysayers', 'nba', 'nbc', 'nbsp', 'nc', 'nce', 'nd', 'ndolos', 'neanderthal', 'near', 'nearby', 'nearest', 'nearly', 'neat', 'neatly', 'nebraska', 'nebulous', 'nec', 'neccesary', 'necesary', 'necesidad', 'necesidades', 'necessarily', 'necessary', 'necessitate', 'necessities', 'necessity', 'neck', 'need', 'needle', 'needlessly', 'needn', 'needy', 'neeed', 'neener', 'neevred', 'nefarious', 'neflix', 'negate', 'negative', 'negatively', 'negativety', 'negativity', 'negativo', 'neglect', 'negligence', 'negligible', 'negocio', 'negocios', 'negotiate', 'negri', 'neighbor', 'neighborhood', 'nein', 'neither', 'nekik', 'nekkid', 'nemesis', 'nemus', 'neo', 'neodymium', 'neon', 'nephew', 'nephews', 'nephnew', 'nerd', 'nerdgasm', 'nerds', 'nerdy', 'nerfed', 'nerfing', 'nero', 'nerve', 'nerver', 'nervous', 'nervouse', 'nes', 'ness', 'nessary', 'nessasary', 'nessesity', 'nest', 'nesteled', 'nestle', 'net', 'netfilx', 'netfix', 'netflix', 'netflixs', 'netfront', 'netgear', 'nether', 'netherlands', 'netqin', 'netscape', 'nettalk', 'network', 'netwrok', 'netwwork', 'neuron', 'neuropathy', 'neuter', 'neutral', 'neutrality', 'neutrals', 'neva', 'never', 'neverending', 'nevermind', 'nevertheless', 'new', 'newbie', 'newbies', 'newborn', 'newby', 'newcomer', 'newcomers', 'newegg', 'newegx', 'newer', 'newest', 'newfangled', 'newish', 'newly', 'newman', 'newness', 'newport', 'news', 'newscast', 'newspaper', 'newspapers', 'newsreaders', 'newsstand', 'newsthe', 'newton', 'nex', 'next', 'nextel', 'nextflix', 'nextradio', 'nextto', 'nexus', 'nexusone', 'nfc', 'nfl', 'ngage', 'ngp', 'ni', 'nib', 'nicaragua', 'nice', 'niceeeeeeee', 'niceities', 'nicely', 'nicer', 'nicest', 'niceties', 'niche', 'niches', 'nick', 'nickel', 'nickname', 'nico', 'nics', 'niece', 'nieces', 'nifty', 'nigeria', 'niggle', 'nigh', 'night', 'nightclub', 'nightlife', 'nightly', 'nightmare', 'nightmarer', 'nightmares', 'nightmarish', 'nights', 'nightstand', 'nighttime', 'nigth', 'nike', 'nikon', 'nill', 'nillkin', 'nilly', 'nils', 'nimble', 'nine', 'ninety', 'ningn', 'ningun', 'ninguna', 'ninja', 'ninjias', 'nino', 'nintendo', 'ninth', 'nip', 'nippy', 'nit', 'nite', 'nitpick', 'nitpicky', 'nitro', 'nitrodesk', 'nits', 'nitty', 'nj', 'nke', 'nl', 'nlive', 'nmvo', 'nnnooooo', 'no', 'noads', 'nobile', 'noble', 'nobody', 'noch', 'noches', 'nod', 'nodda', 'node', 'noes', 'nogo', 'noi', 'noika', 'noise', 'noisier', 'noisy', 'noit', 'noiticing', 'nok', 'nokia', 'nokias', 'nokida', 'noled', 'nolonger', 'nomadic', 'nombre', 'nombres', 'nominal', 'nominally', 'nominate', 'non', 'nonat', 'nonconformist', 'none', 'nonetheless', 'nonethless', 'nonexistent', 'nonfunctional', 'nonfunctioning', 'noninvasive', 'nonissue', 'nonono', 'nonremovable', 'nonresponsive', 'nonreturnable', 'nonroot', 'nonsense', 'nonsensical', 'nonslip', 'nonstop', 'noob', 'noobs', 'nood', 'noodle', 'noodles', 'nook', 'noon', 'noone', 'noooo', 'noosy', 'nope', 'nor', 'norcal', 'norm', 'normal', 'normall', 'normally', 'normaly', 'normative', 'norte', 'north', 'northdelivery', 'northeast', 'northern', 'norton', 'nos', 'nose', 'nostalgia', 'nostalgic', 'nosy', 'not', 'nota', 'notable', 'notables', 'notably', 'notch', 'note', 'notebook', 'notebooks', 'noteii', 'notekeeping', 'notepad', 'noteworthy', 'notexactly', 'notfications', 'nothiing', 'nothin', 'nothing', 'noticabely', 'noticable', 'noticably', 'notice', 'noticeable', 'noticeably', 'noticiably', 'noticible', 'notification', 'notifications', 'notificatoons', 'notificiation', 'notifier', 'notifiers', 'notify', 'notion', 'notoriety', 'notorious', 'notoriously', 'notre', 'notset', 'notwithstanding', 'nougat', 'nough', 'nouvo', 'nov', 'nova', 'novalauncher', 'novedad', 'novel', 'novelty', 'november', 'novice', 'novices', 'now', 'nowadays', 'nowdays', 'nowhere', 'nowlech', 'nowt', 'noyt', 'np', 'nr', 'nrtwork', 'nsa', 'nt', 'ntil', 'ntilde', 'ntt', 'nuanced', 'nuances', 'nubs', 'nuclear', 'nudes', 'nudge', 'nuestro', 'nueva', 'nuevamente', 'nuevo', 'nuevos', 'nuf', 'nuff', 'nuisance', 'num', 'numb', 'number', 'numeral', 'numerals', 'numeric', 'numerical', 'numerically', 'numerious', 'numero', 'numerous', 'nunaca', 'nunca', 'nuron', 'nurse', 'nut', 'nutshell', 'nutz', 'nuu', 'nuvi', 'nuy', 'nv', 'nvidia', 'nvram', 'ny', 'nyc', 'nye', 'nylon', 'nylons', 'oacute', 'ob', 'obama', 'obd', 'obdii', 'obex', 'obfuscate', 'obi', 'obituary', 'object', 'objectionable', 'objective', 'objectively', 'objet', 'obligate', 'obligation', 'obligations', 'obligatory', 'oblige', 'obliterate', 'oblivion', 'oblivious', 'obnoxious', 'obnoxiously', 'obscene', 'obscenely', 'obscure', 'obscurity', 'observation', 'observations', 'observe', 'observeye', 'obsess', 'obsession', 'obsessive', 'obsolescence', 'obsolete', 'obsoletion', 'obstacle', 'obstruct', 'obstructions', 'obsuring', 'obtain', 'obtrusive', 'obv', 'obviate', 'obvious', 'obviously', 'obviusly', 'obvoiusly', 'occasion', 'occasional', 'occasionally', 'occassion', 'occassional', 'occassionally', 'occupy', 'occur', 'occurrence', 'ocd', 'ocean', 'ocr', 'oct', 'octa', 'octacore', 'octo', 'october', 'oculus', 'od', 'odb', 'odd', 'oddball', 'oddest', 'oddities', 'oddity', 'oddly', 'odds', 'odin', 'odometer', 'odyssey', 'oe', 'oem', 'oemplanet', 'oems', 'oes', 'of', 'ofa', 'ofcourse', 'oferta', 'ofertan', 'off', 'offend', 'offenders', 'offensive', 'offer', 'offerup', 'office', 'officer', 'offices', 'official', 'officially', 'offline', 'offload', 'offputting', 'offset', 'ofmy', 'ofreci', 'ofrecieron', 'oft', 'often', 'oftentimes', 'ofter', 'ofthe', 'og', 'ogg', 'ogle', 'ogoing', 'ogp', 'ogre', 'ogwireless', 'oh', 'oher', 'ohh', 'ohhh', 'ohhhh', 'ohhhhh', 'ohhhhhhhh', 'ohio', 'ohone', 'oic', 'oif', 'oil', 'oily', 'ois', 'ok', 'okay', 'okeeeeyyy', 'okey', 'oklahoma', 'oks', 'ol', 'old', 'olden', 'older', 'olders', 'oldest', 'oldflabbyass', 'olds', 'oldschool', 'oled', 'oleo', 'oleophobic', 'olive', 'olllllddddd', 'olympus', 'om', 'omap', 'omen', 'omg', 'omggggggggg', 'omgoodness', 'omgs', 'omininous', 'omission', 'omissions', 'omit', 'omled', 'ommisions', 'omni', 'omnia', 'omnipresent', 'omph', 'on', 'onboard', 'once', 'oncen', 'ond', 'one', 'onece', 'onedrive', 'onehand', 'onenote', 'oneplus', 'oneplusone', 'onepluss', 'ones', 'onetechstop', 'onetime', 'onetouch', 'onev', 'onex', 'ongoing', 'onilne', 'onite', 'onky', 'onl', 'online', 'onlly', 'only', 'ons', 'onsale', 'onscreen', 'onsite', 'onstar', 'ontime', 'onto', 'ontopic', 'ontrac', 'onwards', 'onyx', 'oodles', 'ook', 'ookla', 'ooks', 'ooma', 'oomph', 'ooo', 'oooh', 'ooomph', 'ooooh', 'ooops', 'oops', 'oovoo', 'ooz', 'ooze', 'op', 'opamp', 'opaque', 'opcion', 'ope', 'opearable', 'open', 'opend', 'opende', 'opener', 'opengl', 'openness', 'openoffice', 'opensuse', 'opera', 'operable', 'operadora', 'operadoras', 'operadores', 'operamini', 'operar', 'operate', 'operation', 'operational', 'operationally', 'operations', 'operative', 'operativo', 'operator', 'operators', 'opersoperating', 'opinar', 'opine', 'opinion', 'opinionated', 'opinions', 'opinon', 'opionion', 'opitimized', 'opned', 'opninion', 'opnion', 'opo', 'oportuno', 'opos', 'opped', 'opperating', 'oppinion', 'oppo', 'opponent', 'opponents', 'opportunities', 'opportunity', 'oppose', 'opposite', 'opps', 'oppurtunity', 'ops', 'opsys', 'opt', 'optar', 'optic', 'optical', 'optically', 'optics', 'optimal', 'optimally', 'optimise', 'optimism', 'optimistic', 'optimistically', 'optimization', 'optimizations', 'optimize', 'optimizer', 'optimum', 'optimun', 'optimus', 'optimustm', 'option', 'optional', 'optionally', 'options', 'optius', 'optumized', 'or', 'orange', 'oranges', 'orbit', 'ord', 'ordeal', 'ordeerred', 'order', 'ordererd', 'orderly', 'ordinarily', 'ordinary', 'oregon', 'oreo', 'org', 'organic', 'organise', 'organization', 'organizational', 'organizations', 'organize', 'organizer', 'organizers', 'orgasms', 'orginal', 'orginally', 'orginized', 'orient', 'orientate', 'orientation', 'orieo', 'orifinal', 'orig', 'origin', 'original', 'originall', 'originally', 'originals', 'originate', 'origins', 'origional', 'orignal', 'origonal', 'orkee', 'orlando', 'orphan', 'ortiz', 'orzly', 'os', 'osay', 'oscar', 'osd', 'oses', 'oss', 'ostensibly', 'osx', 'ot', 'ota', 'otc', 'otg', 'othe', 'other', 'otherhand', 'others', 'otherswise', 'othertimes', 'otherwise', 'otherwisw', 'otherworldly', 'othr', 'otoh', 'otras', 'otro', 'otros', 'otter', 'otterbox', 'otterboxdefender', 'otterboxes', 'ou', 'ouch', 'ought', 'ounce', 'ounces', 'our', 'oure', 'ours', 'ourselves', 'oustanding', 'out', 'outable', 'outage', 'outages', 'outback', 'outbound', 'outbox', 'outbuy', 'outcome', 'outdate', 'outdated', 'outdistance', 'outdo', 'outdoor', 'outdoors', 'outdoorsy', 'outer', 'outfit', 'outgo', 'outgrow', 'outin', 'outlandish', 'outlast', 'outlay', 'outlet', 'outlets', 'outline', 'outlive', 'outlook', 'outnumber', 'outpace', 'outperform', 'outpouring', 'output', 'outrage', 'outrageous', 'outrageously', 'outras', 'outright', 'outrun', 'outshiine', 'outshine', 'outshot', 'outside', 'outsource', 'outstanding', 'outstandingly', 'outstrip', 'outta', 'outter', 'outward', 'outwards', 'outweigh', 'outwhen', 'ova', 'oval', 'ove', 'ovea', 'oven', 'over', 'overage', 'overages', 'overall', 'overally', 'overbear', 'overblown', 'overboard', 'overcharge', 'overclock', 'overclockable', 'overclocked', 'overclocking', 'overcome', 'overdo', 'overdrain', 'overdue', 'overeager', 'overestimate', 'overexpose', 'overexposure', 'overflow', 'overglorifed', 'overhaul', 'overhead', 'overhear', 'overheat', 'overhyped', 'overjoy', 'overkill', 'overlap', 'overlay', 'overload', 'overlook', 'overlord', 'overly', 'overnight', 'overnighted', 'overnighting', 'overnite', 'overpass', 'overpay', 'overpopulate', 'overpower', 'overprice', 'overrate', 'override', 'overrule', 'overrun', 'overs', 'oversampling', 'oversaturated', 'oversaturates', 'oversea', 'overseas', 'oversee', 'overshadow', 'oversharpened', 'overshoot', 'oversight', 'oversized', 'overspray', 'overstate', 'overstock', 'overt', 'overtake', 'overtasked', 'overtax', 'overthe', 'overtime', 'overuse', 'overview', 'overvolts', 'overwhelm', 'overwhelmingly', 'overwheming', 'overwork', 'overwrite', 'ovi', 'ovious', 'ovo', 'ow', 'owe', 'owen', 'oweners', 'owening', 'own', 'owne', 'owner', 'ownerinfo', 'owners', 'ownership', 'oxen', 'oxford', 'oxygen', 'oz', 'pa', 'pac', 'pace', 'pachage', 'pacific', 'pack', 'package', 'packedwell', 'packet', 'packets', 'pad', 'paddleboarding', 'padorora', 'padre', 'pagare', 'page', 'pageplus', 'pageplusca', 'pager', 'pagers', 'pago', 'paided', 'pain', 'painful', 'painfully', 'painless', 'painlessly', 'painstaking', 'painstakingly', 'paint', 'painters', 'paintshop', 'pair', 'pais', 'pal', 'palatable', 'pale', 'palette', 'pallet', 'palm', 'palmos', 'palmtop', 'palo', 'paltry', 'pamphlet', 'pamphlets', 'pan', 'panacea', 'panam', 'panama', 'panarama', 'panason', 'panasonic', 'pancakes', 'panda', 'pandigital', 'pandora', 'pane', 'panel', 'panera', 'pangea', 'panic', 'panorama', 'panoramas', 'panoramic', 'pant', 'pantalla', 'pantech', 'pantest', 'panty', 'paper', 'paperclip', 'paperweight', 'paperwhite', 'paperwork', 'papyrus', 'paquete', 'par', 'para', 'paradigm', 'paradise', 'paragraph', 'paraguay', 'parallax', 'parallel', 'paralysis', 'paralyze', 'paramedics', 'parameter', 'parameters', 'paramount', 'paranoid', 'paranoidandroid', 'parasites', 'paratek', 'parcel', 'pardon', 'parece', 'parecido', 'parent', 'parental', 'paris', 'parity', 'park', 'parkinson', 'parkinsons', 'parlor', 'parmetros', 'parse', 'parsecs', 'part', 'partake', 'parte', 'partial', 'partially', 'participate', 'particles', 'particular', 'particularly', 'particulary', 'partion', 'partita', 'partition', 'partiuclar', 'partly', 'partner', 'partnership', 'partnerships', 'party', 'pas', 'pasa', 'pasadena', 'pasar', 'pasid', 'paso', 'pass', 'passable', 'passaport', 'passcode', 'passenger', 'passible', 'passion', 'passionate', 'passive', 'passort', 'passport', 'passports', 'passportse', 'passpport', 'password', 'passwords', 'past', 'paste', 'pastels', 'pastern', 'pastimes', 'pat', 'patagonia', 'patata', 'patch', 'patchwork', 'pate', 'patent', 'patently', 'patetic', 'path', 'pathetic', 'pathetically', 'paths', 'paticular', 'patience', 'patient', 'patiently', 'patients', 'patio', 'patriotism', 'patrol', 'patronage', 'patronize', 'patrons', 'pattern', 'pattery', 'paucity', 'paul', 'pause', 'pave', 'pavement', 'pavements', 'paw', 'pay', 'paycheck', 'paygo', 'payment', 'payments', 'payoff', 'payouttheass', 'paypal', 'payton', 'pbex', 'pbs', 'pbxes', 'pc', 'pcb', 'pcbs', 'pcd', 'pcrush', 'pcs', 'pcses', 'pcsstores', 'pd', 'pda', 'pdanet', 'pdas', 'pdct', 'pdd', 'pdf', 'pdfs', 'pe', 'peace', 'peaces', 'peach', 'peak', 'peal', 'peanuts', 'pearl', 'pearlized', 'pearly', 'peasy', 'pebble', 'peck', 'peculiar', 'pedantic', 'peddle', 'peddlers', 'pedestrian', 'pedi', 'pedido', 'pedirles', 'pedometer', 'pedro', 'peecent', 'peefect', 'peek', 'peel', 'peep', 'peer', 'peeve', 'peezy', 'pefect', 'pefectly', 'peformance', 'peg', 'pegado', 'peice', 'peices', 'peinstalled', 'pelican', 'pemits', 'pen', 'penalize', 'penalties', 'penalty', 'pencil', 'pending', 'penetrate', 'penetration', 'penge', 'penmanship', 'penney', 'pennies', 'penny', 'penryn', 'pentaband', 'pentile', 'pentium', 'people', 'peopple', 'peor', 'peotect', 'peppy', 'pepsi', 'pequeo', 'per', 'perceivable', 'perceive', 'percent', 'percentage', 'percentages', 'percentile', 'perceptible', 'perception', 'perceptions', 'perch', 'percieve', 'percussive', 'perdi', 'perfec', 'perfeclty', 'perfecly', 'perfect', 'perfecta', 'perfectamente', 'perfectas', 'perfection', 'perfectionist', 'perfectionst', 'perfectly', 'perfecto', 'perfectos', 'perfer', 'perfered', 'perfet', 'perfetc', 'perfict', 'perfomance', 'perforate', 'perform', 'performace', 'performance', 'performances', 'performane', 'performant', 'performas', 'performence', 'performer', 'performers', 'perfromance', 'perhaps', 'peril', 'perimeter', 'period', 'periodical', 'periodically', 'periodo', 'periods', 'peripheral', 'peripherals', 'perish', 'perk', 'perky', 'perma', 'permanecer', 'permanent', 'permanently', 'permant', 'permenant', 'permenently', 'permission', 'permissions', 'permissive', 'permit', 'permita', 'permitir', 'permutation', 'permutations', 'pero', 'perosn', 'perpaid', 'perpect', 'perpendicular', 'perpetrate', 'perpetually', 'perphaps', 'perplex', 'perreference', 'perrfect', 'persevere', 'persian', 'persist', 'persistent', 'persistently', 'person', 'personal', 'personalities', 'personality', 'personalizable', 'personalization', 'personalize', 'personally', 'personaly', 'personlization', 'personly', 'personnel', 'persons', 'perspective', 'persuade', 'pertain', 'pertinent', 'perty', 'peru', 'perverse', 'pervious', 'pesima', 'pesky', 'pester', 'pet', 'peterson', 'petite', 'petition', 'petty', 'pf', 'pffft', 'pfpadctplgk', 'pgina', 'pgm', 'pgp', 'ph', 'phablet', 'phablets', 'pham', 'phamplets', 'phan', 'phantom', 'pharmacy', 'phase', 'phat', 'phd', 'phenom', 'phenomenal', 'phenomenally', 'phenominal', 'phew', 'philadelphia', 'phili', 'philippine', 'philippines', 'philips', 'phillipines', 'phillips', 'philly', 'philosophy', 'phine', 'phingers', 'phione', 'phn', 'phne', 'pho', 'phoane', 'phobe', 'phobic', 'phoe', 'phoen', 'phoenix', 'phohe', 'phome', 'phomne', 'phon', 'phonak', 'phone', 'phoneareana', 'phonearena', 'phoneblet', 'phonebook', 'phonecall', 'phonecalls', 'phonedog', 'phonefirst', 'phonefor', 'phonei', 'phoneit', 'phoneless', 'phoneon', 'phonescoop', 'phonesthis', 'phonet', 'phonethe', 'phonetog', 'phonetrust', 'phoney', 'phono', 'phons', 'phopne', 'phoptos', 'phote', 'photo', 'photobeamer', 'photobooth', 'photograph', 'photographer', 'photographers', 'photographic', 'photography', 'photographyblog', 'photogs', 'photojournalist', 'photon', 'photons', 'photos', 'photosensors', 'photoshop', 'photosphere', 'photospheres', 'photostream', 'photosynth', 'phototbeamer', 'photsynth', 'phrase', 'phreak', 'phsical', 'physical', 'physically', 'physics', 'physio', 'pi', 'pian', 'piano', 'pic', 'picasa', 'picaso', 'picassa', 'pice', 'pick', 'picker', 'pickier', 'pickies', 'pickpockets', 'pickup', 'picky', 'picnic', 'pics', 'picsay', 'pictopia', 'pictur', 'picture', 'picturesdual', 'picures', 'piddle', 'pide', 'pido', 'pidos', 'pie', 'piece', 'piecemeal', 'pieceofs', 'piensa', 'pieza', 'pig', 'pigen', 'pigeon', 'piggy', 'piggyback', 'piktures', 'pile', 'pill', 'pillow', 'pilot', 'pim', 'pimp', 'pimpin', 'pin', 'pinball', 'pinch', 'ping', 'pinger', 'pingpongroot', 'pinhole', 'pinholes', 'pink', 'pinkish', 'pinkos', 'pinksplosion', 'pinky', 'pinless', 'pinnacle', 'pinpoint', 'pint', 'pinterest', 'pints', 'pinwheel', 'pinyin', 'pipboy', 'pipe', 'pipeline', 'pipi', 'pipo', 'pique', 'pirate', 'pirce', 'piss', 'pisser', 'pistol', 'pit', 'pita', 'pitch', 'pitchers', 'pitchfork', 'pitfall', 'pitfalls', 'pitiful', 'pittance', 'pitty', 'piturs', 'pity', 'pix', 'pixal', 'pixel', 'pixelated', 'pixelation', 'pixeles', 'pixellated', 'pixellation', 'pixels', 'pixi', 'pixie', 'pixilation', 'pixler', 'pixrl', 'pizazz', 'pizza', 'pizzaz', 'pkb', 'pkg', 'pkp', 'pkwy', 'placate', 'place', 'placement', 'placements', 'plague', 'plain', 'plainer', 'plainfield', 'plainly', 'plaintiffs', 'plan', 'plane', 'planet', 'planets', 'planner', 'plano', 'plant', 'plantas', 'plantronic', 'plantronics', 'plasma', 'plaster', 'plastic', 'plasticize', 'plasticky', 'plastics', 'plasticy', 'plat', 'plate', 'platform', 'platformer', 'platforms', 'platinum', 'plau', 'plausible', 'play', 'playable', 'playback', 'playbook', 'playbooks', 'player', 'players', 'playforsure', 'playful', 'playground', 'playlist', 'playlists', 'playmemories', 'playstation', 'playstore', 'playstote', 'playtoy', 'playwords', 'plea', 'plead', 'pleas', 'pleasant', 'pleasantly', 'pleasantries', 'please', 'pleasently', 'pleassd', 'pleasurable', 'pleasure', 'pleather', 'plectrum', 'pledge', 'pleease', 'plena', 'plentiful', 'plenty', 'pleny', 'plesed', 'pleson', 'plethora', 'plex', 'pllllenntty', 'plop', 'plot', 'plow', 'ploy', 'pls', 'plstico', 'plug', 'plugin', 'plugins', 'plugued', 'plum', 'plume', 'plummet', 'plung', 'plunge', 'plunk', 'plural', 'plus', 'pluses', 'plush', 'plusses', 'ply', 'plz', 'pm', 'pma', 'pnone', 'pny', 'po', 'pobre', 'pocet', 'pocket', 'pocketability', 'pocketable', 'pocketbook', 'pocketknife', 'pocketnow', 'poco', 'pocos', 'pod', 'poda', 'podcast', 'poder', 'podido', 'podkicker', 'podre', 'poetic', 'pogo', 'point', 'pointer', 'pointers', 'pointless', 'pointy', 'poj', 'pok', 'poke', 'pokemon', 'pokemons', 'poker', 'poket', 'pokey', 'pokmon', 'poky', 'poland', 'polar', 'polaris', 'polarization', 'polarize', 'polaroid', 'polemics', 'police', 'policies', 'policy', 'polish', 'polite', 'politely', 'politician', 'politicians', 'politics', 'polk', 'polka', 'poll', 'pollute', 'polupar', 'poly', 'polycarbon', 'polycarbonate', 'polymer', 'polyphonic', 'polyurethane', 'ponder', 'pone', 'pony', 'pooch', 'poof', 'pooh', 'poohed', 'pool', 'poop', 'pooped', 'poops', 'poor', 'poorer', 'poorest', 'poorly', 'pop', 'pope', 'popsockets', 'popular', 'popularity', 'populate', 'population', 'popup', 'popups', 'por', 'porcentaje', 'porch', 'porciento', 'porduct', 'pore', 'porfavor', 'porn', 'porque', 'porridge', 'port', 'portability', 'portable', 'portables', 'portal', 'portale', 'portfolio', 'portion', 'portrait', 'portraits', 'portray', 'portugese', 'portugues', 'portuguesa', 'portuguese', 'pos', 'pose', 'poser', 'posessions', 'posh', 'posibilities', 'posible', 'position', 'positive', 'positively', 'positives', 'positivo', 'positve', 'posse', 'possesed', 'possess', 'possession', 'possibilies', 'possibilities', 'possibility', 'possibilties', 'possible', 'possiblity', 'possibly', 'possitive', 'post', 'postage', 'postal', 'poster', 'posters', 'postpaid', 'postpay', 'postscript', 'pot', 'potato', 'potatoes', 'potent', 'potential', 'potentially', 'potentiometer', 'potrait', 'potter', 'pouch', 'pound', 'pour', 'pov', 'pove', 'poverty', 'pow', 'powder', 'powefull', 'powelfull', 'power', 'poweramp', 'powerbank', 'powerbear', 'powerbot', 'powerful', 'powerfull', 'powergen', 'powerhouse', 'powerhouses', 'powermat', 'powerpoint', 'powershot', 'powerup', 'powervr', 'powerwise', 'pp', 'ppack', 'ppd', 'ppi', 'ppl', 'ppopoor', 'ppsspp', 'ppt', 'ppts', 'ppurchasing', 'practical', 'practicalities', 'practicality', 'practically', 'practice', 'praise', 'prank', 'pray', 'pre', 'preach', 'preamble', 'precarious', 'precaution', 'precede', 'preceed', 'precess', 'precio', 'precios', 'precious', 'precise', 'precisely', 'precision', 'preclude', 'preconfigured', 'precursor', 'predecesor', 'predecessor', 'predecessors', 'predefined', 'predicament', 'predict', 'predictable', 'predictably', 'prediction', 'predictions', 'predictive', 'predictor', 'predisposition', 'predominance', 'predominantly', 'preemptive', 'preentered', 'preexist', 'preface', 'prefare', 'prefect', 'prefer', 'preferable', 'preferably', 'preference', 'preferences', 'prefferred', 'prefix', 'preform', 'preformance', 'prefromence', 'preguntarme', 'prehistoric', 'preinstalled', 'preinstalls', 'preliminary', 'preload', 'preloaded', 'preloads', 'premature', 'prematurely', 'premier', 'premium', 'premiums', 'premo', 'prenda', 'prendi', 'preorder', 'preordered', 'preordering', 'preorders', 'preoreder', 'preowend', 'prep', 'prepackaged', 'preparation', 'prepare', 'prepay', 'prepper', 'prepping', 'presale', 'presbyopic', 'prescribe', 'prescriptions', 'preselected', 'presence', 'present', 'presenta', 'presentation', 'presentations', 'presently', 'presento', 'preserve', 'preserver', 'preset', 'presets', 'president', 'presionar', 'presonisable', 'press', 'pressable', 'pressreader', 'pressure', 'prestalled', 'prestige', 'prestigious', 'presto', 'presumably', 'presume', 'presumptuous', 'preteen', 'preteens', 'pretend', 'pretense', 'pretentious', 'pretentiousness', 'prettier', 'prettiest', 'pretty', 'prety', 'prev', 'prevail', 'prevalent', 'prevent', 'prevention', 'preview', 'previolusly', 'previos', 'previous', 'previously', 'prevista', 'previsto', 'prey', 'pric', 'price', 'priceless', 'pricepoint', 'pricer', 'pricetag', 'pricey', 'pricier', 'pricy', 'pride', 'priiginal', 'primal', 'primarily', 'primary', 'prime', 'primeiro', 'primera', 'primero', 'primetime', 'primitive', 'principal', 'principio', 'principle', 'principles', 'print', 'printer', 'printers', 'printershare', 'printersharw', 'prior', 'prioridad', 'priorities', 'prioritize', 'priority', 'prise', 'prism', 'prismatic', 'prison', 'prisoner', 'pristine', 'prius', 'priv', 'privacy', 'private', 'privately', 'priveously', 'privicy', 'privilege', 'priviliges', 'prize', 'prl', 'prnter', 'pro', 'proactive', 'prob', 'probable', 'probably', 'probalby', 'probally', 'probaly', 'probe', 'problably', 'problama', 'proble', 'problem', 'problema', 'problemas', 'problematic', 'problematical', 'problemch', 'problemo', 'problems', 'problrm', 'probly', 'probs', 'procces', 'proccessor', 'proce', 'procedure', 'procedures', 'proceed', 'proceedure', 'proceser', 'proceso', 'procesor', 'process', 'processer', 'processor', 'processorqualcomm', 'processors', 'proclaim', 'proclipusa', 'procrastinate', 'procurement', 'prodact', 'prodduct', 'prodigious', 'produc', 'produce', 'producers', 'product', 'producting', 'production', 'productions', 'productive', 'productivity', 'producto', 'products', 'producuto', 'produst', 'produto', 'profanity', 'profess', 'profession', 'professional', 'professionalism', 'professionally', 'professionals', 'professor', 'proffer', 'proficiency', 'proficient', 'profile', 'profilin', 'profit', 'profitable', 'profoundly', 'profusely', 'profusion', 'progam', 'prognosis', 'program', 'programas', 'programe', 'programmable', 'programmer', 'programmers', 'progress', 'progression', 'progressive', 'progressively', 'prohibit', 'prohibitive', 'prointa', 'project', 'projectfi', 'projector', 'proliferation', 'proline', 'prolly', 'prolong', 'prominent', 'prominently', 'promise', 'promissed', 'promistion', 'prommissed', 'promo', 'promobility', 'promos', 'promote', 'promotion', 'promotional', 'promotions', 'promotly', 'prompt', 'promptly', 'prone', 'prong', 'prongs', 'pronounce', 'prons', 'pronto', 'proof', 'proofish', 'proomised', 'prop', 'propaganda', 'propeller', 'propensity', 'proper', 'properly', 'properties', 'propertly', 'property', 'proponent', 'proportion', 'proportionally', 'propose', 'proposition', 'proprietary', 'prorate', 'pros', 'proscesor', 'proshot', 'prospect', 'prospective', 'prosper', 'protech', 'protect', 'protecter', 'protection', 'protections', 'protective', 'protectively', 'protector', 'protectores', 'protectors', 'protectres', 'protectros', 'protege', 'proteger', 'protejerlos', 'protest', 'protfolio', 'protip', 'proto', 'protocol', 'protocols', 'prototypes', 'protract', 'protron', 'protrude', 'proud', 'proudly', 'prove', 'proveedor', 'proverbial', 'provide', 'provider', 'providers', 'provision', 'provocation', 'provocationi', 'prowess', 'proximity', 'proxity', 'proxy', 'prpbably', 'pruduct', 'prvious', 'prxima', 'pry', 'ps', 'psc', 'pseudo', 'psiphon', 'psk', 'psp', 'pstara', 'psxpro', 'psychic', 'pta', 'ptel', 'ptimas', 'ptotection', 'ptp', 'pts', 'ptt', 'pu', 'pub', 'public', 'publicaci', 'publicacion', 'publicaron', 'publication', 'publications', 'publicity', 'publicly', 'publish', 'puch', 'puchase', 'puchased', 'puck', 'puctures', 'pudding', 'puddle', 'pude', 'puedas', 'puede', 'pueden', 'puedo', 'puerto', 'pues', 'puffin', 'puke', 'puleeeeze', 'pull', 'pulldown', 'pulsar', 'pulse', 'pummel', 'pump', 'pun', 'punch', 'punchy', 'punctual', 'punctuate', 'punctuation', 'puncture', 'punish', 'punishment', 'punk', 'puntos', 'puntuaci', 'puntuacin', 'puntual', 'puny', 'pup', 'puple', 'puppy', 'purchace', 'purchaced', 'purchaed', 'purchase', 'purchaser', 'purchasers', 'purche', 'purched', 'purches', 'purchsed', 'pure', 'pureandroid', 'purely', 'puremotion', 'purenexus', 'purer', 'purest', 'puretalk', 'puretalks', 'pureview', 'purge', 'purist', 'purists', 'purity', 'purple', 'purplecobra', 'purplish', 'purport', 'purpose', 'purposeful', 'purposefully', 'purposely', 'purr', 'purse', 'purshase', 'pursue', 'pursuit', 'pursuits', 'purveryors', 'puse', 'push', 'pushers', 'pushy', 'puso', 'put', 'putoffish', 'putt', 'puzzle', 'pv', 'pwice', 'pwr', 'qa', 'qaulity', 'qc', 'qcamera', 'qcell', 'qewrty', 'qhd', 'qhich', 'qi', 'qik', 'qmemo', 'qnx', 'qq', 'qqplayer', 'qqqqqqqqqq', 'qr', 'qs', 'qslide', 'qslides', 'quad', 'quadband', 'quadbeat', 'quadcore', 'quadhd', 'quadrant', 'quadrophenia', 'quadruple', 'quaility', 'quailty', 'qualcom', 'qualcomm', 'qualcomms', 'qualification', 'qualifications', 'qualifier', 'qualifiers', 'qualify', 'qualilty', 'qualitative', 'qualitatively', 'qualities', 'quality', 'quallity', 'qualm', 'qualms', 'qualty', 'quandary', 'quanlity', 'quantico', 'quantity', 'quantum', 'quarels', 'quarrel', 'quarter', 'quartet', 'quarty', 'quartz', 'quastion', 'qubits', 'que', 'quedado', 'quedara', 'quede', 'queen', 'queja', 'quemada', 'quemaron', 'quench', 'queria', 'querido', 'querty', 'query', 'quesiton', 'quest', 'question', 'questionable', 'questionnaire', 'queue', 'quibble', 'quich', 'quick', 'quickcharge', 'quicker', 'quickest', 'quickfire', 'quickly', 'quickmemo', 'quickness', 'quickoffice', 'quickpic', 'quickremote', 'quicksand', 'quicksettings', 'quickstart', 'quickwindow', 'quicky', 'quidk', 'quieran', 'quiere', 'quieres', 'quiero', 'quiet', 'quieter', 'quietly', 'quietwr', 'quilt', 'quire', 'quiria', 'quirk', 'quirkiness', 'quirky', 'quisiera', 'quisiste', 'quit', 'quite', 'quiz', 'qulacomm', 'qulaity', 'quota', 'quote', 'qusers', 'qustodio', 'qvc', 'qvga', 'qwert', 'qwerties', 'qwerty', 'qwertys', 'qwertz', 'qwertzu', 'qxdm', 'qyick', 'rabbit', 'rabid', 'race', 'racecar', 'rachmaninoff', 'rack', 'radar', 'radars', 'radiant', 'radiation', 'radically', 'radio', 'radiology', 'radioreference', 'radioshack', 'radius', 'raft', 'raftfull', 'rag', 'rage', 'ragidy', 'raid', 'rail', 'rain', 'rainbow', 'rainbows', 'raindrop', 'rainstorm', 'rainstorms', 'rainx', 'rainy', 'raise', 'raison', 'rake', 'ralely', 'rallones', 'ralph', 'ram', 'ramble', 'rambler', 'ramblr', 'ramdomly', 'ramen', 'ramis', 'ramp', 'rampant', 'ramy', 'rand', 'randall', 'random', 'randomly', 'range', 'ranger', 'rank', 'ranker', 'rankie', 'rans', 'rant', 'rap', 'rape', 'rapicimo', 'rapid', 'rapida', 'rapides', 'rapidly', 'rapido', 'rapids', 'rare', 'rarely', 'rarer', 'rarest', 'rarity', 'rash', 'raspy', 'rat', 'rate', 'raters', 'rather', 'rathole', 'ratio', 'ration', 'rational', 'rationale', 'rationally', 'ratios', 'rattle', 'rave', 'ravpower', 'raw', 'ray', 'rayado', 'rayitas', 'rayon', 'razar', 'razer', 'razor', 'razr', 'razrs', 'rc', 'rca', 'rcp', 'rd', 'rdio', 'rdm', 'rds', 're', 'reach', 'reachable', 'react', 'reaction', 'reactions', 'reactivate', 'reactivation', 'reactive', 'read', 'readability', 'readable', 'reade', 'reader', 'readers', 'readily', 'readio', 'readjust', 'ready', 'reaffirm', 'reaired', 'real', 'realente', 'realese', 'realesing', 'realiable', 'realidad', 'realise', 'realistic', 'realistically', 'reality', 'realizada', 'realizado', 'realizar', 'realizare', 'realization', 'realize', 'realizo', 'realky', 'reall', 'realled', 'realllllly', 'reallllly', 'realllly', 'reallly', 'reallmente', 'really', 'realm', 'realmente', 'realms', 'realook', 'realplayer', 'realtime', 'realworld', 'realy', 'reaons', 'reap', 'reappear', 'rear', 'rearrange', 'rearrangement', 'rearview', 'reasearch', 'reasearched', 'reason', 'reasonable', 'reasonably', 'reasonbly', 'reassemble', 'reassembly', 'reassign', 'reassurance', 'reassure', 'reattached', 'reattaching', 'rebate', 'rebel', 'rebelrom', 'reboost', 'reboot', 'reborn', 'rebranded', 'rebuild', 'rec', 'recalculate', 'recalculation', 'recalibrate', 'recalibration', 'recalienta', 'recall', 'recant', 'recap', 'reccomend', 'reccomended', 'reccoment', 'reccommend', 'receibe', 'receieved', 'receipt', 'receiption', 'receivd', 'receive', 'receiver', 'receivers', 'recent', 'recently', 'recents', 'recepetion', 'reception', 'receptions', 'receptive', 'recess', 'receveied', 'recevieded', 'rechargables', 'recharge', 'rechargeable', 'recharger', 'recheck', 'rechecked', 'recibi', 'recibido', 'recicla', 'recieve', 'recieved', 'recieves', 'recieving', 'recipe', 'recipes', 'recipient', 'recipients', 'recipticles', 'recitals', 'recite', 'recive', 'recived', 'reckon', 'reclaim', 'reclick', 'recliner', 'recognise', 'recognition', 'recognitions', 'recognizable', 'recognize', 'recognze', 'recomend', 'recomendable', 'recomendables', 'recomendaciones', 'recomendado', 'recomendados', 'recomendando', 'recomended', 'recomendo', 'recoment', 'recomienda', 'recomiendo', 'recomieno', 'recommand', 'recommande', 'recommed', 'recommedations', 'recommeded', 'recommend', 'recommendable', 'recommendation', 'recommendations', 'recommendedor', 'recommendedpoor', 'recommendedroduct', 'recomment', 'recompiled', 'recompose', 'reconcile', 'recondition', 'reconfigure', 'reconfigured', 'reconfirm', 'recongnition', 'reconnect', 'reconnecting', 'reconnects', 'reconocio', 'reconsider', 'reconstruct', 'reconstruction', 'reconstruido', 'reconstruidos', 'recoomend', 'record', 'recorder', 'recoreded', 'recoup', 'recourse', 'recover', 'recoveries', 'recovery', 'recption', 'recraged', 'recreate', 'recruit', 'rectangle', 'rectangular', 'rectify', 'recur', 'recycle', 'red', 'redbox', 'redding', 'reddit', 'rede', 'redeem', 'redefine', 'reden', 'redesign', 'redial', 'redials', 'rediculous', 'rediculously', 'redirect', 'redmi', 'redo', 'redocking', 'redonwload', 'redownloading', 'redraw', 'redress', 'reds', 'reduce', 'reduction', 'redundancy', 'redundant', 'redundantly', 'redux', 'reeeeallly', 'reel', 'reemplazar', 'reenabling', 'reenter', 'reevaluate', 'reeve', 'ref', 'refarmed', 'refarming', 'refer', 'referb', 'referbed', 'referbished', 'referbs', 'referee', 'reference', 'referencia', 'referencial', 'refibrished', 'refiero', 'refill', 'refine', 'refinement', 'refinements', 'reflash', 'reflect', 'reflection', 'reflections', 'reflective', 'reflectivity', 'reflector', 'reflow', 'refocus', 'reformat', 'reformatting', 'refound', 'refrain', 'reframing', 'refresh', 'refresher', 'refrigerator', 'refrigerators', 'refugees', 'refund', 'refundable', 'refurb', 'refurbed', 'refurbish', 'refurbisher', 'refurbishment', 'refurbs', 'refusal', 'refuse', 'reg', 'regain', 'regal', 'regalo', 'regard', 'regardless', 'reget', 'regime', 'regimen', 'regioes', 'region', 'regional', 'regionally', 'regiones', 'regions', 'regionsnand', 'register', 'registration', 'registry', 'regisyered', 'regla', 'regonition', 'regrade', 'regreat', 'regresar', 'regret', 'regrettable', 'regrettably', 'regualar', 'regular', 'regularity', 'regularly', 'regulary', 'regulate', 'regulation', 'rehash', 'reiease', 'reign', 'reimburse', 'reimburst', 'reinforce', 'reiniciar', 'reinsert', 'reinserting', 'reinstall', 'reinstallig', 'reinstate', 'reintegrate', 'reintegro', 'reinvent', 'reissue', 'reiterate', 'reject', 'rejoice', 'rekindle', 'relacin', 'relased', 'relate', 'relation', 'relations', 'relationship', 'relativ', 'relativamente', 'relative', 'relatively', 'relatives', 'relativity', 'relax', 'relay', 'releasd', 'release', 'relegate', 'relentless', 'relentlessly', 'relevaant', 'relevant', 'reliability', 'reliable', 'reliablity', 'reliably', 'reliance', 'reliant', 'relic', 'relief', 'relievable', 'relieve', 'religious', 'rellay', 'relly', 'reload', 'relocate', 'relock', 'reluctance', 'reluctant', 'reluctantly', 'rely', 'remain', 'remainder', 'remake', 'reman', 'remanufactured', 'remarcable', 'remark', 'remarkable', 'remarkably', 'remcomende', 'remeber', 'remebered', 'remedial', 'remedied', 'remedy', 'remember', 'remind', 'reminder', 'reminders', 'reminiscent', 'remive', 'remnants', 'remodeler', 'remorse', 'remote', 'remotedesktopping', 'remotely', 'remotes', 'removability', 'removable', 'removal', 'removale', 'removals', 'remove', 'removeable', 'remover', 'rename', 'rend', 'render', 'rendimento', 'rendimiento', 'renditions', 'renege', 'renew', 'renewal', 'renowned', 'rent', 'rental', 'renteliza', 'reommend', 'reopen', 'reorder', 'reorganize', 'rep', 'repackage', 'repackaged', 'repackages', 'repackaging', 'repacked', 'repacking', 'repaint', 'repair', 'repairable', 'repaird', 'repairman', 'repalcement', 'reparability', 'reparacin', 'reparar', 'reparara', 'repararlo', 'repeat', 'repeatable', 'repeatedly', 'repel', 'repellent', 'repent', 'repertoire', 'repetition', 'repetitive', 'replacable', 'replace', 'replaceable', 'replacedment', 'replacement', 'replacements', 'replacetment', 'replacible', 'replacment', 'replay', 'replenish', 'replete', 'replica', 'replicate', 'reply', 'reponsable', 'reponse', 'repontenciado', 'report', 'reportedly', 'reporters', 'reposition', 'repository', 'repotenciado', 'repowered', 'represent', 'representation', 'representations', 'representative', 'representatives', 'reproduce', 'reproduction', 'reprogram', 'reps', 'repsond', 'repsonsive', 'republic', 'repurchase', 'repurpose', 'reputable', 'reputation', 'repute', 'requerimientos', 'request', 'require', 'requirement', 'requirements', 'requisite', 'requring', 'rereview', 'rerii', 'reroute', 'reroutes', 'rerouting', 'res', 'resale', 'resarts', 'rescan', 'rescind', 'rescission', 'rescroll', 'rescue', 'research', 'researchers', 'reseat', 'reselect', 'reselecting', 'resell', 'reseller', 'resellers', 'resemble', 'resend', 'resent', 'resently', 'resentment', 'reservation', 'reservations', 'reserve', 'reservists', 'reset', 'resetted', 'reshipped', 'reside', 'residence', 'resident', 'residential', 'residido', 'residual', 'residue', 'resign', 'resilience', 'resiliency', 'resilient', 'resin', 'resinal', 'resist', 'resistance', 'resistant', 'resistent', 'resistente', 'resistive', 'resitive', 'resizable', 'resize', 'resizeable', 'resizer', 'reskinned', 'resold', 'resoldering', 'resoltion', 'resolution', 'resolutions', 'resolutnion', 'resolutuion', 'resolvable', 'resolve', 'resorces', 'resort', 'resound', 'resource', 'resources', 'respect', 'respectable', 'respectible', 'respective', 'respectively', 'respectthe', 'resplution', 'responce', 'respond', 'respondent', 'responisble', 'responsable', 'responsables', 'response', 'responses', 'responsibilities', 'responsibility', 'responsible', 'responsive', 'responsiveness', 'responsivness', 'resprective', 'respuesta', 'rest', 'restaraunts', 'restart', 'restate', 'restaurant', 'restaurants', 'restitution', 'resto', 'restock', 'restoration', 'restore', 'restrain', 'restraint', 'restrict', 'restriction', 'restrictions', 'restrictive', 'restroom', 'restructure', 'resubmitting', 'result', 'resulta', 'resulution', 'resume', 'resumption', 'resurface', 'resurrect', 'resync', 'resynced', 'retail', 'retailer', 'retailers', 'retain', 'retake', 'retap', 'retard', 'retention', 'rethink', 'reticence', 'retina', 'retire', 'retirement', 'retract', 'retrain', 'retrieval', 'retrieve', 'retro', 'retroactively', 'retrospect', 'retruned', 'retry', 'returen', 'return', 'returnable', 'retype', 'retyping', 'reunions', 'reuse', 'rev', 'revamp', 'reveal', 'revealer', 'reveiw', 'revelance', 'revelation', 'revelations', 'revenue', 'reverb', 'revere', 'reversable', 'reverse', 'reversible', 'revert', 'review', 'reviewer', 'reviewers', 'revined', 'revise', 'revision', 'revisit', 'revive', 'revolution', 'revolutionary', 'revolutionize', 'revolve', 'reward', 'rewind', 'rewinded', 'rework', 'rewrite', 'rez', 'reza', 'rezound', 'rf', 'rgb', 'rgbw', 'rhapsody', 'rhe', 'rhinestone', 'rhis', 'rhodesia', 'rhyme', 'rhythm', 'rhythms', 'rib', 'ribbon', 'rica', 'rice', 'rich', 'richer', 'riches', 'richly', 'richnote', 'rick', 'rico', 'rid', 'riddance', 'riddle', 'ride', 'ridge', 'ridicule', 'ridiculous', 'ridiculously', 'ridiculousness', 'rife', 'rifht', 'rig', 'right', 'righteous', 'rightfully', 'rightly', 'rightward', 'rigid', 'rigmarole', 'rim', 'rimm', 'ring', 'ringback', 'ringer', 'ringers', 'ringke', 'ringplus', 'ringto', 'ringtone', 'ringtones', 'rink', 'rinkidink', 'rinky', 'rinse', 'rio', 'rip', 'ripoff', 'ripoffs', 'ripper', 'riptide', 'rise', 'risio', 'risk', 'risky', 'rite', 'rival', 'rivalry', 'river', 'rivet', 'rize', 'rizr', 'rj', 'rm', 'rma', 'rmad', 'rmi', 'rnd', 'road', 'roadrunner', 'roads', 'roadside', 'roam', 'roar', 'rob', 'robberies', 'robbery', 'robert', 'robfactory', 'roblox', 'robot', 'robotic', 'robots', 'robust', 'robustness', 'rochester', 'rock', 'rocker', 'rockers', 'rocket', 'rocketek', 'rocketplayer', 'rocketship', 'rockr', 'rocky', 'rogers', 'rogue', 'roi', 'roku', 'roll', 'rollable', 'rollback', 'roller', 'rollerball', 'rollercoasters', 'rollout', 'rollouts', 'rollover', 'rollup', 'rom', 'romance', 'romanian', 'romantic', 'roming', 'rommed', 'romming', 'roms', 'roof', 'rooftop', 'room', 'roommate', 'roomy', 'root', 'rootable', 'roote', 'rooter', 'rooters', 'rootkit', 'ropa', 'rope', 'ross', 'rosy', 'rota', 'rotary', 'rotate', 'rotateme', 'rotation', 'rotational', 'rouge', 'rough', 'rougher', 'roughly', 'round', 'roundabout', 'rounder', 'roundness', 'rouse', 'rout', 'routable', 'route', 'router', 'routers', 'routine', 'routinely', 'routines', 'rover', 'row', 'rowi', 'rowqbdmbxmfwt', 'royal', 'royale', 'royalty', 'rpg', 'rpgs', 'rpida', 'rpido', 'rs', 'rss', 'rssi', 'rt', 'rtos', 'rub', 'rubber', 'rubberier', 'rubberish', 'rubberize', 'rubbery', 'rubbish', 'rubin', 'ruby', 'ruddy', 'rude', 'rudimentary', 'rug', 'rugby', 'ruged', 'rugged', 'ruggedize', 'ruggedly', 'ruggedness', 'ruin', 'ruination', 'ruinously', 'rule', 'rum', 'rumanian', 'rumble', 'rumor', 'rumour', 'run', 'runaround', 'runaway', 'runbo', 'rundown', 'runkeeper', 'runner', 'runtastic', 'runtime', 'rural', 'rush', 'russ', 'russia', 'russian', 'rust', 'rustic', 'rusty', 'rvw', 'ryder', 'ryndplou', 'sa', 'saavy', 'sabe', 'sabre', 'sachesi', 'sack', 'sacrach', 'sacramento', 'sacrifice', 'sacudidas', 'sad', 'sadden', 'saddest', 'saddle', 'sadly', 'sadness', 'safari', 'safe', 'safeguard', 'safelink', 'safely', 'safenotes', 'safer', 'safest', 'safestrap', 'safety', 'safeway', 'safty', 'saga', 'saids', 'sail', 'sailor', 'sajnos', 'sake', 'saldrn', 'sale', 'salers', 'sales', 'salesman', 'salesmen', 'salesperson', 'salient', 'salieron', 'salivate', 'saller', 'sally', 'salon', 'salt', 'salty', 'saludos', 'salvador', 'salvage', 'sam', 'sama', 'samaritan', 'samasung', 'samba', 'same', 'sammie', 'sammies', 'sammy', 'sammys', 'samoled', 'sample', 'sams', 'samsang', 'samssung', 'samsugn', 'samsum', 'samsun', 'samsung', 'samsungs', 'samsungworld', 'samung', 'samusing', 'samy', 'san', 'sanctity', 'sand', 'sandboxes', 'sandisk', 'sandisks', 'sandpaper', 'sandpapery', 'sandstone', 'sandwhich', 'sandwich', 'sandy', 'sane', 'sanitize', 'sanity', 'sanpdragon', 'sans', 'sansa', 'sansumg', 'sansung', 'santa', 'sanyo', 'sap', 'sapphire', 'sar', 'sara', 'sarasota', 'sardines', 'sare', 'sart', 'sas', 'sassy', 'satelite', 'satelites', 'satellite', 'satiate', 'satiation', 'saticfaction', 'satified', 'satin', 'satisfacci', 'satisfaccin', 'satisfaced', 'satisfaction', 'satisfactoria', 'satisfactoriamente', 'satisfactorily', 'satisfactory', 'satisfecha', 'satisfecho', 'satisfy', 'satisified', 'satissfied', 'sattelite', 'saturate', 'saturation', 'saturday', 'sauce', 'saudi', 'saul', 'sausage', 'save', 'saver', 'savers', 'savior', 'savvy', 'savy', 'saw', 'say', 'sayers', 'sayin', 'sb', 'sbcglobal', 'sbh', 'sc', 'scab', 'scae', 'scald', 'scale', 'scalp', 'scalpers', 'scam', 'scammed', 'scammer', 'scammers', 'scammy', 'scan', 'scandal', 'scandisk', 'scanner', 'scanners', 'scant', 'scanty', 'scar', 'scarce', 'scare', 'scarey', 'scarily', 'scarlet', 'scary', 'scathing', 'scatter', 'scavenger', 'sce', 'sceem', 'scenario', 'scenarios', 'scene', 'scenery', 'scenes', 'scenic', 'sceptic', 'sceptical', 'scereen', 'sch', 'schatches', 'schedule', 'scheduler', 'schema', 'schematic', 'scheme', 'schmaltzy', 'school', 'schoolers', 'sci', 'science', 'scientific', 'scientist', 'scion', 'scissor', 'scn', 'scoff', 'scooters', 'scope', 'scorch', 'score', 'scotch', 'scotland', 'scottish', 'scour', 'scout', 'scr', 'scrabble', 'scrached', 'scraches', 'scramble', 'scrap', 'scrappy', 'scratch', 'scratchable', 'scratcher', 'scratchy', 'scream', 'screamer', 'screan', 'scree', 'screebewaren', 'screech', 'screechy', 'screem', 'screen', 'screencast', 'screenguard', 'screenplay', 'screensaver', 'screensavers', 'screenshot', 'screenshots', 'screenshotting', 'screenside', 'screw', 'screwdriver', 'screwy', 'scribe', 'scrimp', 'scrip', 'scrips', 'script', 'scroll', 'scrolly', 'scrub', 'scrunch', 'scrutinization', 'scrutiny', 'scuff', 'scuffle', 'scurry', 'scuttlebutt', 'sd', 'sda', 'sdcard', 'sdch', 'sdee', 'sdfsdfsdfsdfsd', 'sdhc', 'sdhd', 'sdk', 'sdsdq', 'sdsdqm', 'sdsdqu', 'sdsdquan', 'sdxc', 'se', 'sea', 'sead', 'seal', 'seald', 'seam', 'seamless', 'seamlessly', 'sear', 'search', 'searchable', 'searcher', 'searcing', 'seas', 'season', 'seat', 'seattle', 'sebring', 'sec', 'secon', 'second', 'secondarily', 'secondary', 'secondly', 'secound', 'secret', 'secretary', 'secrete', 'secretely', 'secretly', 'secrets', 'secs', 'section', 'sector', 'sectors', 'secure', 'securely', 'securenotes', 'security', 'sedan', 'sedate', 'seduce', 'see', 'seed', 'seek', 'seem', 'seemingly', 'seemless', 'seemlessly', 'seemly', 'sega', 'segment', 'seguro', 'seidio', 'seido', 'seitch', 'seize', 'seizure', 'seizures', 'seldom', 'seleccionar', 'select', 'selectable', 'selectdateformat', 'selectel', 'selection', 'selections', 'selective', 'selectively', 'selector', 'seler', 'self', 'selfes', 'selfie', 'selfies', 'selfish', 'selfles', 'selflies', 'selfy', 'sell', 'sellada', 'sellados', 'sellcelldeals', 'selle', 'seller', 'sellers', 'sellingfour', 'sellls', 'sellouts', 'selves', 'semana', 'semanas', 'semi', 'seminars', 'semismart', 'sempl', 'sen', 'sence', 'sencillamente', 'sencillo', 'send', 'sender', 'senders', 'senigificant', 'senior', 'seniors', 'sennheiser', 'senors', 'sensation', 'sensational', 'sensationally', 'sense', 'senseless', 'senseme', 'sensi', 'sensible', 'sensibly', 'sensical', 'sensitive', 'sensitivity', 'sensor', 'sensorcore', 'sensors', 'sentence', 'sentimental', 'sentiments', 'sentir', 'sep', 'separate', 'separately', 'separation', 'seperate', 'seperately', 'sepia', 'sept', 'september', 'sequel', 'sequence', 'sequential', 'sequoia', 'ser', 'serfing', 'seria', 'serial', 'serices', 'seriedad', 'series', 'serioiusly', 'seriosly', 'serioulsy', 'serious', 'seriously', 'serius', 'sermon', 'serous', 'serperately', 'serve', 'server', 'serveral', 'servers', 'servia', 'servicable', 'service', 'serviceable', 'servicio', 'servive', 'servses', 'session', 'sessions', 'set', 'setback', 'setbacks', 'setprop', 'settengs', 'setter', 'settings', 'settle', 'setup', 'setups', 'seven', 'seventy', 'sever', 'several', 'severe', 'severely', 'severly', 'sewer', 'sex', 'sexier', 'sexiest', 'sexist', 'sexy', 'sey', 'sf', 'sftp', 'sg', 'sgh', 'sgp', 'sgsii', 'sh', 'shabbiest', 'shabby', 'shack', 'shackle', 'shade', 'shadow', 'shadowgun', 'shadowy', 'shady', 'shaft', 'shake', 'shakey', 'shakiness', 'shakingly', 'shaky', 'shall', 'shallow', 'sham', 'shame', 'shameful', 'shamefully', 'shamelessly', 'shape', 'shapping', 'shaq', 'share', 'shareable', 'sharepoint', 'sharp', 'sharpen', 'sharper', 'sharpest', 'sharply', 'sharpness', 'shatter', 'shatterproof', 'shave', 'shazam', 'shazzam', 'she', 'shealth', 'shear', 'shed', 'sheen', 'sheep', 'sheeps', 'sheer', 'sheet', 'sheisty', 'shelf', 'shell', 'shelter', 'shelve', 'shenanigans', 'shentel', 'shepherd', 'sheri', 'shes', 'shiek', 'shield', 'shift', 'shifty', 'shimmy', 'shin', 'shine', 'shiney', 'shingle', 'shiniest', 'shinny', 'shiny', 'ship', 'shipment', 'shipments', 'shipper', 'shippes', 'shippng', 'shirt', 'shitty', 'shmutz', 'sho', 'shock', 'shocker', 'shockingly', 'shockproof', 'shoddily', 'shoddy', 'shoe', 'shog', 'shoot', 'shooter', 'shooters', 'shop', 'shopbest', 'shopblackberry', 'shopcelldeals', 'shopebest', 'shopper', 'shoppers', 'shopsavy', 'shorcut', 'shorcuts', 'shore', 'shoreline', 'short', 'shortage', 'shortages', 'shortcoming', 'shortcomings', 'shortcut', 'shortcuts', 'shorten', 'shorter', 'shorterm', 'shortest', 'shortfall', 'shortfalls', 'shortly', 'shortness', 'shortpress', 'shortucts', 'shotgun', 'shots', 'shotty', 'should', 'shoulder', 'shouldn', 'shouldnt', 'shout', 'shoutcast', 'shove', 'shovel', 'show', 'showbox', 'showcase', 'showcased', 'showe', 'shower', 'showingshowing', 'showstoppers', 'shred', 'shrink', 'shrinkage', 'shrinkwrapped', 'shrug', 'shuck', 'shudder', 'shuffle', 'shuffleboard', 'shuffler', 'shunt', 'shure', 'shut', 'shutdown', 'shutdowns', 'shutoff', 'shutter', 'shutterbug', 'shutterfly', 'shuttle', 'shy', 'shystie', 'si', 'sib', 'sibling', 'siblings', 'sic', 'sick', 'sicken', 'sickly', 'sickness', 'siclcone', 'side', 'sidebar', 'sidebuttons', 'sidekick', 'sideload', 'sideloaded', 'sideloading', 'sidenote', 'sidenotes', 'sideof', 'sidesync', 'sidewalk', 'sideways', 'siemens', 'siempre', 'siemto', 'siendo', 'siento', 'sierra', 'sieve', 'siezures', 'sig', 'sigan', 'sigh', 'sighhhh', 'sight', 'sightly', 'sightsee', 'sigil', 'sign', 'signal', 'signature', 'signatures', 'significant', 'significantly', 'sigue', 'sii', 'siii', 'silence', 'silent', 'silentboot', 'silently', 'silicon', 'silicone', 'silicrylic', 'silk', 'silky', 'silly', 'silver', 'sim', 'simbian', 'simcard', 'simcards', 'simcity', 'simd', 'simiar', 'similar', 'similarities', 'similarity', 'similarly', 'similer', 'similiar', 'similtar', 'simm', 'simmetry', 'simon', 'simp', 'simple', 'simplemente', 'simpler', 'simplest', 'simpleton', 'simpletons', 'simplicity', 'simpliest', 'simplify', 'simplistic', 'simply', 'simpsons', 'simrus', 'sims', 'simscard', 'simular', 'simulate', 'simulation', 'simultaneous', 'simultaneously', 'sin', 'sinal', 'since', 'sincere', 'sincerely', 'sind', 'sine', 'sinful', 'sing', 'singals', 'singapore', 'singe', 'singer', 'singers', 'single', 'sink', 'sinse', 'sip', 'sipdroid', 'sir', 'sirens', 'siri', 'siriri', 'sirius', 'sirrus', 'sirve', 'sirvio', 'sis', 'sistem', 'sistema', 'sistemas', 'sister', 'sisters', 'sit', 'site', 'sittings', 'situate', 'situation', 'situational', 'situations', 'siv', 'six', 'sixes', 'sixinch', 'sixteen', 'sixth', 'sixties', 'sixty', 'sizable', 'size', 'sizeable', 'sizeducation', 'sizenot', 'skateboard', 'skeptic', 'skeptical', 'skepticism', 'skeptics', 'sketch', 'sketchbook', 'sketchpad', 'sketchy', 'skeuomorphic', 'ski', 'skid', 'skiiing', 'skill', 'skilled', 'skills', 'skillz', 'skim', 'skimp', 'skimpy', 'skin', 'skinnier', 'skinny', 'skinomi', 'skip', 'skiplock', 'skool', 'skpe', 'skt', 'sku', 'skullcandy', 'skuthereve', 'sky', 'skydrive', 'skyfire', 'skyline', 'skymap', 'skymaps', 'skype', 'skyped', 'skypes', 'skyping', 'skyrocket', 'skyvie', 'slab', 'slablet', 'slacker', 'slam', 'slander', 'slang', 'slant', 'slap', 'slash', 'slat', 'slate', 'slave', 'slay', 'slayer', 'slcd', 'sleak', 'sleazy', 'sleed', 'sleek', 'sleeker', 'sleekness', 'sleep', 'sleeper', 'sleepers', 'sleepless', 'sleepy', 'sleeve', 'sleeves', 'slegdehammer', 'slender', 'slew', 'slice', 'slick', 'slicker', 'slickest', 'slickwraps', 'slide', 'slideout', 'slider', 'sliders', 'slighly', 'slight', 'slighter', 'slightest', 'slightly', 'slighty', 'slilently', 'slim', 'slimbean', 'slime', 'slimline', 'slimmed', 'slimmer', 'slimmest', 'slimness', 'slimport', 'slimpwrcard', 'slimy', 'sling', 'slingbox', 'slingplayer', 'slip', 'slipper', 'slipperiness', 'slippers', 'slippery', 'slit', 'sliver', 'slll', 'slo', 'slobber', 'slog', 'slomo', 'sloooooowww', 'slooooowly', 'slop', 'sloppily', 'sloppy', 'slot', 'slothering', 'slouch', 'slow', 'slowdown', 'slowdowns', 'slower', 'slowest', 'slowin', 'slowly', 'slowness', 'slowwwwwww', 'slowwwwwwwly', 'slprint', 'slr', 'slug', 'sluggish', 'sluggishly', 'sluggishness', 'slugish', 'slumber', 'slush', 'sm', 'smack', 'smal', 'small', 'smaller', 'smallest', 'smallish', 'smamsung', 'smarphone', 'smart', 'smartactions', 'smartass', 'smartband', 'smartconnect', 'smartdock', 'smarter', 'smartest', 'smartfhone', 'smartglass', 'smarth', 'smarthphone', 'smartie', 'smartly', 'smartphone', 'smartphoneology', 'smartphoners', 'smartphones', 'smartphoneware', 'smartpone', 'smartscreen', 'smartshopdeals', 'smartslide', 'smartswitch', 'smarttips', 'smartware', 'smartwatch', 'smartwatches', 'smartworld', 'smash', 'smashingly', 'smatphones', 'smear', 'smell', 'smh', 'smidge', 'smidgen', 'smile', 'smiley', 'smite', 'smith', 'smithereens', 'smller', 'smmoth', 'smoke', 'smokin', 'smoooooth', 'smooooth', 'smooothing', 'smooth', 'smoothe', 'smoothen', 'smoother', 'smoothest', 'smoothie', 'smoothly', 'smoothness', 'smother', 'smothless', 'sms', 'smss', 'smtp', 'smudge', 'smug', 'smuggle', 'sn', 'snag', 'snail', 'snap', 'snapchap', 'snapchat', 'snapchats', 'snapchatting', 'snapdrago', 'snapdragon', 'snappage', 'snapper', 'snappier', 'snappiness', 'snappy', 'snappyness', 'snapseed', 'snapshot', 'snapshots', 'snapy', 'snaspdragon', 'snatch', 'snatchers', 'snazzy', 'sneak', 'sneakers', 'sneaky', 'sneeze', 'snes', 'snicker', 'sniff', 'sniffle', 'snip', 'sniper', 'snob', 'snobbies', 'snobs', 'snooze', 'snore', 'snorkel', 'snot', 'snote', 'snow', 'snowball', 'snowey', 'snowmobile', 'snowstorm', 'snr', 'sns', 'snuff', 'snug', 'snugged', 'snuggly', 'snugly', 'so', 'soak', 'soap', 'soapy', 'soar', 'sober', 'soc', 'socal', 'soccer', 'social', 'socialcam', 'socialife', 'socialize', 'socials', 'society', 'sock', 'socket', 'sockets', 'soda', 'soduko', 'soething', 'sofa', 'sofar', 'soft', 'softbuttons', 'softcard', 'soften', 'softener', 'softer', 'softest', 'softkey', 'softkeys', 'software', 'softwares', 'sofware', 'soggy', 'soglad', 'soiwindupwiththisasamytextentered', 'sokid', 'sol', 'solamente', 'solar', 'solavei', 'solavie', 'solder', 'soldier', 'sole', 'solely', 'solicit', 'solicitado', 'solicitation', 'solid', 'solidify', 'solidity', 'solidly', 'solitaire', 'solo', 'solution', 'solutions', 'solvable', 'solve', 'solventadome', 'some', 'somebody', 'someday', 'somedays', 'somehow', 'someone', 'someones', 'somepeople', 'someplace', 'somethimes', 'something', 'somethings', 'sometime', 'sometimes', 'someting', 'somewhat', 'somewhere', 'somthing', 'somtimes', 'son', 'sonata', 'sone', 'song', 'songs', 'songza', 'sonic', 'sonny', 'sons', 'sontinuen', 'sony', 'sonymobile', 'sonys', 'soo', 'soon', 'sooner', 'sooo', 'soooo', 'sooooo', 'sooooooo', 'soooooooo', 'sooooooooo', 'soothe', 'sophisticate', 'sophistication', 'sopose', 'soprano', 'sore', 'sorely', 'sorpresa', 'sorry', 'sort', 'sorta', 'sortable', 'sos', 'soso', 'sosososososo', 'sot', 'sotware', 'souce', 'soudn', 'soul', 'sould', 'souls', 'sound', 'soundcloud', 'soundfly', 'soundfont', 'soundhound', 'soundlink', 'soundsync', 'soundtracker', 'soup', 'sour', 'source', 'south', 'southamerica', 'southeastern', 'southern', 'sow', 'sox', 'soy', 'sp', 'space', 'spaceaway', 'spacebar', 'spacial', 'spacious', 'spaciousness', 'spade', 'spain', 'spam', 'spamming', 'spammy', 'spamware', 'span', 'spanish', 'spank', 'spankin', 'spar', 'spare', 'sparingly', 'spark', 'sparkle', 'sparq', 'sparse', 'spartan', 'spastic', 'spate', 'spatial', 'spawn', 'spaz', 'spazed', 'spazzes', 'spb', 'speach', 'speackers', 'spead', 'speak', 'speaker', 'speakerboost', 'speakerphone', 'speakers', 'spec', 'specc', 'specced', 'speced', 'spechound', 'special', 'specialist', 'specialize', 'specially', 'specialty', 'species', 'speciffically', 'specific', 'specifically', 'specification', 'specifications', 'specificmodel', 'specifics', 'specify', 'specimens', 'speck', 'speckle', 'specs', 'spect', 'spectacular', 'spectacularly', 'spectate', 'spected', 'spectrum', 'spectrums', 'speculate', 'speculations', 'speech', 'speeches', 'speechless', 'speed', 'speedier', 'speedifying', 'speedily', 'speedtest', 'speedtests', 'speedy', 'speeker', 'speend', 'speigen', 'spell', 'spellcheck', 'spen', 'spend', 'spey', 'spft', 'sph', 'sphere', 'spheres', 'spherical', 'spice', 'spicy', 'spider', 'spiderman', 'spiderweb', 'spiffy', 'spigen', 'spigin', 'spike', 'spill', 'spin', 'spine', 'spiral', 'spirit', 'spit', 'spite', 'spkr', 'splash', 'splashtop', 'splendid', 'splendidly', 'splendor', 'splinter', 'split', 'splotch', 'splurge', 'spoil', 'spoiler', 'sponge', 'spongy', 'sponsered', 'sponsor', 'spontaneous', 'spontaneously', 'spoof', 'spook', 'spooky', 'spoon', 'sporadic', 'sporadically', 'sporatic', 'sporran', 'sport', 'sportiest', 'sportscenter', 'sportsline', 'spot', 'spothero', 'spotify', 'spotless', 'spotlight', 'spoton', 'spottier', 'spotty', 'spoty', 'spousal', 'spouse', 'sppeaker', 'sppeds', 'spray', 'spread', 'spreadsheet', 'spreadsheets', 'spree', 'spring', 'springfield', 'springpad', 'springt', 'sprinkle', 'sprinkler', 'sprint', 'sprite', 'sprocket', 'spur', 'spurious', 'sputter', 'spy', 'spycatcher', 'spyro', 'spyware', 'sq', 'sql', 'squabble', 'squad', 'squander', 'square', 'squarely', 'squareness', 'squaretrade', 'squarish', 'squash', 'squat', 'squawk', 'squeak', 'squeaky', 'squeamish', 'squeeling', 'squeeze', 'squint', 'squirt', 'squish', 'squisher', 'sr', 'srand', 'sreen', 'srgb', 'sround', 'srs', 'srsly', 'sruck', 'srvice', 'ss', 'sscreen', 'ssd', 'ssh', 'sshdroid', 'sshe', 'sshing', 'ssi', 'ssid', 'ssids', 'ssmsung', 'ssn', 'sso', 'ssoui', 'st', 'sta', 'stab', 'stabalization', 'stabalize', 'stabile', 'stabilisation', 'stability', 'stabilization', 'stabilize', 'stabilizer', 'stable', 'staccato', 'stack', 'stadium', 'staff', 'stag', 'stage', 'stagefreight', 'stagefright', 'stain', 'stainless', 'staircases', 'stairs', 'stake', 'stale', 'stalion', 'stalk', 'stall', 'stamina', 'stamp', 'stance', 'stand', 'standalone', 'standard', 'standardization', 'standardize', 'standards', 'standart', 'standby', 'standerd', 'standout', 'standpoint', 'standsout', 'standstill', 'standup', 'stankey', 'stanley', 'staple', 'star', 'starbuck', 'starbucks', 'stare', 'starhub', 'stark', 'starnded', 'starry', 'start', 'startek', 'starter', 'starters', 'startle', 'startup', 'starve', 'starz', 'stash', 'stat', 'state', 'statement', 'statements', 'static', 'staticky', 'station', 'stationary', 'stationer', 'statistically', 'statistics', 'stats', 'status', 'statuses', 'stave', 'stay', 'stck', 'stead', 'steadily', 'steady', 'steak', 'steal', 'stealer', 'stealers', 'steam', 'steamy', 'steel', 'steelers', 'steelie', 'steep', 'steeper', 'steer', 'steinheil', 'steinway', 'stellar', 'steller', 'stem', 'stench', 'step', 'stepchild', 'stepford', 'stephanie', 'stephen', 'stephenson', 'stepson', 'stere', 'stereo', 'stereoness', 'stereotype', 'sterile', 'sterling', 'steroid', 'steroids', 'steve', 'steven', 'stewart', 'stick', 'sticker', 'stickers', 'stickiness', 'stickler', 'sticklers', 'sticky', 'stiff', 'stiffer', 'stiffled', 'stiffs', 'stifle', 'stigma', 'stiill', 'stikers', 'stil', 'stilgut', 'stilish', 'still', 'stimulate', 'sting', 'stingy', 'stink', 'stinker', 'stinkin', 'stinko', 'stint', 'stipulate', 'stitch', 'stitcher', 'stl', 'stlye', 'stlyo', 'stm', 'sto', 'stoarge', 'stock', 'stocky', 'stoke', 'stold', 'stoled', 'stomach', 'stomp', 'stone', 'stonewall', 'stong', 'stongpoint', 'stop', 'stopgap', 'stopper', 'stopwatch', 'storag', 'storage', 'storages', 'store', 'storefront', 'storied', 'stories', 'storm', 'story', 'storyteller', 'stotage', 'stow', 'stp', 'straches', 'straight', 'straightalk', 'straighten', 'straightforward', 'straightforwardly', 'straighttalk', 'strain', 'strait', 'strand', 'strange', 'strangely', 'stranger', 'strangers', 'strangle', 'strap', 'strat', 'strategy', 'stratosphere', 'strava', 'straw', 'stray', 'streak', 'stream', 'streamer', 'streamline', 'street', 'streetlights', 'streets', 'strength', 'strengthen', 'strengths', 'strengtht', 'strentgh', 'strenuous', 'stress', 'stressful', 'stretch', 'striaght', 'striations', 'strict', 'strictly', 'stride', 'strighttalk', 'strike', 'strikingly', 'string', 'strip', 'stripe', 'strive', 'stroke', 'stroll', 'strong', 'stronger', 'strongest', 'strongly', 'structural', 'structurally', 'structure', 'struggle', 'struthers', 'strutural', 'stsndby', 'stubborn', 'stubborness', 'stubbornness', 'stubby', 'stubhub', 'stucks', 'studders', 'student', 'students', 'studio', 'study', 'stuff', 'stumble', 'stump', 'stumpy', 'stun', 'stunner', 'stunningly', 'stupid', 'stupidities', 'stupidity', 'stupidly', 'sturdier', 'sturdily', 'sturdiness', 'sturdy', 'stutter', 'stuttery', 'style', 'styli', 'stylin', 'stylish', 'stylist', 'stylistic', 'stylize', 'stylo', 'stylos', 'stylus', 'styluses', 'su', 'sub', 'subaru', 'subconscious', 'subdue', 'subflavors', 'subfolders', 'subject', 'subjective', 'subjectively', 'submenus', 'submerge', 'submerse', 'submersion', 'submission', 'submit', 'suboptimal', 'subpar', 'subpixel', 'subpixels', 'subscribe', 'subscriber', 'subscribers', 'subscription', 'subscriptions', 'subsection', 'subsequent', 'subsequently', 'subside', 'subsidies', 'subsidise', 'subsidize', 'subsidy', 'subsonic', 'substance', 'substandard', 'substantial', 'substantially', 'substantively', 'substitute', 'substitution', 'substitutions', 'subsume', 'subsystem', 'subterranean', 'subtle', 'subtlety', 'subtly', 'subtract', 'subtraction', 'suburbian', 'suburbs', 'subway', 'subwoofer', 'succeed', 'success', 'successes', 'successful', 'successfully', 'succession', 'successive', 'successor', 'successors', 'succinct', 'succumb', 'sucede', 'suceed', 'sucessfully', 'such', 'suchas', 'suck', 'sucker', 'suckered', 'suckoutloud', 'sucky', 'sudden', 'suddenly', 'sudoku', 'suds', 'sue', 'suensan', 'suffer', 'suffice', 'sufficient', 'sufficiently', 'suft', 'sugar', 'sugarsync', 'suggest', 'suggestion', 'suggestions', 'suggust', 'suicidal', 'suicide', 'suit', 'suitable', 'suite', 'suks', 'sul', 'sulfuric', 'sulk', 'sum', 'sumarizing', 'sumhung', 'summarize', 'summary', 'summation', 'summer', 'summertime', 'summery', 'summon', 'sumthn', 'sun', 'sunbeam', 'sunday', 'sundely', 'sundry', 'sunglass', 'sunglasses', 'sunlight', 'sunlit', 'sunny', 'sunrise', 'sunset', 'sunsets', 'sunshine', 'supcase', 'super', 'superada', 'superamoled', 'superb', 'superbly', 'supercameras', 'supercede', 'supercharge', 'supercool', 'supereme', 'superfast', 'superficial', 'superfluous', 'superglue', 'superimpose', 'superior', 'superiority', 'superiorness', 'superlcd', 'supermarkets', 'supernatural', 'superphone', 'superphones', 'supersharp', 'supershieldz', 'supersonic', 'superstar', 'supertooth', 'superuser', 'supervisor', 'supervisors', 'supestamente', 'supiler', 'supirb', 'supl', 'suport', 'supose', 'suposse', 'supoused', 'supper', 'supperb', 'supplant', 'supplement', 'supplier', 'suppliers', 'supplimented', 'supply', 'support', 'supportable', 'supporter', 'supporters', 'supposably', 'suppose', 'supposedly', 'suppress', 'suppression', 'supprised', 'supreme', 'supremedeals', 'supremely', 'suprise', 'suprised', 'suprising', 'suprisingly', 'supuetso', 'supurb', 'sur', 'surch', 'surcharge', 'sure', 'surely', 'suretype', 'suretypeople', 'surf', 'surface', 'surfer', 'surfers', 'surge', 'surgery', 'surgical', 'suri', 'suriname', 'surly', 'surmise', 'suround', 'surpass', 'surpax', 'surpise', 'surpised', 'surprise', 'surprisingly', 'surprized', 'surprizing', 'surreal', 'surrender', 'surrogate', 'surrond', 'surround', 'surveillance', 'survey', 'survivability', 'survival', 'survive', 'sus', 'susceptible', 'susie', 'suspect', 'suspend', 'suspenders', 'suspicion', 'suspicious', 'susposedly', 'sustain', 'suttle', 'suuuuper', 'suv', 'suvs', 'sux', 'sv', 'svc', 'svelte', 'sview', 'svlte', 'svoice', 'sw', 'swa', 'swab', 'swagbucks', 'swallow', 'swamp', 'swanky', 'swap', 'swapable', 'swappa', 'swappable', 'swappeable', 'sway', 'swear', 'sweat', 'sweater', 'sweatproof', 'sweatshop', 'sweaty', 'sweden', 'sweeeeet', 'sweeet', 'sweep', 'sweet', 'sweeten', 'sweeter', 'sweetheart', 'sweetie', 'sweetness', 'sweetspot', 'sweettt', 'sweety', 'swell', 'swerve', 'swflorida', 'swich', 'swiching', 'swift', 'swiftflow', 'swiftkey', 'swiftkeys', 'swiftly', 'swiitch', 'swim', 'swimmingly', 'swindlers', 'swing', 'swip', 'swipe', 'swipping', 'swirl', 'swirly', 'switch', 'switcher', 'switchin', 'switchover', 'swivel', 'swole', 'sword', 'swtich', 'swying', 'swype', 'swyper', 'sx', 'sxsw', 'sybol', 'sygic', 'sylo', 'sylus', 'sym', 'symbian', 'symbiotic', 'symbol', 'symbols', 'symmetrical', 'sympathetic', 'sympathize', 'sympathy', 'symplify', 'symptom', 'symptomatic', 'symptoms', 'sync', 'syncable', 'synch', 'synched', 'synching', 'synchronization', 'synchronize', 'syncrhonization', 'syncronization', 'syncronize', 'syndrome', 'synergy', 'synonymous', 'synopsis', 'syntax', 'synthetic', 'sys', 'syste', 'system', 'systematically', 'systems', 'systim', 'systms', 'sytem', 'sywpe', 'ta', 'tab', 'taba', 'tabatas', 'tabbed', 'tabelts', 'table', 'tablet', 'tabletless', 'tablets', 'tablettalk', 'tabs', 'tachyarrythmia', 'tacit', 'tack', 'tackle', 'tacky', 'tact', 'tactic', 'tactil', 'tactile', 'tactual', 'tad', 'tag', 'tagline', 'tahn', 'tail', 'tailor', 'tailwind', 'taint', 'taiwan', 'taiwanese', 'take', 'takea', 'takeaway', 'takeover', 'taker', 'takers', 'takey', 'tal', 'tale', 'talented', 'tales', 'talis', 'talismans', 'talk', 'talkatone', 'talkback', 'talke', 'talker', 'talkie', 'talkies', 'talkin', 'talktime', 'tall', 'taller', 'tallest', 'tally', 'talvez', 'tamano', 'tambie', 'tambien', 'tame', 'tampa', 'tamper', 'tan', 'tandem', 'tangent', 'tangible', 'tangle', 'tango', 'tank', 'tanker', 'tantalize', 'tantrums', 'tanzania', 'taotronics', 'tap', 'tapatalk', 'tape', 'taper', 'tappered', 'tappi', 'tappy', 'tarda', 'tardansa', 'tarde', 'tardo', 'tardy', 'tare', 'target', 'tarjeta', 'tarjetas', 'tarnish', 'tart', 'tarts', 'task', 'taskbar', 'tasker', 'taskkiller', 'taste', 'tasteful', 'taster', 'tastic', 'tat', 'tattoo', 'taut', 'tavera', 'tawain', 'tax', 'taylor', 'tb', 'tba', 'tbc', 'tbh', 'tbolt', 'tbolts', 'tcl', 'tctil', 'tdd', 'tdlr', 'te', 'tea', 'teach', 'teacher', 'teachers', 'teal', 'team', 'teamviewer', 'teamwin', 'teamwork', 'teapot', 'tear', 'tease', 'teathering', 'teathers', 'tec', 'tech', 'techgiant', 'techgient', 'techhy', 'techi', 'techie', 'techies', 'techmedic', 'technica', 'technical', 'technically', 'technican', 'technician', 'technicians', 'technicolor', 'technique', 'techniques', 'techno', 'technogeek', 'technological', 'technologically', 'technologies', 'technology', 'technoloy', 'technomage', 'technomaster', 'technophile', 'technophobes', 'technorati', 'techradar', 'techs', 'techskin', 'techsmartt', 'techy', 'tecla', 'teclas', 'tecnio', 'tecnitions', 'tecnologia', 'tecnotropolis', 'tectile', 'tectiles', 'ted', 'teddy', 'tedious', 'tedium', 'tee', 'teen', 'teenage', 'teenaged', 'teenager', 'teenagers', 'teeniebopper', 'teens', 'teensy', 'teeny', 'teeth', 'tegra', 'teh', 'tehnical', 'teir', 'tek', 'tekcoo', 'tekki', 'tekkie', 'tel', 'telcel', 'telco', 'tele', 'telecom', 'telecommunication', 'telecommunications', 'telecoms', 'telef', 'telefonas', 'telefonia', 'telefonica', 'telefono', 'telefonos', 'telekinesis', 'telekom', 'telemarketer', 'telemarketers', 'telemarketing', 'telenav', 'teleono', 'telephone', 'telephony', 'telescope', 'television', 'televisions', 'televommunication', 'telf', 'telfono', 'telfonos', 'tell', 'tellme', 'telno', 'telus', 'tem', 'temp', 'temper', 'temperamental', 'temperature', 'temperatures', 'temperd', 'temperment', 'template', 'templates', 'temple', 'temporarily', 'temporary', 'temps', 'tempt', 'temptation', 'ten', 'tenage', 'tend', 'tendancy', 'tendencies', 'tendency', 'tener', 'tenga', 'tengan', 'tengo', 'tenia', 'tenido', 'tens', 'tense', 'tent', 'tentacles', 'tentative', 'tenth', 'tenths', 'tenuous', 'tep', 'terabyte', 'terabytes', 'tercel', 'terible', 'teriffic', 'term', 'terminal', 'terminals', 'terminate', 'termination', 'terminology', 'terns', 'terrain', 'terrapin', 'terrestrial', 'terrible', 'terribly', 'terriffic', 'terrific', 'terrify', 'territories', 'territory', 'terror', 'terrrific', 'terse', 'tes', 'tesla', 'tessar', 'test', 'testament', 'testate', 'tester', 'testers', 'testify', 'testimony', 'tether', 'tetris', 'texan', 'texas', 'texing', 'text', 'texted', 'texter', 'texters', 'textin', 'texting', 'textnow', 'texto', 'textplus', 'textra', 'texts', 'texture', 'textured', 'textures', 'texured', 'tf', 'tfdata', 'tft', 'tgg', 'tghis', 'th', 'tha', 'thaaaaaaaaaanx', 'thaanks', 'thabk', 'thai', 'thailand', 'thaks', 'than', 'thank', 'thankful', 'thankfully', 'thanksgiving', 'thankyou', 'thant', 'thanx', 'thar', 'that', 'thati', 'thatll', 'thatmy', 'thats', 'thatt', 'thay', 'thc', 'the', 'theater', 'theatre', 'thecworld', 'thee', 'theft', 'thefts', 'theh', 'their', 'theirs', 'them', 'theme', 'themselbes', 'themselves', 'then', 'theoretical', 'theoretically', 'theories', 'theory', 'theotherdaythe', 'thephone', 'ther', 'therapist', 'there', 'thereafter', 'thereby', 'therefore', 'therein', 'thereof', 'theres', 'theri', 'thermal', 'thermally', 'thermo', 'thermometer', 'thermostat', 'these', 'theses', 'thesim', 'theverge', 'thewaytruelifeis', 'they', 'theycare', 'theyd', 'theyll', 'theyre', 'theyve', 'thi', 'thia', 'thick', 'thicken', 'thicker', 'thickest', 'thickish', 'thickness', 'thid', 'thie', 'thief', 'thier', 'thig', 'thigh', 'thighs', 'thim', 'thimes', 'thin', 'thinest', 'thing', 'thingee', 'thingie', 'things', 'thingss', 'thingy', 'think', 'thinker', 'thinkfree', 'thinkorswim', 'thinkpads', 'thinner', 'thinness', 'thinnest', 'thinny', 'third', 'thirdly', 'thirds', 'thirty', 'this', 'thise', 'thisn', 'thisnone', 'thk', 'thks', 'thm', 'thnks', 'tho', 'thoguh', 'thois', 'thomas', 'thomson', 'thorough', 'thoroughly', 'thos', 'those', 'thou', 'thouch', 'thougbt', 'though', 'thoughit', 'thoughr', 'thoughtful', 'thoughtfully', 'thoughtfulness', 'thoughtlessness', 'thoughts', 'thougth', 'thougths', 'thousand', 'thousands', 'thouse', 'thow', 'thr', 'thrash', 'thre', 'thread', 'threat', 'threaten', 'threats', 'three', 'threshold', 'thrift', 'thrifty', 'thrill', 'thriple', 'thrive', 'thro', 'throat', 'throats', 'throne', 'throttle', 'through', 'throughly', 'throughout', 'throughput', 'throught', 'throw', 'throwaway', 'throwaways', 'throwback', 'throwbacks', 'thru', 'thrugmail', 'ths', 'thst', 'tht', 'thua', 'thumb', 'thumbable', 'thumbnail', 'thumbnailing', 'thumbnails', 'thumbprint', 'thump', 'thunder', 'thunderbolt', 'thunderstorm', 'thunk', 'thursday', 'thus', 'thusly', 'thw', 'thwart', 'thx', 'thxs', 'thy', 'thyll', 'ti', 'tiado', 'tick', 'ticker', 'ticket', 'tidal', 'tidals', 'tidbit', 'tidbits', 'tide', 'tidier', 'tidy', 'tie', 'tiempo', 'tienda', 'tiene', 'tier', 'tiered', 'tiers', 'tight', 'tighten', 'tighter', 'tightly', 'tigo', 'tihis', 'tik', 'til', 'tile', 'till', 'tilt', 'tim', 'time', 'timeframe', 'timelapse', 'timeline', 'timely', 'timeout', 'timeouts', 'timer', 'timers', 'timesaver', 'timeshift', 'timespan', 'timesw', 'timex', 'timezone', 'timid', 'tin', 'tinder', 'tine', 'ting', 'tinge', 'tinier', 'tiniest', 'tinker', 'tinkerbell', 'tinkerer', 'tinniness', 'tinny', 'tint', 'tiny', 'tinyness', 'tinytechreview', 'tinzen', 'tip', 'tipo', 'tippy', 'tire', 'tissue', 'tisztelet', 'tit', 'titan', 'titanium', 'titer', 'title', 'tittle', 'tivo', 'tiwce', 'tiwtter', 'tje', 'tjmes', 'tjose', 'tk', 'tkip', 'tks', 'tksss', 'tl', 'tldr', 'tlelfono', 'tlf', 'tlk', 'tlooking', 'tm', 'tmajor', 'tmnt', 'tmo', 'tmob', 'tmobil', 'tmobile', 'tmobiles', 'tmoblie', 'tn', 'tne', 'tnhat', 'tnks', 'tnx', 'to', 'toad', 'toast', 'tobago', 'tobias', 'todas', 'todava', 'today', 'todays', 'toddler', 'toddlers', 'todo', 'todolist', 'todos', 'todotxt', 'todsy', 'toe', 'toffee', 'together', 'toggle', 'toi', 'toil', 'toilet', 'toilets', 'toiphone', 'tok', 'token', 'tokyo', 'tolerable', 'tolerance', 'tolerant', 'tolerate', 'toll', 'tollerate', 'tom', 'toma', 'tomar', 'tomato', 'tome', 'tomfoolery', 'tomorrow', 'tomtom', 'ton', 'tonal', 'tone', 'tongue', 'tonight', 'tonnes', 'tons', 'too', 'toodledo', 'tool', 'toolbar', 'toolbelt', 'toolkit', 'toook', 'toooo', 'toooooooo', 'toot', 'tooth', 'toothbrushes', 'toothpaste', 'top', 'topaz', 'topcell', 'topic', 'topics', 'topline', 'topmost', 'topper', 'topshop', 'topside', 'tor', 'torch', 'torcher', 'torment', 'torque', 'torrent', 'torrents', 'torse', 'torture', 'torx', 'toshiba', 'toss', 'tosuper', 'tot', 'total', 'totality', 'totally', 'totalmente', 'toto', 'touch', 'touchdown', 'touchid', 'touchkey', 'touchless', 'touchpad', 'touchpro', 'touchscreen', 'touchscreens', 'touchtones', 'touchwhiz', 'touchwhizz', 'touchwiz', 'touchy', 'tough', 'toughen', 'tougher', 'toughest', 'toughness', 'toughpolycarbonate', 'tought', 'tour', 'tourch', 'tourist', 'tout', 'tow', 'toward', 'towards', 'towelroot', 'tower', 'town', 'towns', 'toy', 'toyota', 'tp', 'tpc', 'tpu', 'trabaja', 'trabajando', 'trabajo', 'trac', 'trace', 'tracfone', 'tracfonereviewer', 'tracfones', 'tracfrone', 'trachone', 'track', 'trackball', 'trackballs', 'tracker', 'trackfon', 'trackfone', 'trackpad', 'trackphone', 'tracphone', 'tracphones', 'tract', 'traction', 'tractor', 'trade', 'trademark', 'tradeoff', 'tradeoffs', 'trader', 'tradition', 'traditional', 'traditionally', 'traduction', 'trae', 'traerlo', 'traffic', 'tragedy', 'tragically', 'trail', 'trailer', 'trailers', 'train', 'trainer', 'trainwreck', 'trait', 'traits', 'traje', 'trajo', 'tram', 'tranfer', 'tranferred', 'transaccion', 'transact', 'transaction', 'transactions', 'transatlantic', 'transceiver', 'transcend', 'transcoding', 'transcribe', 'transcription', 'transcriptions', 'transfer', 'transferability', 'transferable', 'transferrable', 'transform', 'transformation', 'transformer', 'transformers', 'transiitons', 'transistions', 'transistors', 'transit', 'transition', 'transitional', 'transitory', 'translate', 'translater', 'translation', 'translations', 'translator', 'translucent', 'transmission', 'transmit', 'transmite', 'transmitter', 'transparency', 'transparent', 'transparently', 'transpire', 'transport', 'transportation', 'trap', 'trappings', 'trash', 'trato', 'trauma', 'travail', 'travel', 'traveler', 'travelers', 'traveller', 'travesty', 'traw', 'tray', 'trays', 'trd', 'tread', 'treadmill', 'treasure', 'treat', 'treatment', 'treblab', 'treble', 'tree', 'trek', 'trekker', 'tremble', 'tremendo', 'tremendous', 'tremendously', 'tremor', 'trend', 'trendiest', 'trendy', 'trent', 'treo', 'trepidation', 'trexcell', 'tri', 'triage', 'trial', 'trials', 'triangle', 'triangular', 'triangulation', 'trianium', 'trianwreck', 'triband', 'tribute', 'trick', 'trickier', 'trickle', 'tricky', 'trident', 'trig', 'trigger', 'trill', 'triluminos', 'trim', 'trimmer', 'trinidad', 'trinity', 'trip', 'triple', 'triplicate', 'triplog', 'tripod', 'trippy', 'triumph', 'triumphtm', 'trivia', 'trivial', 'trivially', 'trojans', 'troll', 'tromo', 'tron', 'trooper', 'trophy', 'tropical', 'trot', 'trouble', 'troubleshoot', 'troubleshot', 'troublesome', 'trough', 'trousers', 'troy', 'trturn', 'tru', 'trubo', 'truck', 'trucker', 'true', 'trueblack', 'truedialer', 'truely', 'truer', 'truley', 'trully', 'truly', 'trump', 'truncate', 'trunk', 'truphone', 'trushield', 'trust', 'trustworthy', 'trusty', 'truth', 'truthful', 'truthfully', 'truthfulness', 'try', 'tryied', 'tryin', 'tryng', 'trypically', 'ts', 'tsum', 'tsunami', 'tt', 'tthe', 'tthis', 'tu', 'tub', 'tube', 'tubecast', 'tuck', 'tudia', 'tue', 'tuesday', 'tuff', 'tug', 'tuis', 'tulsa', 'tumble', 'tumblr', 'tumbr', 'tundra', 'tune', 'tuneable', 'tunein', 'tuneinradio', 'tuner', 'tuners', 'tuneup', 'tunnel', 'tunnelx', 'tunr', 'tuns', 'turbo', 'turbocharger', 'turbocharging', 'turbopower', 'turboprop', 'turbos', 'turd', 'turks', 'turn', 'turnaround', 'turner', 'turnover', 'turnt', 'turtle', 'turtleback', 'turtoring', 'tuteral', 'tutor', 'tutorals', 'tutorial', 'tutorials', 'tuve', 'tv', 'tvs', 'tw', 'twas', 'twc', 'tweak', 'tweaker', 'tweakker', 'tweedly', 'tweeking', 'tweeks', 'tween', 'tweens', 'tweet', 'tweetcaster', 'tweeter', 'tweezer', 'tweezers', 'twelve', 'twenties', 'twenty', 'twice', 'twiddle', 'twidroyd', 'twigby', 'twill', 'twin', 'twine', 'twist', 'twit', 'twitch', 'twitchtv', 'twitchy', 'twiter', 'twitter', 'two', 'twosecond', 'twosome', 'twould', 'twrp', 'tx', 'txt', 'txting', 'txts', 'ty', 'tyan', 'tye', 'tyler', 'tyles', 'tylt', 'type', 'typefaces', 'typer', 'typical', 'typically', 'typin', 'typist', 'typo', 'typos', 'typying', 'tyre', 'tytn', 'tzone', 'tzones', 'uae', 'uag', 'uber', 'ubergeek', 'ubicer', 'ubiquitous', 'ubisoft', 'ubuntu', 'uc', 'uck', 'uconnect', 'ud', 'udpate', 'ue', 'uf', 'ufff', 'ufocus', 'ufs', 'ug', 'uganda', 'uggh', 'ugh', 'ughh', 'ughhh', 'ughhhh', 'uglier', 'uglies', 'ugliest', 'ugly', 'uh', 'uhd', 'uhg', 'uhhappy', 'uhs', 'ui', 'uis', 'uk', 'ukraine', 'ukw', 'ul', 'ultilize', 'ultimate', 'ultimately', 'ultmately', 'ultra', 'ultrabook', 'ultrahd', 'ultrapbixel', 'ultrapixel', 'ultrapixels', 'ultras', 'ultrasharp', 'um', 'uma', 'umatched', 'umm', 'ummm', 'umphh', 'umpteen', 'umrah', 'umteenth', 'umts', 'un', 'una', 'unabashedly', 'unable', 'unabridged', 'unacceptable', 'unacceptably', 'unactivated', 'unadulterated', 'unafraid', 'unanswered', 'unapologetic', 'unapologetically', 'unas', 'unattached', 'unattended', 'unattractive', 'unauthorized', 'unavailable', 'unavoidable', 'unaware', 'unbalance', 'unbareable', 'unbearable', 'unbearably', 'unbeatable', 'unbeknownst', 'unbelievable', 'unbelievably', 'unbeliveable', 'unbiased', 'unbidden', 'unbloated', 'unblock', 'unbox', 'unbranded', 'unbreakable', 'uncalibrated', 'uncanny', 'unceremoniously', 'uncertain', 'uncertainty', 'unchanged', 'uncharacteristically', 'uncharged', 'uncharted', 'uncheck', 'unchecked', 'uncle', 'unclear', 'unclicking', 'unclip', 'unclocked', 'unclutter', 'unclutterd', 'uncmfortable', 'uncognized', 'uncomfortable', 'uncomfortably', 'uncommon', 'uncommunicative', 'uncompatible', 'uncompleted', 'uncomplicated', 'uncompress', 'unconditional', 'unconfirmed', 'unconscious', 'uncontrollably', 'unconventional', 'uncool', 'uncoparable', 'uncover', 'uncrowded', 'undamaged', 'undate', 'undecided', 'undeletable', 'undeleteable', 'undeniably', 'under', 'underated', 'underclock', 'underclocked', 'underclocking', 'undercooked', 'underdog', 'underestimate', 'underexpose', 'undergo', 'underground', 'underhanded', 'underlie', 'underneath', 'underperform', 'underpowered', 'underprice', 'underrate', 'undersaturated', 'understand', 'understandable', 'understandably', 'understate', 'understatement', 'undertone', 'undervolt', 'undervolted', 'underwater', 'underwelmed', 'underwhelmed', 'underwhelming', 'undesired', 'undestand', 'undetermined', 'undeveloped', 'undisguisable', 'undisputably', 'undisputed', 'undo', 'undoubtdly', 'undoubtedly', 'unease', 'uneasy', 'unecessary', 'unedited', 'uneeded', 'unenable', 'unencrypted', 'unequal', 'unequivocally', 'unerving', 'unethical', 'uneven', 'uneventful', 'unexciting', 'unexpectantly', 'unexpected', 'unexpectedly', 'unexpectly', 'unexpensive', 'unexplained', 'unexplored', 'unfaded', 'unfair', 'unfairly', 'unfamiliar', 'unfamiliarity', 'unfamilliar', 'unfancy', 'unfathomable', 'unfavorable', 'unfiltered', 'unfinished', 'unfixed', 'unfocused', 'unfocusing', 'unfold', 'unforeseen', 'unforgivable', 'unfortunally', 'unfortunate', 'unfortunatelly', 'unfortunately', 'unfortuntely', 'unfounded', 'unfreeze', 'unfriendly', 'unfulfilled', 'unfunded', 'ung', 'ungainly', 'unglued', 'ungly', 'unguarded', 'unhacked', 'unhappily', 'unhappiness', 'unhappy', 'unharmed', 'unheard', 'unhelpful', 'unhindered', 'unholstering', 'unhook', 'uni', 'unibody', 'unico', 'unicode', 'unicorn', 'unidades', 'uniform', 'unify', 'unimaginable', 'unimaginative', 'unimpaired', 'unimportant', 'unimpressed', 'unimpressive', 'unimproved', 'uninitiated', 'uninnovative', 'uninspired', 'uninspiring', 'uninstall', 'uninstallable', 'uninstallation', 'uninstalled', 'uninstaller', 'uninstalling', 'unintall', 'unintelligible', 'unintended', 'unintentional', 'unintentionally', 'uninterested', 'uninterrupted', 'unintrusive', 'unintuitive', 'uninvited', 'union', 'unions', 'unique', 'uniquely', 'uniqueness', 'unisexual', 'unit', 'unite', 'units', 'unity', 'universal', 'universally', 'universe', 'university', 'univision', 'unix', 'unknowing', 'unknowingly', 'unknown', 'unknowns', 'unleash', 'unless', 'unlicked', 'unlike', 'unlikely', 'unlimited', 'unlimted', 'unlisted', 'unlit', 'unlmited', 'unload', 'unloced', 'unlock', 'unlockable', 'unlockedd', 'unlocker', 'unlocklock', 'unlockness', 'unloqued', 'unlucked', 'unlucky', 'unmanageable', 'unmarked', 'unmatched', 'unmistakably', 'unmitigated', 'unmolested', 'unmounted', 'unmounting', 'unmovable', 'unmute', 'unmutes', 'unnaceptable', 'unnatural', 'unnaturally', 'unnecessarily', 'unnecessary', 'unnecessy', 'unneeded', 'unnerve', 'unninstall', 'unnoticeable', 'unnoticed', 'uno', 'unobstrusive', 'unobtrusive', 'unofficial', 'unolock', 'unopened', 'unpack', 'unpackage', 'unpair', 'unpaired', 'unparallel', 'unparalleled', 'unph', 'unpin', 'unpixelated', 'unpleasant', 'unpleasantly', 'unplease', 'unplug', 'unpolished', 'unpredictable', 'unprofessional', 'unprofitable', 'unprotected', 'unqualified', 'unquantifiable', 'unquestionably', 'unravel', 'unreachable', 'unread', 'unreadable', 'unreal', 'unrealistic', 'unrealistically', 'unreasonable', 'unreasonably', 'unrecieved', 'unrecognizable', 'unrecognized', 'unrecommended', 'unrecoverable', 'unregister', 'unregistered', 'unrelated', 'unreliable', 'unremarkable', 'unremovable', 'unrepairable', 'unrepaired', 'unresolved', 'unresponsive', 'unresponsiveness', 'unrestricted', 'unrivaled', 'unroot', 'unrootable', 'unrooted', 'unrounded', 'unruly', 'unsafe', 'unsafely', 'unsatisfactory', 'unsatisfied', 'unsay', 'unscathed', 'unscheduled', 'unscientific', 'unscratchable', 'unscratched', 'unscrew', 'unscrupulous', 'unseat', 'unsecure', 'unsecured', 'unseen', 'unsent', 'unserviceable', 'unsettle', 'unsharp', 'unsmart', 'unsolicited', 'unsolved', 'unspecified', 'unspectacular', 'unspoken', 'unstable', 'unsteady', 'unstoppable', 'unstuck', 'unsubsidized', 'unsuccessful', 'unsuccessfully', 'unsupported', 'unsure', 'unsurmountable', 'unsurpassed', 'unsurprising', 'unsuspecting', 'untested', 'untextured', 'unthrottled', 'until', 'untill', 'untimely', 'unto', 'untouchable', 'untouched', 'untrained', 'untrue', 'untweaked', 'unusable', 'unusably', 'unused', 'unusuable', 'unusual', 'unusually', 'unususable', 'unveil', 'unvetted', 'unviewable', 'unwanted', 'unwatchable', 'unwelds', 'unwieldy', 'unwilling', 'unwise', 'unwitting', 'unworking', 'unworthy', 'unwrap', 'unyielding', 'uodate', 'up', 'upate', 'upatethe', 'upcoming', 'updatable', 'update', 'updateable', 'updateon', 'updater', 'upfront', 'upgarde', 'upgradable', 'upgrade', 'upgradeability', 'upgradeable', 'upgrage', 'uphill', 'upholstery', 'upload', 'uploader', 'upon', 'upoun', 'upper', 'uppermost', 'uprgraded', 'upright', 'upscale', 'upsell', 'upselling', 'upset', 'upshot', 'upside', 'upsides', 'upsm', 'upstate', 'uptated', 'uptime', 'upto', 'upvlike', 'upward', 'upwards', 'upwith', 'uqe', 'ur', 'urban', 'urbane', 'urbanspoon', 'urge', 'urgency', 'urgent', 'urgently', 'url', 'urrrgh', 'urself', 'uruguay', 'us', 'usa', 'usability', 'usable', 'usado', 'usados', 'usage', 'usages', 'usain', 'usally', 'usaly', 'usar', 'usarlo', 'usb', 'usc', 'uscc', 'usd', 'use', 'useability', 'useable', 'useage', 'usean', 'useful', 'usefull', 'usefullness', 'usefulness', 'useless', 'uselessly', 'user', 'userability', 'userface', 'username', 'users', 'usersl', 'uservoice', 'usim', 'usin', 'uso', 'usp', 'usps', 'usss', 'ust', 'usted', 'ustream', 'usuable', 'usual', 'usually', 'usuario', 'usuarios', 'ut', 'utah', 'utensil', 'utilitarian', 'utilities', 'utility', 'utilizando', 'utilizar', 'utilization', 'utilize', 'utill', 'utmost', 'utms', 'utter', 'utterly', 'utube', 'utubes', 'uuid', 'uupdate', 'uv', 'uverse', 'uvo', 'ux', 'va', 'vac', 'vacation', 'vacumes', 'vacuum', 'vague', 'vaguely', 'vain', 'vaio', 'valencia', 'valet', 'valid', 'validate', 'validation', 'valley', 'valor', 'valuable', 'value', 'van', 'vance', 'vandalize', 'vanilla', 'vanity', 'vantage', 'vape', 'vapid', 'vaporspace', 'variabilidad', 'variability', 'variable', 'variables', 'variant', 'variants', 'varias', 'variation', 'variations', 'varient', 'variety', 'varios', 'various', 'variously', 'vary', 'vast', 'vastly', 'vat', 'vatican', 'vault', 'vaunt', 'vcard', 'vcast', 'vcf', 'vdc', 'vdeo', 've', 'veces', 'vecoming', 'veer', 'veey', 'vega', 'vegas', 'vehicle', 'vehicles', 'vein', 'veitnam', 'veiwing', 'veizon', 'velcro', 'velocidad', 'velvety', 'vendedor', 'vendedores', 'vender', 'vendetta', 'vendido', 'vendiendo', 'vendor', 'vendors', 'venerable', 'venezuela', 'venezuelan', 'vengeance', 'vengence', 'venia', 'venice', 'vent', 'venture', 'venturetm', 'venue', 'venues', 'ver', 'veras', 'verbage', 'verbal', 'verbally', 'verde', 'verdict', 'verge', 'veri', 'verifiable', 'verification', 'verify', 'verision', 'verison', 'verizion', 'verizon', 'verizons', 'verizonwireless', 'verizonwirless', 'veronica', 'verrrrrrryyyyyy', 'verry', 'versa', 'versatil', 'versatile', 'versatility', 'verse', 'versin', 'version', 'versions', 'versoin', 'versus', 'vertical', 'vertically', 'vertices', 'verus', 'very', 'verygood', 'veryyyyyyyyyy', 'ves', 'vesrion', 'vest', 'vet', 'veteran', 'veterans', 'vety', 'vevezuela', 'vevo', 'vexcelente', 'vey', 'vez', 'vga', 'vi', 'via', 'viable', 'vibe', 'viber', 'vibrancy', 'vibrant', 'vibrate', 'vibration', 'vibrations', 'vibrator', 'vice', 'vicinity', 'vicious', 'victim', 'victories', 'victorious', 'victory', 'vid', 'video', 'videocalling', 'videocamera', 'videoes', 'videogames', 'videographer', 'videography', 'videoing', 'videos', 'videotape', 'vidoes', 'vids', 'vie', 'viejo', 'viene', 'vienen', 'vienna', 'vietnam', 'vietnamese', 'view', 'viewability', 'viewable', 'viewer', 'viewers', 'viewfinder', 'viewi', 'viewphone', 'viewpoint', 'vigilant', 'vigor', 'viking', 'vile', 'village', 'villages', 'villain', 'vimeo', 'vincent', 'vine', 'vino', 'vinocon', 'vintage', 'vinyl', 'viola', 'violate', 'violation', 'violence', 'violin', 'viopo', 'vip', 'viper', 'vipre', 'viral', 'virgin', 'virginia', 'virginity', 'virginmobile', 'virginmobiles', 'virgins', 'virgns', 'virtua', 'virtual', 'virtually', 'virtue', 'virus', 'viruses', 'visa', 'visable', 'vise', 'visibility', 'visible', 'visibly', 'vision', 'visions', 'visit', 'visitors', 'visor', 'vista', 'visto', 'visual', 'visualization', 'visually', 'visuals', 'vita', 'vital', 'vius', 'vivd', 'vivid', 'vividly', 'vividness', 'vivivid', 'vivo', 'vivofit', 'viz', 'vizio', 'vkb', 'vlc', 'vlingo', 'vlog', 'vlogging', 'vm', 'vms', 'vnc', 'vnzla', 'vocabulary', 'vocal', 'vocalize', 'vocals', 'vocation', 'voce', 'vodafone', 'vodefone', 'vogue', 'voice', 'voicemail', 'voicemails', 'void', 'voila', 'voip', 'vol', 'volt', 'voltage', 'voltages', 'volte', 'volts', 'volume', 'volumen', 'volumes', 'volumn', 'voluntarily', 'volunteer', 'volver', 'vonage', 'vone', 'voodoo', 'vorbis', 'vortex', 'vote', 'voters', 'vouch', 'vow', 'voxer', 'voyager', 'voyeur', 'vp', 'vpn', 'vpns', 'vr', 'vram', 'vry', 'vrz', 'vs', 'vsco', 'vshare', 'vt', 'vtm', 'vu', 'vudu', 'vulcanize', 'vulgar', 'vulnerabilities', 'vulnerability', 'vulnerable', 'vvm', 'vw', 'vx', 'vz', 'vzla', 'vzn', 'vzw', 'wa', 'waaaaaaaaaaaay', 'waaaaaaaaaaay', 'waaaaaaay', 'waaaaaay', 'waaaaay', 'waaaay', 'waaaayyyy', 'waaay', 'waawee', 'waay', 'wack', 'wacked', 'wacky', 'wacom', 'wad', 'wade', 'wafer', 'waffle', 'wag', 'wagon', 'wah', 'wain', 'waist', 'waistband', 'waisted', 'wait', 'waiteing', 'waiter', 'waitress', 'waive', 'wake', 'waken', 'wakeup', 'wal', 'wala', 'walgreens', 'walk', 'walkie', 'walkman', 'walkmans', 'walkthrough', 'walkthroughs', 'wall', 'wallah', 'wallet', 'wallets', 'wallmart', 'wallpaper', 'wally', 'walmart', 'walnart', 'walter', 'waltz', 'walway', 'wam', 'wan', 'wana', 'wanam', 'wander', 'wang', 'wannabe', 'want', 'waooooo', 'wap', 'war', 'waranty', 'warbirds', 'warbly', 'ward', 'ware', 'warehouse', 'warenty', 'warm', 'warmer', 'warmly', 'warmongering', 'warmth', 'warn', 'warner', 'warp', 'warrant', 'warrantee', 'warrantied', 'warranties', 'warrantly', 'warranty', 'warrenty', 'warrior', 'wart', 'wary', 'wash', 'washer', 'washingtn', 'washington', 'washingtons', 'washinton', 'washout', 'washy', 'wasn', 'wasnt', 'wast', 'waste', 'waster', 'wasteware', 'wastw', 'wat', 'watch', 'watchable', 'watchdog', 'watcher', 'watchers', 'watchful', 'watchon', 'watchout', 'water', 'waterpoofing', 'waterprof', 'waterproof', 'waterproofness', 'watersport', 'watsap', 'watsapp', 'watt', 'wattage', 'wattpad', 'watzapp', 'wav', 'wave', 'wavecontrol', 'waver', 'wavy', 'wax', 'way', 'wayne', 'ways', 'wayside', 'wayy', 'wayyy', 'wayyyyy', 'wayyyyyy', 'waz', 'waze', 'wazoo', 'wb', 'wbb', 'wcdma', 'wdcma', 'we', 'weak', 'weaken', 'weaker', 'weakest', 'weakling', 'weakness', 'weaknesses', 'wealth', 'wealther', 'wealthy', 'wean', 'weapon', 'wear', 'wearable', 'wearer', 'weary', 'weasle', 'weather', 'weatherbug', 'weatherkitty', 'weatherstation', 'weave', 'web', 'webbrowser', 'webby', 'webcam', 'webex', 'webmail', 'webnews', 'webos', 'webpage', 'webpages', 'webroot', 'website', 'websites', 'websurfing', 'wechat', 'wed', 'wedge', 'wednesday', 'wee', 'weed', 'week', 'weekdays', 'weekend', 'weekender', 'weekly', 'weeks', 'weensy', 'weep', 'wehad', 'weigh', 'weight', 'weighty', 'weird', 'weirded', 'weirder', 'weirdest', 'weirdly', 'weirdness', 'weired', 'weither', 'wel', 'welbuilt', 'welcome', 'weld', 'well', 'wellness', 'wellsfargo', 'wen', 'weng', 'wep', 'weren', 'werenika', 'werth', 'wery', 'west', 'western', 'westinghouse', 'westone', 'wet', 'wether', 'weve', 'wfm', 'wha', 'whaaaaaat', 'whaaat', 'whack', 'whacky', 'whala', 'wham', 'whant', 'wharehouse', 'whastaap', 'what', 'whatapp', 'whaterer', 'whatev', 'whatever', 'whathave', 'whathaveyou', 'whatn', 'whatnot', 'whats', 'whatsap', 'whatsapp', 'whatso', 'whatsoever', 'whatsup', 'whatt', 'whe', 'wheat', 'wheel', 'wheelchair', 'wheenever', 'whem', 'when', 'whenever', 'whenitappears', 'whens', 'wher', 'where', 'whereabouts', 'whereas', 'whereever', 'wherein', 'wheres', 'whereupon', 'wherever', 'whetehr', 'whether', 'whew', 'which', 'whichever', 'while', 'whilst', 'whim', 'whine', 'whiners', 'whip', 'whir', 'whirl', 'whirlpool', 'whirr', 'whiskey', 'whisltes', 'whisper', 'whistle', 'whit', 'white', 'whiteboard', 'whiteboards', 'whitelisted', 'whitelisting', 'whiteout', 'whitepaper', 'whiter', 'whiterock', 'whitespace', 'whithout', 'whiz', 'who', 'whoa', 'whoda', 'whoever', 'whole', 'wholehearted', 'wholeheartedly', 'wholesale', 'wholly', 'whom', 'whomever', 'whomp', 'whoop', 'whoopie', 'whoopy', 'whop', 'whopper', 'whore', 'whorehouse', 'whos', 'whose', 'whthin', 'whuch', 'why', 'whyyy', 'whyyyy', 'wi', 'wich', 'wicked', 'wickedness', 'wide', 'widely', 'widen', 'wider', 'widescreen', 'widespread', 'widest', 'widget', 'widgets', 'widnows', 'width', 'wield', 'wierd', 'wif', 'wife', 'wifes', 'wifey', 'wifi', 'wifii', 'wigets', 'wiggle', 'wiggly', 'wigit', 'wigle', 'wih', 'wiht', 'wiil', 'wiill', 'wikepedia', 'wiki', 'wikipedia', 'wil', 'wild', 'wilde', 'wildest', 'wildfire', 'wildlife', 'wildly', 'wile', 'will', 'willingly', 'willingness', 'willnot', 'willorder', 'willy', 'wilson', 'wimax', 'wimaxx', 'wimping', 'wimpy', 'win', 'winamp', 'wind', 'winderful', 'window', 'windowed', 'windowing', 'windowless', 'windowphone', 'windows', 'windowscentral', 'windowslive', 'windowsphone', 'windoze', 'windscreen', 'windshield', 'windstream', 'windsurf', 'wine', 'wing', 'wink', 'winkle', 'winmo', 'winner', 'winners', 'winpho', 'winphone', 'wintec', 'winter', 'wip', 'wipe', 'wiper', 'wipping', 'wire', 'wireless', 'wirelessdiscount', 'wirelesses', 'wirelessly', 'wirelessmaxinc', 'wirelessnow', 'wirelesstechusa', 'wireovia', 'wirh', 'wirless', 'wisconsin', 'wisdom', 'wise', 'wisely', 'wiser', 'wish', 'wishe', 'wishi', 'wishy', 'wit', 'witch', 'with', 'withdrawal', 'withe', 'withhold', 'withi', 'within', 'withing', 'withit', 'withn', 'withone', 'without', 'withstand', 'witht', 'withthin', 'withthis', 'withvarrival', 'witih', 'witn', 'witness', 'witt', 'wittl', 'witty', 'wive', 'wiz', 'wizard', 'wizards', 'wks', 'wlan', 'wld', 'wm', 'wma', 'wmv', 'wndows', 'wo', 'woao', 'wobble', 'wobbly', 'woeful', 'woefully', 'woiuld', 'woked', 'wolf', 'wolfram', 'wolfson', 'wolves', 'woman', 'women', 'wondeful', 'wonder', 'wonderfu', 'wonderful', 'wonderfull', 'wonderfully', 'wonderfuly', 'wong', 'wonkiness', 'wonking', 'wonky', 'wont', 'woo', 'wood', 'wooded', 'wooden', 'woodgrain', 'woods', 'woodwinds', 'woofer', 'woohoo', 'wooo', 'woooohooo', 'woot', 'woow', 'word', 'wordament', 'wordfeud', 'wordflow', 'wordpress', 'wordwide', 'worest', 'work', 'workability', 'workable', 'workaround', 'workarounds', 'workday', 'worke', 'worker', 'workers', 'workhorse', 'workload', 'workmanlike', 'workmanship', 'workout', 'workouts', 'workplace', 'worksfine', 'worksgood', 'workweek', 'worky', 'world', 'worldmate', 'worlds', 'worldwide', 'worldwilde', 'worm', 'worrisome', 'worry', 'worryingly', 'worse', 'worsen', 'worship', 'worst', 'wort', 'worth', 'worthless', 'worthlesss', 'worthwhile', 'worthy', 'worx', 'woth', 'woud', 'woudn', 'woukd', 'would', 'woulda', 'wouldent', 'wouldn', 'wouldnt', 'wouldv', 'wouldve', 'wound', 'wounderful', 'wow', 'wowwww', 'wowwwwww', 'wp', 'wpa', 'wpc', 'wpcentral', 'wpooowwwwwwww', 'wps', 'wpukd', 'wqhd', 'wrangle', 'wrap', 'wrapper', 'wrappings', 'wreak', 'wreck', 'wrench', 'wrestle', 'wretched', 'wrilling', 'wring', 'wrinkle', 'wrist', 'wristlet', 'wrists', 'write', 'writer', 'writers', 'wrked', 'wrong', 'wrongfully', 'wrongly', 'ws', 'wsj', 'wsop', 'wt', 'wtcrap', 'wtf', 'wth', 'wtih', 'wud', 'wull', 'wunderground', 'wunderlist', 'wuth', 'wv', 'wvga', 'ww', 'wwaste', 'wwii', 'www', 'wxga', 'wxhxd', 'wy', 'wyoming', 'wysiwyg', 'xa', 'xbmc', 'xbox', 'xboxone', 'xcom', 'xd', 'xda', 'xdabbeb', 'xdadeveloper', 'xdadevelopers', 'xe', 'xenon', 'xfer', 'xfinity', 'xiaomi', 'xl', 'xls', 'xlte', 'xm', 'xmas', 'xml', 'xoom', 'xoxo', 'xp', 'xperia', 'xperias', 'xpheria', 'xplorer', 'xposed', 'xpression', 'xpressmusic', 'xpria', 'xprodock', 'xps', 'xr', 'xreality', 'xsp', 'xt', 'xtra', 'xtreme', 'xuaomi', 'xvid', 'xxl', 'xxx', 'xxxx', 'xxxxx', 'xxxxxx', 'xxxxxxxx', 'xxxxxxxxxxxxxxxxxxxxxxxxxxxxxxxxxxxxxxxxxxxxxxxxxxxxxxxxxxxxxxxxxxxxxxxxxxxxxxxxxxxxxxxxxxxxxxxxxxxxxxxxxxxxxxxxxxxx', 'ya', 'yaaaaas', 'yaay', 'yada', 'yah', 'yahoo', 'yak', 'yall', 'yammer', 'yank', 'yap', 'yard', 'yards', 'yars', 'yawn', 'yay', 'yayyy', 'yea', 'yeah', 'yeahh', 'yeahhhh', 'year', 'yearly', 'yearn', 'years', 'yeas', 'yeay', 'yeeeaaaaa', 'yeehaw', 'yell', 'yellow', 'yellower', 'yellowish', 'yelp', 'yemen', 'yep', 'yer', 'yes', 'yesoo', 'yess', 'yest', 'yesterday', 'yesterdays', 'yesteryear', 'yesteryears', 'yet', 'yhen', 'yield', 'yik', 'yikes', 'yip', 'yippie', 'yippy', 'ymmv', 'yo', 'yoga', 'yogi', 'yogurt', 'yoir', 'yoou', 'yore', 'york', 'yota', 'you', 'youd', 'youll', 'youmail', 'young', 'younger', 'youngest', 'youngster', 'youngstown', 'your', 'youre', 'yourgoogleaccountusername', 'yourmoney', 'yours', 'yourself', 'yourselves', 'yousendit', 'youth', 'youtoube', 'youtube', 'youtubehd', 'youtubes', 'youve', 'youversion', 'youwant', 'yoy', 'yoytube', 'yp', 'ypmobile', 'ypu', 'yr', 'yrs', 'yt', 'yu', 'yuck', 'yuckkkkkk', 'yuja', 'yuk', 'yummy', 'yup', 'yurbuds', 'yy', 'yyyyyyyes', 'zagg', 'zambia', 'zap', 'zds', 'zealand', 'zealous', 'zebra', 'zed', 'zedge', 'zeds', 'zeiss', 'zen', 'zenfone', 'zenfones', 'zenmotion', 'zenphone', 'zentalk', 'zenui', 'zenus', 'zenwatch', 'zero', 'zerolemmon', 'zerolemon', 'zilch', 'zillion', 'zillions', 'zilutec', 'zimbabwe', 'zing', 'zinio', 'zip', 'zippier', 'zippy', 'zl', 'zmax', 'zodium', 'zoe', 'zoho', 'zombie', 'zombies', 'zone', 'zoodle', 'zoom', 'zte', 'zuk', 'zune', 'zunehd', 'zunepass', 'zunes', 'zvoltz', 'zxcvbnm', 'zynga', 'zyxel', 'zzz']\n"
          ],
          "name": "stdout"
        }
      ]
    },
    {
      "cell_type": "code",
      "metadata": {
        "id": "Ug5Epxp6wVSi"
      },
      "source": [
        "#extracting positive and negative keywords \n",
        "positive = df[df['review_sentiment_OHE'] == 1]\n",
        "negative = df[df['review_sentiment_OHE'] == 0]"
      ],
      "execution_count": 24,
      "outputs": []
    },
    {
      "cell_type": "code",
      "metadata": {
        "id": "C_hrzrlrwVSj"
      },
      "source": [
        "def plot_word_frequency(words, top_n=10):\n",
        "    word_freq = FreqDist(words)\n",
        "    labels = [element[0] for element in word_freq.most_common(top_n)]\n",
        "    counts = [element[1] for element in word_freq.most_common(top_n)]\n",
        "    plot = sns.barplot(labels, counts)\n",
        "    plot.set_xticklabels(plot.get_xticklabels(),rotation=45)\n",
        "    return plot"
      ],
      "execution_count": 25,
      "outputs": []
    },
    {
      "cell_type": "code",
      "metadata": {
        "colab": {
          "base_uri": "https://localhost:8080/",
          "height": 401
        },
        "id": "5hSGKUwAwVSj",
        "outputId": "1e17d4e8-a014-4577-b5c8-faf73400e4b1"
      },
      "source": [
        "\n",
        "plot_word_frequency(messages, 15)"
      ],
      "execution_count": 26,
      "outputs": [
        {
          "output_type": "stream",
          "text": [
            "/usr/local/lib/python3.7/dist-packages/seaborn/_decorators.py:43: FutureWarning: Pass the following variables as keyword args: x, y. From version 0.12, the only valid positional argument will be `data`, and passing other arguments without an explicit keyword will result in an error or misinterpretation.\n",
            "  FutureWarning\n"
          ],
          "name": "stderr"
        },
        {
          "output_type": "execute_result",
          "data": {
            "text/plain": [
              "<matplotlib.axes._subplots.AxesSubplot at 0x7ffae09bdc90>"
            ]
          },
          "metadata": {
            "tags": []
          },
          "execution_count": 26
        },
        {
          "output_type": "display_data",
          "data": {
            "image/png": "[encoded data removed]",
            "text/plain": [
              "<Figure size 432x288 with 1 Axes>"
            ]
          },
          "metadata": {
            "tags": [],
            "needs_background": "light"
          }
        }
      ]
    },
    {
      "cell_type": "code",
      "metadata": {
        "id": "XpuoGyRTwVSj"
      },
      "source": [
        "\n",
        "\n",
        "pos_words_upgrad=pd.read_csv(r'/content/drive/MyDrive/CAPSTONE_DATA/pos_words.txt', sep=\" \", header = None)\n",
        "pos_words_upgrad=pos_words_upgrad[0].to_list()\n",
        "neg_words_upgrad=pd.read_csv(r'/content/drive/MyDrive/CAPSTONE_DATA/neg_words.txt', sep=\" \", header = None)\n",
        "neg_words_upgrad=neg_words_upgrad[0].to_list()\n"
      ],
      "execution_count": 27,
      "outputs": []
    },
    {
      "cell_type": "code",
      "metadata": {
        "id": "PftXsAyBwVSj"
      },
      "source": [
        "# for word in negative:\n",
        "#negative.columns\n",
        "neg_word_list=[]\n",
        "pos_word_list=[]\n",
        "neu_word_list=[]\n",
        "\n",
        "for i in negative['CleanText']: \n",
        "  if i in neg_words_upgrad:\n",
        "    neg_word_list.append(i)\n",
        "  else:\n",
        "    neu_word_list.append(i)\n",
        "\n",
        "for p in positive['CleanText']: \n",
        "  if p in pos_words_upgrad:\n",
        "    pos_word_list.append(p)\n",
        "  else:\n",
        "    neu_word_list.append(p)\n",
        "    "
      ],
      "execution_count": 28,
      "outputs": []
    },
    {
      "cell_type": "code",
      "metadata": {
        "colab": {
          "base_uri": "https://localhost:8080/"
        },
        "id": "vYUw6vzdwVSj",
        "outputId": "2bf0d086-780b-45db-db9e-68d104718f22"
      },
      "source": [
        "positive.summary=positive.summary.astype('str')\n",
        "negative.summary=negative.summary.astype('str')"
      ],
      "execution_count": 29,
      "outputs": [
        {
          "output_type": "stream",
          "text": [
            "/usr/local/lib/python3.7/dist-packages/pandas/core/generic.py:5170: SettingWithCopyWarning: \n",
            "A value is trying to be set on a copy of a slice from a DataFrame.\n",
            "Try using .loc[row_indexer,col_indexer] = value instead\n",
            "\n",
            "See the caveats in the documentation: https://pandas.pydata.org/pandas-docs/stable/user_guide/indexing.html#returning-a-view-versus-a-copy\n",
            "  self[name] = value\n"
          ],
          "name": "stderr"
        }
      ]
    },
    {
      "cell_type": "code",
      "metadata": {
        "colab": {
          "base_uri": "https://localhost:8080/",
          "height": 198
        },
        "id": "fTxHa1AxwVSj",
        "outputId": "a83b854e-aa8b-41a3-d4bd-c97b79094d7a"
      },
      "source": [
        "# Imports\n",
        "\n",
        "#positive words \n",
        "\n",
        "import matplotlib.pyplot as plt\n",
        "import seaborn as sns\n",
        "color = sns.color_palette()\n",
        "%matplotlib inline\n",
        "from wordcloud import WordCloud, STOPWORDS, ImageColorGenerator\n",
        "pos = \" \".join(review for review in positive.CleanText)\n",
        "stop_wrds_upgrad.append('phone')\n",
        "#stop_wrds_upgrad.append('not')\n",
        "wordcloud2 = WordCloud(stopwords=stop_wrds_upgrad).generate(pos)\n",
        "plt.imshow(wordcloud2, interpolation='bilinear')\n",
        "plt.axis(\"off\")\n",
        "plt.show()"
      ],
      "execution_count": 30,
      "outputs": [
        {
          "output_type": "display_data",
          "data": {
            "image/png": "[encoded data removed]",
            "text/plain": [
              "<Figure size 432x288 with 1 Axes>"
            ]
          },
          "metadata": {
            "tags": [],
            "needs_background": "light"
          }
        }
      ]
    },
    {
      "cell_type": "code",
      "metadata": {
        "colab": {
          "base_uri": "https://localhost:8080/",
          "height": 198
        },
        "id": "e9p6dxlkwVSj",
        "outputId": "39f4ccdc-9298-4092-c14b-45ac0d2c6eea"
      },
      "source": [
        "\n",
        "#negative words \n",
        "neg = \" \".join(review for review in negative.CleanText)\n",
        "wordcloud3 = WordCloud(stopwords=stop_wrds_upgrad).generate(neg)\n",
        "plt.imshow(wordcloud3, interpolation='bilinear')\n",
        "plt.axis(\"off\")\n",
        "plt.show()"
      ],
      "execution_count": 31,
      "outputs": [
        {
          "output_type": "display_data",
          "data": {
            "image/png": "[encoded data removed]",
            "text/plain": [
              "<Figure size 432x288 with 1 Axes>"
            ]
          },
          "metadata": {
            "tags": [],
            "needs_background": "light"
          }
        }
      ]
    },
    {
      "cell_type": "code",
      "metadata": {
        "id": "xh9fVIykwVSj",
        "colab": {
          "base_uri": "https://localhost:8080/"
        },
        "outputId": "54e12fe7-e835-4026-d434-0465aad04ec6"
      },
      "source": [
        "# vocab size\n",
        "len(vectorizer.vocabulary_.keys())"
      ],
      "execution_count": 32,
      "outputs": [
        {
          "output_type": "execute_result",
          "data": {
            "text/plain": [
              "19689"
            ]
          },
          "metadata": {
            "tags": []
          },
          "execution_count": 32
        }
      ]
    },
    {
      "cell_type": "code",
      "metadata": {
        "id": "j4PPQfXGwVSj",
        "colab": {
          "base_uri": "https://localhost:8080/"
        },
        "outputId": "c0131094-6ebe-4d85-f8c0-5dcbd887e6db"
      },
      "source": [
        "df.columns"
      ],
      "execution_count": 33,
      "outputs": [
        {
          "output_type": "execute_result",
          "data": {
            "text/plain": [
              "Index(['Unnamed: 0', 'overall', 'verified', 'reviewerID', 'asin',\n",
              "       'reviewerName', 'reviewText', 'summary', 'Date&Time', 'fit', 'title',\n",
              "       'also_buy', 'brand', 'also_view', 'details', 'main_cat', 'price',\n",
              "       'no_of_viewed_items', 'category_edit', 'review_sentiment_OHE',\n",
              "       'CleanText'],\n",
              "      dtype='object')"
            ]
          },
          "metadata": {
            "tags": []
          },
          "execution_count": 33
        }
      ]
    },
    {
      "cell_type": "code",
      "metadata": {
        "id": "jLdbSyn5wVSk",
        "colab": {
          "base_uri": "https://localhost:8080/"
        },
        "outputId": "ee825542-37db-4a0e-997f-b866a4efa567"
      },
      "source": [
        "# convert to X and y\n",
        "X = df.CleanText\n",
        "y = df.review_sentiment_OHE\n",
        "print(X.shape)\n",
        "print(y.shape)"
      ],
      "execution_count": 34,
      "outputs": [
        {
          "output_type": "stream",
          "text": [
            "(28252,)\n",
            "(28252,)\n"
          ],
          "name": "stdout"
        }
      ]
    },
    {
      "cell_type": "code",
      "metadata": {
        "id": "FOOVMS-FwVSk",
        "colab": {
          "base_uri": "https://localhost:8080/"
        },
        "outputId": "981d8678-9c1d-468d-a34d-f7658ca354d5"
      },
      "source": [
        "\n",
        "# splitting into test and train\n",
        "from sklearn.model_selection  import train_test_split\n",
        "X_train, X_test, y_train, y_test = train_test_split(X, y, random_state=1)\n",
        "X_train"
      ],
      "execution_count": 35,
      "outputs": [
        {
          "output_type": "execute_result",
          "data": {
            "text/plain": [
              "14492    this is my first nexus but i been using androi...\n",
              "8018     wow what a great pocket computer also a phone ...\n",
              "10791                                      good cellphone \n",
              "558                                              excelente\n",
              "21076    update to my last review the reason why i out ...\n",
              "                               ...                        \n",
              "10955    the battery heats a lot suddenly also the cell...\n",
              "17289    don remove back for battery or camera will fal...\n",
              "5192                                            i love it \n",
              "12172    let me just start out by saying that this is p...\n",
              "235                    faster than i expected thanks a lot\n",
              "Name: CleanText, Length: 21189, dtype: object"
            ]
          },
          "metadata": {
            "tags": []
          },
          "execution_count": 35
        }
      ]
    },
    {
      "cell_type": "code",
      "metadata": {
        "id": "P5KqDPs92CV-",
        "colab": {
          "base_uri": "https://localhost:8080/"
        },
        "outputId": "85fb1bb1-19d7-49dc-b7bb-9ee555e42f27"
      },
      "source": [
        "from imblearn import over_sampling\n",
        "ros = over_sampling.RandomOverSampler(random_state=0)\n",
        "X_train, y_train = ros.fit_resample(pd.DataFrame(X_train), pd.Series(y_train))"
      ],
      "execution_count": 36,
      "outputs": [
        {
          "output_type": "stream",
          "text": [
            "/usr/local/lib/python3.7/dist-packages/sklearn/externals/six.py:31: FutureWarning: The module is deprecated in version 0.21 and will be removed in version 0.23 since we've dropped support for Python 2.7. Please rely on the official version of six (https://pypi.org/project/six/).\n",
            "  \"(https://pypi.org/project/six/).\", FutureWarning)\n",
            "/usr/local/lib/python3.7/dist-packages/sklearn/utils/deprecation.py:144: FutureWarning: The sklearn.neighbors.base module is  deprecated in version 0.22 and will be removed in version 0.24. The corresponding classes / functions should instead be imported from sklearn.neighbors. Anything that cannot be imported from sklearn.neighbors is now part of the private API.\n",
            "  warnings.warn(message, FutureWarning)\n",
            "/usr/local/lib/python3.7/dist-packages/sklearn/utils/deprecation.py:87: FutureWarning: Function safe_indexing is deprecated; safe_indexing is deprecated in version 0.22 and will be removed in version 0.24.\n",
            "  warnings.warn(msg, category=FutureWarning)\n"
          ],
          "name": "stderr"
        }
      ]
    },
    {
      "cell_type": "code",
      "metadata": {
        "id": "6lsX_TrCwVSk",
        "colab": {
          "base_uri": "https://localhost:8080/"
        },
        "outputId": "a8c41f31-1ee4-4c09-c095-54b517201ead"
      },
      "source": [
        "pd.Series(y_train)"
      ],
      "execution_count": 37,
      "outputs": [
        {
          "output_type": "execute_result",
          "data": {
            "text/plain": [
              "0        1\n",
              "1        1\n",
              "2        1\n",
              "3        0\n",
              "4        1\n",
              "        ..\n",
              "32033    0\n",
              "32034    0\n",
              "32035    0\n",
              "32036    0\n",
              "32037    0\n",
              "Length: 32038, dtype: int64"
            ]
          },
          "metadata": {
            "tags": []
          },
          "execution_count": 37
        }
      ]
    },
    {
      "cell_type": "code",
      "metadata": {
        "colab": {
          "base_uri": "https://localhost:8080/"
        },
        "id": "_77oHDX29Iqo",
        "outputId": "1652a26e-b67d-48fe-80aa-8ec9dadb3d0c"
      },
      "source": [
        "X_train.astype('str')"
      ],
      "execution_count": 38,
      "outputs": [
        {
          "output_type": "execute_result",
          "data": {
            "text/plain": [
              "array([['this is my first nexus but i been using android for a long time usually with cyanogenmod the best part about this is of course google software it straight up android as google intended it no stupid touchwiz or sense or whatever lg calls their ui it gets updates very quickly including monthly security patches the phone is zippy and overall i enjoy it the screen is nice the fingerprint sensor works perfectly every time instantly the location on the middle of the back is perfect my gripes the top and bottom bezels are huge if i wanted obnoxiously large bezels i could just buy an apple product doesn really bother me but i wish they done a better job here the speakers are good quality but they suffer from being pretty low volume overall i have this fully cranked up in my car and can barely hear it sometimes it got a rear only a mother could love easily solved with a case the camera sometimes launches instantly with a double click of the power button other times rarely it just hangs compared to an or it really really slow in the camera department i hate google inexplicable vendetta against microsd cards yeah i bought the gigantic version this thing is huge there plenty of room for it i get it use the cloud yeah that doesn help me listen to music or watch a movie on a hour flight '],\n",
              "       ['wow what a great pocket computer also a phone the screen is fantastic and everything runs very fast it came unlocked as i had hoped and i simply registered to my metropcs account no problem at all it a little bigger than my last phone so i have to get used to that but otherwise i love it '],\n",
              "       ['good cellphone '],\n",
              "       ...,\n",
              "       ['exelente'],\n",
              "       ['slow guess you get what you pay for '],\n",
              "       ['my bad i guess thought window for return was days bought it july but did not use it till mid aug because was working on getting second line to use as dual sim it worked for about weeks before it stop sending calls just receiving calls and in out text i spent another week trouble shooting to find that it is an issue with the hardware of the phone went to replace it because i liked it and found out return time was just over days hmmm guess that why it was on sale feels like a churn burn sorry ']],\n",
              "      dtype='<U25820')"
            ]
          },
          "metadata": {
            "tags": []
          },
          "execution_count": 38
        }
      ]
    },
    {
      "cell_type": "code",
      "metadata": {
        "id": "ZL-pHvxfvBS-"
      },
      "source": [
        "X_train_transformed = vectorizer.transform(X_train.ravel())\n",
        "X_test_transformed = vectorizer.transform(X_test)\n"
      ],
      "execution_count": 39,
      "outputs": []
    },
    {
      "cell_type": "code",
      "metadata": {
        "colab": {
          "base_uri": "https://localhost:8080/"
        },
        "id": "9uwJuuemvIeG",
        "outputId": "f137ee32-08c7-4d8a-b066-693dc3a6b30f"
      },
      "source": [
        "X_train_transformed"
      ],
      "execution_count": 40,
      "outputs": [
        {
          "output_type": "execute_result",
          "data": {
            "text/plain": [
              "<32038x19689 sparse matrix of type '<class 'numpy.float64'>'\n",
              "\twith 1008676 stored elements in Compressed Sparse Row format>"
            ]
          },
          "metadata": {
            "tags": []
          },
          "execution_count": 40
        }
      ]
    },
    {
      "cell_type": "code",
      "metadata": {
        "id": "IEHP3EP1wVSk"
      },
      "source": [
        "#building and evaluating the model \n",
        "# training the NB model and making predictions\n",
        "from sklearn.naive_bayes import MultinomialNB\n",
        "mnb = MultinomialNB()\n",
        "\n",
        "# fit\n",
        "mnb.fit(X_train_transformed,y_train)\n",
        "\n",
        "# predict class\n",
        "y_pred_class = mnb.predict(X_test_transformed)\n",
        "\n",
        "# predict probabilities\n",
        "y_pred_proba = mnb.predict_proba(X_test_transformed)\n"
      ],
      "execution_count": 41,
      "outputs": []
    },
    {
      "cell_type": "code",
      "metadata": {
        "id": "nvrkgpQQwVSk",
        "colab": {
          "base_uri": "https://localhost:8080/"
        },
        "outputId": "ce0a6b2d-de39-4f31-b505-0015a17a8417"
      },
      "source": [
        "mnb"
      ],
      "execution_count": 42,
      "outputs": [
        {
          "output_type": "execute_result",
          "data": {
            "text/plain": [
              "MultinomialNB(alpha=1.0, class_prior=None, fit_prior=True)"
            ]
          },
          "metadata": {
            "tags": []
          },
          "execution_count": 42
        }
      ]
    },
    {
      "cell_type": "code",
      "metadata": {
        "id": "4e27oOtawVSk",
        "colab": {
          "base_uri": "https://localhost:8080/"
        },
        "outputId": "a6d0a3e2-cb83-4396-a824-4b8ea7a2726f"
      },
      "source": [
        "#evaluating the model \n",
        "\n",
        "# printing the overall accuracy\n",
        "from sklearn import metrics\n",
        "metrics.accuracy_score(y_test, y_pred_class)"
      ],
      "execution_count": 43,
      "outputs": [
        {
          "output_type": "execute_result",
          "data": {
            "text/plain": [
              "0.8889990089197225"
            ]
          },
          "metadata": {
            "tags": []
          },
          "execution_count": 43
        }
      ]
    },
    {
      "cell_type": "code",
      "metadata": {
        "id": "1HfMo_X7wVSk",
        "colab": {
          "base_uri": "https://localhost:8080/"
        },
        "outputId": "1fbe22ab-06c9-4afd-9c3f-21909a75e79c"
      },
      "source": [
        "\n",
        "metrics.confusion_matrix(y_test, y_pred_class)\n"
      ],
      "execution_count": 44,
      "outputs": [
        {
          "output_type": "execute_result",
          "data": {
            "text/plain": [
              "array([[1090,  582],\n",
              "       [ 202, 5189]])"
            ]
          },
          "metadata": {
            "tags": []
          },
          "execution_count": 44
        }
      ]
    },
    {
      "cell_type": "code",
      "metadata": {
        "id": "aqPTF2GWwVSk",
        "colab": {
          "base_uri": "https://localhost:8080/"
        },
        "outputId": "eb734747-7917-46d5-de84-efd887e9fafb"
      },
      "source": [
        "confusion = metrics.confusion_matrix(y_test, y_pred_class)\n",
        "print(confusion)\n",
        "TN = confusion[0, 0]\n",
        "FP = confusion[0, 1]\n",
        "FN = confusion[1, 0]\n",
        "TP = confusion[1, 1]"
      ],
      "execution_count": 45,
      "outputs": [
        {
          "output_type": "stream",
          "text": [
            "[[1090  582]\n",
            " [ 202 5189]]\n"
          ],
          "name": "stdout"
        }
      ]
    },
    {
      "cell_type": "code",
      "metadata": {
        "colab": {
          "base_uri": "https://localhost:8080/"
        },
        "id": "1ZwCG4QgvyRU",
        "outputId": "b1d38de2-6fa9-4f5c-ed3a-9f8dba6d5dc6"
      },
      "source": [
        "sensitivity = TP / float(FN + TP)\n",
        "print(\"sensitivity\",sensitivity)"
      ],
      "execution_count": 46,
      "outputs": [
        {
          "output_type": "stream",
          "text": [
            "sensitivity 0.9625301428306436\n"
          ],
          "name": "stdout"
        }
      ]
    },
    {
      "cell_type": "code",
      "metadata": {
        "colab": {
          "base_uri": "https://localhost:8080/"
        },
        "id": "xvKx-yE2v0lL",
        "outputId": "ce9734ec-4193-4838-fa67-ca57d5382001"
      },
      "source": [
        "specificity = TN / float(TN + FP)\n",
        "print(\"specificity\",specificity)"
      ],
      "execution_count": 47,
      "outputs": [
        {
          "output_type": "stream",
          "text": [
            "specificity 0.6519138755980861\n"
          ],
          "name": "stdout"
        }
      ]
    },
    {
      "cell_type": "code",
      "metadata": {
        "colab": {
          "base_uri": "https://localhost:8080/"
        },
        "id": "xgDKnnPCv3w1",
        "outputId": "ab48b380-25c4-4e4b-b222-40c7764e106d"
      },
      "source": [
        "precision = TP / float(TP + FP)\n",
        "print(\"precision\",precision)\n",
        "print(metrics.precision_score(y_test, y_pred_class))"
      ],
      "execution_count": 48,
      "outputs": [
        {
          "output_type": "stream",
          "text": [
            "precision 0.8991509270490383\n",
            "0.8991509270490383\n"
          ],
          "name": "stdout"
        }
      ]
    },
    {
      "cell_type": "code",
      "metadata": {
        "colab": {
          "base_uri": "https://localhost:8080/"
        },
        "id": "XdXctgZTv7kD",
        "outputId": "6adf5bd0-262a-4888-a60c-53b65be4181e"
      },
      "source": [
        "print(\"precision\",precision)\n",
        "print(\"PRECISION SCORE :\",metrics.precision_score(y_test, y_pred_class))\n",
        "print(\"RECALL SCORE :\", metrics.recall_score(y_test, y_pred_class))\n",
        "print(\"F1 SCORE :\",metrics.f1_score(y_test, y_pred_class))"
      ],
      "execution_count": 49,
      "outputs": [
        {
          "output_type": "stream",
          "text": [
            "precision 0.8991509270490383\n",
            "PRECISION SCORE : 0.8991509270490383\n",
            "RECALL SCORE : 0.9625301428306436\n",
            "F1 SCORE : 0.9297616914531447\n"
          ],
          "name": "stdout"
        }
      ]
    },
    {
      "cell_type": "code",
      "metadata": {
        "id": "VIAnbrAzwAZt"
      },
      "source": [
        "# creating an ROC curve\n",
        "from sklearn.metrics import confusion_matrix as sk_confusion_matrix\n",
        "from sklearn.metrics import roc_curve, auc\n",
        "import matplotlib.pyplot as plt\n",
        "\n",
        "false_positive_rate, true_positive_rate, thresholds = roc_curve(y_test, y_pred_proba[:,1])\n",
        "roc_auc = auc(false_positive_rate, true_positive_rate)"
      ],
      "execution_count": 50,
      "outputs": []
    },
    {
      "cell_type": "code",
      "metadata": {
        "colab": {
          "base_uri": "https://localhost:8080/"
        },
        "id": "PN32LMkmwB79",
        "outputId": "13c09f8c-ccbd-4f9e-b431-3e7979a86190"
      },
      "source": [
        "print (roc_auc)"
      ],
      "execution_count": 51,
      "outputs": [
        {
          "output_type": "stream",
          "text": [
            "0.9438639425624312\n"
          ],
          "name": "stdout"
        }
      ]
    },
    {
      "cell_type": "code",
      "metadata": {
        "colab": {
          "base_uri": "https://localhost:8080/",
          "height": 419
        },
        "id": "vT2rUrKbwKJE",
        "outputId": "b54f1291-1d4d-4dcc-f32a-867bf6dc6f3c"
      },
      "source": [
        "# matrix of thresholds, tpr, fpr\n",
        "pd.DataFrame({'Threshold': thresholds, \n",
        "              'TPR': true_positive_rate, \n",
        "              'FPR':false_positive_rate\n",
        "             })"
      ],
      "execution_count": 52,
      "outputs": [
        {
          "output_type": "execute_result",
          "data": {
            "text/html": [
              "<div>\n",
              "<style scoped>\n",
              "    .dataframe tbody tr th:only-of-type {\n",
              "        vertical-align: middle;\n",
              "    }\n",
              "\n",
              "    .dataframe tbody tr th {\n",
              "        vertical-align: top;\n",
              "    }\n",
              "\n",
              "    .dataframe thead th {\n",
              "        text-align: right;\n",
              "    }\n",
              "</style>\n",
              "<table border=\"1\" class=\"dataframe\">\n",
              "  <thead>\n",
              "    <tr style=\"text-align: right;\">\n",
              "      <th></th>\n",
              "      <th>Threshold</th>\n",
              "      <th>TPR</th>\n",
              "      <th>FPR</th>\n",
              "    </tr>\n",
              "  </thead>\n",
              "  <tbody>\n",
              "    <tr>\n",
              "      <th>0</th>\n",
              "      <td>1.998319</td>\n",
              "      <td>0.000000</td>\n",
              "      <td>0.000000</td>\n",
              "    </tr>\n",
              "    <tr>\n",
              "      <th>1</th>\n",
              "      <td>0.998319</td>\n",
              "      <td>0.000185</td>\n",
              "      <td>0.000000</td>\n",
              "    </tr>\n",
              "    <tr>\n",
              "      <th>2</th>\n",
              "      <td>0.996340</td>\n",
              "      <td>0.000742</td>\n",
              "      <td>0.000000</td>\n",
              "    </tr>\n",
              "    <tr>\n",
              "      <th>3</th>\n",
              "      <td>0.996036</td>\n",
              "      <td>0.002040</td>\n",
              "      <td>0.000000</td>\n",
              "    </tr>\n",
              "    <tr>\n",
              "      <th>4</th>\n",
              "      <td>0.996016</td>\n",
              "      <td>0.002226</td>\n",
              "      <td>0.000000</td>\n",
              "    </tr>\n",
              "    <tr>\n",
              "      <th>...</th>\n",
              "      <td>...</td>\n",
              "      <td>...</td>\n",
              "      <td>...</td>\n",
              "    </tr>\n",
              "    <tr>\n",
              "      <th>1375</th>\n",
              "      <td>0.000252</td>\n",
              "      <td>0.999629</td>\n",
              "      <td>0.992225</td>\n",
              "    </tr>\n",
              "    <tr>\n",
              "      <th>1376</th>\n",
              "      <td>0.000252</td>\n",
              "      <td>0.999815</td>\n",
              "      <td>0.992225</td>\n",
              "    </tr>\n",
              "    <tr>\n",
              "      <th>1377</th>\n",
              "      <td>0.000145</td>\n",
              "      <td>0.999815</td>\n",
              "      <td>0.995813</td>\n",
              "    </tr>\n",
              "    <tr>\n",
              "      <th>1378</th>\n",
              "      <td>0.000143</td>\n",
              "      <td>1.000000</td>\n",
              "      <td>0.995813</td>\n",
              "    </tr>\n",
              "    <tr>\n",
              "      <th>1379</th>\n",
              "      <td>0.000012</td>\n",
              "      <td>1.000000</td>\n",
              "      <td>1.000000</td>\n",
              "    </tr>\n",
              "  </tbody>\n",
              "</table>\n",
              "<p>1380 rows × 3 columns</p>\n",
              "</div>"
            ],
            "text/plain": [
              "      Threshold       TPR       FPR\n",
              "0      1.998319  0.000000  0.000000\n",
              "1      0.998319  0.000185  0.000000\n",
              "2      0.996340  0.000742  0.000000\n",
              "3      0.996036  0.002040  0.000000\n",
              "4      0.996016  0.002226  0.000000\n",
              "...         ...       ...       ...\n",
              "1375   0.000252  0.999629  0.992225\n",
              "1376   0.000252  0.999815  0.992225\n",
              "1377   0.000145  0.999815  0.995813\n",
              "1378   0.000143  1.000000  0.995813\n",
              "1379   0.000012  1.000000  1.000000\n",
              "\n",
              "[1380 rows x 3 columns]"
            ]
          },
          "metadata": {
            "tags": []
          },
          "execution_count": 52
        }
      ]
    },
    {
      "cell_type": "code",
      "metadata": {
        "colab": {
          "base_uri": "https://localhost:8080/",
          "height": 312
        },
        "id": "xEU7tbtwwN7C",
        "outputId": "8c9fd005-8f2c-4be8-af92-85a32f947df5"
      },
      "source": [
        "# plotting the ROC curve\n",
        "%matplotlib inline  \n",
        "plt.ylabel('True Positive Rate')\n",
        "plt.xlabel('False Positive Rate')\n",
        "plt.title('ROC')\n",
        "plt.plot(false_positive_rate, true_positive_rate)"
      ],
      "execution_count": 53,
      "outputs": [
        {
          "output_type": "execute_result",
          "data": {
            "text/plain": [
              "[<matplotlib.lines.Line2D at 0x7ffadde878d0>]"
            ]
          },
          "metadata": {
            "tags": []
          },
          "execution_count": 53
        },
        {
          "output_type": "display_data",
          "data": {
            "image/png": "[encoded data removed]",
            "text/plain": [
              "<Figure size 432x288 with 1 Axes>"
            ]
          },
          "metadata": {
            "tags": [],
            "needs_background": "light"
          }
        }
      ]
    },
    {
      "cell_type": "code",
      "metadata": {
        "id": "urohSuDsnaJ1"
      },
      "source": [
        "# inp=str(input())\n",
        "# f=[word for word in inp if word not in stop_wrds_upgrad]\n",
        "# inpp=pd.Series(f)\n",
        "# u=vectorizer.transform(inpp)\n",
        "# mnb.predict_proba(u)"
      ],
      "execution_count": 55,
      "outputs": []
    },
    {
      "cell_type": "code",
      "metadata": {
        "id": "yGyM2rQd7IrK"
      },
      "source": [
        "positive.to_csv('positive_reviews2.csv')\n",
        "negative.to_csv('negative_reviews2.csv')\n",
        "df.to_csv('tableau_start2.csv')\n",
        "\n"
      ],
      "execution_count": 56,
      "outputs": []
    },
    {
      "cell_type": "code",
      "metadata": {
        "id": "tfZLGSlqzaJE"
      },
      "source": [
        ""
      ],
      "execution_count": null,
      "outputs": []
    },
    {
      "cell_type": "code",
      "metadata": {
        "id": "h6HvPGbdd1cM"
      },
      "source": [
        "# df['all']\n",
        "# # for i in df['summary']: \n",
        "# #   for j in i:\n",
        "# #     print (' '.join(i))"
      ],
      "execution_count": null,
      "outputs": []
    }
  ]
}