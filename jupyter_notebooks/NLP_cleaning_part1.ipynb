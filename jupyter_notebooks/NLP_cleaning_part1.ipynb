{
  "nbformat": 4,
  "nbformat_minor": 0,
  "metadata": {
    "colab": {
      "name": "NLP_cleaning.ipynb",
      "provenance": [],
      "collapsed_sections": []
    },
    "kernelspec": {
      "display_name": "Python 3",
      "language": "python",
      "name": "python3"
    },
    "language_info": {
      "codemirror_mode": {
        "name": "ipython",
        "version": 3
      },
      "file_extension": ".py",
      "mimetype": "text/x-python",
      "name": "python",
      "nbconvert_exporter": "python",
      "pygments_lexer": "ipython3",
      "version": "3.7.4"
    }
  },
  "cells": [
    {
      "cell_type": "code",
      "metadata": {
        "id": "unJD3R6P4c_R",
        "colab": {
          "base_uri": "https://localhost:8080/"
        },
        "outputId": "c2991e78-c489-436f-9b6b-7a6b96b186eb"
      },
      "source": [
        "from google.colab import drive\n",
        "drive.mount('/content/d')"
      ],
      "execution_count": null,
      "outputs": [
        {
          "output_type": "stream",
          "text": [
            "Drive already mounted at /content/d; to attempt to forcibly remount, call drive.mount(\"/content/d\", force_remount=True).\n"
          ],
          "name": "stdout"
        }
      ]
    },
    {
      "cell_type": "code",
      "metadata": {
        "id": "kHkrvf5V_GJ_"
      },
      "source": [
        "import pandas as pd\n",
        "import numpy as np"
      ],
      "execution_count": null,
      "outputs": []
    },
    {
      "cell_type": "markdown",
      "metadata": {
        "id": "ET15XVQDM0L4"
      },
      "source": [
        "# Reading the  data\n",
        "\n"
      ]
    },
    {
      "cell_type": "code",
      "metadata": {
        "id": "nkUb-G5Q7LqS"
      },
      "source": [
        "# Reading the meta data\n",
        "# importing libraries\n",
        "\n",
        "import gzip\n",
        "import shutil\n",
        "\n",
        "# #Path to the meta data zip file. 'sentiment_analysis' is the folder name under 'My Drive'\n",
        "path1 = '/content/d/MyDrive/CAPSTONE_DATA/meta_Cell_Phones_and_Accessories.json.gz'\n",
        "\n",
        "\n",
        "\n",
        "# # Path to meta data .json file\n",
        "path2 = '/content/d/MyDrive/CAPSTONE_DATA/meta_Cell_Phones_and_Accessories.json'\n",
        "\n",
        "# Unzipping the meta data file\n",
        "with gzip.open(path1, 'rb') as f_in:\n",
        "    with open(path2, 'wb') as f_out:\n",
        "        shutil.copyfileobj(f_in, f_out)"
      ],
      "execution_count": null,
      "outputs": []
    },
    {
      "cell_type": "code",
      "metadata": {
        "id": "FtnsAi2v7TpI"
      },
      "source": [
        "# # Reading the unzipped meta data into a Python list. The result will be a list of dictionaries. \n",
        "import json\n",
        "\n",
        "# # Empty list to store the dictonaries\n",
        "phonemetadata = []\n",
        "\n",
        "# # Reading the dictionaries in the json file and appending it to the list phonemetadata[]\n",
        "with open(path2, 'r') as f:\n",
        "    for line in f:\n",
        "        phonemetadata.append(json.loads(line))"
      ],
      "execution_count": null,
      "outputs": []
    },
    {
      "cell_type": "code",
      "metadata": {
        "id": "i7K99Fg0kozW",
        "colab": {
          "base_uri": "https://localhost:8080/"
        },
        "outputId": "96317822-e445-45a2-aa26-41aa2e28dbf8"
      },
      "source": [
        "# Getting the number of entries in the phonemetadata list\n",
        "len(phonemetadata)"
      ],
      "execution_count": null,
      "outputs": [
        {
          "output_type": "execute_result",
          "data": {
            "text/plain": [
              "590071"
            ]
          },
          "metadata": {
            "tags": []
          },
          "execution_count": 69
        }
      ]
    },
    {
      "cell_type": "code",
      "metadata": {
        "id": "uokikHfJOZBi"
      },
      "source": [
        "#converting the list phonemetadata into a data frame\n",
        "df_meta=pd.DataFrame(phonemetadata)\n"
      ],
      "execution_count": null,
      "outputs": []
    },
    {
      "cell_type": "code",
      "metadata": {
        "id": "_ZCzsuLuOeJx",
        "colab": {
          "base_uri": "https://localhost:8080/"
        },
        "outputId": "d1002b6b-626d-4191-b77b-db673190739e"
      },
      "source": [
        "#Reading the .csv file of the phone data into a dataframe\n",
        "\n",
        "df_phonedata = pd.read_csv('/content/d/MyDrive/CAPSTONE_DATA/Cell_Phones_and_Accessories_5.csv')\n",
        "\n"
      ],
      "execution_count": null,
      "outputs": [
        {
          "output_type": "stream",
          "text": [
            "/usr/local/lib/python3.7/dist-packages/IPython/core/interactiveshell.py:2718: DtypeWarning: Columns (9) have mixed types.Specify dtype option on import or set low_memory=False.\n",
            "  interactivity=interactivity, compiler=compiler, result=result)\n"
          ],
          "name": "stderr"
        }
      ]
    },
    {
      "cell_type": "code",
      "metadata": {
        "id": "7MtZtNRSnXla",
        "colab": {
          "base_uri": "https://localhost:8080/",
          "height": 564
        },
        "outputId": "de8f9c34-5fa5-4e17-bb91-e2eebac0e7e4"
      },
      "source": [
        "df_phonedata.head(5)"
      ],
      "execution_count": null,
      "outputs": [
        {
          "output_type": "execute_result",
          "data": {
            "text/html": [
              "<div>\n",
              "<style scoped>\n",
              "    .dataframe tbody tr th:only-of-type {\n",
              "        vertical-align: middle;\n",
              "    }\n",
              "\n",
              "    .dataframe tbody tr th {\n",
              "        vertical-align: top;\n",
              "    }\n",
              "\n",
              "    .dataframe thead th {\n",
              "        text-align: right;\n",
              "    }\n",
              "</style>\n",
              "<table border=\"1\" class=\"dataframe\">\n",
              "  <thead>\n",
              "    <tr style=\"text-align: right;\">\n",
              "      <th></th>\n",
              "      <th>overall</th>\n",
              "      <th>verified</th>\n",
              "      <th>reviewerID</th>\n",
              "      <th>asin</th>\n",
              "      <th>style</th>\n",
              "      <th>reviewerName</th>\n",
              "      <th>reviewText</th>\n",
              "      <th>summary</th>\n",
              "      <th>unixReviewTime</th>\n",
              "      <th>vote</th>\n",
              "      <th>image</th>\n",
              "      <th>review_sentiment</th>\n",
              "    </tr>\n",
              "  </thead>\n",
              "  <tbody>\n",
              "    <tr>\n",
              "      <th>0</th>\n",
              "      <td>5.0</td>\n",
              "      <td>True</td>\n",
              "      <td>A24E3SXTC62LJI</td>\n",
              "      <td>7508492919</td>\n",
              "      <td>{'Color:': ' Bling'}</td>\n",
              "      <td>Claudia Valdivia</td>\n",
              "      <td>Looks even better in person. Be careful to not...</td>\n",
              "      <td>Can't stop won't stop looking at it</td>\n",
              "      <td>1407110400</td>\n",
              "      <td>NaN</td>\n",
              "      <td>NaN</td>\n",
              "      <td>POSITIVE</td>\n",
              "    </tr>\n",
              "    <tr>\n",
              "      <th>1</th>\n",
              "      <td>5.0</td>\n",
              "      <td>True</td>\n",
              "      <td>A269FLZCB4GIPV</td>\n",
              "      <td>7508492919</td>\n",
              "      <td>NaN</td>\n",
              "      <td>sarah ponce</td>\n",
              "      <td>When you don't want to spend a whole lot of ca...</td>\n",
              "      <td>1</td>\n",
              "      <td>1392163200</td>\n",
              "      <td>NaN</td>\n",
              "      <td>NaN</td>\n",
              "      <td>POSITIVE</td>\n",
              "    </tr>\n",
              "    <tr>\n",
              "      <th>2</th>\n",
              "      <td>3.0</td>\n",
              "      <td>True</td>\n",
              "      <td>AB6CHQWHZW4TV</td>\n",
              "      <td>7508492919</td>\n",
              "      <td>NaN</td>\n",
              "      <td>Kai</td>\n",
              "      <td>so the case came on time, i love the design. I...</td>\n",
              "      <td>Its okay</td>\n",
              "      <td>1391817600</td>\n",
              "      <td>NaN</td>\n",
              "      <td>NaN</td>\n",
              "      <td>NEGATIVE</td>\n",
              "    </tr>\n",
              "    <tr>\n",
              "      <th>3</th>\n",
              "      <td>2.0</td>\n",
              "      <td>True</td>\n",
              "      <td>A1M117A53LEI8</td>\n",
              "      <td>7508492919</td>\n",
              "      <td>NaN</td>\n",
              "      <td>Sharon Williams</td>\n",
              "      <td>DON'T CARE FOR IT.  GAVE IT AS A GIFT AND THEY...</td>\n",
              "      <td>CASE</td>\n",
              "      <td>1391472000</td>\n",
              "      <td>NaN</td>\n",
              "      <td>NaN</td>\n",
              "      <td>POSITIVE</td>\n",
              "    </tr>\n",
              "    <tr>\n",
              "      <th>4</th>\n",
              "      <td>4.0</td>\n",
              "      <td>True</td>\n",
              "      <td>A272DUT8M88ZS8</td>\n",
              "      <td>7508492919</td>\n",
              "      <td>NaN</td>\n",
              "      <td>Bella Rodriguez</td>\n",
              "      <td>I liked it because it was cute, but the studs ...</td>\n",
              "      <td>Cute!</td>\n",
              "      <td>1391385600</td>\n",
              "      <td>NaN</td>\n",
              "      <td>NaN</td>\n",
              "      <td>POSITIVE</td>\n",
              "    </tr>\n",
              "  </tbody>\n",
              "</table>\n",
              "</div>"
            ],
            "text/plain": [
              "   overall  verified      reviewerID  ... vote image review_sentiment\n",
              "0      5.0      True  A24E3SXTC62LJI  ...  NaN   NaN         POSITIVE\n",
              "1      5.0      True  A269FLZCB4GIPV  ...  NaN   NaN         POSITIVE\n",
              "2      3.0      True   AB6CHQWHZW4TV  ...  NaN   NaN         NEGATIVE\n",
              "3      2.0      True   A1M117A53LEI8  ...  NaN   NaN         POSITIVE\n",
              "4      4.0      True  A272DUT8M88ZS8  ...  NaN   NaN         POSITIVE\n",
              "\n",
              "[5 rows x 12 columns]"
            ]
          },
          "metadata": {
            "tags": []
          },
          "execution_count": 72
        }
      ]
    },
    {
      "cell_type": "code",
      "metadata": {
        "id": "GPJeswmgy6BM"
      },
      "source": [
        "# pd.read_csv('Cell_Phones_and_Accessories_5.csv', dtype={'overall': 'float', 'verified': 'Bool', 'reviewerID': 'Bool','asin': 'Bool','verified': 'Bool','verified': 'Bool','verified': 'Bool','verified': 'Bool','verified': 'Bool',  })"
      ],
      "execution_count": null,
      "outputs": []
    },
    {
      "cell_type": "code",
      "metadata": {
        "colab": {
          "base_uri": "https://localhost:8080/"
        },
        "id": "cCjjt_PImkA8",
        "outputId": "0e530d8d-4f06-4a77-f707-2eccf772f27e"
      },
      "source": [
        "len(df_phonedata)"
      ],
      "execution_count": null,
      "outputs": [
        {
          "output_type": "execute_result",
          "data": {
            "text/plain": [
              "1128437"
            ]
          },
          "metadata": {
            "tags": []
          },
          "execution_count": 74
        }
      ]
    },
    {
      "cell_type": "code",
      "metadata": {
        "id": "DCG--pUBjBvN",
        "colab": {
          "base_uri": "https://localhost:8080/",
          "height": 267
        },
        "outputId": "de22c382-9f05-4ca6-8885-1c0b716063ab"
      },
      "source": [
        "df_meta.head(2)"
      ],
      "execution_count": null,
      "outputs": [
        {
          "output_type": "execute_result",
          "data": {
            "text/html": [
              "<div>\n",
              "<style scoped>\n",
              "    .dataframe tbody tr th:only-of-type {\n",
              "        vertical-align: middle;\n",
              "    }\n",
              "\n",
              "    .dataframe tbody tr th {\n",
              "        vertical-align: top;\n",
              "    }\n",
              "\n",
              "    .dataframe thead th {\n",
              "        text-align: right;\n",
              "    }\n",
              "</style>\n",
              "<table border=\"1\" class=\"dataframe\">\n",
              "  <thead>\n",
              "    <tr style=\"text-align: right;\">\n",
              "      <th></th>\n",
              "      <th>category</th>\n",
              "      <th>tech1</th>\n",
              "      <th>description</th>\n",
              "      <th>fit</th>\n",
              "      <th>title</th>\n",
              "      <th>also_buy</th>\n",
              "      <th>image</th>\n",
              "      <th>tech2</th>\n",
              "      <th>brand</th>\n",
              "      <th>feature</th>\n",
              "      <th>rank</th>\n",
              "      <th>also_view</th>\n",
              "      <th>details</th>\n",
              "      <th>main_cat</th>\n",
              "      <th>similar_item</th>\n",
              "      <th>date</th>\n",
              "      <th>price</th>\n",
              "      <th>asin</th>\n",
              "    </tr>\n",
              "  </thead>\n",
              "  <tbody>\n",
              "    <tr>\n",
              "      <th>0</th>\n",
              "      <td>[Cell Phones &amp; Accessories, Accessories, Scree...</td>\n",
              "      <td></td>\n",
              "      <td>[]</td>\n",
              "      <td></td>\n",
              "      <td>Trollies Sing a Long Party VHS</td>\n",
              "      <td>[]</td>\n",
              "      <td>[]</td>\n",
              "      <td></td>\n",
              "      <td></td>\n",
              "      <td>[]</td>\n",
              "      <td>557,379 in Movies &amp; TV (</td>\n",
              "      <td>[]</td>\n",
              "      <td>{'ASIN: ': '6303195164'}</td>\n",
              "      <td>Movies &amp; TV</td>\n",
              "      <td></td>\n",
              "      <td></td>\n",
              "      <td></td>\n",
              "      <td>6303195164</td>\n",
              "    </tr>\n",
              "    <tr>\n",
              "      <th>1</th>\n",
              "      <td>[Cell Phones &amp; Accessories, Accessories, Car A...</td>\n",
              "      <td></td>\n",
              "      <td>[]</td>\n",
              "      <td></td>\n",
              "      <td>La Pura VHS</td>\n",
              "      <td>[]</td>\n",
              "      <td>[]</td>\n",
              "      <td></td>\n",
              "      <td>Maribel Guardia</td>\n",
              "      <td>[]</td>\n",
              "      <td>1,024,449 in Movies &amp; TV (</td>\n",
              "      <td>[]</td>\n",
              "      <td>{'ASIN: ': '630524412X'}</td>\n",
              "      <td>Movies &amp; TV</td>\n",
              "      <td></td>\n",
              "      <td></td>\n",
              "      <td></td>\n",
              "      <td>630524412X</td>\n",
              "    </tr>\n",
              "  </tbody>\n",
              "</table>\n",
              "</div>"
            ],
            "text/plain": [
              "                                            category tech1  ... price        asin\n",
              "0  [Cell Phones & Accessories, Accessories, Scree...        ...        6303195164\n",
              "1  [Cell Phones & Accessories, Accessories, Car A...        ...        630524412X\n",
              "\n",
              "[2 rows x 18 columns]"
            ]
          },
          "metadata": {
            "tags": []
          },
          "execution_count": 75
        }
      ]
    },
    {
      "cell_type": "code",
      "metadata": {
        "colab": {
          "base_uri": "https://localhost:8080/"
        },
        "id": "Hi__utZuVkrO",
        "outputId": "8c69e8ee-e9b4-4fd6-ba02-f4f3cd0731de"
      },
      "source": [
        "df_meta.shape"
      ],
      "execution_count": null,
      "outputs": [
        {
          "output_type": "execute_result",
          "data": {
            "text/plain": [
              "(590071, 18)"
            ]
          },
          "metadata": {
            "tags": []
          },
          "execution_count": 76
        }
      ]
    },
    {
      "cell_type": "code",
      "metadata": {
        "id": "B4CFD-XOVmN4"
      },
      "source": [
        "df_meta.drop_duplicates(subset =\"asin\",keep=False,inplace=True)"
      ],
      "execution_count": null,
      "outputs": []
    },
    {
      "cell_type": "code",
      "metadata": {
        "colab": {
          "base_uri": "https://localhost:8080/"
        },
        "id": "zu7VueHUVxyw",
        "outputId": "d757050a-05b7-44bd-ebfc-92d94272c72e"
      },
      "source": [
        "df_meta.shape"
      ],
      "execution_count": null,
      "outputs": [
        {
          "output_type": "execute_result",
          "data": {
            "text/plain": [
              "(588641, 18)"
            ]
          },
          "metadata": {
            "tags": []
          },
          "execution_count": 78
        }
      ]
    },
    {
      "cell_type": "markdown",
      "metadata": {
        "id": "-RUKzZgE5cv1"
      },
      "source": [
        "# Data pre-processing\n",
        "\n"
      ]
    },
    {
      "cell_type": "code",
      "metadata": {
        "id": "8jHXp1OyI9wq"
      },
      "source": [
        "# Converting unix review time to date-time format\n",
        "\n",
        "#Transforming unixReview time to date time format\n",
        "from datetime import datetime, timedelta\n",
        "df_phonedata['Date&Time'] = df_phonedata['unixReviewTime'].apply(lambda d: (datetime.fromtimestamp(d) - timedelta(hours=2)).strftime('%Y-%m-%d'))\n"
      ],
      "execution_count": null,
      "outputs": []
    },
    {
      "cell_type": "code",
      "metadata": {
        "id": "4CMqDpOA8Imn"
      },
      "source": [
        "df_phonedata.drop(['unixReviewTime'], axis = 1, inplace=True)"
      ],
      "execution_count": null,
      "outputs": []
    },
    {
      "cell_type": "code",
      "metadata": {
        "id": "fNAsCsr08Ir0"
      },
      "source": [
        "#joining dfs on 'asin' \n",
        "df_f01=df_phonedata.merge(df_meta, left_on='asin', right_on='asin', suffixes=('_data', '_meta'))"
      ],
      "execution_count": null,
      "outputs": []
    },
    {
      "cell_type": "code",
      "metadata": {
        "id": "ZQlFMl9E8Iu4",
        "colab": {
          "base_uri": "https://localhost:8080/"
        },
        "outputId": "39ed66ed-987e-4046-a218-17f0744f97cb"
      },
      "source": [
        "df_f01.head(1)"
      ],
      "execution_count": null,
      "outputs": [
        {
          "output_type": "execute_result",
          "data": {
            "text/html": [
              "<div>\n",
              "<style scoped>\n",
              "    .dataframe tbody tr th:only-of-type {\n",
              "        vertical-align: middle;\n",
              "    }\n",
              "\n",
              "    .dataframe tbody tr th {\n",
              "        vertical-align: top;\n",
              "    }\n",
              "\n",
              "    .dataframe thead th {\n",
              "        text-align: right;\n",
              "    }\n",
              "</style>\n",
              "<table border=\"1\" class=\"dataframe\">\n",
              "  <thead>\n",
              "    <tr style=\"text-align: right;\">\n",
              "      <th></th>\n",
              "      <th>overall</th>\n",
              "      <th>verified</th>\n",
              "      <th>reviewerID</th>\n",
              "      <th>asin</th>\n",
              "      <th>style</th>\n",
              "      <th>reviewerName</th>\n",
              "      <th>reviewText</th>\n",
              "      <th>summary</th>\n",
              "      <th>vote</th>\n",
              "      <th>image_data</th>\n",
              "      <th>review_sentiment</th>\n",
              "      <th>Date&amp;Time</th>\n",
              "      <th>category</th>\n",
              "      <th>tech1</th>\n",
              "      <th>description</th>\n",
              "      <th>fit</th>\n",
              "      <th>title</th>\n",
              "      <th>also_buy</th>\n",
              "      <th>image_meta</th>\n",
              "      <th>tech2</th>\n",
              "      <th>brand</th>\n",
              "      <th>feature</th>\n",
              "      <th>rank</th>\n",
              "      <th>also_view</th>\n",
              "      <th>details</th>\n",
              "      <th>main_cat</th>\n",
              "      <th>similar_item</th>\n",
              "      <th>date</th>\n",
              "      <th>price</th>\n",
              "    </tr>\n",
              "  </thead>\n",
              "  <tbody>\n",
              "    <tr>\n",
              "      <th>0</th>\n",
              "      <td>5.0</td>\n",
              "      <td>True</td>\n",
              "      <td>A24E3SXTC62LJI</td>\n",
              "      <td>7508492919</td>\n",
              "      <td>{'Color:': ' Bling'}</td>\n",
              "      <td>Claudia Valdivia</td>\n",
              "      <td>Looks even better in person. Be careful to not...</td>\n",
              "      <td>Can't stop won't stop looking at it</td>\n",
              "      <td>NaN</td>\n",
              "      <td>NaN</td>\n",
              "      <td>POSITIVE</td>\n",
              "      <td>2014-08-03</td>\n",
              "      <td>[Cell Phones &amp; Accessories, Cases, Holsters &amp; ...</td>\n",
              "      <td></td>\n",
              "      <td>[, Elegani Butterfly Case 3D Pattern Back Cove...</td>\n",
              "      <td></td>\n",
              "      <td>MinisDesign 3d Bling Crystal Bow Transparent C...</td>\n",
              "      <td>[]</td>\n",
              "      <td>[https://images-na.ssl-images-amazon.com/image...</td>\n",
              "      <td></td>\n",
              "      <td>ELEGANI</td>\n",
              "      <td>[Fashionable with unique 3D butterfly design f...</td>\n",
              "      <td>[&gt;#228,544 in Cell Phones &amp; Accessories (See T...</td>\n",
              "      <td>[]</td>\n",
              "      <td>{}</td>\n",
              "      <td>Cell Phones &amp; Accessories</td>\n",
              "      <td></td>\n",
              "      <td></td>\n",
              "      <td></td>\n",
              "    </tr>\n",
              "  </tbody>\n",
              "</table>\n",
              "</div>"
            ],
            "text/plain": [
              "   overall  verified      reviewerID  ... similar_item date price\n",
              "0      5.0      True  A24E3SXTC62LJI  ...                        \n",
              "\n",
              "[1 rows x 29 columns]"
            ]
          },
          "metadata": {
            "tags": []
          },
          "execution_count": 82
        }
      ]
    },
    {
      "cell_type": "code",
      "metadata": {
        "id": "L-qtmi4H8Ix9"
      },
      "source": [
        "def findstr(x):\n",
        "  for l in x: \n",
        "    if l=='Unlocked Cell Phones' or l=='Carrier Cell Phones': \n",
        "      return l \n",
        "\n"
      ],
      "execution_count": null,
      "outputs": []
    },
    {
      "cell_type": "markdown",
      "metadata": {
        "id": "WBCThFg9jBvO"
      },
      "source": [
        "# EDA"
      ]
    },
    {
      "cell_type": "code",
      "metadata": {
        "id": "OdClaKFTjBvP"
      },
      "source": [
        "f1=df_f01['category'].str[2]=='Unlocked Cell Phones' \n",
        "f2=df_f01['category'].str[2]=='Carrier Cell Phones' \n"
      ],
      "execution_count": null,
      "outputs": []
    },
    {
      "cell_type": "code",
      "metadata": {
        "id": "2hylD9S1LV_T"
      },
      "source": [
        "#creating filtered df on above parameters \n",
        "\n",
        "dfok=df_f01.loc[f1 | f2]"
      ],
      "execution_count": null,
      "outputs": []
    },
    {
      "cell_type": "code",
      "metadata": {
        "id": "yHP_93DoLWBd"
      },
      "source": [
        "len(dfok) \n",
        "df_f02=dfok.copy()  #working database for further analysis "
      ],
      "execution_count": null,
      "outputs": []
    },
    {
      "cell_type": "code",
      "metadata": {
        "id": "DBz-BhGaLWD0",
        "colab": {
          "base_uri": "https://localhost:8080/"
        },
        "outputId": "aa8f02f8-4e8d-4de8-f10c-85ea5071972c"
      },
      "source": [
        "df_f02.head(2)\n",
        "\n"
      ],
      "execution_count": null,
      "outputs": [
        {
          "output_type": "execute_result",
          "data": {
            "text/html": [
              "<div>\n",
              "<style scoped>\n",
              "    .dataframe tbody tr th:only-of-type {\n",
              "        vertical-align: middle;\n",
              "    }\n",
              "\n",
              "    .dataframe tbody tr th {\n",
              "        vertical-align: top;\n",
              "    }\n",
              "\n",
              "    .dataframe thead th {\n",
              "        text-align: right;\n",
              "    }\n",
              "</style>\n",
              "<table border=\"1\" class=\"dataframe\">\n",
              "  <thead>\n",
              "    <tr style=\"text-align: right;\">\n",
              "      <th></th>\n",
              "      <th>overall</th>\n",
              "      <th>verified</th>\n",
              "      <th>reviewerID</th>\n",
              "      <th>asin</th>\n",
              "      <th>style</th>\n",
              "      <th>reviewerName</th>\n",
              "      <th>reviewText</th>\n",
              "      <th>summary</th>\n",
              "      <th>vote</th>\n",
              "      <th>image_data</th>\n",
              "      <th>review_sentiment</th>\n",
              "      <th>Date&amp;Time</th>\n",
              "      <th>category</th>\n",
              "      <th>tech1</th>\n",
              "      <th>description</th>\n",
              "      <th>fit</th>\n",
              "      <th>title</th>\n",
              "      <th>also_buy</th>\n",
              "      <th>image_meta</th>\n",
              "      <th>tech2</th>\n",
              "      <th>brand</th>\n",
              "      <th>feature</th>\n",
              "      <th>rank</th>\n",
              "      <th>also_view</th>\n",
              "      <th>details</th>\n",
              "      <th>main_cat</th>\n",
              "      <th>similar_item</th>\n",
              "      <th>date</th>\n",
              "      <th>price</th>\n",
              "    </tr>\n",
              "  </thead>\n",
              "  <tbody>\n",
              "    <tr>\n",
              "      <th>566</th>\n",
              "      <td>4.0</td>\n",
              "      <td>False</td>\n",
              "      <td>A1F9Z42CFF9IAY</td>\n",
              "      <td>B00063DKVC</td>\n",
              "      <td>NaN</td>\n",
              "      <td>phototristan</td>\n",
              "      <td>The Sidekick 2 has a better form factor than t...</td>\n",
              "      <td>Better than all the alternatives</td>\n",
              "      <td>19</td>\n",
              "      <td>NaN</td>\n",
              "      <td>POSITIVE</td>\n",
              "      <td>2004-10-06</td>\n",
              "      <td>[Cell Phones &amp; Accessories, Cell Phones, Carri...</td>\n",
              "      <td></td>\n",
              "      <td>[The latest phone features, like an integrated...</td>\n",
              "      <td></td>\n",
              "      <td>T-MOBILE SIDEKICK II</td>\n",
              "      <td>[]</td>\n",
              "      <td>[https://images-na.ssl-images-amazon.com/image...</td>\n",
              "      <td></td>\n",
              "      <td></td>\n",
              "      <td>[]</td>\n",
              "      <td>[&gt;#3,090,469 in Cell Phones &amp; Accessories (See...</td>\n",
              "      <td>[B00NSRC4Y2, B00J1SMJ06, B00J7ZKSPQ, B00B4HLLB...</td>\n",
              "      <td>{}</td>\n",
              "      <td>Cell Phones &amp; Accessories</td>\n",
              "      <td>class=\"a-bordered a-horizontal-stripes  a-spa...</td>\n",
              "      <td></td>\n",
              "      <td></td>\n",
              "    </tr>\n",
              "    <tr>\n",
              "      <th>567</th>\n",
              "      <td>2.0</td>\n",
              "      <td>False</td>\n",
              "      <td>A5JLAU2ARJ0BO</td>\n",
              "      <td>B00063DKVC</td>\n",
              "      <td>NaN</td>\n",
              "      <td>Old-and-Wise</td>\n",
              "      <td>Sidekick II is meant to be your one-stop-shop ...</td>\n",
              "      <td>It's the service, stupid</td>\n",
              "      <td>22</td>\n",
              "      <td>NaN</td>\n",
              "      <td>NEGATIVE</td>\n",
              "      <td>2004-10-05</td>\n",
              "      <td>[Cell Phones &amp; Accessories, Cell Phones, Carri...</td>\n",
              "      <td></td>\n",
              "      <td>[The latest phone features, like an integrated...</td>\n",
              "      <td></td>\n",
              "      <td>T-MOBILE SIDEKICK II</td>\n",
              "      <td>[]</td>\n",
              "      <td>[https://images-na.ssl-images-amazon.com/image...</td>\n",
              "      <td></td>\n",
              "      <td></td>\n",
              "      <td>[]</td>\n",
              "      <td>[&gt;#3,090,469 in Cell Phones &amp; Accessories (See...</td>\n",
              "      <td>[B00NSRC4Y2, B00J1SMJ06, B00J7ZKSPQ, B00B4HLLB...</td>\n",
              "      <td>{}</td>\n",
              "      <td>Cell Phones &amp; Accessories</td>\n",
              "      <td>class=\"a-bordered a-horizontal-stripes  a-spa...</td>\n",
              "      <td></td>\n",
              "      <td></td>\n",
              "    </tr>\n",
              "  </tbody>\n",
              "</table>\n",
              "</div>"
            ],
            "text/plain": [
              "     overall  verified  ... date price\n",
              "566      4.0     False  ...           \n",
              "567      2.0     False  ...           \n",
              "\n",
              "[2 rows x 29 columns]"
            ]
          },
          "metadata": {
            "tags": []
          },
          "execution_count": 87
        }
      ]
    },
    {
      "cell_type": "markdown",
      "metadata": {
        "id": "b1tWjHvaVt61"
      },
      "source": [
        ""
      ]
    },
    {
      "cell_type": "code",
      "metadata": {
        "id": "rNQL95_BjBvP",
        "colab": {
          "base_uri": "https://localhost:8080/"
        },
        "outputId": "dc5901c6-f98e-4150-f584-4220c72651f5"
      },
      "source": [
        "df_f02['style'].value_counts()"
      ],
      "execution_count": null,
      "outputs": [
        {
          "output_type": "execute_result",
          "data": {
            "text/plain": [
              "{'Color:': ' Black'}                                  4944\n",
              "{'Color:': ' White'}                                  4225\n",
              "{'Color:': ' Gold'}                                    851\n",
              "{'Size:': ' 32 GB', 'Color:': ' Black'}                737\n",
              "{'Color:': ' Blue'}                                    580\n",
              "                                                      ... \n",
              "{'Color:': ' Grey', 'Style:': ' Dash 5.0 +'}             1\n",
              "{'Color:': ' B606 - White'}                              1\n",
              "{'Size:': ' Single-SIM', 'Color:': ' Black'}             1\n",
              "{'Color:': ' White Gold', 'Style:': ' US GSM (U)'}       1\n",
              "{'Color:': ' White', 'Style:': ' Dash 5.0 +'}            1\n",
              "Name: style, Length: 609, dtype: int64"
            ]
          },
          "metadata": {
            "tags": []
          },
          "execution_count": 88
        }
      ]
    },
    {
      "cell_type": "code",
      "metadata": {
        "id": "3X8j-P3HbqBt",
        "colab": {
          "base_uri": "https://localhost:8080/"
        },
        "outputId": "26a23b41-2a10-4a4f-dac7-efa949fd2416"
      },
      "source": [
        "df_f02['style'].isnull().sum()"
      ],
      "execution_count": null,
      "outputs": [
        {
          "output_type": "execute_result",
          "data": {
            "text/plain": [
              "33265"
            ]
          },
          "metadata": {
            "tags": []
          },
          "execution_count": 89
        }
      ]
    },
    {
      "cell_type": "code",
      "metadata": {
        "id": "9HxpxKHt2_ZO"
      },
      "source": [
        "\n",
        "df_f02['rank'] = df_f02['rank'].astype(str)"
      ],
      "execution_count": null,
      "outputs": []
    },
    {
      "cell_type": "markdown",
      "metadata": {
        "id": "NaXW4cVLAwHz"
      },
      "source": [
        ""
      ]
    },
    {
      "cell_type": "code",
      "metadata": {
        "id": "wlHZYXXvF7JY",
        "colab": {
          "base_uri": "https://localhost:8080/"
        },
        "outputId": "57f91fbc-2471-42c6-af06-aa1520a3c6d0"
      },
      "source": [
        "df_f02['rank']"
      ],
      "execution_count": null,
      "outputs": [
        {
          "output_type": "execute_result",
          "data": {
            "text/plain": [
              "566        ['>#3,090,469 in Cell Phones & Accessories (Se...\n",
              "567        ['>#3,090,469 in Cell Phones & Accessories (Se...\n",
              "568        ['>#3,090,469 in Cell Phones & Accessories (Se...\n",
              "569        ['>#3,090,469 in Cell Phones & Accessories (Se...\n",
              "570        ['>#3,090,469 in Cell Phones & Accessories (Se...\n",
              "                                 ...                        \n",
              "1124949    ['>#657,463 in Cell Phones & Accessories (See ...\n",
              "1124950    ['>#657,463 in Cell Phones & Accessories (See ...\n",
              "1124951    ['>#657,463 in Cell Phones & Accessories (See ...\n",
              "1124952    ['>#657,463 in Cell Phones & Accessories (See ...\n",
              "1124953    ['>#657,463 in Cell Phones & Accessories (See ...\n",
              "Name: rank, Length: 62075, dtype: object"
            ]
          },
          "metadata": {
            "tags": []
          },
          "execution_count": 91
        }
      ]
    },
    {
      "cell_type": "code",
      "metadata": {
        "id": "RO4TXWSRiwLi"
      },
      "source": [
        "#cleaning rank comumn \n",
        "df_f02['rnk']=df_f02['rank'].str.extract('([0-9]*,[0-9]*,[0-9]*)', expand=False)\n"
      ],
      "execution_count": null,
      "outputs": []
    },
    {
      "cell_type": "code",
      "metadata": {
        "colab": {
          "base_uri": "https://localhost:8080/"
        },
        "id": "B436xqBtpMc-",
        "outputId": "3e3d398a-f374-473d-c502-3c7e17f6bcac"
      },
      "source": [
        "df_f02.head(2)"
      ],
      "execution_count": null,
      "outputs": [
        {
          "output_type": "execute_result",
          "data": {
            "text/html": [
              "<div>\n",
              "<style scoped>\n",
              "    .dataframe tbody tr th:only-of-type {\n",
              "        vertical-align: middle;\n",
              "    }\n",
              "\n",
              "    .dataframe tbody tr th {\n",
              "        vertical-align: top;\n",
              "    }\n",
              "\n",
              "    .dataframe thead th {\n",
              "        text-align: right;\n",
              "    }\n",
              "</style>\n",
              "<table border=\"1\" class=\"dataframe\">\n",
              "  <thead>\n",
              "    <tr style=\"text-align: right;\">\n",
              "      <th></th>\n",
              "      <th>overall</th>\n",
              "      <th>verified</th>\n",
              "      <th>reviewerID</th>\n",
              "      <th>asin</th>\n",
              "      <th>style</th>\n",
              "      <th>reviewerName</th>\n",
              "      <th>reviewText</th>\n",
              "      <th>summary</th>\n",
              "      <th>vote</th>\n",
              "      <th>image_data</th>\n",
              "      <th>review_sentiment</th>\n",
              "      <th>Date&amp;Time</th>\n",
              "      <th>category</th>\n",
              "      <th>tech1</th>\n",
              "      <th>description</th>\n",
              "      <th>fit</th>\n",
              "      <th>title</th>\n",
              "      <th>also_buy</th>\n",
              "      <th>image_meta</th>\n",
              "      <th>tech2</th>\n",
              "      <th>brand</th>\n",
              "      <th>feature</th>\n",
              "      <th>rank</th>\n",
              "      <th>also_view</th>\n",
              "      <th>details</th>\n",
              "      <th>main_cat</th>\n",
              "      <th>similar_item</th>\n",
              "      <th>date</th>\n",
              "      <th>price</th>\n",
              "      <th>rnk</th>\n",
              "    </tr>\n",
              "  </thead>\n",
              "  <tbody>\n",
              "    <tr>\n",
              "      <th>566</th>\n",
              "      <td>4.0</td>\n",
              "      <td>False</td>\n",
              "      <td>A1F9Z42CFF9IAY</td>\n",
              "      <td>B00063DKVC</td>\n",
              "      <td>NaN</td>\n",
              "      <td>phototristan</td>\n",
              "      <td>The Sidekick 2 has a better form factor than t...</td>\n",
              "      <td>Better than all the alternatives</td>\n",
              "      <td>19</td>\n",
              "      <td>NaN</td>\n",
              "      <td>POSITIVE</td>\n",
              "      <td>2004-10-06</td>\n",
              "      <td>[Cell Phones &amp; Accessories, Cell Phones, Carri...</td>\n",
              "      <td></td>\n",
              "      <td>[The latest phone features, like an integrated...</td>\n",
              "      <td></td>\n",
              "      <td>T-MOBILE SIDEKICK II</td>\n",
              "      <td>[]</td>\n",
              "      <td>[https://images-na.ssl-images-amazon.com/image...</td>\n",
              "      <td></td>\n",
              "      <td></td>\n",
              "      <td>[]</td>\n",
              "      <td>['&gt;#3,090,469 in Cell Phones &amp; Accessories (Se...</td>\n",
              "      <td>[B00NSRC4Y2, B00J1SMJ06, B00J7ZKSPQ, B00B4HLLB...</td>\n",
              "      <td>{}</td>\n",
              "      <td>Cell Phones &amp; Accessories</td>\n",
              "      <td>class=\"a-bordered a-horizontal-stripes  a-spa...</td>\n",
              "      <td></td>\n",
              "      <td></td>\n",
              "      <td>3,090,469</td>\n",
              "    </tr>\n",
              "    <tr>\n",
              "      <th>567</th>\n",
              "      <td>2.0</td>\n",
              "      <td>False</td>\n",
              "      <td>A5JLAU2ARJ0BO</td>\n",
              "      <td>B00063DKVC</td>\n",
              "      <td>NaN</td>\n",
              "      <td>Old-and-Wise</td>\n",
              "      <td>Sidekick II is meant to be your one-stop-shop ...</td>\n",
              "      <td>It's the service, stupid</td>\n",
              "      <td>22</td>\n",
              "      <td>NaN</td>\n",
              "      <td>NEGATIVE</td>\n",
              "      <td>2004-10-05</td>\n",
              "      <td>[Cell Phones &amp; Accessories, Cell Phones, Carri...</td>\n",
              "      <td></td>\n",
              "      <td>[The latest phone features, like an integrated...</td>\n",
              "      <td></td>\n",
              "      <td>T-MOBILE SIDEKICK II</td>\n",
              "      <td>[]</td>\n",
              "      <td>[https://images-na.ssl-images-amazon.com/image...</td>\n",
              "      <td></td>\n",
              "      <td></td>\n",
              "      <td>[]</td>\n",
              "      <td>['&gt;#3,090,469 in Cell Phones &amp; Accessories (Se...</td>\n",
              "      <td>[B00NSRC4Y2, B00J1SMJ06, B00J7ZKSPQ, B00B4HLLB...</td>\n",
              "      <td>{}</td>\n",
              "      <td>Cell Phones &amp; Accessories</td>\n",
              "      <td>class=\"a-bordered a-horizontal-stripes  a-spa...</td>\n",
              "      <td></td>\n",
              "      <td></td>\n",
              "      <td>3,090,469</td>\n",
              "    </tr>\n",
              "  </tbody>\n",
              "</table>\n",
              "</div>"
            ],
            "text/plain": [
              "     overall  verified      reviewerID  ... date price        rnk\n",
              "566      4.0     False  A1F9Z42CFF9IAY  ...             3,090,469\n",
              "567      2.0     False   A5JLAU2ARJ0BO  ...             3,090,469\n",
              "\n",
              "[2 rows x 30 columns]"
            ]
          },
          "metadata": {
            "tags": []
          },
          "execution_count": 93
        }
      ]
    },
    {
      "cell_type": "code",
      "metadata": {
        "id": "fEVBaK2cqXhx"
      },
      "source": [
        "#extracting number of viewed items \n",
        "emp=[]\n",
        "for i in df_f02['also_view']:\n",
        "  emp.append(len(i))\n",
        "\n",
        "\n",
        "df_f02['no_of_viewed_items']=emp\n",
        "\n"
      ],
      "execution_count": null,
      "outputs": []
    },
    {
      "cell_type": "code",
      "metadata": {
        "colab": {
          "base_uri": "https://localhost:8080/"
        },
        "id": "Q7B6P8SVsdLI",
        "outputId": "a51a1151-f47b-49af-b390-e759461ae6fd"
      },
      "source": [
        "df_f02.no_of_viewed_items"
      ],
      "execution_count": null,
      "outputs": [
        {
          "output_type": "execute_result",
          "data": {
            "text/plain": [
              "566        20\n",
              "567        20\n",
              "568        20\n",
              "569        20\n",
              "570        20\n",
              "           ..\n",
              "1124949    13\n",
              "1124950    13\n",
              "1124951    13\n",
              "1124952    13\n",
              "1124953    13\n",
              "Name: no_of_viewed_items, Length: 62075, dtype: int64"
            ]
          },
          "metadata": {
            "tags": []
          },
          "execution_count": 95
        }
      ]
    },
    {
      "cell_type": "code",
      "metadata": {
        "id": "AAOOcfulus7M"
      },
      "source": [
        "df_f02.drop(columns=['rank'],inplace=True)"
      ],
      "execution_count": null,
      "outputs": []
    },
    {
      "cell_type": "code",
      "metadata": {
        "colab": {
          "base_uri": "https://localhost:8080/"
        },
        "id": "8w8R5udnu9-9",
        "outputId": "6d257941-d589-44ad-88d8-22ae119b35e9"
      },
      "source": [
        "df_f02.head(1)"
      ],
      "execution_count": null,
      "outputs": [
        {
          "output_type": "execute_result",
          "data": {
            "text/html": [
              "<div>\n",
              "<style scoped>\n",
              "    .dataframe tbody tr th:only-of-type {\n",
              "        vertical-align: middle;\n",
              "    }\n",
              "\n",
              "    .dataframe tbody tr th {\n",
              "        vertical-align: top;\n",
              "    }\n",
              "\n",
              "    .dataframe thead th {\n",
              "        text-align: right;\n",
              "    }\n",
              "</style>\n",
              "<table border=\"1\" class=\"dataframe\">\n",
              "  <thead>\n",
              "    <tr style=\"text-align: right;\">\n",
              "      <th></th>\n",
              "      <th>overall</th>\n",
              "      <th>verified</th>\n",
              "      <th>reviewerID</th>\n",
              "      <th>asin</th>\n",
              "      <th>style</th>\n",
              "      <th>reviewerName</th>\n",
              "      <th>reviewText</th>\n",
              "      <th>summary</th>\n",
              "      <th>vote</th>\n",
              "      <th>image_data</th>\n",
              "      <th>review_sentiment</th>\n",
              "      <th>Date&amp;Time</th>\n",
              "      <th>category</th>\n",
              "      <th>tech1</th>\n",
              "      <th>description</th>\n",
              "      <th>fit</th>\n",
              "      <th>title</th>\n",
              "      <th>also_buy</th>\n",
              "      <th>image_meta</th>\n",
              "      <th>tech2</th>\n",
              "      <th>brand</th>\n",
              "      <th>feature</th>\n",
              "      <th>also_view</th>\n",
              "      <th>details</th>\n",
              "      <th>main_cat</th>\n",
              "      <th>similar_item</th>\n",
              "      <th>date</th>\n",
              "      <th>price</th>\n",
              "      <th>rnk</th>\n",
              "      <th>no_of_viewed_items</th>\n",
              "    </tr>\n",
              "  </thead>\n",
              "  <tbody>\n",
              "    <tr>\n",
              "      <th>566</th>\n",
              "      <td>4.0</td>\n",
              "      <td>False</td>\n",
              "      <td>A1F9Z42CFF9IAY</td>\n",
              "      <td>B00063DKVC</td>\n",
              "      <td>NaN</td>\n",
              "      <td>phototristan</td>\n",
              "      <td>The Sidekick 2 has a better form factor than t...</td>\n",
              "      <td>Better than all the alternatives</td>\n",
              "      <td>19</td>\n",
              "      <td>NaN</td>\n",
              "      <td>POSITIVE</td>\n",
              "      <td>2004-10-06</td>\n",
              "      <td>[Cell Phones &amp; Accessories, Cell Phones, Carri...</td>\n",
              "      <td></td>\n",
              "      <td>[The latest phone features, like an integrated...</td>\n",
              "      <td></td>\n",
              "      <td>T-MOBILE SIDEKICK II</td>\n",
              "      <td>[]</td>\n",
              "      <td>[https://images-na.ssl-images-amazon.com/image...</td>\n",
              "      <td></td>\n",
              "      <td></td>\n",
              "      <td>[]</td>\n",
              "      <td>[B00NSRC4Y2, B00J1SMJ06, B00J7ZKSPQ, B00B4HLLB...</td>\n",
              "      <td>{}</td>\n",
              "      <td>Cell Phones &amp; Accessories</td>\n",
              "      <td>class=\"a-bordered a-horizontal-stripes  a-spa...</td>\n",
              "      <td></td>\n",
              "      <td></td>\n",
              "      <td>3,090,469</td>\n",
              "      <td>20</td>\n",
              "    </tr>\n",
              "  </tbody>\n",
              "</table>\n",
              "</div>"
            ],
            "text/plain": [
              "     overall  verified      reviewerID  ... price        rnk no_of_viewed_items\n",
              "566      4.0     False  A1F9Z42CFF9IAY  ...        3,090,469                 20\n",
              "\n",
              "[1 rows x 30 columns]"
            ]
          },
          "metadata": {
            "tags": []
          },
          "execution_count": 97
        }
      ]
    },
    {
      "cell_type": "code",
      "metadata": {
        "colab": {
          "base_uri": "https://localhost:8080/",
          "height": 267
        },
        "id": "yKmX5y2V_jxq",
        "outputId": "a94cf9ff-ac0b-4fa1-81e8-bba3f7abac4d"
      },
      "source": [
        "df_meta.head(2)"
      ],
      "execution_count": null,
      "outputs": [
        {
          "output_type": "execute_result",
          "data": {
            "text/html": [
              "<div>\n",
              "<style scoped>\n",
              "    .dataframe tbody tr th:only-of-type {\n",
              "        vertical-align: middle;\n",
              "    }\n",
              "\n",
              "    .dataframe tbody tr th {\n",
              "        vertical-align: top;\n",
              "    }\n",
              "\n",
              "    .dataframe thead th {\n",
              "        text-align: right;\n",
              "    }\n",
              "</style>\n",
              "<table border=\"1\" class=\"dataframe\">\n",
              "  <thead>\n",
              "    <tr style=\"text-align: right;\">\n",
              "      <th></th>\n",
              "      <th>category</th>\n",
              "      <th>tech1</th>\n",
              "      <th>description</th>\n",
              "      <th>fit</th>\n",
              "      <th>title</th>\n",
              "      <th>also_buy</th>\n",
              "      <th>image</th>\n",
              "      <th>tech2</th>\n",
              "      <th>brand</th>\n",
              "      <th>feature</th>\n",
              "      <th>rank</th>\n",
              "      <th>also_view</th>\n",
              "      <th>details</th>\n",
              "      <th>main_cat</th>\n",
              "      <th>similar_item</th>\n",
              "      <th>date</th>\n",
              "      <th>price</th>\n",
              "      <th>asin</th>\n",
              "    </tr>\n",
              "  </thead>\n",
              "  <tbody>\n",
              "    <tr>\n",
              "      <th>0</th>\n",
              "      <td>[Cell Phones &amp; Accessories, Accessories, Scree...</td>\n",
              "      <td></td>\n",
              "      <td>[]</td>\n",
              "      <td></td>\n",
              "      <td>Trollies Sing a Long Party VHS</td>\n",
              "      <td>[]</td>\n",
              "      <td>[]</td>\n",
              "      <td></td>\n",
              "      <td></td>\n",
              "      <td>[]</td>\n",
              "      <td>557,379 in Movies &amp; TV (</td>\n",
              "      <td>[]</td>\n",
              "      <td>{'ASIN: ': '6303195164'}</td>\n",
              "      <td>Movies &amp; TV</td>\n",
              "      <td></td>\n",
              "      <td></td>\n",
              "      <td></td>\n",
              "      <td>6303195164</td>\n",
              "    </tr>\n",
              "    <tr>\n",
              "      <th>1</th>\n",
              "      <td>[Cell Phones &amp; Accessories, Accessories, Car A...</td>\n",
              "      <td></td>\n",
              "      <td>[]</td>\n",
              "      <td></td>\n",
              "      <td>La Pura VHS</td>\n",
              "      <td>[]</td>\n",
              "      <td>[]</td>\n",
              "      <td></td>\n",
              "      <td>Maribel Guardia</td>\n",
              "      <td>[]</td>\n",
              "      <td>1,024,449 in Movies &amp; TV (</td>\n",
              "      <td>[]</td>\n",
              "      <td>{'ASIN: ': '630524412X'}</td>\n",
              "      <td>Movies &amp; TV</td>\n",
              "      <td></td>\n",
              "      <td></td>\n",
              "      <td></td>\n",
              "      <td>630524412X</td>\n",
              "    </tr>\n",
              "  </tbody>\n",
              "</table>\n",
              "</div>"
            ],
            "text/plain": [
              "                                            category tech1  ... price        asin\n",
              "0  [Cell Phones & Accessories, Accessories, Scree...        ...        6303195164\n",
              "1  [Cell Phones & Accessories, Accessories, Car A...        ...        630524412X\n",
              "\n",
              "[2 rows x 18 columns]"
            ]
          },
          "metadata": {
            "tags": []
          },
          "execution_count": 98
        }
      ]
    },
    {
      "cell_type": "code",
      "metadata": {
        "id": "n4qyWgpUASi6"
      },
      "source": [
        "#zipping dictionary of asins and products for later analysis \n",
        "asins_and_products=dict(zip(df_meta.asin,df_meta.brand))"
      ],
      "execution_count": null,
      "outputs": []
    },
    {
      "cell_type": "code",
      "metadata": {
        "colab": {
          "base_uri": "https://localhost:8080/"
        },
        "id": "c9gC_5boASs3",
        "outputId": "975e78f2-dfa0-4a01-fded-e2cd710360ef"
      },
      "source": [
        "df_f02.isnull().sum()/len(df_f02)"
      ],
      "execution_count": null,
      "outputs": [
        {
          "output_type": "execute_result",
          "data": {
            "text/plain": [
              "overall               0.000000\n",
              "verified              0.000000\n",
              "reviewerID            0.000000\n",
              "asin                  0.000000\n",
              "style                 0.535884\n",
              "reviewerName          0.000145\n",
              "reviewText            0.000532\n",
              "summary               0.000290\n",
              "vote                  0.805107\n",
              "image_data            0.990270\n",
              "review_sentiment      0.000000\n",
              "Date&Time             0.000000\n",
              "category              0.000000\n",
              "tech1                 0.000000\n",
              "description           0.000000\n",
              "fit                   0.000000\n",
              "title                 0.000000\n",
              "also_buy              0.000000\n",
              "image_meta            0.000000\n",
              "tech2                 0.000000\n",
              "brand                 0.000000\n",
              "feature               0.000000\n",
              "also_view             0.000000\n",
              "details               0.000000\n",
              "main_cat              0.000000\n",
              "similar_item          0.000000\n",
              "date                  0.000000\n",
              "price                 0.000000\n",
              "rnk                   0.982618\n",
              "no_of_viewed_items    0.000000\n",
              "dtype: float64"
            ]
          },
          "metadata": {
            "tags": []
          },
          "execution_count": 100
        }
      ]
    },
    {
      "cell_type": "code",
      "metadata": {
        "id": "SEm6KDWGTOyR"
      },
      "source": [
        "df_f02.drop(columns=['style','vote','image_data','rnk'],inplace=True)"
      ],
      "execution_count": null,
      "outputs": []
    },
    {
      "cell_type": "code",
      "metadata": {
        "colab": {
          "base_uri": "https://localhost:8080/"
        },
        "id": "NuQJFRQYUDCP",
        "outputId": "4d40156e-9d9a-415c-e819-f8b76a859b8f"
      },
      "source": [
        "df_f02.shape"
      ],
      "execution_count": null,
      "outputs": [
        {
          "output_type": "execute_result",
          "data": {
            "text/plain": [
              "(62075, 26)"
            ]
          },
          "metadata": {
            "tags": []
          },
          "execution_count": 102
        }
      ]
    },
    {
      "cell_type": "code",
      "metadata": {
        "id": "6n62G4z_TO3y"
      },
      "source": [
        "#cleaning price col\n",
        "df_f02['price']=df_f02['price'].str.extract('([0-9]{1,}.[0-9]{1,})', expand=False)\n"
      ],
      "execution_count": null,
      "outputs": []
    },
    {
      "cell_type": "code",
      "metadata": {
        "id": "EeFUIqi7a-s3"
      },
      "source": [
        "# filling na values of price with 0 \n",
        "\n",
        "df_f02['price'] = (\n",
        "    df_f02['price'].fillna(0)\n",
        "    .astype(float)\n",
        "    \n",
        "    .where(df_f02['price'].notnull())\n",
        ")"
      ],
      "execution_count": null,
      "outputs": []
    },
    {
      "cell_type": "code",
      "metadata": {
        "id": "jhTMpQCzUooX"
      },
      "source": [
        "df_f02.drop(columns=['reviewerName','tech1','description','fit','also_buy','also_view','image_meta','tech2','details','date'],inplace=True)"
      ],
      "execution_count": null,
      "outputs": []
    },
    {
      "cell_type": "code",
      "metadata": {
        "id": "h7fQNOLnTO67"
      },
      "source": [
        "#cleaning for further analysis \n",
        "df_f02.to_csv('clean4.csv')"
      ],
      "execution_count": null,
      "outputs": []
    }
  ]
}